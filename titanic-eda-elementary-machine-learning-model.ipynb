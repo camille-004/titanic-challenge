{
 "cells": [
  {
   "cell_type": "markdown",
   "execution_count": null,
   "metadata": {},
   "source": [
    "# 🛳 Titanic EDA + Elementary Machine Learning Models\n",
    "## Work in Progress\n",
    "This is my first proper notebook uploaded to this site. Any insight and feedback is appreciated. All visualizations will be produced with the Plotly library. I am a beginner at this and this is my first comprehensive entry to a Kaggle competition, but I hope it helps somewhat.\n",
    "\n",
    "First, as a preprocessing measure, I decided to combine the `SibSp` and `Parch` columns into one that describes the number of family members an individual had aboard. Missing/`NaN` values were also taken care of with the `interpolate()` function provided by pandas, and the method used is `linear`."
   ]
  },
  {
   "cell_type": "code",
   "execution_count": 1,
   "metadata": {},
   "outputs": [
    {
     "data": {
      "text/html": [
       "<div>\n",
       "<style scoped>\n",
       "    .dataframe tbody tr th:only-of-type {\n",
       "        vertical-align: middle;\n",
       "    }\n",
       "\n",
       "    .dataframe tbody tr th {\n",
       "        vertical-align: top;\n",
       "    }\n",
       "\n",
       "    .dataframe thead th {\n",
       "        text-align: right;\n",
       "    }\n",
       "</style>\n",
       "<table border=\"1\" class=\"dataframe\">\n",
       "  <thead>\n",
       "    <tr style=\"text-align: right;\">\n",
       "      <th></th>\n",
       "      <th>Survived</th>\n",
       "      <th>Pclass</th>\n",
       "      <th>Sex</th>\n",
       "      <th>Age</th>\n",
       "      <th>Family</th>\n",
       "      <th>Embarked</th>\n",
       "      <th>Fare</th>\n",
       "    </tr>\n",
       "  </thead>\n",
       "  <tbody>\n",
       "    <tr>\n",
       "      <th>0</th>\n",
       "      <td>0</td>\n",
       "      <td>3</td>\n",
       "      <td>male</td>\n",
       "      <td>22.0</td>\n",
       "      <td>1</td>\n",
       "      <td>S</td>\n",
       "      <td>7.2500</td>\n",
       "    </tr>\n",
       "    <tr>\n",
       "      <th>1</th>\n",
       "      <td>1</td>\n",
       "      <td>1</td>\n",
       "      <td>female</td>\n",
       "      <td>38.0</td>\n",
       "      <td>1</td>\n",
       "      <td>C</td>\n",
       "      <td>71.2833</td>\n",
       "    </tr>\n",
       "    <tr>\n",
       "      <th>2</th>\n",
       "      <td>1</td>\n",
       "      <td>3</td>\n",
       "      <td>female</td>\n",
       "      <td>26.0</td>\n",
       "      <td>0</td>\n",
       "      <td>S</td>\n",
       "      <td>7.9250</td>\n",
       "    </tr>\n",
       "    <tr>\n",
       "      <th>3</th>\n",
       "      <td>1</td>\n",
       "      <td>1</td>\n",
       "      <td>female</td>\n",
       "      <td>35.0</td>\n",
       "      <td>1</td>\n",
       "      <td>S</td>\n",
       "      <td>53.1000</td>\n",
       "    </tr>\n",
       "    <tr>\n",
       "      <th>4</th>\n",
       "      <td>0</td>\n",
       "      <td>3</td>\n",
       "      <td>male</td>\n",
       "      <td>35.0</td>\n",
       "      <td>0</td>\n",
       "      <td>S</td>\n",
       "      <td>8.0500</td>\n",
       "    </tr>\n",
       "  </tbody>\n",
       "</table>\n",
       "</div>"
      ],
      "text/plain": [
       "   Survived  Pclass     Sex   Age  Family Embarked     Fare\n",
       "0         0       3    male  22.0       1        S   7.2500\n",
       "1         1       1  female  38.0       1        C  71.2833\n",
       "2         1       3  female  26.0       0        S   7.9250\n",
       "3         1       1  female  35.0       1        S  53.1000\n",
       "4         0       3    male  35.0       0        S   8.0500"
      ]
     },
     "execution_count": 1,
     "metadata": {},
     "output_type": "execute_result"
    }
   ],
   "source": [
    "import pandas as pd\n",
    "import plotly.graph_objects as go\n",
    "import plotly.express as px\n",
    "import plotly.figure_factory as ff\n",
    "import numpy as np\n",
    "\n",
    "from sklearn.preprocessing import StandardScaler\n",
    "\n",
    "from sklearn.decomposition import PCA\n",
    "\n",
    "from sklearn.feature_selection import VarianceThreshold\n",
    "\n",
    "from sklearn.model_selection import train_test_split\n",
    "from sklearn.model_selection import cross_val_score\n",
    "\n",
    "from sklearn.svm import SVC\n",
    "from sklearn.neighbors import KNeighborsClassifier\n",
    "\n",
    "from sklearn.metrics import confusion_matrix\n",
    "from sklearn.metrics import accuracy_score\n",
    "\n",
    "train = pd.read_csv(\"../input/titanic/train.csv\")\n",
    "family_column = train['SibSp'] + train['Parch']\n",
    "train['Family'] = family_column\n",
    "train = train[['Survived', 'Pclass', 'Sex', 'Age', 'Family', 'Embarked', 'Fare']]\n",
    "train['Age'] = train['Age'].interpolate()\n",
    "train['Fare'] = train['Fare'].interpolate()\n",
    "train.head(5)"
   ]
  },
  {
   "cell_type": "markdown",
   "execution_count": null,
   "metadata": {},
   "source": [
    "Let's look at some summary statistics for our data."
   ]
  },
  {
   "cell_type": "code",
   "execution_count": 2,
   "metadata": {},
   "outputs": [
    {
     "data": {
      "text/html": [
       "<div>\n",
       "<style scoped>\n",
       "    .dataframe tbody tr th:only-of-type {\n",
       "        vertical-align: middle;\n",
       "    }\n",
       "\n",
       "    .dataframe tbody tr th {\n",
       "        vertical-align: top;\n",
       "    }\n",
       "\n",
       "    .dataframe thead th {\n",
       "        text-align: right;\n",
       "    }\n",
       "</style>\n",
       "<table border=\"1\" class=\"dataframe\">\n",
       "  <thead>\n",
       "    <tr style=\"text-align: right;\">\n",
       "      <th></th>\n",
       "      <th>Survived</th>\n",
       "      <th>Pclass</th>\n",
       "      <th>Age</th>\n",
       "      <th>Family</th>\n",
       "      <th>Fare</th>\n",
       "    </tr>\n",
       "  </thead>\n",
       "  <tbody>\n",
       "    <tr>\n",
       "      <th>count</th>\n",
       "      <td>891.000000</td>\n",
       "      <td>891.000000</td>\n",
       "      <td>891.000000</td>\n",
       "      <td>891.000000</td>\n",
       "      <td>891.000000</td>\n",
       "    </tr>\n",
       "    <tr>\n",
       "      <th>mean</th>\n",
       "      <td>0.383838</td>\n",
       "      <td>2.308642</td>\n",
       "      <td>29.726061</td>\n",
       "      <td>0.904602</td>\n",
       "      <td>32.204208</td>\n",
       "    </tr>\n",
       "    <tr>\n",
       "      <th>std</th>\n",
       "      <td>0.486592</td>\n",
       "      <td>0.836071</td>\n",
       "      <td>13.902353</td>\n",
       "      <td>1.613459</td>\n",
       "      <td>49.693429</td>\n",
       "    </tr>\n",
       "    <tr>\n",
       "      <th>min</th>\n",
       "      <td>0.000000</td>\n",
       "      <td>1.000000</td>\n",
       "      <td>0.420000</td>\n",
       "      <td>0.000000</td>\n",
       "      <td>0.000000</td>\n",
       "    </tr>\n",
       "    <tr>\n",
       "      <th>25%</th>\n",
       "      <td>0.000000</td>\n",
       "      <td>2.000000</td>\n",
       "      <td>21.000000</td>\n",
       "      <td>0.000000</td>\n",
       "      <td>7.910400</td>\n",
       "    </tr>\n",
       "    <tr>\n",
       "      <th>50%</th>\n",
       "      <td>0.000000</td>\n",
       "      <td>3.000000</td>\n",
       "      <td>28.500000</td>\n",
       "      <td>0.000000</td>\n",
       "      <td>14.454200</td>\n",
       "    </tr>\n",
       "    <tr>\n",
       "      <th>75%</th>\n",
       "      <td>1.000000</td>\n",
       "      <td>3.000000</td>\n",
       "      <td>38.000000</td>\n",
       "      <td>1.000000</td>\n",
       "      <td>31.000000</td>\n",
       "    </tr>\n",
       "    <tr>\n",
       "      <th>max</th>\n",
       "      <td>1.000000</td>\n",
       "      <td>3.000000</td>\n",
       "      <td>80.000000</td>\n",
       "      <td>10.000000</td>\n",
       "      <td>512.329200</td>\n",
       "    </tr>\n",
       "  </tbody>\n",
       "</table>\n",
       "</div>"
      ],
      "text/plain": [
       "         Survived      Pclass         Age      Family        Fare\n",
       "count  891.000000  891.000000  891.000000  891.000000  891.000000\n",
       "mean     0.383838    2.308642   29.726061    0.904602   32.204208\n",
       "std      0.486592    0.836071   13.902353    1.613459   49.693429\n",
       "min      0.000000    1.000000    0.420000    0.000000    0.000000\n",
       "25%      0.000000    2.000000   21.000000    0.000000    7.910400\n",
       "50%      0.000000    3.000000   28.500000    0.000000   14.454200\n",
       "75%      1.000000    3.000000   38.000000    1.000000   31.000000\n",
       "max      1.000000    3.000000   80.000000   10.000000  512.329200"
      ]
     },
     "execution_count": 2,
     "metadata": {},
     "output_type": "execute_result"
    }
   ],
   "source": [
    "train.describe()"
   ]
  },
  {
   "cell_type": "markdown",
   "execution_count": null,
   "metadata": {},
   "source": [
    "# Some Essential Info About the Survivors\n",
    "This may help discover relationships and will familiarize us with the data."
   ]
  },
  {
   "cell_type": "code",
   "execution_count": 3,
   "metadata": {},
   "outputs": [
    {
     "name": "stdout",
     "output_type": "stream",
     "text": [
      "38% of the passengers on the RMS Titanic survived.\n",
      "\n",
      "68% of the survivors were female.\n",
      "\n",
      "40% of the survivors were first class.\n",
      "25% of the survivors were second class.\n",
      "35% of the survivors were third class.\n",
      "\n",
      "27% of the survivors were 20 or younger.\n",
      "64% of the survivors were between 20 and 50.\n",
      "9% of the survivors were 50 or older.\n",
      "\n",
      "48% of the survivors had no family members aboard.\n",
      "9% of the survivors had three or more family members aboard.\n",
      "\n",
      "63% of the survivors embarked from Southampton.\n",
      "27% of the survivors embarked from Cherbourg.\n",
      "9% of the survivors embarked from Queenstown.\n"
     ]
    }
   ],
   "source": [
    "print(str(round(np.mean(train['Survived']) * 100)) + \"% of the passengers on the RMS Titanic survived.\\n\")\n",
    "print(str(round((sum((train[train['Sex'] == 'female'])['Survived']) / sum(train['Survived'])) * 100)) + \"% of the survivors were female.\\n\")\n",
    "print(str(round((sum((train[train['Pclass'] == 1])['Survived']) / sum(train['Survived'])) * 100)) + \"% of the survivors were first class.\")\n",
    "print(str(round((sum((train[train['Pclass'] == 2])['Survived']) / sum(train['Survived'])) * 100)) + \"% of the survivors were second class.\")\n",
    "print(str(round((sum((train[train['Pclass'] == 3])['Survived']) / sum(train['Survived'])) * 100)) + \"% of the survivors were third class.\\n\")\n",
    "print(str(round((sum((train[train['Age'] <= 20])['Survived']) / sum(train['Survived'])) * 100)) + \"% of the survivors were 20 or younger.\")\n",
    "print(str(round((sum((train[(train['Age'] > 20) & (train['Age'] < 50)])['Survived']) / sum(train['Survived'])) * 100)) + \"% of the survivors were between 20 and 50.\")\n",
    "print(str(round((sum((train[train['Age'] >= 50])['Survived']) / sum(train['Survived'])) * 100)) + \"% of the survivors were 50 or older.\\n\")\n",
    "print(str(round((sum((train[train['Family'] == 0])['Survived']) / sum(train['Survived'])) * 100)) + \"% of the survivors had no family members aboard.\")\n",
    "print(str(round((sum((train[train['Family'] >= 3])['Survived']) / sum(train['Survived'])) * 100)) + \"% of the survivors had three or more family members aboard.\\n\")\n",
    "print(str(round((sum((train[train['Embarked'] == 'S'])['Survived']) / sum(train['Survived'])) * 100)) + \"% of the survivors embarked from Southampton.\")\n",
    "print(str(round((sum((train[train['Embarked'] == 'C'])['Survived']) / sum(train['Survived'])) * 100)) + \"% of the survivors embarked from Cherbourg.\")\n",
    "print(str(round((sum((train[train['Embarked'] == 'Q'])['Survived']) / sum(train['Survived'])) * 100)) + \"% of the survivors embarked from Queenstown.\")"
   ]
  },
  {
   "cell_type": "markdown",
   "execution_count": null,
   "metadata": {},
   "source": [
    "# Visualizing this Info\n",
    "First, I'll create a stacked bar graph displaying the class and sex of those who survived. It is no surprise that the majority of survivors were first class, and that there is an even distribution between males and females. "
   ]
  },
  {
   "cell_type": "code",
   "execution_count": 4,
   "metadata": {},
   "outputs": [
    {
     "data": {
      "text/html": [
       "        <script type=\"text/javascript\">\n",
       "        window.PlotlyConfig = {MathJaxConfig: 'local'};\n",
       "        if (window.MathJax) {MathJax.Hub.Config({SVG: {font: \"STIX-Web\"}});}\n",
       "        if (typeof require !== 'undefined') {\n",
       "        require.undef(\"plotly\");\n",
       "        requirejs.config({\n",
       "            paths: {\n",
       "                'plotly': ['https://cdn.plot.ly/plotly-latest.min']\n",
       "            }\n",
       "        });\n",
       "        require(['plotly'], function(Plotly) {\n",
       "            window._Plotly = Plotly;\n",
       "        });\n",
       "        }\n",
       "        </script>\n",
       "        "
      ]
     },
     "metadata": {},
     "output_type": "display_data"
    },
    {
     "data": {
      "text/html": [
       "<div>\n",
       "        \n",
       "        \n",
       "            <div id=\"33a14335-1966-41f6-bc36-613b7d368424\" class=\"plotly-graph-div\" style=\"height:400px; width:400px;\"></div>\n",
       "            <script type=\"text/javascript\">\n",
       "                require([\"plotly\"], function(Plotly) {\n",
       "                    window.PLOTLYENV=window.PLOTLYENV || {};\n",
       "                    \n",
       "                if (document.getElementById(\"33a14335-1966-41f6-bc36-613b7d368424\")) {\n",
       "                    Plotly.newPlot(\n",
       "                        '33a14335-1966-41f6-bc36-613b7d368424',\n",
       "                        [{\"name\": \"Female\", \"type\": \"bar\", \"x\": [\"First Class\", \"Second Class\", \"Third Class\"], \"y\": [0.3905579399141631, 0.30042918454935624, 0.3090128755364807]}, {\"name\": \"Male\", \"type\": \"bar\", \"x\": [\"First Class\", \"Second Class\", \"Third Class\"], \"y\": [0.41284403669724773, 0.1559633027522936, 0.43119266055045874]}],\n",
       "                        {\"barmode\": \"stack\", \"height\": 400, \"template\": {\"data\": {\"bar\": [{\"error_x\": {\"color\": \"#2a3f5f\"}, \"error_y\": {\"color\": \"#2a3f5f\"}, \"marker\": {\"line\": {\"color\": \"#E5ECF6\", \"width\": 0.5}}, \"type\": \"bar\"}], \"barpolar\": [{\"marker\": {\"line\": {\"color\": \"#E5ECF6\", \"width\": 0.5}}, \"type\": \"barpolar\"}], \"carpet\": [{\"aaxis\": {\"endlinecolor\": \"#2a3f5f\", \"gridcolor\": \"white\", \"linecolor\": \"white\", \"minorgridcolor\": \"white\", \"startlinecolor\": \"#2a3f5f\"}, \"baxis\": {\"endlinecolor\": \"#2a3f5f\", \"gridcolor\": \"white\", \"linecolor\": \"white\", \"minorgridcolor\": \"white\", \"startlinecolor\": \"#2a3f5f\"}, \"type\": \"carpet\"}], \"choropleth\": [{\"colorbar\": {\"outlinewidth\": 0, \"ticks\": \"\"}, \"type\": \"choropleth\"}], \"contour\": [{\"colorbar\": {\"outlinewidth\": 0, \"ticks\": \"\"}, \"colorscale\": [[0.0, \"#0d0887\"], [0.1111111111111111, \"#46039f\"], [0.2222222222222222, \"#7201a8\"], [0.3333333333333333, \"#9c179e\"], [0.4444444444444444, \"#bd3786\"], [0.5555555555555556, \"#d8576b\"], [0.6666666666666666, \"#ed7953\"], [0.7777777777777778, \"#fb9f3a\"], [0.8888888888888888, \"#fdca26\"], [1.0, \"#f0f921\"]], \"type\": \"contour\"}], \"contourcarpet\": [{\"colorbar\": {\"outlinewidth\": 0, \"ticks\": \"\"}, \"type\": \"contourcarpet\"}], \"heatmap\": [{\"colorbar\": {\"outlinewidth\": 0, \"ticks\": \"\"}, \"colorscale\": [[0.0, \"#0d0887\"], [0.1111111111111111, \"#46039f\"], [0.2222222222222222, \"#7201a8\"], [0.3333333333333333, \"#9c179e\"], [0.4444444444444444, \"#bd3786\"], [0.5555555555555556, \"#d8576b\"], [0.6666666666666666, \"#ed7953\"], [0.7777777777777778, \"#fb9f3a\"], [0.8888888888888888, \"#fdca26\"], [1.0, \"#f0f921\"]], \"type\": \"heatmap\"}], \"heatmapgl\": [{\"colorbar\": {\"outlinewidth\": 0, \"ticks\": \"\"}, \"colorscale\": [[0.0, \"#0d0887\"], [0.1111111111111111, \"#46039f\"], [0.2222222222222222, \"#7201a8\"], [0.3333333333333333, \"#9c179e\"], [0.4444444444444444, \"#bd3786\"], [0.5555555555555556, \"#d8576b\"], [0.6666666666666666, \"#ed7953\"], [0.7777777777777778, \"#fb9f3a\"], [0.8888888888888888, \"#fdca26\"], [1.0, \"#f0f921\"]], \"type\": \"heatmapgl\"}], \"histogram\": [{\"marker\": {\"colorbar\": {\"outlinewidth\": 0, \"ticks\": \"\"}}, \"type\": \"histogram\"}], \"histogram2d\": [{\"colorbar\": {\"outlinewidth\": 0, \"ticks\": \"\"}, \"colorscale\": [[0.0, \"#0d0887\"], [0.1111111111111111, \"#46039f\"], [0.2222222222222222, \"#7201a8\"], [0.3333333333333333, \"#9c179e\"], [0.4444444444444444, \"#bd3786\"], [0.5555555555555556, \"#d8576b\"], [0.6666666666666666, \"#ed7953\"], [0.7777777777777778, \"#fb9f3a\"], [0.8888888888888888, \"#fdca26\"], [1.0, \"#f0f921\"]], \"type\": \"histogram2d\"}], \"histogram2dcontour\": [{\"colorbar\": {\"outlinewidth\": 0, \"ticks\": \"\"}, \"colorscale\": [[0.0, \"#0d0887\"], [0.1111111111111111, \"#46039f\"], [0.2222222222222222, \"#7201a8\"], [0.3333333333333333, \"#9c179e\"], [0.4444444444444444, \"#bd3786\"], [0.5555555555555556, \"#d8576b\"], [0.6666666666666666, \"#ed7953\"], [0.7777777777777778, \"#fb9f3a\"], [0.8888888888888888, \"#fdca26\"], [1.0, \"#f0f921\"]], \"type\": \"histogram2dcontour\"}], \"mesh3d\": [{\"colorbar\": {\"outlinewidth\": 0, \"ticks\": \"\"}, \"type\": \"mesh3d\"}], \"parcoords\": [{\"line\": {\"colorbar\": {\"outlinewidth\": 0, \"ticks\": \"\"}}, \"type\": \"parcoords\"}], \"pie\": [{\"automargin\": true, \"type\": \"pie\"}], \"scatter\": [{\"marker\": {\"colorbar\": {\"outlinewidth\": 0, \"ticks\": \"\"}}, \"type\": \"scatter\"}], \"scatter3d\": [{\"line\": {\"colorbar\": {\"outlinewidth\": 0, \"ticks\": \"\"}}, \"marker\": {\"colorbar\": {\"outlinewidth\": 0, \"ticks\": \"\"}}, \"type\": \"scatter3d\"}], \"scattercarpet\": [{\"marker\": {\"colorbar\": {\"outlinewidth\": 0, \"ticks\": \"\"}}, \"type\": \"scattercarpet\"}], \"scattergeo\": [{\"marker\": {\"colorbar\": {\"outlinewidth\": 0, \"ticks\": \"\"}}, \"type\": \"scattergeo\"}], \"scattergl\": [{\"marker\": {\"colorbar\": {\"outlinewidth\": 0, \"ticks\": \"\"}}, \"type\": \"scattergl\"}], \"scattermapbox\": [{\"marker\": {\"colorbar\": {\"outlinewidth\": 0, \"ticks\": \"\"}}, \"type\": \"scattermapbox\"}], \"scatterpolar\": [{\"marker\": {\"colorbar\": {\"outlinewidth\": 0, \"ticks\": \"\"}}, \"type\": \"scatterpolar\"}], \"scatterpolargl\": [{\"marker\": {\"colorbar\": {\"outlinewidth\": 0, \"ticks\": \"\"}}, \"type\": \"scatterpolargl\"}], \"scatterternary\": [{\"marker\": {\"colorbar\": {\"outlinewidth\": 0, \"ticks\": \"\"}}, \"type\": \"scatterternary\"}], \"surface\": [{\"colorbar\": {\"outlinewidth\": 0, \"ticks\": \"\"}, \"colorscale\": [[0.0, \"#0d0887\"], [0.1111111111111111, \"#46039f\"], [0.2222222222222222, \"#7201a8\"], [0.3333333333333333, \"#9c179e\"], [0.4444444444444444, \"#bd3786\"], [0.5555555555555556, \"#d8576b\"], [0.6666666666666666, \"#ed7953\"], [0.7777777777777778, \"#fb9f3a\"], [0.8888888888888888, \"#fdca26\"], [1.0, \"#f0f921\"]], \"type\": \"surface\"}], \"table\": [{\"cells\": {\"fill\": {\"color\": \"#EBF0F8\"}, \"line\": {\"color\": \"white\"}}, \"header\": {\"fill\": {\"color\": \"#C8D4E3\"}, \"line\": {\"color\": \"white\"}}, \"type\": \"table\"}]}, \"layout\": {\"annotationdefaults\": {\"arrowcolor\": \"#2a3f5f\", \"arrowhead\": 0, \"arrowwidth\": 1}, \"coloraxis\": {\"colorbar\": {\"outlinewidth\": 0, \"ticks\": \"\"}}, \"colorscale\": {\"diverging\": [[0, \"#8e0152\"], [0.1, \"#c51b7d\"], [0.2, \"#de77ae\"], [0.3, \"#f1b6da\"], [0.4, \"#fde0ef\"], [0.5, \"#f7f7f7\"], [0.6, \"#e6f5d0\"], [0.7, \"#b8e186\"], [0.8, \"#7fbc41\"], [0.9, \"#4d9221\"], [1, \"#276419\"]], \"sequential\": [[0.0, \"#0d0887\"], [0.1111111111111111, \"#46039f\"], [0.2222222222222222, \"#7201a8\"], [0.3333333333333333, \"#9c179e\"], [0.4444444444444444, \"#bd3786\"], [0.5555555555555556, \"#d8576b\"], [0.6666666666666666, \"#ed7953\"], [0.7777777777777778, \"#fb9f3a\"], [0.8888888888888888, \"#fdca26\"], [1.0, \"#f0f921\"]], \"sequentialminus\": [[0.0, \"#0d0887\"], [0.1111111111111111, \"#46039f\"], [0.2222222222222222, \"#7201a8\"], [0.3333333333333333, \"#9c179e\"], [0.4444444444444444, \"#bd3786\"], [0.5555555555555556, \"#d8576b\"], [0.6666666666666666, \"#ed7953\"], [0.7777777777777778, \"#fb9f3a\"], [0.8888888888888888, \"#fdca26\"], [1.0, \"#f0f921\"]]}, \"colorway\": [\"#636efa\", \"#EF553B\", \"#00cc96\", \"#ab63fa\", \"#FFA15A\", \"#19d3f3\", \"#FF6692\", \"#B6E880\", \"#FF97FF\", \"#FECB52\"], \"font\": {\"color\": \"#2a3f5f\"}, \"geo\": {\"bgcolor\": \"white\", \"lakecolor\": \"white\", \"landcolor\": \"#E5ECF6\", \"showlakes\": true, \"showland\": true, \"subunitcolor\": \"white\"}, \"hoverlabel\": {\"align\": \"left\"}, \"hovermode\": \"closest\", \"mapbox\": {\"style\": \"light\"}, \"paper_bgcolor\": \"white\", \"plot_bgcolor\": \"#E5ECF6\", \"polar\": {\"angularaxis\": {\"gridcolor\": \"white\", \"linecolor\": \"white\", \"ticks\": \"\"}, \"bgcolor\": \"#E5ECF6\", \"radialaxis\": {\"gridcolor\": \"white\", \"linecolor\": \"white\", \"ticks\": \"\"}}, \"scene\": {\"xaxis\": {\"backgroundcolor\": \"#E5ECF6\", \"gridcolor\": \"white\", \"gridwidth\": 2, \"linecolor\": \"white\", \"showbackground\": true, \"ticks\": \"\", \"zerolinecolor\": \"white\"}, \"yaxis\": {\"backgroundcolor\": \"#E5ECF6\", \"gridcolor\": \"white\", \"gridwidth\": 2, \"linecolor\": \"white\", \"showbackground\": true, \"ticks\": \"\", \"zerolinecolor\": \"white\"}, \"zaxis\": {\"backgroundcolor\": \"#E5ECF6\", \"gridcolor\": \"white\", \"gridwidth\": 2, \"linecolor\": \"white\", \"showbackground\": true, \"ticks\": \"\", \"zerolinecolor\": \"white\"}}, \"shapedefaults\": {\"line\": {\"color\": \"#2a3f5f\"}}, \"ternary\": {\"aaxis\": {\"gridcolor\": \"white\", \"linecolor\": \"white\", \"ticks\": \"\"}, \"baxis\": {\"gridcolor\": \"white\", \"linecolor\": \"white\", \"ticks\": \"\"}, \"bgcolor\": \"#E5ECF6\", \"caxis\": {\"gridcolor\": \"white\", \"linecolor\": \"white\", \"ticks\": \"\"}}, \"title\": {\"x\": 0.05}, \"xaxis\": {\"automargin\": true, \"gridcolor\": \"white\", \"linecolor\": \"white\", \"ticks\": \"\", \"title\": {\"standoff\": 15}, \"zerolinecolor\": \"white\", \"zerolinewidth\": 2}, \"yaxis\": {\"automargin\": true, \"gridcolor\": \"white\", \"linecolor\": \"white\", \"ticks\": \"\", \"title\": {\"standoff\": 15}, \"zerolinecolor\": \"white\", \"zerolinewidth\": 2}}}, \"title\": {\"text\": \"Class and Sex of Survivors Ratios\"}, \"width\": 400},\n",
       "                        {\"responsive\": true}\n",
       "                    ).then(function(){\n",
       "                            \n",
       "var gd = document.getElementById('33a14335-1966-41f6-bc36-613b7d368424');\n",
       "var x = new MutationObserver(function (mutations, observer) {{\n",
       "        var display = window.getComputedStyle(gd).display;\n",
       "        if (!display || display === 'none') {{\n",
       "            console.log([gd, 'removed!']);\n",
       "            Plotly.purge(gd);\n",
       "            observer.disconnect();\n",
       "        }}\n",
       "}});\n",
       "\n",
       "// Listen for the removal of the full notebook cells\n",
       "var notebookContainer = gd.closest('#notebook-container');\n",
       "if (notebookContainer) {{\n",
       "    x.observe(notebookContainer, {childList: true});\n",
       "}}\n",
       "\n",
       "// Listen for the clearing of the current output cell\n",
       "var outputEl = gd.closest('.output');\n",
       "if (outputEl) {{\n",
       "    x.observe(outputEl, {childList: true});\n",
       "}}\n",
       "\n",
       "                        })\n",
       "                };\n",
       "                });\n",
       "            </script>\n",
       "        </div>"
      ]
     },
     "metadata": {},
     "output_type": "display_data"
    }
   ],
   "source": [
    "survivors = train[train['Survived'] == 1]\n",
    "female_survivors = survivors[survivors['Sex'] == 'female']\n",
    "male_survivors = survivors[survivors['Sex'] == 'male']\n",
    "classes = ['First Class', 'Second Class', 'Third Class']\n",
    "female_classes = female_survivors['Pclass'].value_counts(sort=False, normalize=True).to_list()\n",
    "male_classes = male_survivors['Pclass'].value_counts(sort=False, normalize=True).to_list()\n",
    "fig = go.Figure(data=[\n",
    "    go.Bar(name='Female', x=classes, y=female_classes),\n",
    "    go.Bar(name='Male', x=classes, y=male_classes)])\n",
    "fig.update_layout(barmode='stack', width=400, height=400, title=\"Class and Sex of Survivors Ratios\")\n",
    "fig.show()"
   ]
  },
  {
   "cell_type": "markdown",
   "execution_count": null,
   "metadata": {},
   "source": [
    "This one is a bit more interesting. Queenstown embarkers make up an overwhelming amount of the third class. Queenstown was one of the major transatlantic ports. Most of the first class members are from Cherbourg, located in France. The distribution of classes among Southampton embarkers is relatively uniform."
   ]
  },
  {
   "cell_type": "code",
   "execution_count": 5,
   "metadata": {},
   "outputs": [
    {
     "data": {
      "text/html": [
       "<div>\n",
       "        \n",
       "        \n",
       "            <div id=\"2e2c6718-2777-40b4-8acf-bf84f7d31db1\" class=\"plotly-graph-div\" style=\"height:400px; width:450px;\"></div>\n",
       "            <script type=\"text/javascript\">\n",
       "                require([\"plotly\"], function(Plotly) {\n",
       "                    window.PLOTLYENV=window.PLOTLYENV || {};\n",
       "                    \n",
       "                if (document.getElementById(\"2e2c6718-2777-40b4-8acf-bf84f7d31db1\")) {\n",
       "                    Plotly.newPlot(\n",
       "                        '2e2c6718-2777-40b4-8acf-bf84f7d31db1',\n",
       "                        [{\"name\": \"Southampton\", \"type\": \"bar\", \"x\": [\"First Class\", \"Second Class\", \"Third Class\"], \"y\": [0.34101382488479265, 0.35023041474654376, 0.3087557603686636]}, {\"name\": \"Cherbourg\", \"type\": \"bar\", \"x\": [\"First Class\", \"Second Class\", \"Third Class\"], \"y\": [0.6344086021505376, 0.0967741935483871, 0.26881720430107525]}, {\"name\": \"Queenstown\", \"type\": \"bar\", \"x\": [\"First Class\", \"Second Class\", \"Third Class\"], \"y\": [0.03333333333333333, 0.06666666666666667, 0.9]}],\n",
       "                        {\"barmode\": \"stack\", \"height\": 400, \"template\": {\"data\": {\"bar\": [{\"error_x\": {\"color\": \"#2a3f5f\"}, \"error_y\": {\"color\": \"#2a3f5f\"}, \"marker\": {\"line\": {\"color\": \"#E5ECF6\", \"width\": 0.5}}, \"type\": \"bar\"}], \"barpolar\": [{\"marker\": {\"line\": {\"color\": \"#E5ECF6\", \"width\": 0.5}}, \"type\": \"barpolar\"}], \"carpet\": [{\"aaxis\": {\"endlinecolor\": \"#2a3f5f\", \"gridcolor\": \"white\", \"linecolor\": \"white\", \"minorgridcolor\": \"white\", \"startlinecolor\": \"#2a3f5f\"}, \"baxis\": {\"endlinecolor\": \"#2a3f5f\", \"gridcolor\": \"white\", \"linecolor\": \"white\", \"minorgridcolor\": \"white\", \"startlinecolor\": \"#2a3f5f\"}, \"type\": \"carpet\"}], \"choropleth\": [{\"colorbar\": {\"outlinewidth\": 0, \"ticks\": \"\"}, \"type\": \"choropleth\"}], \"contour\": [{\"colorbar\": {\"outlinewidth\": 0, \"ticks\": \"\"}, \"colorscale\": [[0.0, \"#0d0887\"], [0.1111111111111111, \"#46039f\"], [0.2222222222222222, \"#7201a8\"], [0.3333333333333333, \"#9c179e\"], [0.4444444444444444, \"#bd3786\"], [0.5555555555555556, \"#d8576b\"], [0.6666666666666666, \"#ed7953\"], [0.7777777777777778, \"#fb9f3a\"], [0.8888888888888888, \"#fdca26\"], [1.0, \"#f0f921\"]], \"type\": \"contour\"}], \"contourcarpet\": [{\"colorbar\": {\"outlinewidth\": 0, \"ticks\": \"\"}, \"type\": \"contourcarpet\"}], \"heatmap\": [{\"colorbar\": {\"outlinewidth\": 0, \"ticks\": \"\"}, \"colorscale\": [[0.0, \"#0d0887\"], [0.1111111111111111, \"#46039f\"], [0.2222222222222222, \"#7201a8\"], [0.3333333333333333, \"#9c179e\"], [0.4444444444444444, \"#bd3786\"], [0.5555555555555556, \"#d8576b\"], [0.6666666666666666, \"#ed7953\"], [0.7777777777777778, \"#fb9f3a\"], [0.8888888888888888, \"#fdca26\"], [1.0, \"#f0f921\"]], \"type\": \"heatmap\"}], \"heatmapgl\": [{\"colorbar\": {\"outlinewidth\": 0, \"ticks\": \"\"}, \"colorscale\": [[0.0, \"#0d0887\"], [0.1111111111111111, \"#46039f\"], [0.2222222222222222, \"#7201a8\"], [0.3333333333333333, \"#9c179e\"], [0.4444444444444444, \"#bd3786\"], [0.5555555555555556, \"#d8576b\"], [0.6666666666666666, \"#ed7953\"], [0.7777777777777778, \"#fb9f3a\"], [0.8888888888888888, \"#fdca26\"], [1.0, \"#f0f921\"]], \"type\": \"heatmapgl\"}], \"histogram\": [{\"marker\": {\"colorbar\": {\"outlinewidth\": 0, \"ticks\": \"\"}}, \"type\": \"histogram\"}], \"histogram2d\": [{\"colorbar\": {\"outlinewidth\": 0, \"ticks\": \"\"}, \"colorscale\": [[0.0, \"#0d0887\"], [0.1111111111111111, \"#46039f\"], [0.2222222222222222, \"#7201a8\"], [0.3333333333333333, \"#9c179e\"], [0.4444444444444444, \"#bd3786\"], [0.5555555555555556, \"#d8576b\"], [0.6666666666666666, \"#ed7953\"], [0.7777777777777778, \"#fb9f3a\"], [0.8888888888888888, \"#fdca26\"], [1.0, \"#f0f921\"]], \"type\": \"histogram2d\"}], \"histogram2dcontour\": [{\"colorbar\": {\"outlinewidth\": 0, \"ticks\": \"\"}, \"colorscale\": [[0.0, \"#0d0887\"], [0.1111111111111111, \"#46039f\"], [0.2222222222222222, \"#7201a8\"], [0.3333333333333333, \"#9c179e\"], [0.4444444444444444, \"#bd3786\"], [0.5555555555555556, \"#d8576b\"], [0.6666666666666666, \"#ed7953\"], [0.7777777777777778, \"#fb9f3a\"], [0.8888888888888888, \"#fdca26\"], [1.0, \"#f0f921\"]], \"type\": \"histogram2dcontour\"}], \"mesh3d\": [{\"colorbar\": {\"outlinewidth\": 0, \"ticks\": \"\"}, \"type\": \"mesh3d\"}], \"parcoords\": [{\"line\": {\"colorbar\": {\"outlinewidth\": 0, \"ticks\": \"\"}}, \"type\": \"parcoords\"}], \"pie\": [{\"automargin\": true, \"type\": \"pie\"}], \"scatter\": [{\"marker\": {\"colorbar\": {\"outlinewidth\": 0, \"ticks\": \"\"}}, \"type\": \"scatter\"}], \"scatter3d\": [{\"line\": {\"colorbar\": {\"outlinewidth\": 0, \"ticks\": \"\"}}, \"marker\": {\"colorbar\": {\"outlinewidth\": 0, \"ticks\": \"\"}}, \"type\": \"scatter3d\"}], \"scattercarpet\": [{\"marker\": {\"colorbar\": {\"outlinewidth\": 0, \"ticks\": \"\"}}, \"type\": \"scattercarpet\"}], \"scattergeo\": [{\"marker\": {\"colorbar\": {\"outlinewidth\": 0, \"ticks\": \"\"}}, \"type\": \"scattergeo\"}], \"scattergl\": [{\"marker\": {\"colorbar\": {\"outlinewidth\": 0, \"ticks\": \"\"}}, \"type\": \"scattergl\"}], \"scattermapbox\": [{\"marker\": {\"colorbar\": {\"outlinewidth\": 0, \"ticks\": \"\"}}, \"type\": \"scattermapbox\"}], \"scatterpolar\": [{\"marker\": {\"colorbar\": {\"outlinewidth\": 0, \"ticks\": \"\"}}, \"type\": \"scatterpolar\"}], \"scatterpolargl\": [{\"marker\": {\"colorbar\": {\"outlinewidth\": 0, \"ticks\": \"\"}}, \"type\": \"scatterpolargl\"}], \"scatterternary\": [{\"marker\": {\"colorbar\": {\"outlinewidth\": 0, \"ticks\": \"\"}}, \"type\": \"scatterternary\"}], \"surface\": [{\"colorbar\": {\"outlinewidth\": 0, \"ticks\": \"\"}, \"colorscale\": [[0.0, \"#0d0887\"], [0.1111111111111111, \"#46039f\"], [0.2222222222222222, \"#7201a8\"], [0.3333333333333333, \"#9c179e\"], [0.4444444444444444, \"#bd3786\"], [0.5555555555555556, \"#d8576b\"], [0.6666666666666666, \"#ed7953\"], [0.7777777777777778, \"#fb9f3a\"], [0.8888888888888888, \"#fdca26\"], [1.0, \"#f0f921\"]], \"type\": \"surface\"}], \"table\": [{\"cells\": {\"fill\": {\"color\": \"#EBF0F8\"}, \"line\": {\"color\": \"white\"}}, \"header\": {\"fill\": {\"color\": \"#C8D4E3\"}, \"line\": {\"color\": \"white\"}}, \"type\": \"table\"}]}, \"layout\": {\"annotationdefaults\": {\"arrowcolor\": \"#2a3f5f\", \"arrowhead\": 0, \"arrowwidth\": 1}, \"coloraxis\": {\"colorbar\": {\"outlinewidth\": 0, \"ticks\": \"\"}}, \"colorscale\": {\"diverging\": [[0, \"#8e0152\"], [0.1, \"#c51b7d\"], [0.2, \"#de77ae\"], [0.3, \"#f1b6da\"], [0.4, \"#fde0ef\"], [0.5, \"#f7f7f7\"], [0.6, \"#e6f5d0\"], [0.7, \"#b8e186\"], [0.8, \"#7fbc41\"], [0.9, \"#4d9221\"], [1, \"#276419\"]], \"sequential\": [[0.0, \"#0d0887\"], [0.1111111111111111, \"#46039f\"], [0.2222222222222222, \"#7201a8\"], [0.3333333333333333, \"#9c179e\"], [0.4444444444444444, \"#bd3786\"], [0.5555555555555556, \"#d8576b\"], [0.6666666666666666, \"#ed7953\"], [0.7777777777777778, \"#fb9f3a\"], [0.8888888888888888, \"#fdca26\"], [1.0, \"#f0f921\"]], \"sequentialminus\": [[0.0, \"#0d0887\"], [0.1111111111111111, \"#46039f\"], [0.2222222222222222, \"#7201a8\"], [0.3333333333333333, \"#9c179e\"], [0.4444444444444444, \"#bd3786\"], [0.5555555555555556, \"#d8576b\"], [0.6666666666666666, \"#ed7953\"], [0.7777777777777778, \"#fb9f3a\"], [0.8888888888888888, \"#fdca26\"], [1.0, \"#f0f921\"]]}, \"colorway\": [\"#636efa\", \"#EF553B\", \"#00cc96\", \"#ab63fa\", \"#FFA15A\", \"#19d3f3\", \"#FF6692\", \"#B6E880\", \"#FF97FF\", \"#FECB52\"], \"font\": {\"color\": \"#2a3f5f\"}, \"geo\": {\"bgcolor\": \"white\", \"lakecolor\": \"white\", \"landcolor\": \"#E5ECF6\", \"showlakes\": true, \"showland\": true, \"subunitcolor\": \"white\"}, \"hoverlabel\": {\"align\": \"left\"}, \"hovermode\": \"closest\", \"mapbox\": {\"style\": \"light\"}, \"paper_bgcolor\": \"white\", \"plot_bgcolor\": \"#E5ECF6\", \"polar\": {\"angularaxis\": {\"gridcolor\": \"white\", \"linecolor\": \"white\", \"ticks\": \"\"}, \"bgcolor\": \"#E5ECF6\", \"radialaxis\": {\"gridcolor\": \"white\", \"linecolor\": \"white\", \"ticks\": \"\"}}, \"scene\": {\"xaxis\": {\"backgroundcolor\": \"#E5ECF6\", \"gridcolor\": \"white\", \"gridwidth\": 2, \"linecolor\": \"white\", \"showbackground\": true, \"ticks\": \"\", \"zerolinecolor\": \"white\"}, \"yaxis\": {\"backgroundcolor\": \"#E5ECF6\", \"gridcolor\": \"white\", \"gridwidth\": 2, \"linecolor\": \"white\", \"showbackground\": true, \"ticks\": \"\", \"zerolinecolor\": \"white\"}, \"zaxis\": {\"backgroundcolor\": \"#E5ECF6\", \"gridcolor\": \"white\", \"gridwidth\": 2, \"linecolor\": \"white\", \"showbackground\": true, \"ticks\": \"\", \"zerolinecolor\": \"white\"}}, \"shapedefaults\": {\"line\": {\"color\": \"#2a3f5f\"}}, \"ternary\": {\"aaxis\": {\"gridcolor\": \"white\", \"linecolor\": \"white\", \"ticks\": \"\"}, \"baxis\": {\"gridcolor\": \"white\", \"linecolor\": \"white\", \"ticks\": \"\"}, \"bgcolor\": \"#E5ECF6\", \"caxis\": {\"gridcolor\": \"white\", \"linecolor\": \"white\", \"ticks\": \"\"}}, \"title\": {\"x\": 0.05}, \"xaxis\": {\"automargin\": true, \"gridcolor\": \"white\", \"linecolor\": \"white\", \"ticks\": \"\", \"title\": {\"standoff\": 15}, \"zerolinecolor\": \"white\", \"zerolinewidth\": 2}, \"yaxis\": {\"automargin\": true, \"gridcolor\": \"white\", \"linecolor\": \"white\", \"ticks\": \"\", \"title\": {\"standoff\": 15}, \"zerolinecolor\": \"white\", \"zerolinewidth\": 2}}}, \"title\": {\"text\": \"Class and Embarking Port of Survivors Ratios\"}, \"width\": 450},\n",
       "                        {\"responsive\": true}\n",
       "                    ).then(function(){\n",
       "                            \n",
       "var gd = document.getElementById('2e2c6718-2777-40b4-8acf-bf84f7d31db1');\n",
       "var x = new MutationObserver(function (mutations, observer) {{\n",
       "        var display = window.getComputedStyle(gd).display;\n",
       "        if (!display || display === 'none') {{\n",
       "            console.log([gd, 'removed!']);\n",
       "            Plotly.purge(gd);\n",
       "            observer.disconnect();\n",
       "        }}\n",
       "}});\n",
       "\n",
       "// Listen for the removal of the full notebook cells\n",
       "var notebookContainer = gd.closest('#notebook-container');\n",
       "if (notebookContainer) {{\n",
       "    x.observe(notebookContainer, {childList: true});\n",
       "}}\n",
       "\n",
       "// Listen for the clearing of the current output cell\n",
       "var outputEl = gd.closest('.output');\n",
       "if (outputEl) {{\n",
       "    x.observe(outputEl, {childList: true});\n",
       "}}\n",
       "\n",
       "                        })\n",
       "                };\n",
       "                });\n",
       "            </script>\n",
       "        </div>"
      ]
     },
     "metadata": {},
     "output_type": "display_data"
    }
   ],
   "source": [
    "s_port = survivors[survivors['Embarked'] == 'S']\n",
    "c_port = survivors[survivors['Embarked'] == 'C']\n",
    "q_port = survivors[survivors['Embarked'] == 'Q']\n",
    "\n",
    "s_classes = s_port['Pclass'].value_counts(sort=False, normalize=True).to_list()\n",
    "c_classes = c_port['Pclass'].value_counts(sort=False, normalize=True).to_list()\n",
    "q_classes = q_port['Pclass'].value_counts(sort=False, normalize=True).to_list()\n",
    "\n",
    "fig = go.Figure(data=[\n",
    "    go.Bar(name='Southampton', x=classes, y=s_classes),\n",
    "    go.Bar(name='Cherbourg', x=classes, y=c_classes),\n",
    "    go.Bar(name='Queenstown', x=classes, y=q_classes)])\n",
    "fig.update_layout(barmode='stack', width=450, height=400, title=\"Class and Embarking Port of Survivors Ratios\")\n",
    "fig.show()"
   ]
  },
  {
   "cell_type": "markdown",
   "execution_count": null,
   "metadata": {},
   "source": [
    "Plotly overlaid histograms don't seem to be supported on Kaggle, but the shape of the age distribution for non-survivors is lower but pretty similar to the one for survivors."
   ]
  },
  {
   "cell_type": "code",
   "execution_count": 6,
   "metadata": {
    "scrolled": true
   },
   "outputs": [
    {
     "data": {
      "text/html": [
       "<div>\n",
       "        \n",
       "        \n",
       "            <div id=\"3ec71f51-6e60-4a2c-ab8e-252545ddee91\" class=\"plotly-graph-div\" style=\"height:400px; width:700px;\"></div>\n",
       "            <script type=\"text/javascript\">\n",
       "                require([\"plotly\"], function(Plotly) {\n",
       "                    window.PLOTLYENV=window.PLOTLYENV || {};\n",
       "                    \n",
       "                if (document.getElementById(\"3ec71f51-6e60-4a2c-ab8e-252545ddee91\")) {\n",
       "                    Plotly.newPlot(\n",
       "                        '3ec71f51-6e60-4a2c-ab8e-252545ddee91',\n",
       "                        [{\"alignmentgroup\": \"True\", \"bingroup\": \"x\", \"histfunc\": \"sum\", \"hovertemplate\": \"Survived=0<br>Age=%{x}<br>sum of Survived=%{y}<extra></extra>\", \"legendgroup\": \"0\", \"marker\": {\"color\": \"#636efa\", \"opacity\": 0.75}, \"name\": \"0\", \"offsetgroup\": \"0\", \"orientation\": \"v\", \"showlegend\": true, \"type\": \"histogram\", \"x\": [22.0, 35.0, 44.5, 54.0, 2.0, 20.0, 39.0, 14.0, 2.0, 31.0, 35.0, 8.0, 28.5, 19.0, 33.0, 40.0, 66.0, 28.0, 42.0, 21.0, 18.0, 40.0, 27.0, 15.0, 18.8, 18.6, 18.2, 18.0, 7.0, 21.0, 65.0, 28.5, 11.0, 22.0, 45.0, 4.0, 12.333333333333334, 19.0, 26.0, 32.0, 16.0, 21.0, 26.0, 25.0, 16.943333333333335, 8.886666666666667, 22.0, 28.0, 16.0, 19.5, 24.0, 29.0, 20.0, 46.0, 26.0, 59.0, 65.0, 71.0, 34.0, 28.0, 24.5, 21.0, 33.0, 37.0, 28.0, 38.0, 47.0, 14.5, 22.0, 20.0, 17.0, 21.0, 70.5, 29.0, 24.0, 2.0, 21.0, 26.75, 32.5, 54.0, 18.0, 45.0, 33.0, 20.0, 47.0, 25.0, 23.0, 37.0, 16.0, 24.0, 23.0, 19.0, 18.0, 19.0, 9.0, 36.5, 42.0, 51.0, 55.5, 40.5, 45.75, 51.0, 30.0, 34.666666666666664, 39.333333333333336, 44.0, 26.0, 17.0, 1.0, 45.0, 36.5, 28.0, 61.0, 4.0, 21.0, 56.0, 18.0, 34.0, 50.0, 30.0, 36.0, 27.0, 18.0, 9.0, 17.666666666666664, 40.0, 36.0, 19.0, 50.0, 42.0, 24.0, 28.0, 31.0, 34.0, 45.5, 2.0, 32.0, 24.0, 22.0, 30.0, 30.5, 42.0, 30.0, 27.0, 51.0, 44.5, 22.0, 20.5, 18.0, 26.5, 29.0, 59.0, 24.0, 34.0, 44.0, 19.0, 33.0, 31.666666666666668, 29.0, 22.0, 30.0, 44.0, 25.0, 54.0, 41.5, 29.0, 62.0, 30.0, 41.0, 26.5, 52.0, 40.0, 38.0, 36.0, 16.0, 30.0, 37.0, 45.0, 26.0, 7.0, 65.0, 28.0, 16.0, 26.0, 33.0, 22.0, 36.0, 24.0, 24.0, 23.75, 23.5, 2.0, 19.0, 6.946666666666667, 30.0, 26.0, 28.0, 43.0, 54.0, 22.0, 27.0, 29.0, 61.0, 45.5, 38.0, 16.0, 24.666666666666664, 29.0, 45.0, 28.0, 25.0, 36.0, 42.0, 23.0, 19.0, 15.0, 25.0, 26.5, 28.0, 38.0, 40.0, 29.0, 45.0, 35.0, 32.5, 30.0, 18.0, 19.0, 22.0, 3.0, 27.0, 20.0, 19.0, 32.0, 26.5, 18.0, 1.0, 26.5, 28.0, 22.0, 31.0, 46.0, 23.0, 26.0, 21.0, 28.0, 20.0, 34.0, 51.0, 21.0, 24.0, 27.0, 30.0, 38.5, 39.0, 30.0, 10.0, 15.5, 21.0, 29.0, 28.0, 18.0, 23.0, 25.5, 17.0, 50.0, 21.0, 64.0, 31.0, 20.0, 25.0, 36.0, 33.0, 30.0, 39.0, 65.0, 49.0, 34.0, 47.0, 48.0, 43.0, 38.0, 47.0, 56.0, 28.375, 19.375, 38.0, 22.0, 28.0, 34.0, 29.0, 22.0, 9.0, 29.5, 50.0, 30.0, 58.0, 30.0, 15.0, 21.0, 55.0, 71.0, 21.0, 37.5, 39.5, 25.0, 24.0, 17.0, 21.0, 29.0, 37.0, 18.0, 28.0, 32.5, 24.0, 47.0, 35.0, 32.0, 22.0, 33.0, 42.25, 40.5, 44.5, 39.0, 23.0, 9.5, 17.0, 30.0, 45.0, 26.0, 9.0, 11.0, 50.0, 64.0, 33.0, 27.0, 24.5, 62.0, 43.5, 38.0, 40.0, 28.0, 26.666666666666668, 25.333333333333332, 24.0, 19.0, 29.0, 30.5, 16.0, 19.0, 35.5, 54.0, 36.0, 27.0, 47.0, 22.0, 28.5, 35.0, 47.0, 42.0, 37.0, 36.0, 49.0, 49.0, 30.666666666666668, 37.333333333333336, 44.0, 36.0, 30.0, 39.0, 38.0, 36.0, 35.0, 34.0, 26.0, 26.0, 27.0, 21.0, 21.0, 61.0, 57.0, 26.0, 53.0, 51.0, 20.5, 9.0, 32.0, 31.0, 41.0, 30.5, 20.0, 2.0, 19.0, 39.5, 20.5, 21.0, 18.0, 24.0, 28.0, 32.0, 23.0, 58.0, 40.0, 47.0, 36.0, 32.0, 25.0, 34.0, 43.0, 31.0, 70.0, 24.5, 18.0, 24.5, 43.0, 31.5, 20.0, 14.0, 60.0, 25.0, 14.0, 19.0, 18.0, 25.0, 60.0, 52.0, 44.0, 49.0, 42.0, 18.0, 25.0, 26.0, 39.0, 36.0, 29.0, 52.0, 19.0, 30.0, 33.0, 17.0, 34.0, 50.0, 20.0, 25.0, 25.0, 11.0, 17.0, 23.0, 23.0, 28.5, 48.0, 35.25, 35.5, 36.0, 24.0, 70.0, 16.0, 19.0, 31.0, 33.0, 23.0, 28.0, 18.0, 34.0, 37.0, 41.0, 16.0, 40.75, 30.5, 31.25, 32.0, 24.0, 48.0, 57.0, 55.5, 18.0, 11.5, 24.0, 29.0, 27.0, 25.0, 25.0, 8.0, 46.0, 31.0, 16.0, 19.0, 22.0, 25.0, 39.0, 30.0, 30.0, 34.0, 31.0, 39.0, 18.0, 39.0, 26.0, 39.0, 35.0, 6.0, 30.5, 26.75, 23.0, 31.0, 43.0, 10.0, 38.0, 2.0, 1.6666666666666667, 1.3333333333333335, 11.915000000000001, 23.0, 18.0, 21.0, 26.5, 20.0, 16.0, 34.5, 17.0, 42.0, 38.5, 35.0, 28.0, 4.0, 74.0, 9.0, 44.0, 32.5, 41.0, 21.0, 36.0, 24.0, 31.0, 17.5, 26.0, 33.0, 47.0, 20.0, 19.0, 37.5, 33.0, 22.0, 28.0, 25.0, 39.0, 27.0, 22.5, 32.0], \"xaxis\": \"x\", \"y\": [0, 0, 0, 0, 0, 0, 0, 0, 0, 0, 0, 0, 0, 0, 0, 0, 0, 0, 0, 0, 0, 0, 0, 0, 0, 0, 0, 0, 0, 0, 0, 0, 0, 0, 0, 0, 0, 0, 0, 0, 0, 0, 0, 0, 0, 0, 0, 0, 0, 0, 0, 0, 0, 0, 0, 0, 0, 0, 0, 0, 0, 0, 0, 0, 0, 0, 0, 0, 0, 0, 0, 0, 0, 0, 0, 0, 0, 0, 0, 0, 0, 0, 0, 0, 0, 0, 0, 0, 0, 0, 0, 0, 0, 0, 0, 0, 0, 0, 0, 0, 0, 0, 0, 0, 0, 0, 0, 0, 0, 0, 0, 0, 0, 0, 0, 0, 0, 0, 0, 0, 0, 0, 0, 0, 0, 0, 0, 0, 0, 0, 0, 0, 0, 0, 0, 0, 0, 0, 0, 0, 0, 0, 0, 0, 0, 0, 0, 0, 0, 0, 0, 0, 0, 0, 0, 0, 0, 0, 0, 0, 0, 0, 0, 0, 0, 0, 0, 0, 0, 0, 0, 0, 0, 0, 0, 0, 0, 0, 0, 0, 0, 0, 0, 0, 0, 0, 0, 0, 0, 0, 0, 0, 0, 0, 0, 0, 0, 0, 0, 0, 0, 0, 0, 0, 0, 0, 0, 0, 0, 0, 0, 0, 0, 0, 0, 0, 0, 0, 0, 0, 0, 0, 0, 0, 0, 0, 0, 0, 0, 0, 0, 0, 0, 0, 0, 0, 0, 0, 0, 0, 0, 0, 0, 0, 0, 0, 0, 0, 0, 0, 0, 0, 0, 0, 0, 0, 0, 0, 0, 0, 0, 0, 0, 0, 0, 0, 0, 0, 0, 0, 0, 0, 0, 0, 0, 0, 0, 0, 0, 0, 0, 0, 0, 0, 0, 0, 0, 0, 0, 0, 0, 0, 0, 0, 0, 0, 0, 0, 0, 0, 0, 0, 0, 0, 0, 0, 0, 0, 0, 0, 0, 0, 0, 0, 0, 0, 0, 0, 0, 0, 0, 0, 0, 0, 0, 0, 0, 0, 0, 0, 0, 0, 0, 0, 0, 0, 0, 0, 0, 0, 0, 0, 0, 0, 0, 0, 0, 0, 0, 0, 0, 0, 0, 0, 0, 0, 0, 0, 0, 0, 0, 0, 0, 0, 0, 0, 0, 0, 0, 0, 0, 0, 0, 0, 0, 0, 0, 0, 0, 0, 0, 0, 0, 0, 0, 0, 0, 0, 0, 0, 0, 0, 0, 0, 0, 0, 0, 0, 0, 0, 0, 0, 0, 0, 0, 0, 0, 0, 0, 0, 0, 0, 0, 0, 0, 0, 0, 0, 0, 0, 0, 0, 0, 0, 0, 0, 0, 0, 0, 0, 0, 0, 0, 0, 0, 0, 0, 0, 0, 0, 0, 0, 0, 0, 0, 0, 0, 0, 0, 0, 0, 0, 0, 0, 0, 0, 0, 0, 0, 0, 0, 0, 0, 0, 0, 0, 0, 0, 0, 0, 0, 0, 0, 0, 0, 0, 0, 0, 0, 0, 0, 0, 0, 0, 0, 0, 0, 0, 0, 0, 0, 0, 0, 0, 0, 0, 0, 0, 0, 0, 0, 0, 0, 0, 0, 0, 0, 0, 0, 0, 0, 0, 0, 0, 0, 0, 0, 0, 0, 0, 0, 0, 0, 0, 0, 0, 0, 0, 0, 0, 0, 0, 0, 0, 0, 0, 0, 0, 0, 0, 0, 0, 0, 0, 0, 0, 0, 0, 0], \"yaxis\": \"y\"}, {\"alignmentgroup\": \"True\", \"customdata\": [[0, 3, \"male\", 22.0, 1, \"S\", 7.25], [0, 3, \"male\", 35.0, 0, \"S\", 8.05], [0, 3, \"male\", 44.5, 0, \"Q\", 8.4583], [0, 1, \"male\", 54.0, 0, \"S\", 51.8625], [0, 3, \"male\", 2.0, 4, \"S\", 21.075], [0, 3, \"male\", 20.0, 0, \"S\", 8.05], [0, 3, \"male\", 39.0, 6, \"S\", 31.275], [0, 3, \"female\", 14.0, 0, \"S\", 7.8542], [0, 3, \"male\", 2.0, 5, \"Q\", 29.125], [0, 3, \"female\", 31.0, 1, \"S\", 18.0], [0, 2, \"male\", 35.0, 0, \"S\", 26.0], [0, 3, \"female\", 8.0, 4, \"S\", 21.075], [0, 3, \"male\", 28.5, 0, \"C\", 7.225], [0, 1, \"male\", 19.0, 5, \"S\", 263.0], [0, 3, \"male\", 33.0, 0, \"S\", 7.8958], [0, 1, \"male\", 40.0, 0, \"C\", 27.7208], [0, 2, \"male\", 66.0, 0, \"S\", 10.5], [0, 1, \"male\", 28.0, 1, \"C\", 82.1708], [0, 1, \"male\", 42.0, 1, \"S\", 52.0], [0, 3, \"male\", 21.0, 0, \"S\", 8.05], [0, 3, \"female\", 18.0, 2, \"S\", 18.0], [0, 3, \"female\", 40.0, 1, \"S\", 9.475], [0, 2, \"female\", 27.0, 1, \"S\", 21.0], [0, 3, \"male\", 15.0, 0, \"C\", 7.8958], [0, 3, \"male\", 18.8, 0, \"S\", 8.05], [0, 3, \"male\", 18.6, 1, \"Q\", 15.5], [0, 3, \"male\", 18.2, 2, \"C\", 21.6792], [0, 3, \"female\", 18.0, 1, \"S\", 17.8], [0, 3, \"male\", 7.0, 5, \"S\", 39.6875], [0, 3, \"male\", 21.0, 0, \"S\", 7.8], [0, 1, \"male\", 65.0, 1, \"C\", 61.9792], [0, 3, \"male\", 28.5, 0, \"C\", 7.2292], [0, 3, \"male\", 11.0, 7, \"S\", 46.9], [0, 3, \"male\", 22.0, 0, \"C\", 7.2292], [0, 1, \"male\", 45.0, 1, \"S\", 83.475], [0, 3, \"male\", 4.0, 5, \"S\", 27.9], [0, 1, \"male\", 12.333333333333334, 0, \"C\", 27.7208], [0, 3, \"male\", 19.0, 0, \"S\", 8.1583], [0, 3, \"male\", 26.0, 2, \"S\", 8.6625], [0, 2, \"male\", 32.0, 0, \"S\", 10.5], [0, 3, \"female\", 16.0, 7, \"S\", 46.9], [0, 2, \"male\", 21.0, 0, \"S\", 73.5], [0, 3, \"male\", 26.0, 1, \"C\", 14.4542], [0, 3, \"male\", 25.0, 0, \"S\", 7.65], [0, 3, \"male\", 16.943333333333335, 0, \"S\", 7.8958], [0, 3, \"male\", 8.886666666666667, 0, \"S\", 8.05], [0, 3, \"male\", 22.0, 0, \"S\", 9.0], [0, 1, \"male\", 28.0, 0, \"S\", 47.1], [0, 3, \"male\", 16.0, 4, \"S\", 34.375], [0, 3, \"male\", 19.5, 0, \"S\", 8.05], [0, 3, \"male\", 24.0, 0, \"S\", 8.05], [0, 3, \"male\", 29.0, 0, \"S\", 8.05], [0, 3, \"male\", 20.0, 0, \"S\", 7.8542], [0, 1, \"male\", 46.0, 1, \"S\", 61.175], [0, 3, \"male\", 26.0, 3, \"S\", 20.575], [0, 3, \"male\", 59.0, 0, \"S\", 7.25], [0, 3, \"male\", 65.0, 0, \"S\", 8.05], [0, 1, \"male\", 71.0, 0, \"C\", 34.6542], [0, 2, \"male\", 34.0, 1, \"S\", 26.0], [0, 3, \"female\", 28.0, 0, \"S\", 7.8958], [0, 3, \"male\", 24.5, 0, \"S\", 7.8958], [0, 1, \"male\", 21.0, 1, \"S\", 77.2875], [0, 3, \"male\", 33.0, 0, \"S\", 8.6542], [0, 3, \"male\", 37.0, 2, \"S\", 7.925], [0, 3, \"male\", 28.0, 0, \"S\", 7.8958], [0, 3, \"male\", 38.0, 0, \"S\", 7.8958], [0, 1, \"male\", 47.0, 0, \"S\", 52.0], [0, 3, \"female\", 14.5, 1, \"C\", 14.4542], [0, 3, \"male\", 22.0, 0, \"S\", 8.05], [0, 3, \"female\", 20.0, 1, \"S\", 9.825], [0, 3, \"female\", 17.0, 0, \"C\", 14.4583], [0, 3, \"male\", 21.0, 0, \"S\", 7.925], [0, 3, \"male\", 70.5, 0, \"Q\", 7.75], [0, 2, \"male\", 29.0, 1, \"S\", 21.0], [0, 1, \"male\", 24.0, 1, \"C\", 247.5208], [0, 3, \"female\", 2.0, 6, \"S\", 31.275], [0, 2, \"male\", 21.0, 2, \"S\", 73.5], [0, 3, \"male\", 26.75, 0, \"S\", 8.05], [0, 2, \"male\", 32.5, 1, \"C\", 30.0708], [0, 1, \"male\", 54.0, 1, \"S\", 77.2875], [0, 3, \"male\", 18.0, 0, \"Q\", 7.75], [0, 3, \"male\", 45.0, 0, \"S\", 6.975], [0, 3, \"male\", 33.0, 0, \"C\", 7.8958], [0, 3, \"male\", 20.0, 0, \"S\", 7.05], [0, 3, \"female\", 47.0, 1, \"S\", 14.5], [0, 2, \"male\", 25.0, 0, \"S\", 13.0], [0, 2, \"male\", 23.0, 0, \"C\", 15.0458], [0, 1, \"male\", 37.0, 1, \"S\", 53.1], [0, 3, \"male\", 16.0, 0, \"S\", 9.2167], [0, 1, \"male\", 24.0, 0, \"C\", 79.2], [0, 3, \"female\", 23.0, 2, \"C\", 15.2458], [0, 3, \"male\", 19.0, 0, \"Q\", 6.75], [0, 2, \"male\", 18.0, 0, \"S\", 11.5], [0, 2, \"male\", 19.0, 2, \"S\", 36.75], [0, 3, \"female\", 9.0, 4, \"S\", 34.375], [0, 2, \"male\", 36.5, 2, \"S\", 26.0], [0, 2, \"male\", 42.0, 0, \"S\", 13.0], [0, 2, \"male\", 51.0, 0, \"S\", 12.525], [0, 3, \"male\", 55.5, 0, \"S\", 8.05], [0, 3, \"male\", 40.5, 2, \"S\", 14.5], [0, 3, \"male\", 45.75, 0, \"S\", 7.3125], [0, 1, \"male\", 51.0, 1, \"C\", 61.3792], [0, 3, \"male\", 30.0, 0, \"S\", 8.05], [0, 3, \"male\", 34.666666666666664, 0, \"S\", 8.6625], [0, 3, \"male\", 39.333333333333336, 10, \"S\", 69.55], [0, 3, \"male\", 44.0, 1, \"S\", 16.1], [0, 3, \"male\", 26.0, 0, \"S\", 7.775], [0, 3, \"male\", 17.0, 0, \"S\", 8.6625], [0, 3, \"male\", 1.0, 5, \"S\", 39.6875], [0, 3, \"female\", 45.0, 5, \"S\", 27.9], [0, 1, \"male\", 36.5, 0, \"S\", 25.925], [0, 3, \"male\", 28.0, 0, \"S\", 56.4958], [0, 1, \"male\", 61.0, 0, \"S\", 33.5], [0, 3, \"male\", 4.0, 5, \"Q\", 29.125], [0, 3, \"male\", 21.0, 0, \"S\", 7.925], [0, 1, \"male\", 56.0, 0, \"C\", 30.6958], [0, 3, \"male\", 18.0, 2, \"S\", 7.8542], [0, 3, \"male\", 34.0, 4, \"S\", 25.4667], [0, 1, \"female\", 50.0, 0, \"C\", 28.7125], [0, 2, \"male\", 30.0, 0, \"S\", 13.0], [0, 3, \"male\", 36.0, 0, \"S\", 0.0], [0, 3, \"female\", 27.0, 10, \"S\", 69.55], [0, 2, \"male\", 18.0, 0, \"C\", 15.05], [0, 3, \"male\", 9.0, 6, \"S\", 31.3875], [0, 1, \"male\", 17.666666666666664, 0, \"S\", 50.0], [0, 3, \"male\", 40.0, 2, \"Q\", 15.5], [0, 3, \"male\", 36.0, 0, \"S\", 7.8958], [0, 2, \"male\", 19.0, 0, \"S\", 13.0], [0, 3, \"male\", 50.0, 0, \"Q\", 7.75], [0, 3, \"male\", 42.0, 1, \"S\", 8.4042], [0, 2, \"female\", 24.0, 0, \"S\", 13.0], [0, 3, \"male\", 28.0, 0, \"S\", 9.5], [0, 3, \"male\", 31.0, 10, \"S\", 69.55], [0, 3, \"male\", 34.0, 0, \"S\", 6.4958], [0, 3, \"male\", 45.5, 0, \"C\", 7.225], [0, 3, \"female\", 2.0, 1, \"S\", 10.4625], [0, 3, \"male\", 32.0, 1, \"S\", 15.85], [0, 3, \"male\", 24.0, 0, \"S\", 7.05], [0, 3, \"male\", 22.0, 0, \"S\", 7.25], [0, 2, \"male\", 30.0, 0, \"S\", 13.0], [0, 3, \"male\", 30.5, 1, \"Q\", 7.75], [0, 2, \"male\", 42.0, 1, \"S\", 27.0], [0, 2, \"male\", 30.0, 0, \"S\", 10.5], [0, 2, \"male\", 27.0, 0, \"S\", 13.0], [0, 3, \"male\", 51.0, 0, \"S\", 8.05], [0, 3, \"male\", 44.5, 0, \"S\", 7.8958], [0, 3, \"male\", 22.0, 0, \"S\", 9.35], [0, 3, \"male\", 20.5, 0, \"S\", 7.25], [0, 2, \"male\", 18.0, 0, \"S\", 13.0], [0, 3, \"female\", 26.5, 4, \"S\", 25.4667], [0, 3, \"male\", 29.0, 0, \"S\", 7.775], [0, 2, \"male\", 59.0, 0, \"S\", 13.5], [0, 2, \"male\", 24.0, 0, \"S\", 10.5], [0, 3, \"female\", 34.0, 0, \"S\", 7.55], [0, 2, \"male\", 44.0, 1, \"S\", 26.0], [0, 2, \"male\", 19.0, 0, \"S\", 10.5], [0, 2, \"male\", 33.0, 0, \"S\", 12.275], [0, 3, \"female\", 31.666666666666668, 1, \"C\", 14.4542], [0, 2, \"male\", 29.0, 0, \"S\", 10.5], [0, 3, \"male\", 22.0, 0, \"S\", 7.125], [0, 3, \"male\", 30.0, 0, \"C\", 7.225], [0, 1, \"male\", 44.0, 2, \"Q\", 90.0], [0, 3, \"female\", 25.0, 0, \"S\", 7.775], [0, 2, \"male\", 54.0, 1, \"S\", 26.0], [0, 3, \"male\", 41.5, 0, \"S\", 7.25], [0, 3, \"female\", 29.0, 2, \"S\", 10.4625], [0, 1, \"male\", 62.0, 0, \"S\", 26.55], [0, 3, \"male\", 30.0, 1, \"S\", 16.1], [0, 3, \"female\", 41.0, 2, \"S\", 20.2125], [0, 3, \"male\", 26.5, 0, \"Q\", 7.75], [0, 1, \"male\", 52.0, 2, \"S\", 79.65], [0, 1, \"male\", 40.0, 0, \"S\", 0.0], [0, 3, \"female\", 38.0, 0, \"Q\", 7.75], [0, 2, \"male\", 36.0, 0, \"S\", 10.5], [0, 3, \"male\", 16.0, 5, \"S\", 39.6875], [0, 1, \"male\", 30.0, 0, \"S\", 31.0], [0, 1, \"male\", 37.0, 1, \"C\", 29.7], [0, 3, \"female\", 45.0, 0, \"S\", 7.75], [0, 2, \"male\", 26.0, 0, \"S\", 0.0], [0, 3, \"male\", 7.0, 5, \"Q\", 29.125], [0, 3, \"male\", 65.0, 0, \"Q\", 7.75], [0, 3, \"male\", 28.0, 0, \"S\", 7.8542], [0, 3, \"male\", 16.0, 0, \"S\", 9.5], [0, 1, \"male\", 26.0, 0, \"S\", 26.0], [0, 3, \"male\", 33.0, 0, \"C\", 8.6625], [0, 3, \"male\", 22.0, 0, \"S\", 7.8958], [0, 2, \"male\", 36.0, 0, \"C\", 12.875], [0, 3, \"female\", 24.0, 0, \"S\", 8.85], [0, 3, \"male\", 24.0, 0, \"S\", 7.8958], [0, 1, \"male\", 23.75, 0, \"C\", 27.7208], [0, 3, \"male\", 23.5, 0, \"C\", 7.2292], [0, 1, \"female\", 2.0, 3, \"S\", 151.55], [0, 3, \"male\", 19.0, 0, \"S\", 0.0], [0, 3, \"male\", 6.946666666666667, 0, \"S\", 8.05], [0, 2, \"male\", 30.0, 1, \"C\", 24.0], [0, 2, \"female\", 26.0, 2, \"S\", 26.0], [0, 3, \"male\", 28.0, 0, \"S\", 7.8958], [0, 2, \"male\", 43.0, 2, \"S\", 26.25], [0, 2, \"male\", 54.0, 0, \"S\", 14.0], [0, 3, \"male\", 22.0, 0, \"S\", 7.25], [0, 3, \"male\", 27.0, 0, \"S\", 7.8958], [0, 3, \"male\", 29.0, 10, \"S\", 69.55], [0, 3, \"male\", 61.0, 0, \"S\", 6.2375], [0, 1, \"male\", 45.5, 0, \"S\", 28.5], [0, 1, \"male\", 38.0, 1, \"S\", 153.4625], [0, 3, \"male\", 16.0, 2, \"S\", 18.0], [0, 3, \"male\", 24.666666666666664, 0, \"S\", 7.8958], [0, 1, \"male\", 29.0, 1, \"S\", 66.6], [0, 1, \"male\", 45.0, 0, \"S\", 35.5], [0, 2, \"male\", 28.0, 0, \"S\", 13.0], [0, 2, \"male\", 25.0, 0, \"S\", 13.0], [0, 2, \"male\", 36.0, 0, \"S\", 13.0], [0, 3, \"male\", 42.0, 0, \"S\", 8.6625], [0, 3, \"male\", 23.0, 0, \"S\", 9.225], [0, 1, \"male\", 19.0, 0, \"S\", 35.0], [0, 3, \"male\", 15.0, 2, \"C\", 7.2292], [0, 3, \"male\", 25.0, 1, \"S\", 17.8], [0, 3, \"male\", 26.5, 0, \"C\", 7.225], [0, 3, \"male\", 28.0, 0, \"S\", 9.5], [0, 2, \"female\", 38.0, 0, \"S\", 13.0], [0, 3, \"male\", 40.0, 5, \"S\", 27.9], [0, 2, \"male\", 29.0, 1, \"C\", 27.7208], [0, 3, \"female\", 45.0, 1, \"C\", 14.4542], [0, 3, \"male\", 35.0, 0, \"S\", 7.05], [0, 3, \"male\", 32.5, 1, \"Q\", 15.5], [0, 3, \"male\", 30.0, 0, \"S\", 7.25], [0, 3, \"male\", 18.0, 1, \"S\", 6.4958], [0, 3, \"male\", 19.0, 0, \"S\", 8.05], [0, 1, \"male\", 22.0, 0, \"C\", 135.6333], [0, 3, \"female\", 3.0, 4, \"S\", 21.075], [0, 1, \"male\", 27.0, 2, \"C\", 211.5], [0, 3, \"male\", 20.0, 0, \"C\", 4.0125], [0, 3, \"male\", 19.0, 0, \"S\", 7.775], [0, 3, \"male\", 32.0, 0, \"S\", 7.925], [0, 3, \"male\", 26.5, 0, \"S\", 7.8958], [0, 2, \"male\", 18.0, 0, \"S\", 73.5], [0, 3, \"male\", 1.0, 7, \"S\", 46.9], [0, 3, \"male\", 26.5, 0, \"Q\", 7.7292], [0, 3, \"male\", 28.0, 2, \"S\", 7.925], [0, 3, \"male\", 22.0, 0, \"S\", 7.7958], [0, 3, \"female\", 31.0, 0, \"S\", 7.8542], [0, 2, \"male\", 46.0, 0, \"S\", 26.0], [0, 2, \"male\", 23.0, 0, \"S\", 10.5], [0, 3, \"male\", 26.0, 0, \"S\", 8.05], [0, 3, \"female\", 21.0, 1, \"S\", 9.825], [0, 3, \"male\", 28.0, 1, \"S\", 15.85], [0, 3, \"female\", 20.0, 0, \"S\", 8.6625], [0, 2, \"male\", 34.0, 1, \"S\", 21.0], [0, 3, \"male\", 51.0, 0, \"S\", 7.75], [0, 3, \"male\", 21.0, 0, \"S\", 7.775], [0, 3, \"female\", 24.0, 4, \"S\", 25.4667], [0, 3, \"male\", 27.0, 0, \"S\", 7.8958], [0, 3, \"male\", 30.0, 0, \"Q\", 6.8583], [0, 2, \"male\", 38.5, 0, \"S\", 0.0], [0, 3, \"female\", 39.0, 0, \"S\", 8.05], [0, 2, \"male\", 30.0, 0, \"S\", 13.0], [0, 3, \"female\", 10.0, 2, \"S\", 24.15], [0, 3, \"male\", 15.5, 0, \"C\", 7.8958], [0, 3, \"male\", 21.0, 0, \"Q\", 7.7333], [0, 3, \"male\", 29.0, 0, \"S\", 7.875], [0, 3, \"female\", 28.0, 2, \"S\", 14.4], [0, 3, \"male\", 18.0, 2, \"S\", 20.2125], [0, 3, \"male\", 23.0, 0, \"S\", 7.25], [0, 3, \"male\", 25.5, 0, \"Q\", 7.75], [0, 3, \"male\", 17.0, 0, \"S\", 7.125], [0, 1, \"male\", 50.0, 1, \"S\", 55.9], [0, 3, \"female\", 21.0, 4, \"S\", 34.375], [0, 1, \"male\", 64.0, 5, \"S\", 263.0], [0, 2, \"male\", 31.0, 0, \"S\", 10.5], [0, 3, \"male\", 20.0, 0, \"S\", 9.5], [0, 3, \"male\", 25.0, 1, \"S\", 7.775], [0, 2, \"male\", 36.0, 3, \"S\", 27.75], [0, 3, \"male\", 33.0, 1, \"S\", 19.9667], [0, 1, \"male\", 30.0, 0, \"C\", 27.75], [0, 3, \"male\", 39.0, 0, \"S\", 8.05], [0, 1, \"male\", 65.0, 0, \"S\", 26.55], [0, 3, \"male\", 49.0, 0, \"Q\", 7.75], [0, 3, \"male\", 34.0, 0, \"S\", 8.05], [0, 1, \"male\", 47.0, 0, \"S\", 38.5], [0, 2, \"male\", 48.0, 0, \"S\", 13.0], [0, 3, \"male\", 43.0, 0, \"S\", 8.05], [0, 3, \"male\", 38.0, 0, \"S\", 7.05], [0, 2, \"male\", 47.0, 0, \"S\", 0.0], [0, 1, \"male\", 56.0, 0, \"S\", 26.55], [0, 3, \"male\", 28.375, 0, \"Q\", 7.725], [0, 3, \"male\", 19.375, 0, \"S\", 7.25], [0, 3, \"male\", 38.0, 0, \"S\", 8.6625], [0, 3, \"female\", 22.0, 0, \"S\", 9.8375], [0, 1, \"male\", 28.0, 0, \"S\", 52.0], [0, 2, \"male\", 34.0, 1, \"S\", 21.0], [0, 3, \"male\", 29.0, 1, \"S\", 7.0458], [0, 3, \"male\", 22.0, 0, \"S\", 7.5208], [0, 3, \"male\", 9.0, 7, \"S\", 46.9], [0, 2, \"male\", 29.5, 0, \"S\", 0.0], [0, 3, \"male\", 50.0, 0, \"S\", 8.05], [0, 3, \"female\", 30.0, 4, \"S\", 25.4667], [0, 1, \"male\", 58.0, 0, \"C\", 29.7], [0, 3, \"male\", 30.0, 0, \"S\", 8.05], [0, 3, \"male\", 15.0, 1, \"S\", 19.9667], [0, 3, \"male\", 21.0, 0, \"S\", 7.25], [0, 1, \"male\", 55.0, 0, \"S\", 30.5], [0, 1, \"male\", 71.0, 0, \"C\", 49.5042], [0, 3, \"male\", 21.0, 0, \"S\", 8.05], [0, 3, \"male\", 37.5, 0, \"C\", 14.4583], [0, 3, \"male\", 39.5, 0, \"S\", 15.1], [0, 1, \"female\", 25.0, 3, \"S\", 151.55], [0, 3, \"male\", 24.0, 0, \"S\", 7.7958], [0, 3, \"male\", 17.0, 0, \"S\", 8.6625], [0, 3, \"female\", 21.0, 0, \"Q\", 7.75], [0, 3, \"female\", 29.0, 0, \"Q\", 7.6292], [0, 3, \"female\", 37.0, 0, \"S\", 9.5875], [0, 1, \"male\", 18.0, 1, \"C\", 108.9], [0, 3, \"male\", 28.0, 0, \"S\", 22.525], [0, 3, \"male\", 32.5, 0, \"S\", 8.05], [0, 3, \"male\", 24.0, 0, \"S\", 7.4958], [0, 1, \"male\", 47.0, 0, \"S\", 34.0208], [0, 3, \"male\", 35.0, 0, \"Q\", 24.15], [0, 3, \"male\", 32.0, 0, \"S\", 7.8958], [0, 3, \"male\", 22.0, 0, \"S\", 7.8958], [0, 3, \"male\", 33.0, 0, \"C\", 7.225], [0, 3, \"male\", 42.25, 0, \"C\", 7.2292], [0, 3, \"male\", 40.5, 0, \"Q\", 7.75], [0, 1, \"male\", 44.5, 0, \"S\", 221.7792], [0, 3, \"male\", 39.0, 0, \"S\", 7.925], [0, 2, \"male\", 23.0, 3, \"S\", 11.5], [0, 3, \"male\", 9.5, 0, \"C\", 7.2292], [0, 3, \"male\", 17.0, 2, \"C\", 7.2292], [0, 3, \"female\", 30.0, 0, \"S\", 8.6625], [0, 1, \"male\", 45.0, 0, \"S\", 26.55], [0, 3, \"male\", 26.0, 0, \"S\", 14.5], [0, 3, \"female\", 9.0, 6, \"S\", 31.275], [0, 3, \"female\", 11.0, 6, \"S\", 31.275], [0, 1, \"male\", 50.0, 1, \"C\", 106.425], [0, 1, \"male\", 64.0, 0, \"S\", 26.0], [0, 3, \"male\", 33.0, 2, \"S\", 20.525], [0, 2, \"male\", 27.0, 0, \"S\", 26.0], [0, 3, \"male\", 24.5, 0, \"Q\", 7.8292], [0, 1, \"male\", 62.0, 0, \"S\", 26.55], [0, 1, \"male\", 43.5, 0, \"C\", 227.525], [0, 3, \"male\", 38.0, 0, \"Q\", 7.75], [0, 3, \"male\", 40.0, 0, \"S\", 7.8958], [0, 2, \"male\", 28.0, 0, \"S\", 13.5], [0, 3, \"male\", 26.666666666666668, 0, \"S\", 8.05], [0, 3, \"female\", 25.333333333333332, 0, \"S\", 8.05], [0, 3, \"male\", 24.0, 2, \"S\", 24.15], [0, 3, \"male\", 19.0, 0, \"S\", 7.8958], [0, 3, \"female\", 29.0, 4, \"S\", 21.075], [0, 3, \"male\", 30.5, 0, \"C\", 7.2292], [0, 3, \"male\", 16.0, 0, \"S\", 8.05], [0, 3, \"male\", 19.0, 0, \"S\", 14.5], [0, 3, \"female\", 35.5, 1, \"C\", 14.4583], [0, 2, \"male\", 54.0, 0, \"S\", 26.0], [0, 1, \"male\", 36.0, 0, \"C\", 40.125], [0, 3, \"male\", 27.0, 0, \"C\", 8.7125], [0, 2, \"male\", 47.0, 0, \"S\", 15.0], [0, 3, \"male\", 22.0, 0, \"S\", 8.05], [0, 3, \"male\", 28.5, 0, \"S\", 8.05], [0, 3, \"male\", 35.0, 0, \"S\", 7.125], [0, 3, \"male\", 47.0, 0, \"S\", 7.25], [0, 3, \"female\", 42.0, 2, \"Q\", 7.75], [0, 2, \"male\", 37.0, 1, \"S\", 26.0], [0, 3, \"male\", 36.0, 2, \"S\", 24.15], [0, 3, \"male\", 49.0, 0, \"S\", 0.0], [0, 3, \"male\", 49.0, 0, \"C\", 7.225], [0, 3, \"male\", 30.666666666666668, 0, \"S\", 7.8958], [0, 1, \"male\", 37.333333333333336, 0, \"S\", 42.4], [0, 3, \"male\", 44.0, 0, \"S\", 8.05], [0, 3, \"male\", 36.0, 1, \"S\", 15.55], [0, 3, \"male\", 30.0, 0, \"S\", 7.8958], [0, 3, \"female\", 39.0, 6, \"S\", 31.275], [0, 3, \"male\", 38.0, 0, \"S\", 7.05], [0, 3, \"male\", 36.0, 0, \"Q\", 7.75], [0, 3, \"male\", 35.0, 0, \"S\", 8.05], [0, 3, \"male\", 34.0, 2, \"S\", 14.4], [0, 3, \"female\", 26.0, 1, \"S\", 16.1], [0, 2, \"male\", 26.0, 0, \"S\", 10.5], [0, 3, \"male\", 27.0, 1, \"C\", 14.4542], [0, 3, \"male\", 21.0, 0, \"S\", 7.8542], [0, 3, \"male\", 21.0, 0, \"S\", 16.1], [0, 1, \"male\", 61.0, 0, \"S\", 32.3208], [0, 2, \"male\", 57.0, 0, \"Q\", 12.35], [0, 3, \"male\", 26.0, 0, \"S\", 7.8958], [0, 3, \"male\", 53.0, 0, \"Q\", 7.7333], [0, 3, \"male\", 51.0, 0, \"S\", 7.0542], [0, 1, \"male\", 20.5, 0, \"S\", 0.0], [0, 3, \"female\", 9.0, 5, \"S\", 27.9], [0, 3, \"male\", 32.0, 0, \"S\", 7.925], [0, 2, \"male\", 31.0, 2, \"S\", 26.25], [0, 3, \"female\", 41.0, 5, \"S\", 39.6875], [0, 3, \"male\", 30.5, 1, \"S\", 16.1], [0, 3, \"male\", 20.0, 0, \"S\", 7.8542], [0, 3, \"female\", 2.0, 5, \"S\", 27.9], [0, 3, \"male\", 19.0, 0, \"S\", 7.8958], [0, 3, \"male\", 39.5, 0, \"S\", 7.55], [0, 3, \"male\", 20.5, 0, \"S\", 7.8958], [0, 3, \"male\", 21.0, 0, \"S\", 8.4333], [0, 3, \"female\", 18.0, 0, \"Q\", 6.75], [0, 2, \"male\", 24.0, 2, \"S\", 73.5], [0, 3, \"male\", 28.0, 0, \"S\", 7.8958], [0, 3, \"female\", 32.0, 2, \"Q\", 15.5], [0, 2, \"male\", 23.0, 0, \"S\", 13.0], [0, 1, \"male\", 58.0, 2, \"C\", 113.275], [0, 3, \"male\", 40.0, 0, \"C\", 7.225], [0, 1, \"male\", 47.0, 0, \"S\", 25.5875], [0, 3, \"male\", 36.0, 0, \"S\", 7.4958], [0, 2, \"male\", 32.0, 2, \"S\", 73.5], [0, 2, \"male\", 25.0, 0, \"S\", 13.0], [0, 3, \"male\", 34.0, 0, \"S\", 7.775], [0, 3, \"male\", 43.0, 0, \"S\", 8.05], [0, 1, \"male\", 31.0, 1, \"S\", 52.0], [0, 2, \"male\", 70.0, 0, \"S\", 10.5], [0, 2, \"male\", 24.5, 0, \"S\", 0.0], [0, 3, \"male\", 18.0, 0, \"S\", 7.775], [0, 3, \"male\", 24.5, 0, \"S\", 8.05], [0, 3, \"female\", 43.0, 7, \"S\", 46.9], [0, 3, \"female\", 31.5, 0, \"Q\", 8.1375], [0, 3, \"male\", 20.0, 0, \"S\", 9.225], [0, 3, \"male\", 14.0, 7, \"S\", 46.9], [0, 2, \"male\", 60.0, 2, \"S\", 39.0], [0, 2, \"male\", 25.0, 3, \"C\", 41.5792], [0, 3, \"male\", 14.0, 5, \"S\", 39.6875], [0, 3, \"male\", 19.0, 0, \"S\", 10.1708], [0, 3, \"male\", 18.0, 0, \"S\", 7.7958], [0, 3, \"male\", 25.0, 0, \"C\", 7.225], [0, 1, \"male\", 60.0, 0, \"S\", 26.55], [0, 2, \"male\", 52.0, 0, \"S\", 13.5], [0, 3, \"male\", 44.0, 0, \"S\", 8.05], [0, 1, \"male\", 49.0, 2, \"C\", 110.8833], [0, 3, \"male\", 42.0, 0, \"S\", 7.65], [0, 3, \"female\", 18.0, 1, \"C\", 14.4542], [0, 3, \"male\", 25.0, 0, \"Q\", 7.7417], [0, 3, \"male\", 26.0, 1, \"S\", 7.8542], [0, 2, \"male\", 39.0, 0, \"S\", 26.0], [0, 1, \"male\", 36.0, 0, \"S\", 26.55], [0, 3, \"male\", 29.0, 0, \"S\", 9.4833], [0, 2, \"male\", 52.0, 0, \"S\", 13.0], [0, 3, \"male\", 19.0, 0, \"S\", 7.65], [0, 3, \"male\", 30.0, 0, \"Q\", 15.5], [0, 3, \"male\", 33.0, 0, \"S\", 7.775], [0, 3, \"male\", 17.0, 1, \"S\", 7.0542], [0, 2, \"male\", 34.0, 0, \"S\", 13.0], [0, 2, \"male\", 50.0, 0, \"S\", 13.0], [0, 3, \"male\", 20.0, 0, \"S\", 8.6625], [0, 2, \"male\", 25.0, 1, \"S\", 26.0], [0, 3, \"female\", 25.0, 1, \"S\", 7.925], [0, 3, \"male\", 11.0, 0, \"C\", 18.7875], [0, 2, \"male\", 17.0, 0, \"S\", 0.0], [0, 2, \"male\", 23.0, 0, \"S\", 13.0], [0, 2, \"male\", 23.0, 0, \"S\", 13.0], [0, 3, \"male\", 28.5, 0, \"S\", 16.1], [0, 3, \"female\", 48.0, 4, \"S\", 34.375], [0, 3, \"male\", 35.25, 0, \"S\", 7.8958], [0, 3, \"male\", 35.5, 0, \"S\", 7.8958], [0, 1, \"male\", 36.0, 1, \"S\", 78.85], [0, 3, \"male\", 24.0, 1, \"S\", 16.1], [0, 1, \"male\", 70.0, 2, \"S\", 71.0], [0, 3, \"male\", 16.0, 2, \"S\", 20.25], [0, 1, \"male\", 19.0, 1, \"S\", 53.1], [0, 3, \"male\", 31.0, 0, \"Q\", 7.75], [0, 3, \"male\", 33.0, 0, \"S\", 9.5], [0, 3, \"male\", 23.0, 0, \"S\", 7.8958], [0, 3, \"male\", 28.0, 0, \"S\", 7.7958], [0, 2, \"male\", 18.0, 0, \"S\", 11.5], [0, 3, \"male\", 34.0, 0, \"S\", 8.05], [0, 3, \"male\", 37.0, 0, \"S\", 14.5], [0, 3, \"male\", 41.0, 0, \"S\", 7.125], [0, 3, \"male\", 16.0, 0, \"S\", 7.775], [0, 1, \"male\", 40.75, 0, \"C\", 39.6], [0, 3, \"female\", 30.5, 0, \"Q\", 7.75], [0, 3, \"male\", 31.25, 1, \"Q\", 24.15], [0, 3, \"male\", 32.0, 0, \"S\", 8.3625], [0, 3, \"male\", 24.0, 0, \"S\", 9.5], [0, 3, \"male\", 48.0, 0, \"S\", 7.8542], [0, 2, \"female\", 57.0, 0, \"S\", 10.5], [0, 3, \"male\", 55.5, 0, \"C\", 7.225], [0, 3, \"male\", 18.0, 0, \"S\", 7.75], [0, 3, \"male\", 11.5, 0, \"Q\", 7.75], [0, 3, \"male\", 24.0, 0, \"Q\", 7.7375], [0, 1, \"male\", 29.0, 0, \"S\", 30.0], [0, 3, \"male\", 27.0, 3, \"S\", 23.45], [0, 3, \"male\", 25.0, 0, \"S\", 7.05], [0, 3, \"male\", 25.0, 0, \"S\", 7.25], [0, 3, \"male\", 8.0, 5, \"Q\", 29.125], [0, 1, \"male\", 46.0, 0, \"C\", 79.2], [0, 3, \"male\", 31.0, 0, \"Q\", 7.75], [0, 2, \"male\", 16.0, 0, \"S\", 26.0], [0, 3, \"female\", 19.0, 10, \"S\", 69.55], [0, 1, \"male\", 22.0, 0, \"C\", 30.6958], [0, 3, \"male\", 25.0, 0, \"S\", 7.8958], [0, 2, \"male\", 39.0, 0, \"S\", 13.0], [0, 3, \"male\", 30.0, 0, \"C\", 7.2292], [0, 3, \"female\", 30.0, 2, \"S\", 24.15], [0, 2, \"male\", 34.0, 0, \"S\", 13.0], [0, 3, \"male\", 31.0, 0, \"S\", 7.775], [0, 1, \"male\", 39.0, 0, \"S\", 0.0], [0, 3, \"female\", 18.0, 0, \"S\", 7.775], [0, 2, \"male\", 39.0, 0, \"S\", 13.0], [0, 3, \"male\", 26.0, 0, \"S\", 7.8875], [0, 3, \"male\", 39.0, 0, \"S\", 24.15], [0, 2, \"male\", 35.0, 0, \"S\", 10.5], [0, 3, \"female\", 6.0, 6, \"S\", 31.275], [0, 3, \"male\", 30.5, 0, \"S\", 8.05], [0, 1, \"male\", 26.75, 0, \"S\", 0.0], [0, 3, \"female\", 23.0, 0, \"S\", 7.925], [0, 2, \"male\", 31.0, 2, \"C\", 37.0042], [0, 3, \"male\", 43.0, 0, \"S\", 6.45], [0, 3, \"male\", 10.0, 5, \"S\", 27.9], [0, 1, \"male\", 38.0, 0, \"S\", 0.0], [0, 3, \"male\", 2.0, 5, \"S\", 39.6875], [0, 3, \"male\", 1.6666666666666667, 0, \"Q\", 6.95], [0, 3, \"male\", 1.3333333333333335, 0, \"S\", 56.4958], [0, 3, \"male\", 11.915000000000001, 0, \"C\", 7.2292], [0, 3, \"male\", 23.0, 0, \"S\", 7.8542], [0, 3, \"male\", 18.0, 0, \"S\", 8.3], [0, 3, \"male\", 21.0, 0, \"S\", 8.6625], [0, 3, \"male\", 26.5, 0, \"S\", 8.05], [0, 3, \"male\", 20.0, 0, \"S\", 7.925], [0, 2, \"male\", 16.0, 0, \"S\", 10.5], [0, 3, \"male\", 34.5, 0, \"C\", 6.4375], [0, 3, \"male\", 17.0, 0, \"S\", 8.6625], [0, 3, \"male\", 42.0, 0, \"S\", 7.55], [0, 3, \"male\", 38.5, 10, \"S\", 69.55], [0, 3, \"male\", 35.0, 0, \"C\", 7.8958], [0, 2, \"male\", 28.0, 1, \"S\", 33.0], [0, 3, \"male\", 4.0, 6, \"S\", 31.275], [0, 3, \"male\", 74.0, 0, \"S\", 7.775], [0, 3, \"female\", 9.0, 2, \"C\", 15.2458], [0, 2, \"female\", 44.0, 1, \"S\", 26.0], [0, 3, \"male\", 32.5, 0, \"C\", 7.2292], [0, 3, \"male\", 41.0, 2, \"S\", 14.1083], [0, 2, \"male\", 21.0, 1, \"S\", 11.5], [0, 3, \"female\", 36.0, 10, \"S\", 69.55], [0, 2, \"male\", 24.0, 0, \"S\", 13.0], [0, 1, \"male\", 31.0, 0, \"S\", 50.4958], [0, 3, \"male\", 17.5, 0, \"S\", 9.5], [0, 3, \"male\", 26.0, 0, \"S\", 7.8958], [0, 1, \"male\", 33.0, 0, \"S\", 5.0], [0, 3, \"male\", 47.0, 0, \"S\", 9.0], [0, 3, \"male\", 20.0, 0, \"S\", 9.8458], [0, 3, \"male\", 19.0, 0, \"S\", 7.8958], [0, 3, \"male\", 37.5, 0, \"S\", 7.8958], [0, 3, \"male\", 33.0, 0, \"S\", 7.8958], [0, 3, \"female\", 22.0, 0, \"S\", 10.5167], [0, 2, \"male\", 28.0, 0, \"S\", 10.5], [0, 3, \"male\", 25.0, 0, \"S\", 7.05], [0, 3, \"female\", 39.0, 5, \"Q\", 29.125], [0, 2, \"male\", 27.0, 0, \"S\", 13.0], [0, 3, \"female\", 22.5, 3, \"S\", 23.45], [0, 3, \"male\", 32.0, 0, \"Q\", 7.75]], \"hovertemplate\": \"Survived=%{customdata[0]}<br>Age=%{customdata[3]}<br>Pclass=%{customdata[1]}<br>Sex=%{customdata[2]}<br>Family=%{customdata[4]}<br>Embarked=%{customdata[5]}<br>Fare=%{customdata[6]}<extra></extra>\", \"legendgroup\": \"0\", \"marker\": {\"color\": \"#636efa\"}, \"name\": \"0\", \"notched\": true, \"offsetgroup\": \"0\", \"showlegend\": false, \"type\": \"box\", \"x\": [22.0, 35.0, 44.5, 54.0, 2.0, 20.0, 39.0, 14.0, 2.0, 31.0, 35.0, 8.0, 28.5, 19.0, 33.0, 40.0, 66.0, 28.0, 42.0, 21.0, 18.0, 40.0, 27.0, 15.0, 18.8, 18.6, 18.2, 18.0, 7.0, 21.0, 65.0, 28.5, 11.0, 22.0, 45.0, 4.0, 12.333333333333334, 19.0, 26.0, 32.0, 16.0, 21.0, 26.0, 25.0, 16.943333333333335, 8.886666666666667, 22.0, 28.0, 16.0, 19.5, 24.0, 29.0, 20.0, 46.0, 26.0, 59.0, 65.0, 71.0, 34.0, 28.0, 24.5, 21.0, 33.0, 37.0, 28.0, 38.0, 47.0, 14.5, 22.0, 20.0, 17.0, 21.0, 70.5, 29.0, 24.0, 2.0, 21.0, 26.75, 32.5, 54.0, 18.0, 45.0, 33.0, 20.0, 47.0, 25.0, 23.0, 37.0, 16.0, 24.0, 23.0, 19.0, 18.0, 19.0, 9.0, 36.5, 42.0, 51.0, 55.5, 40.5, 45.75, 51.0, 30.0, 34.666666666666664, 39.333333333333336, 44.0, 26.0, 17.0, 1.0, 45.0, 36.5, 28.0, 61.0, 4.0, 21.0, 56.0, 18.0, 34.0, 50.0, 30.0, 36.0, 27.0, 18.0, 9.0, 17.666666666666664, 40.0, 36.0, 19.0, 50.0, 42.0, 24.0, 28.0, 31.0, 34.0, 45.5, 2.0, 32.0, 24.0, 22.0, 30.0, 30.5, 42.0, 30.0, 27.0, 51.0, 44.5, 22.0, 20.5, 18.0, 26.5, 29.0, 59.0, 24.0, 34.0, 44.0, 19.0, 33.0, 31.666666666666668, 29.0, 22.0, 30.0, 44.0, 25.0, 54.0, 41.5, 29.0, 62.0, 30.0, 41.0, 26.5, 52.0, 40.0, 38.0, 36.0, 16.0, 30.0, 37.0, 45.0, 26.0, 7.0, 65.0, 28.0, 16.0, 26.0, 33.0, 22.0, 36.0, 24.0, 24.0, 23.75, 23.5, 2.0, 19.0, 6.946666666666667, 30.0, 26.0, 28.0, 43.0, 54.0, 22.0, 27.0, 29.0, 61.0, 45.5, 38.0, 16.0, 24.666666666666664, 29.0, 45.0, 28.0, 25.0, 36.0, 42.0, 23.0, 19.0, 15.0, 25.0, 26.5, 28.0, 38.0, 40.0, 29.0, 45.0, 35.0, 32.5, 30.0, 18.0, 19.0, 22.0, 3.0, 27.0, 20.0, 19.0, 32.0, 26.5, 18.0, 1.0, 26.5, 28.0, 22.0, 31.0, 46.0, 23.0, 26.0, 21.0, 28.0, 20.0, 34.0, 51.0, 21.0, 24.0, 27.0, 30.0, 38.5, 39.0, 30.0, 10.0, 15.5, 21.0, 29.0, 28.0, 18.0, 23.0, 25.5, 17.0, 50.0, 21.0, 64.0, 31.0, 20.0, 25.0, 36.0, 33.0, 30.0, 39.0, 65.0, 49.0, 34.0, 47.0, 48.0, 43.0, 38.0, 47.0, 56.0, 28.375, 19.375, 38.0, 22.0, 28.0, 34.0, 29.0, 22.0, 9.0, 29.5, 50.0, 30.0, 58.0, 30.0, 15.0, 21.0, 55.0, 71.0, 21.0, 37.5, 39.5, 25.0, 24.0, 17.0, 21.0, 29.0, 37.0, 18.0, 28.0, 32.5, 24.0, 47.0, 35.0, 32.0, 22.0, 33.0, 42.25, 40.5, 44.5, 39.0, 23.0, 9.5, 17.0, 30.0, 45.0, 26.0, 9.0, 11.0, 50.0, 64.0, 33.0, 27.0, 24.5, 62.0, 43.5, 38.0, 40.0, 28.0, 26.666666666666668, 25.333333333333332, 24.0, 19.0, 29.0, 30.5, 16.0, 19.0, 35.5, 54.0, 36.0, 27.0, 47.0, 22.0, 28.5, 35.0, 47.0, 42.0, 37.0, 36.0, 49.0, 49.0, 30.666666666666668, 37.333333333333336, 44.0, 36.0, 30.0, 39.0, 38.0, 36.0, 35.0, 34.0, 26.0, 26.0, 27.0, 21.0, 21.0, 61.0, 57.0, 26.0, 53.0, 51.0, 20.5, 9.0, 32.0, 31.0, 41.0, 30.5, 20.0, 2.0, 19.0, 39.5, 20.5, 21.0, 18.0, 24.0, 28.0, 32.0, 23.0, 58.0, 40.0, 47.0, 36.0, 32.0, 25.0, 34.0, 43.0, 31.0, 70.0, 24.5, 18.0, 24.5, 43.0, 31.5, 20.0, 14.0, 60.0, 25.0, 14.0, 19.0, 18.0, 25.0, 60.0, 52.0, 44.0, 49.0, 42.0, 18.0, 25.0, 26.0, 39.0, 36.0, 29.0, 52.0, 19.0, 30.0, 33.0, 17.0, 34.0, 50.0, 20.0, 25.0, 25.0, 11.0, 17.0, 23.0, 23.0, 28.5, 48.0, 35.25, 35.5, 36.0, 24.0, 70.0, 16.0, 19.0, 31.0, 33.0, 23.0, 28.0, 18.0, 34.0, 37.0, 41.0, 16.0, 40.75, 30.5, 31.25, 32.0, 24.0, 48.0, 57.0, 55.5, 18.0, 11.5, 24.0, 29.0, 27.0, 25.0, 25.0, 8.0, 46.0, 31.0, 16.0, 19.0, 22.0, 25.0, 39.0, 30.0, 30.0, 34.0, 31.0, 39.0, 18.0, 39.0, 26.0, 39.0, 35.0, 6.0, 30.5, 26.75, 23.0, 31.0, 43.0, 10.0, 38.0, 2.0, 1.6666666666666667, 1.3333333333333335, 11.915000000000001, 23.0, 18.0, 21.0, 26.5, 20.0, 16.0, 34.5, 17.0, 42.0, 38.5, 35.0, 28.0, 4.0, 74.0, 9.0, 44.0, 32.5, 41.0, 21.0, 36.0, 24.0, 31.0, 17.5, 26.0, 33.0, 47.0, 20.0, 19.0, 37.5, 33.0, 22.0, 28.0, 25.0, 39.0, 27.0, 22.5, 32.0], \"xaxis\": \"x2\", \"yaxis\": \"y2\"}, {\"alignmentgroup\": \"True\", \"bingroup\": \"x\", \"histfunc\": \"sum\", \"hovertemplate\": \"Survived=1<br>Age=%{x}<br>sum of Survived=%{y}<extra></extra>\", \"legendgroup\": \"1\", \"marker\": {\"color\": \"#EF553B\", \"opacity\": 0.75}, \"name\": \"1\", \"offsetgroup\": \"1\", \"orientation\": \"v\", \"showlegend\": true, \"type\": \"histogram\", \"x\": [38.0, 26.0, 35.0, 27.0, 14.0, 4.0, 58.0, 55.0, 16.5, 33.0, 34.0, 15.0, 28.0, 38.0, 26.0, 48.666666666666664, 57.33333333333333, 31.5, 14.0, 3.0, 19.0, 18.4, 49.0, 29.0, 43.0, 21.0, 5.0, 38.0, 20.666666666666668, 29.0, 17.0, 32.0, 0.83, 30.0, 29.0, 28.5, 17.0, 33.0, 23.0, 23.0, 34.0, 21.0, 29.5, 42.5, 32.5, 12.0, 24.0, 34.5, 29.0, 19.0, 22.0, 24.0, 27.0, 22.0, 16.0, 40.0, 9.0, 27.0, 1.0, 1.0, 4.0, 31.333333333333332, 45.0, 32.0, 19.0, 3.0, 44.0, 58.0, 33.0, 18.0, 26.0, 16.0, 40.0, 35.0, 31.0, 27.0, 32.0, 16.0, 38.0, 19.0, 35.0, 5.0, 8.0, 30.333333333333332, 24.0, 37.0, 29.0, 29.5, 30.0, 35.0, 50.0, 3.0, 25.0, 58.0, 35.0, 25.0, 41.0, 50.0, 63.0, 35.0, 19.0, 30.0, 42.0, 22.0, 26.0, 19.0, 26.0, 50.0, 39.666666666666664, 29.333333333333332, 12.973333333333333, 0.92, 8.959999999999999, 17.0, 30.0, 24.0, 18.0, 26.0, 24.0, 31.0, 40.0, 30.0, 22.0, 36.0, 36.0, 31.0, 16.0, 30.75, 20.333333333333332, 41.0, 45.0, 2.0, 24.0, 24.0, 40.0, 21.5, 3.0, 22.0, 38.666666666666664, 39.333333333333336, 60.0, 48.0, 36.0, 24.0, 25.0, 12.5, 22.0, 42.0, 1.0, 35.0, 36.0, 17.0, 36.0, 21.0, 23.0, 24.0, 28.0, 39.0, 3.0, 33.0, 44.0, 34.0, 18.0, 28.0, 19.0, 32.0, 28.0, 35.0, 42.0, 14.0, 24.0, 45.0, 28.0, 16.0, 4.0, 13.0, 34.0, 5.0, 52.0, 49.0, 29.0, 57.5, 50.0, 48.0, 0.75, 33.0, 23.0, 2.0, 63.0, 25.0, 35.0, 9.0, 54.0, 16.0, 33.0, 30.5, 26.0, 29.0, 36.0, 54.0, 34.0, 36.0, 30.0, 44.0, 50.0, 2.0, 23.5, 7.0, 30.0, 22.0, 36.0, 32.0, 19.0, 26.0, 8.0, 17.0, 22.0, 22.0, 48.0, 39.0, 36.0, 32.0, 62.0, 53.0, 36.0, 26.0, 34.0, 39.0, 32.0, 25.0, 39.0, 18.0, 60.0, 52.0, 42.5, 49.0, 24.0, 35.0, 27.0, 22.0, 40.0, 37.0, 24.0, 4.0, 42.0, 20.0, 21.0, 80.0, 32.0, 28.0, 24.0, 1.375, 0.75, 48.0, 56.0, 23.0, 18.0, 19.5, 50.0, 20.0, 41.5, 40.0, 31.0, 18.0, 36.0, 27.0, 15.0, 31.0, 4.0, 14.5, 46.5, 18.0, 35.0, 45.0, 42.0, 22.0, 23.0, 24.0, 48.0, 38.0, 27.0, 6.0, 27.0, 30.0, 27.5, 29.0, 35.0, 35.75, 21.0, 31.0, 30.0, 4.0, 6.0, 48.0, 0.67, 33.0, 20.0, 36.0, 51.0, 54.0, 5.0, 43.0, 13.0, 17.0, 18.0, 1.0, 49.0, 31.0, 31.0, 11.0, 0.42, 27.0, 33.0, 52.0, 27.0, 27.0, 1.0, 31.5, 62.0, 15.0, 0.83, 39.0, 32.0, 26.0, 30.0, 16.0, 16.0, 18.0, 45.0, 51.0, 24.0, 48.0, 42.0, 27.0, 4.0, 47.0, 28.0, 15.0, 56.0, 25.0, 19.0, 26.0], \"xaxis\": \"x\", \"y\": [1, 1, 1, 1, 1, 1, 1, 1, 1, 1, 1, 1, 1, 1, 1, 1, 1, 1, 1, 1, 1, 1, 1, 1, 1, 1, 1, 1, 1, 1, 1, 1, 1, 1, 1, 1, 1, 1, 1, 1, 1, 1, 1, 1, 1, 1, 1, 1, 1, 1, 1, 1, 1, 1, 1, 1, 1, 1, 1, 1, 1, 1, 1, 1, 1, 1, 1, 1, 1, 1, 1, 1, 1, 1, 1, 1, 1, 1, 1, 1, 1, 1, 1, 1, 1, 1, 1, 1, 1, 1, 1, 1, 1, 1, 1, 1, 1, 1, 1, 1, 1, 1, 1, 1, 1, 1, 1, 1, 1, 1, 1, 1, 1, 1, 1, 1, 1, 1, 1, 1, 1, 1, 1, 1, 1, 1, 1, 1, 1, 1, 1, 1, 1, 1, 1, 1, 1, 1, 1, 1, 1, 1, 1, 1, 1, 1, 1, 1, 1, 1, 1, 1, 1, 1, 1, 1, 1, 1, 1, 1, 1, 1, 1, 1, 1, 1, 1, 1, 1, 1, 1, 1, 1, 1, 1, 1, 1, 1, 1, 1, 1, 1, 1, 1, 1, 1, 1, 1, 1, 1, 1, 1, 1, 1, 1, 1, 1, 1, 1, 1, 1, 1, 1, 1, 1, 1, 1, 1, 1, 1, 1, 1, 1, 1, 1, 1, 1, 1, 1, 1, 1, 1, 1, 1, 1, 1, 1, 1, 1, 1, 1, 1, 1, 1, 1, 1, 1, 1, 1, 1, 1, 1, 1, 1, 1, 1, 1, 1, 1, 1, 1, 1, 1, 1, 1, 1, 1, 1, 1, 1, 1, 1, 1, 1, 1, 1, 1, 1, 1, 1, 1, 1, 1, 1, 1, 1, 1, 1, 1, 1, 1, 1, 1, 1, 1, 1, 1, 1, 1, 1, 1, 1, 1, 1, 1, 1, 1, 1, 1, 1, 1, 1, 1, 1, 1, 1, 1, 1, 1, 1, 1, 1, 1, 1, 1, 1, 1, 1, 1, 1, 1, 1, 1, 1, 1, 1, 1, 1, 1, 1, 1, 1, 1, 1, 1, 1, 1, 1, 1, 1, 1, 1], \"yaxis\": \"y\"}, {\"alignmentgroup\": \"True\", \"customdata\": [[1, 1, \"female\", 38.0, 1, \"C\", 71.2833], [1, 3, \"female\", 26.0, 0, \"S\", 7.925], [1, 1, \"female\", 35.0, 1, \"S\", 53.1], [1, 3, \"female\", 27.0, 2, \"S\", 11.1333], [1, 2, \"female\", 14.0, 1, \"C\", 30.0708], [1, 3, \"female\", 4.0, 2, \"S\", 16.7], [1, 1, \"female\", 58.0, 0, \"S\", 26.55], [1, 2, \"female\", 55.0, 0, \"S\", 16.0], [1, 2, \"male\", 16.5, 0, \"S\", 13.0], [1, 3, \"female\", 33.0, 0, \"C\", 7.225], [1, 2, \"male\", 34.0, 0, \"S\", 13.0], [1, 3, \"female\", 15.0, 0, \"Q\", 8.0292], [1, 1, \"male\", 28.0, 0, \"S\", 35.5], [1, 3, \"female\", 38.0, 6, \"S\", 31.3875], [1, 3, \"female\", 26.0, 0, \"Q\", 7.8792], [1, 1, \"female\", 48.666666666666664, 1, \"C\", 146.5208], [1, 3, \"female\", 57.33333333333333, 0, \"Q\", 7.75], [1, 3, \"male\", 31.5, 0, \"C\", 7.2292], [1, 3, \"female\", 14.0, 1, \"C\", 11.2417], [1, 2, \"female\", 3.0, 3, \"C\", 41.5792], [1, 3, \"female\", 19.0, 0, \"Q\", 7.8792], [1, 3, \"female\", 18.4, 0, \"Q\", 7.75], [1, 1, \"female\", 49.0, 1, \"C\", 76.7292], [1, 2, \"female\", 29.0, 1, \"S\", 26.0], [1, 1, \"male\", 43.0, 0, \"S\", 35.5], [1, 2, \"female\", 21.0, 0, \"S\", 10.5], [1, 2, \"female\", 5.0, 3, \"S\", 27.75], [1, 1, \"female\", 38.0, 0, null, 80.0], [1, 3, \"male\", 20.666666666666668, 2, \"C\", 15.2458], [1, 2, \"female\", 29.0, 0, \"S\", 10.5], [1, 3, \"female\", 17.0, 6, \"S\", 7.925], [1, 3, \"male\", 32.0, 0, \"S\", 56.4958], [1, 2, \"male\", 0.83, 2, \"S\", 29.0], [1, 3, \"female\", 30.0, 0, \"S\", 12.475], [1, 3, \"male\", 29.0, 0, \"S\", 9.5], [1, 3, \"female\", 28.5, 0, \"Q\", 7.7875], [1, 2, \"female\", 17.0, 0, \"S\", 10.5], [1, 3, \"female\", 33.0, 3, \"S\", 15.85], [1, 1, \"female\", 23.0, 5, \"S\", 263.0], [1, 1, \"male\", 23.0, 1, \"C\", 63.3583], [1, 2, \"female\", 34.0, 1, \"S\", 23.0], [1, 3, \"female\", 21.0, 0, \"S\", 7.65], [1, 3, \"male\", 29.5, 0, \"S\", 7.775], [1, 3, \"female\", 42.5, 1, \"Q\", 24.15], [1, 2, \"female\", 32.5, 0, \"S\", 13.0], [1, 3, \"male\", 12.0, 1, \"C\", 11.2417], [1, 3, \"male\", 24.0, 0, \"S\", 7.1417], [1, 3, \"female\", 34.5, 2, \"C\", 22.3583], [1, 2, \"female\", 29.0, 1, \"S\", 26.0], [1, 1, \"female\", 19.0, 2, \"S\", 26.2833], [1, 3, \"female\", 22.0, 0, \"S\", 7.75], [1, 3, \"female\", 24.0, 1, \"S\", 15.85], [1, 3, \"male\", 27.0, 0, \"S\", 7.7958], [1, 1, \"female\", 22.0, 1, \"S\", 66.6], [1, 3, \"female\", 16.0, 0, \"Q\", 7.7333], [1, 2, \"female\", 40.0, 0, \"S\", 15.75], [1, 3, \"male\", 9.0, 2, \"S\", 20.525], [1, 1, \"female\", 27.0, 1, \"S\", 55.0], [1, 3, \"female\", 1.0, 2, \"S\", 11.1333], [1, 2, \"male\", 1.0, 3, \"S\", 39.0], [1, 3, \"female\", 4.0, 2, \"S\", 22.025], [1, 3, \"female\", 31.333333333333332, 1, \"Q\", 15.5], [1, 1, \"male\", 45.0, 0, \"S\", 26.55], [1, 2, \"female\", 32.0, 0, \"S\", 13.0], [1, 3, \"female\", 19.0, 1, \"S\", 7.8542], [1, 2, \"male\", 3.0, 2, \"S\", 26.0], [1, 1, \"female\", 44.0, 0, \"C\", 27.7208], [1, 1, \"female\", 58.0, 0, \"C\", 146.5208], [1, 3, \"female\", 33.0, 0, \"Q\", 7.75], [1, 3, \"male\", 18.0, 0, \"S\", 8.05], [1, 3, \"male\", 26.0, 0, \"C\", 18.7875], [1, 3, \"female\", 16.0, 0, \"Q\", 7.75], [1, 1, \"male\", 40.0, 0, \"C\", 31.0], [1, 2, \"female\", 35.0, 0, \"S\", 21.0], [1, 1, \"female\", 31.0, 1, \"C\", 113.275], [1, 3, \"female\", 27.0, 0, \"S\", 7.925], [1, 1, \"female\", 32.0, 0, \"C\", 76.2917], [1, 3, \"male\", 16.0, 0, \"S\", 8.05], [1, 1, \"male\", 38.0, 1, \"S\", 90.0], [1, 2, \"male\", 19.0, 0, \"S\", 10.5], [1, 1, \"female\", 35.0, 1, \"S\", 83.475], [1, 3, \"female\", 5.0, 6, \"S\", 31.3875], [1, 2, \"female\", 8.0, 2, \"S\", 26.25], [1, 3, \"female\", 30.333333333333332, 1, \"Q\", 15.5], [1, 2, \"female\", 24.0, 2, \"S\", 14.5], [1, 1, \"male\", 37.0, 2, \"S\", 52.5542], [1, 3, \"female\", 29.0, 2, \"C\", 15.2458], [1, 1, \"female\", 29.5, 0, \"C\", 79.2], [1, 1, \"female\", 30.0, 0, \"S\", 86.5], [1, 1, \"female\", 35.0, 0, \"C\", 512.3292], [1, 2, \"female\", 50.0, 1, \"S\", 26.0], [1, 3, \"male\", 3.0, 6, \"S\", 31.3875], [1, 3, \"male\", 25.0, 1, \"S\", 7.775], [1, 1, \"female\", 58.0, 1, \"S\", 153.4625], [1, 1, \"female\", 35.0, 0, \"S\", 135.6333], [1, 3, \"male\", 25.0, 0, \"S\", 0.0], [1, 2, \"female\", 41.0, 1, \"S\", 19.5], [1, 3, \"female\", 50.0, 0, \"Q\", 7.75], [1, 1, \"female\", 63.0, 1, \"S\", 77.9583], [1, 3, \"female\", 35.0, 2, \"S\", 20.25], [1, 3, \"male\", 19.0, 0, \"S\", 8.05], [1, 3, \"male\", 30.0, 0, \"S\", 9.5], [1, 2, \"male\", 42.0, 0, \"S\", 13.0], [1, 3, \"female\", 22.0, 0, \"Q\", 7.75], [1, 1, \"female\", 26.0, 0, \"S\", 78.85], [1, 1, \"female\", 19.0, 1, \"C\", 91.0792], [1, 1, \"male\", 26.0, 0, \"S\", 30.5], [1, 1, \"female\", 50.0, 1, \"C\", 247.5208], [1, 3, \"female\", 39.666666666666664, 0, \"Q\", 7.75], [1, 3, \"male\", 29.333333333333332, 2, \"Q\", 23.25], [1, 2, \"female\", 12.973333333333333, 0, \"Q\", 12.35], [1, 1, \"male\", 0.92, 3, \"S\", 151.55], [1, 1, \"female\", 8.959999999999999, 0, \"C\", 110.8833], [1, 1, \"female\", 17.0, 1, \"C\", 108.9], [1, 1, \"female\", 30.0, 0, \"C\", 56.9292], [1, 1, \"female\", 24.0, 0, \"C\", 83.1583], [1, 1, \"female\", 18.0, 4, \"C\", 262.375], [1, 3, \"female\", 26.0, 0, \"S\", 7.8542], [1, 2, \"female\", 24.0, 1, \"S\", 26.0], [1, 1, \"female\", 31.0, 2, \"S\", 164.8667], [1, 1, \"female\", 40.0, 2, \"C\", 134.5], [1, 2, \"female\", 30.0, 0, \"Q\", 12.35], [1, 2, \"female\", 22.0, 2, \"S\", 29.0], [1, 1, \"female\", 36.0, 0, \"C\", 135.6333], [1, 2, \"female\", 36.0, 0, \"S\", 13.0], [1, 3, \"female\", 31.0, 2, \"S\", 20.525], [1, 1, \"female\", 16.0, 1, \"C\", 57.9792], [1, 3, \"female\", 30.75, 2, \"Q\", 23.25], [1, 1, \"female\", 20.333333333333332, 1, \"S\", 133.65], [1, 1, \"female\", 41.0, 0, \"C\", 134.5], [1, 3, \"male\", 45.0, 0, \"S\", 8.05], [1, 2, \"male\", 2.0, 2, \"S\", 26.0], [1, 1, \"female\", 24.0, 5, \"S\", 263.0], [1, 2, \"female\", 24.0, 0, \"S\", 13.0], [1, 2, \"female\", 40.0, 0, \"S\", 13.0], [1, 3, \"female\", 21.5, 1, \"S\", 16.1], [1, 3, \"male\", 3.0, 2, \"S\", 15.9], [1, 1, \"female\", 22.0, 1, \"S\", 55.0], [1, 3, \"female\", 38.666666666666664, 0, \"Q\", 7.8792], [1, 3, \"female\", 39.333333333333336, 0, \"Q\", 7.8792], [1, 1, \"female\", 60.0, 1, \"C\", 75.25], [1, 3, \"female\", 48.0, 0, \"C\", 7.2292], [1, 3, \"female\", 36.0, 0, \"Q\", 7.75], [1, 1, \"female\", 24.0, 0, \"C\", 69.3], [1, 1, \"male\", 25.0, 1, \"C\", 55.4417], [1, 1, \"female\", 12.5, 1, \"C\", 82.1708], [1, 3, \"female\", 22.0, 0, \"S\", 7.25], [1, 1, \"female\", 42.0, 0, \"C\", 227.525], [1, 3, \"female\", 1.0, 2, \"C\", 15.7417], [1, 1, \"female\", 35.0, 1, \"S\", 52.0], [1, 2, \"female\", 36.0, 0, \"S\", 13.0], [1, 2, \"female\", 17.0, 0, \"C\", 12.0], [1, 1, \"male\", 36.0, 3, \"S\", 120.0], [1, 3, \"male\", 21.0, 0, \"S\", 7.7958], [1, 1, \"female\", 23.0, 1, \"C\", 113.275], [1, 3, \"female\", 24.0, 2, \"S\", 16.7], [1, 2, \"female\", 28.0, 0, \"S\", 12.65], [1, 3, \"male\", 39.0, 0, \"S\", 7.925], [1, 2, \"male\", 3.0, 2, \"S\", 18.75], [1, 1, \"female\", 33.0, 1, \"Q\", 90.0], [1, 3, \"male\", 44.0, 0, \"S\", 7.925], [1, 2, \"female\", 34.0, 2, \"S\", 32.5], [1, 2, \"female\", 18.0, 2, \"S\", 13.0], [1, 2, \"female\", 28.0, 1, \"S\", 26.0], [1, 2, \"female\", 19.0, 0, \"S\", 26.0], [1, 3, \"male\", 32.0, 0, \"S\", 8.05], [1, 1, \"male\", 28.0, 0, \"S\", 26.55], [1, 3, \"female\", 35.0, 1, \"S\", 16.1], [1, 2, \"female\", 42.0, 1, \"S\", 26.0], [1, 1, \"female\", 14.0, 3, \"S\", 120.0], [1, 2, \"female\", 24.0, 5, \"S\", 18.75], [1, 2, \"female\", 45.0, 2, \"S\", 26.25], [1, 2, \"female\", 28.0, 0, \"S\", 13.0], [1, 3, \"male\", 16.0, 0, \"S\", 8.1125], [1, 1, \"male\", 4.0, 2, \"S\", 81.8583], [1, 2, \"female\", 13.0, 1, \"S\", 19.5], [1, 1, \"male\", 34.0, 0, \"S\", 26.55], [1, 3, \"female\", 5.0, 3, \"C\", 19.2583], [1, 1, \"male\", 52.0, 0, \"S\", 30.5], [1, 1, \"male\", 49.0, 1, \"C\", 89.1042], [1, 3, \"male\", 29.0, 0, \"C\", 7.8958], [1, 1, \"female\", 57.5, 1, \"S\", 51.8625], [1, 2, \"female\", 50.0, 0, \"S\", 10.5], [1, 1, \"male\", 48.0, 0, \"S\", 26.55], [1, 3, \"female\", 0.75, 3, \"C\", 19.2583], [1, 2, \"female\", 33.0, 3, \"S\", 27.75], [1, 2, \"female\", 23.0, 0, \"C\", 13.7917], [1, 3, \"female\", 2.0, 1, \"S\", 12.2875], [1, 3, \"female\", 63.0, 0, \"S\", 9.5875], [1, 1, \"male\", 25.0, 1, \"C\", 91.0792], [1, 1, \"female\", 35.0, 1, \"S\", 90.0], [1, 3, \"male\", 9.0, 2, \"S\", 15.9], [1, 1, \"female\", 54.0, 1, \"C\", 78.2667], [1, 1, \"female\", 16.0, 0, \"S\", 86.5], [1, 2, \"female\", 33.0, 2, \"S\", 26.0], [1, 1, \"male\", 30.5, 0, \"S\", 26.55], [1, 3, \"male\", 26.0, 0, \"S\", 56.4958], [1, 3, \"male\", 29.0, 0, \"Q\", 7.75], [1, 1, \"male\", 36.0, 0, \"S\", 26.2875], [1, 1, \"female\", 54.0, 1, \"C\", 59.4], [1, 2, \"female\", 34.0, 0, \"S\", 10.5], [1, 2, \"female\", 36.0, 1, \"S\", 26.0], [1, 1, \"female\", 30.0, 0, \"S\", 93.5], [1, 1, \"female\", 44.0, 1, \"C\", 57.9792], [1, 2, \"female\", 50.0, 0, \"S\", 10.5], [1, 2, \"female\", 2.0, 2, \"S\", 26.0], [1, 3, \"female\", 23.5, 2, \"C\", 22.3583], [1, 2, \"female\", 7.0, 2, \"S\", 26.25], [1, 1, \"female\", 30.0, 0, \"C\", 106.425], [1, 1, \"female\", 22.0, 2, \"C\", 49.5], [1, 1, \"female\", 36.0, 2, \"S\", 71.0], [1, 2, \"male\", 32.0, 1, \"S\", 26.0], [1, 2, \"female\", 19.0, 1, \"S\", 26.0], [1, 2, \"male\", 26.0, 0, \"C\", 13.8625], [1, 2, \"male\", 8.0, 2, \"S\", 36.75], [1, 1, \"male\", 17.0, 2, \"C\", 110.8833], [1, 3, \"male\", 22.0, 0, \"C\", 7.225], [1, 3, \"female\", 22.0, 0, \"S\", 7.775], [1, 1, \"female\", 48.0, 1, \"C\", 39.6], [1, 1, \"female\", 39.0, 2, \"S\", 79.65], [1, 3, \"female\", 36.0, 1, \"S\", 17.4], [1, 3, \"male\", 32.0, 0, \"S\", 7.8542], [1, 2, \"male\", 62.0, 0, \"S\", 10.5], [1, 1, \"female\", 53.0, 2, \"S\", 51.4792], [1, 1, \"male\", 36.0, 0, \"S\", 26.3875], [1, 3, \"female\", 26.0, 0, \"Q\", 7.75], [1, 2, \"female\", 34.0, 0, \"S\", 13.0], [1, 1, \"female\", 39.0, 1, \"S\", 55.9], [1, 3, \"male\", 32.0, 0, \"S\", 7.925], [1, 2, \"female\", 25.0, 2, \"S\", 30.0], [1, 1, \"female\", 39.0, 2, \"C\", 110.8833], [1, 1, \"female\", 18.0, 2, \"S\", 79.65], [1, 1, \"male\", 60.0, 2, \"C\", 79.2], [1, 1, \"female\", 52.0, 1, \"C\", 78.2667], [1, 2, \"female\", 42.5, 0, \"S\", 33.0], [1, 1, \"male\", 49.0, 1, \"C\", 56.9292], [1, 2, \"female\", 24.0, 3, \"S\", 27.0], [1, 1, \"male\", 35.0, 0, \"C\", 26.55], [1, 1, \"male\", 27.0, 0, \"S\", 30.5], [1, 2, \"female\", 22.0, 3, \"C\", 41.5792], [1, 1, \"female\", 40.0, 0, \"S\", 153.4625], [1, 3, \"female\", 37.0, 1, \"Q\", 15.5], [1, 2, \"female\", 24.0, 3, \"S\", 65.0], [1, 2, \"female\", 4.0, 3, \"S\", 39.0], [1, 1, \"male\", 42.0, 1, \"S\", 52.5542], [1, 3, \"male\", 20.0, 2, \"C\", 15.7417], [1, 1, \"female\", 21.0, 0, \"S\", 77.9583], [1, 1, \"male\", 80.0, 0, \"S\", 30.0], [1, 1, \"male\", 32.0, 0, \"C\", 30.5], [1, 2, \"female\", 28.0, 0, \"S\", 13.0], [1, 1, \"female\", 24.0, 0, \"C\", 69.3], [1, 3, \"male\", 1.375, 0, \"S\", 56.4958], [1, 3, \"female\", 0.75, 3, \"C\", 19.2583], [1, 1, \"male\", 48.0, 1, \"C\", 76.7292], [1, 1, \"male\", 56.0, 0, \"C\", 35.5], [1, 3, \"female\", 23.0, 0, \"S\", 7.55], [1, 2, \"female\", 18.0, 1, \"S\", 23.0], [1, 3, \"female\", 19.5, 0, \"Q\", 7.8292], [1, 1, \"male\", 50.0, 2, \"S\", 133.65], [1, 3, \"male\", 20.0, 1, \"S\", 7.925], [1, 1, \"female\", 41.5, 1, \"S\", 52.0], [1, 2, \"female\", 40.0, 2, \"S\", 39.0], [1, 2, \"male\", 31.0, 0, \"S\", 13.0], [1, 3, \"female\", 18.0, 0, \"S\", 9.8417], [1, 1, \"male\", 36.0, 1, \"C\", 512.3292], [1, 1, \"male\", 27.0, 0, \"C\", 76.7292], [1, 1, \"female\", 15.0, 1, \"S\", 211.3375], [1, 1, \"male\", 31.0, 1, \"S\", 57.0], [1, 3, \"female\", 4.0, 1, \"C\", 13.4167], [1, 3, \"male\", 14.5, 0, \"S\", 56.4958], [1, 3, \"female\", 46.5, 0, \"Q\", 7.7333], [1, 1, \"female\", 18.0, 1, \"C\", 227.525], [1, 1, \"male\", 35.0, 0, \"S\", 26.2875], [1, 2, \"female\", 45.0, 0, \"S\", 13.5], [1, 1, \"male\", 42.0, 0, \"S\", 26.2875], [1, 1, \"female\", 22.0, 0, \"S\", 151.55], [1, 3, \"male\", 23.0, 2, \"C\", 15.2458], [1, 1, \"female\", 24.0, 0, \"C\", 49.5042], [1, 1, \"male\", 48.0, 1, \"S\", 52.0], [1, 1, \"female\", 38.0, 0, \"C\", 227.525], [1, 2, \"female\", 27.0, 0, \"S\", 10.5], [1, 2, \"female\", 6.0, 1, \"S\", 33.0], [1, 1, \"male\", 27.0, 1, \"S\", 53.1], [1, 2, \"female\", 30.0, 3, \"S\", 21.0], [1, 3, \"female\", 27.5, 0, \"Q\", 7.7375], [1, 1, \"female\", 29.0, 0, \"S\", 211.3375], [1, 1, \"male\", 35.0, 0, \"C\", 512.3292], [1, 1, \"male\", 35.75, 0, \"S\", 30.0], [1, 1, \"female\", 21.0, 4, \"C\", 262.375], [1, 3, \"male\", 31.0, 0, \"S\", 7.925], [1, 2, \"female\", 30.0, 0, \"S\", 13.0], [1, 2, \"female\", 4.0, 2, \"S\", 23.0], [1, 3, \"male\", 6.0, 1, \"S\", 12.475], [1, 2, \"female\", 48.0, 3, \"S\", 65.0], [1, 2, \"male\", 0.67, 2, \"S\", 14.5], [1, 1, \"female\", 33.0, 0, \"S\", 86.5], [1, 3, \"male\", 20.0, 0, \"C\", 7.2292], [1, 1, \"female\", 36.0, 3, \"S\", 120.0], [1, 1, \"female\", 51.0, 1, \"S\", 77.9583], [1, 2, \"female\", 54.0, 4, \"S\", 23.0], [1, 3, \"female\", 5.0, 0, \"S\", 12.475], [1, 1, \"female\", 43.0, 1, \"S\", 211.3375], [1, 3, \"female\", 13.0, 0, \"C\", 7.2292], [1, 1, \"female\", 17.0, 1, \"S\", 57.0], [1, 3, \"female\", 18.0, 0, \"S\", 7.4958], [1, 3, \"male\", 1.0, 3, \"S\", 20.575], [1, 1, \"female\", 49.0, 0, \"S\", 25.9292], [1, 3, \"female\", 31.0, 0, \"S\", 8.6833], [1, 2, \"female\", 31.0, 2, \"S\", 26.25], [1, 1, \"male\", 11.0, 3, \"S\", 120.0], [1, 3, \"male\", 0.42, 1, \"C\", 8.5167], [1, 3, \"male\", 27.0, 0, \"S\", 6.975], [1, 1, \"female\", 33.0, 1, \"S\", 53.1], [1, 1, \"female\", 52.0, 2, \"S\", 93.5], [1, 3, \"male\", 27.0, 0, \"S\", 8.6625], [1, 3, \"female\", 27.0, 1, \"S\", 12.475], [1, 2, \"male\", 1.0, 2, \"C\", 37.0042], [1, 3, \"male\", 31.5, 0, \"Q\", 7.75], [1, 1, \"female\", 62.0, 0, null, 80.0], [1, 3, \"female\", 15.0, 1, \"C\", 14.4542], [1, 2, \"male\", 0.83, 2, \"S\", 18.75], [1, 1, \"female\", 39.0, 2, \"C\", 83.1583], [1, 3, \"male\", 32.0, 0, \"S\", 56.4958], [1, 1, \"male\", 26.0, 0, \"C\", 29.7], [1, 1, \"female\", 30.0, 0, \"C\", 31.0], [1, 1, \"female\", 16.0, 1, \"C\", 89.1042], [1, 1, \"female\", 16.0, 1, \"S\", 39.4], [1, 3, \"female\", 18.0, 1, \"S\", 9.35], [1, 1, \"female\", 45.0, 2, \"S\", 164.8667], [1, 1, \"male\", 51.0, 0, \"S\", 26.55], [1, 3, \"female\", 24.0, 3, \"C\", 19.2583], [1, 1, \"female\", 48.0, 0, \"S\", 25.9292], [1, 2, \"female\", 42.0, 0, \"S\", 13.0], [1, 2, \"female\", 27.0, 1, \"C\", 13.8583], [1, 3, \"male\", 4.0, 2, \"S\", 11.1333], [1, 1, \"female\", 47.0, 2, \"S\", 52.5542], [1, 2, \"female\", 28.0, 1, \"C\", 24.0], [1, 3, \"female\", 15.0, 0, \"C\", 7.225], [1, 1, \"female\", 56.0, 1, \"C\", 83.1583], [1, 2, \"female\", 25.0, 1, \"S\", 26.0], [1, 1, \"female\", 19.0, 0, \"S\", 30.0], [1, 1, \"male\", 26.0, 0, \"C\", 30.0]], \"hovertemplate\": \"Survived=%{customdata[0]}<br>Age=%{customdata[3]}<br>Pclass=%{customdata[1]}<br>Sex=%{customdata[2]}<br>Family=%{customdata[4]}<br>Embarked=%{customdata[5]}<br>Fare=%{customdata[6]}<extra></extra>\", \"legendgroup\": \"1\", \"marker\": {\"color\": \"#EF553B\"}, \"name\": \"1\", \"notched\": true, \"offsetgroup\": \"1\", \"showlegend\": false, \"type\": \"box\", \"x\": [38.0, 26.0, 35.0, 27.0, 14.0, 4.0, 58.0, 55.0, 16.5, 33.0, 34.0, 15.0, 28.0, 38.0, 26.0, 48.666666666666664, 57.33333333333333, 31.5, 14.0, 3.0, 19.0, 18.4, 49.0, 29.0, 43.0, 21.0, 5.0, 38.0, 20.666666666666668, 29.0, 17.0, 32.0, 0.83, 30.0, 29.0, 28.5, 17.0, 33.0, 23.0, 23.0, 34.0, 21.0, 29.5, 42.5, 32.5, 12.0, 24.0, 34.5, 29.0, 19.0, 22.0, 24.0, 27.0, 22.0, 16.0, 40.0, 9.0, 27.0, 1.0, 1.0, 4.0, 31.333333333333332, 45.0, 32.0, 19.0, 3.0, 44.0, 58.0, 33.0, 18.0, 26.0, 16.0, 40.0, 35.0, 31.0, 27.0, 32.0, 16.0, 38.0, 19.0, 35.0, 5.0, 8.0, 30.333333333333332, 24.0, 37.0, 29.0, 29.5, 30.0, 35.0, 50.0, 3.0, 25.0, 58.0, 35.0, 25.0, 41.0, 50.0, 63.0, 35.0, 19.0, 30.0, 42.0, 22.0, 26.0, 19.0, 26.0, 50.0, 39.666666666666664, 29.333333333333332, 12.973333333333333, 0.92, 8.959999999999999, 17.0, 30.0, 24.0, 18.0, 26.0, 24.0, 31.0, 40.0, 30.0, 22.0, 36.0, 36.0, 31.0, 16.0, 30.75, 20.333333333333332, 41.0, 45.0, 2.0, 24.0, 24.0, 40.0, 21.5, 3.0, 22.0, 38.666666666666664, 39.333333333333336, 60.0, 48.0, 36.0, 24.0, 25.0, 12.5, 22.0, 42.0, 1.0, 35.0, 36.0, 17.0, 36.0, 21.0, 23.0, 24.0, 28.0, 39.0, 3.0, 33.0, 44.0, 34.0, 18.0, 28.0, 19.0, 32.0, 28.0, 35.0, 42.0, 14.0, 24.0, 45.0, 28.0, 16.0, 4.0, 13.0, 34.0, 5.0, 52.0, 49.0, 29.0, 57.5, 50.0, 48.0, 0.75, 33.0, 23.0, 2.0, 63.0, 25.0, 35.0, 9.0, 54.0, 16.0, 33.0, 30.5, 26.0, 29.0, 36.0, 54.0, 34.0, 36.0, 30.0, 44.0, 50.0, 2.0, 23.5, 7.0, 30.0, 22.0, 36.0, 32.0, 19.0, 26.0, 8.0, 17.0, 22.0, 22.0, 48.0, 39.0, 36.0, 32.0, 62.0, 53.0, 36.0, 26.0, 34.0, 39.0, 32.0, 25.0, 39.0, 18.0, 60.0, 52.0, 42.5, 49.0, 24.0, 35.0, 27.0, 22.0, 40.0, 37.0, 24.0, 4.0, 42.0, 20.0, 21.0, 80.0, 32.0, 28.0, 24.0, 1.375, 0.75, 48.0, 56.0, 23.0, 18.0, 19.5, 50.0, 20.0, 41.5, 40.0, 31.0, 18.0, 36.0, 27.0, 15.0, 31.0, 4.0, 14.5, 46.5, 18.0, 35.0, 45.0, 42.0, 22.0, 23.0, 24.0, 48.0, 38.0, 27.0, 6.0, 27.0, 30.0, 27.5, 29.0, 35.0, 35.75, 21.0, 31.0, 30.0, 4.0, 6.0, 48.0, 0.67, 33.0, 20.0, 36.0, 51.0, 54.0, 5.0, 43.0, 13.0, 17.0, 18.0, 1.0, 49.0, 31.0, 31.0, 11.0, 0.42, 27.0, 33.0, 52.0, 27.0, 27.0, 1.0, 31.5, 62.0, 15.0, 0.83, 39.0, 32.0, 26.0, 30.0, 16.0, 16.0, 18.0, 45.0, 51.0, 24.0, 48.0, 42.0, 27.0, 4.0, 47.0, 28.0, 15.0, 56.0, 25.0, 19.0, 26.0], \"xaxis\": \"x2\", \"yaxis\": \"y2\"}],\n",
       "                        {\"barmode\": \"relative\", \"height\": 400, \"legend\": {\"title\": {\"text\": \"Survived\"}, \"tracegroupgap\": 0}, \"template\": {\"data\": {\"bar\": [{\"error_x\": {\"color\": \"#2a3f5f\"}, \"error_y\": {\"color\": \"#2a3f5f\"}, \"marker\": {\"line\": {\"color\": \"#E5ECF6\", \"width\": 0.5}}, \"type\": \"bar\"}], \"barpolar\": [{\"marker\": {\"line\": {\"color\": \"#E5ECF6\", \"width\": 0.5}}, \"type\": \"barpolar\"}], \"carpet\": [{\"aaxis\": {\"endlinecolor\": \"#2a3f5f\", \"gridcolor\": \"white\", \"linecolor\": \"white\", \"minorgridcolor\": \"white\", \"startlinecolor\": \"#2a3f5f\"}, \"baxis\": {\"endlinecolor\": \"#2a3f5f\", \"gridcolor\": \"white\", \"linecolor\": \"white\", \"minorgridcolor\": \"white\", \"startlinecolor\": \"#2a3f5f\"}, \"type\": \"carpet\"}], \"choropleth\": [{\"colorbar\": {\"outlinewidth\": 0, \"ticks\": \"\"}, \"type\": \"choropleth\"}], \"contour\": [{\"colorbar\": {\"outlinewidth\": 0, \"ticks\": \"\"}, \"colorscale\": [[0.0, \"#0d0887\"], [0.1111111111111111, \"#46039f\"], [0.2222222222222222, \"#7201a8\"], [0.3333333333333333, \"#9c179e\"], [0.4444444444444444, \"#bd3786\"], [0.5555555555555556, \"#d8576b\"], [0.6666666666666666, \"#ed7953\"], [0.7777777777777778, \"#fb9f3a\"], [0.8888888888888888, \"#fdca26\"], [1.0, \"#f0f921\"]], \"type\": \"contour\"}], \"contourcarpet\": [{\"colorbar\": {\"outlinewidth\": 0, \"ticks\": \"\"}, \"type\": \"contourcarpet\"}], \"heatmap\": [{\"colorbar\": {\"outlinewidth\": 0, \"ticks\": \"\"}, \"colorscale\": [[0.0, \"#0d0887\"], [0.1111111111111111, \"#46039f\"], [0.2222222222222222, \"#7201a8\"], [0.3333333333333333, \"#9c179e\"], [0.4444444444444444, \"#bd3786\"], [0.5555555555555556, \"#d8576b\"], [0.6666666666666666, \"#ed7953\"], [0.7777777777777778, \"#fb9f3a\"], [0.8888888888888888, \"#fdca26\"], [1.0, \"#f0f921\"]], \"type\": \"heatmap\"}], \"heatmapgl\": [{\"colorbar\": {\"outlinewidth\": 0, \"ticks\": \"\"}, \"colorscale\": [[0.0, \"#0d0887\"], [0.1111111111111111, \"#46039f\"], [0.2222222222222222, \"#7201a8\"], [0.3333333333333333, \"#9c179e\"], [0.4444444444444444, \"#bd3786\"], [0.5555555555555556, \"#d8576b\"], [0.6666666666666666, \"#ed7953\"], [0.7777777777777778, \"#fb9f3a\"], [0.8888888888888888, \"#fdca26\"], [1.0, \"#f0f921\"]], \"type\": \"heatmapgl\"}], \"histogram\": [{\"marker\": {\"colorbar\": {\"outlinewidth\": 0, \"ticks\": \"\"}}, \"type\": \"histogram\"}], \"histogram2d\": [{\"colorbar\": {\"outlinewidth\": 0, \"ticks\": \"\"}, \"colorscale\": [[0.0, \"#0d0887\"], [0.1111111111111111, \"#46039f\"], [0.2222222222222222, \"#7201a8\"], [0.3333333333333333, \"#9c179e\"], [0.4444444444444444, \"#bd3786\"], [0.5555555555555556, \"#d8576b\"], [0.6666666666666666, \"#ed7953\"], [0.7777777777777778, \"#fb9f3a\"], [0.8888888888888888, \"#fdca26\"], [1.0, \"#f0f921\"]], \"type\": \"histogram2d\"}], \"histogram2dcontour\": [{\"colorbar\": {\"outlinewidth\": 0, \"ticks\": \"\"}, \"colorscale\": [[0.0, \"#0d0887\"], [0.1111111111111111, \"#46039f\"], [0.2222222222222222, \"#7201a8\"], [0.3333333333333333, \"#9c179e\"], [0.4444444444444444, \"#bd3786\"], [0.5555555555555556, \"#d8576b\"], [0.6666666666666666, \"#ed7953\"], [0.7777777777777778, \"#fb9f3a\"], [0.8888888888888888, \"#fdca26\"], [1.0, \"#f0f921\"]], \"type\": \"histogram2dcontour\"}], \"mesh3d\": [{\"colorbar\": {\"outlinewidth\": 0, \"ticks\": \"\"}, \"type\": \"mesh3d\"}], \"parcoords\": [{\"line\": {\"colorbar\": {\"outlinewidth\": 0, \"ticks\": \"\"}}, \"type\": \"parcoords\"}], \"pie\": [{\"automargin\": true, \"type\": \"pie\"}], \"scatter\": [{\"marker\": {\"colorbar\": {\"outlinewidth\": 0, \"ticks\": \"\"}}, \"type\": \"scatter\"}], \"scatter3d\": [{\"line\": {\"colorbar\": {\"outlinewidth\": 0, \"ticks\": \"\"}}, \"marker\": {\"colorbar\": {\"outlinewidth\": 0, \"ticks\": \"\"}}, \"type\": \"scatter3d\"}], \"scattercarpet\": [{\"marker\": {\"colorbar\": {\"outlinewidth\": 0, \"ticks\": \"\"}}, \"type\": \"scattercarpet\"}], \"scattergeo\": [{\"marker\": {\"colorbar\": {\"outlinewidth\": 0, \"ticks\": \"\"}}, \"type\": \"scattergeo\"}], \"scattergl\": [{\"marker\": {\"colorbar\": {\"outlinewidth\": 0, \"ticks\": \"\"}}, \"type\": \"scattergl\"}], \"scattermapbox\": [{\"marker\": {\"colorbar\": {\"outlinewidth\": 0, \"ticks\": \"\"}}, \"type\": \"scattermapbox\"}], \"scatterpolar\": [{\"marker\": {\"colorbar\": {\"outlinewidth\": 0, \"ticks\": \"\"}}, \"type\": \"scatterpolar\"}], \"scatterpolargl\": [{\"marker\": {\"colorbar\": {\"outlinewidth\": 0, \"ticks\": \"\"}}, \"type\": \"scatterpolargl\"}], \"scatterternary\": [{\"marker\": {\"colorbar\": {\"outlinewidth\": 0, \"ticks\": \"\"}}, \"type\": \"scatterternary\"}], \"surface\": [{\"colorbar\": {\"outlinewidth\": 0, \"ticks\": \"\"}, \"colorscale\": [[0.0, \"#0d0887\"], [0.1111111111111111, \"#46039f\"], [0.2222222222222222, \"#7201a8\"], [0.3333333333333333, \"#9c179e\"], [0.4444444444444444, \"#bd3786\"], [0.5555555555555556, \"#d8576b\"], [0.6666666666666666, \"#ed7953\"], [0.7777777777777778, \"#fb9f3a\"], [0.8888888888888888, \"#fdca26\"], [1.0, \"#f0f921\"]], \"type\": \"surface\"}], \"table\": [{\"cells\": {\"fill\": {\"color\": \"#EBF0F8\"}, \"line\": {\"color\": \"white\"}}, \"header\": {\"fill\": {\"color\": \"#C8D4E3\"}, \"line\": {\"color\": \"white\"}}, \"type\": \"table\"}]}, \"layout\": {\"annotationdefaults\": {\"arrowcolor\": \"#2a3f5f\", \"arrowhead\": 0, \"arrowwidth\": 1}, \"coloraxis\": {\"colorbar\": {\"outlinewidth\": 0, \"ticks\": \"\"}}, \"colorscale\": {\"diverging\": [[0, \"#8e0152\"], [0.1, \"#c51b7d\"], [0.2, \"#de77ae\"], [0.3, \"#f1b6da\"], [0.4, \"#fde0ef\"], [0.5, \"#f7f7f7\"], [0.6, \"#e6f5d0\"], [0.7, \"#b8e186\"], [0.8, \"#7fbc41\"], [0.9, \"#4d9221\"], [1, \"#276419\"]], \"sequential\": [[0.0, \"#0d0887\"], [0.1111111111111111, \"#46039f\"], [0.2222222222222222, \"#7201a8\"], [0.3333333333333333, \"#9c179e\"], [0.4444444444444444, \"#bd3786\"], [0.5555555555555556, \"#d8576b\"], [0.6666666666666666, \"#ed7953\"], [0.7777777777777778, \"#fb9f3a\"], [0.8888888888888888, \"#fdca26\"], [1.0, \"#f0f921\"]], \"sequentialminus\": [[0.0, \"#0d0887\"], [0.1111111111111111, \"#46039f\"], [0.2222222222222222, \"#7201a8\"], [0.3333333333333333, \"#9c179e\"], [0.4444444444444444, \"#bd3786\"], [0.5555555555555556, \"#d8576b\"], [0.6666666666666666, \"#ed7953\"], [0.7777777777777778, \"#fb9f3a\"], [0.8888888888888888, \"#fdca26\"], [1.0, \"#f0f921\"]]}, \"colorway\": [\"#636efa\", \"#EF553B\", \"#00cc96\", \"#ab63fa\", \"#FFA15A\", \"#19d3f3\", \"#FF6692\", \"#B6E880\", \"#FF97FF\", \"#FECB52\"], \"font\": {\"color\": \"#2a3f5f\"}, \"geo\": {\"bgcolor\": \"white\", \"lakecolor\": \"white\", \"landcolor\": \"#E5ECF6\", \"showlakes\": true, \"showland\": true, \"subunitcolor\": \"white\"}, \"hoverlabel\": {\"align\": \"left\"}, \"hovermode\": \"closest\", \"mapbox\": {\"style\": \"light\"}, \"paper_bgcolor\": \"white\", \"plot_bgcolor\": \"#E5ECF6\", \"polar\": {\"angularaxis\": {\"gridcolor\": \"white\", \"linecolor\": \"white\", \"ticks\": \"\"}, \"bgcolor\": \"#E5ECF6\", \"radialaxis\": {\"gridcolor\": \"white\", \"linecolor\": \"white\", \"ticks\": \"\"}}, \"scene\": {\"xaxis\": {\"backgroundcolor\": \"#E5ECF6\", \"gridcolor\": \"white\", \"gridwidth\": 2, \"linecolor\": \"white\", \"showbackground\": true, \"ticks\": \"\", \"zerolinecolor\": \"white\"}, \"yaxis\": {\"backgroundcolor\": \"#E5ECF6\", \"gridcolor\": \"white\", \"gridwidth\": 2, \"linecolor\": \"white\", \"showbackground\": true, \"ticks\": \"\", \"zerolinecolor\": \"white\"}, \"zaxis\": {\"backgroundcolor\": \"#E5ECF6\", \"gridcolor\": \"white\", \"gridwidth\": 2, \"linecolor\": \"white\", \"showbackground\": true, \"ticks\": \"\", \"zerolinecolor\": \"white\"}}, \"shapedefaults\": {\"line\": {\"color\": \"#2a3f5f\"}}, \"ternary\": {\"aaxis\": {\"gridcolor\": \"white\", \"linecolor\": \"white\", \"ticks\": \"\"}, \"baxis\": {\"gridcolor\": \"white\", \"linecolor\": \"white\", \"ticks\": \"\"}, \"bgcolor\": \"#E5ECF6\", \"caxis\": {\"gridcolor\": \"white\", \"linecolor\": \"white\", \"ticks\": \"\"}}, \"title\": {\"x\": 0.05}, \"xaxis\": {\"automargin\": true, \"gridcolor\": \"white\", \"linecolor\": \"white\", \"ticks\": \"\", \"title\": {\"standoff\": 15}, \"zerolinecolor\": \"white\", \"zerolinewidth\": 2}, \"yaxis\": {\"automargin\": true, \"gridcolor\": \"white\", \"linecolor\": \"white\", \"ticks\": \"\", \"title\": {\"standoff\": 15}, \"zerolinecolor\": \"white\", \"zerolinewidth\": 2}}}, \"title\": {\"text\": \"Ages of Survived and Dead Groups\"}, \"width\": 700, \"xaxis\": {\"anchor\": \"y\", \"domain\": [0.0, 1.0], \"title\": {\"text\": \"Age\"}}, \"xaxis2\": {\"anchor\": \"y2\", \"domain\": [0.0, 1.0], \"matches\": \"x\", \"showgrid\": true, \"showticklabels\": false}, \"yaxis\": {\"anchor\": \"x\", \"categoryarray\": [1, 0], \"categoryorder\": \"array\", \"domain\": [0.0, 0.7326], \"title\": {\"text\": \"sum of Survived\"}}, \"yaxis2\": {\"anchor\": \"x2\", \"categoryarray\": [1, 0], \"categoryorder\": \"array\", \"domain\": [0.7426, 1.0], \"matches\": \"y2\", \"showgrid\": false, \"showline\": false, \"showticklabels\": false, \"ticks\": \"\"}},\n",
       "                        {\"responsive\": true}\n",
       "                    ).then(function(){\n",
       "                            \n",
       "var gd = document.getElementById('3ec71f51-6e60-4a2c-ab8e-252545ddee91');\n",
       "var x = new MutationObserver(function (mutations, observer) {{\n",
       "        var display = window.getComputedStyle(gd).display;\n",
       "        if (!display || display === 'none') {{\n",
       "            console.log([gd, 'removed!']);\n",
       "            Plotly.purge(gd);\n",
       "            observer.disconnect();\n",
       "        }}\n",
       "}});\n",
       "\n",
       "// Listen for the removal of the full notebook cells\n",
       "var notebookContainer = gd.closest('#notebook-container');\n",
       "if (notebookContainer) {{\n",
       "    x.observe(notebookContainer, {childList: true});\n",
       "}}\n",
       "\n",
       "// Listen for the clearing of the current output cell\n",
       "var outputEl = gd.closest('.output');\n",
       "if (outputEl) {{\n",
       "    x.observe(outputEl, {childList: true});\n",
       "}}\n",
       "\n",
       "                        })\n",
       "                };\n",
       "                });\n",
       "            </script>\n",
       "        </div>"
      ]
     },
     "metadata": {},
     "output_type": "display_data"
    }
   ],
   "source": [
    "fig = px.histogram(train, x='Age', y='Survived', color='Survived', marginal='box', opacity=0.75, \n",
    "                   hover_data=train.columns, title='Ages of Survived and Dead Groups')\n",
    "fig.update_layout(width=700, height=400)\n",
    "fig.show()"
   ]
  },
  {
   "cell_type": "markdown",
   "execution_count": null,
   "metadata": {},
   "source": [
    "There also don't seem to be any key discrepancies between the number of family members on board for survivors and non-survivors, which is mildly surprising."
   ]
  },
  {
   "cell_type": "code",
   "execution_count": 7,
   "metadata": {},
   "outputs": [
    {
     "data": {
      "text/html": [
       "<div>\n",
       "        \n",
       "        \n",
       "            <div id=\"8f83af2e-0305-4044-83bd-c83b6501f167\" class=\"plotly-graph-div\" style=\"height:400px; width:700px;\"></div>\n",
       "            <script type=\"text/javascript\">\n",
       "                require([\"plotly\"], function(Plotly) {\n",
       "                    window.PLOTLYENV=window.PLOTLYENV || {};\n",
       "                    \n",
       "                if (document.getElementById(\"8f83af2e-0305-4044-83bd-c83b6501f167\")) {\n",
       "                    Plotly.newPlot(\n",
       "                        '8f83af2e-0305-4044-83bd-c83b6501f167',\n",
       "                        [{\"alignmentgroup\": \"True\", \"bingroup\": \"y\", \"histfunc\": \"sum\", \"hovertemplate\": \"Survived=0<br>sum of Survived=%{x}<br>Family=%{y}<extra></extra>\", \"legendgroup\": \"0\", \"marker\": {\"color\": \"#636efa\", \"opacity\": 0.75}, \"name\": \"0\", \"offsetgroup\": \"0\", \"orientation\": \"h\", \"showlegend\": true, \"type\": \"histogram\", \"x\": [0, 0, 0, 0, 0, 0, 0, 0, 0, 0, 0, 0, 0, 0, 0, 0, 0, 0, 0, 0, 0, 0, 0, 0, 0, 0, 0, 0, 0, 0, 0, 0, 0, 0, 0, 0, 0, 0, 0, 0, 0, 0, 0, 0, 0, 0, 0, 0, 0, 0, 0, 0, 0, 0, 0, 0, 0, 0, 0, 0, 0, 0, 0, 0, 0, 0, 0, 0, 0, 0, 0, 0, 0, 0, 0, 0, 0, 0, 0, 0, 0, 0, 0, 0, 0, 0, 0, 0, 0, 0, 0, 0, 0, 0, 0, 0, 0, 0, 0, 0, 0, 0, 0, 0, 0, 0, 0, 0, 0, 0, 0, 0, 0, 0, 0, 0, 0, 0, 0, 0, 0, 0, 0, 0, 0, 0, 0, 0, 0, 0, 0, 0, 0, 0, 0, 0, 0, 0, 0, 0, 0, 0, 0, 0, 0, 0, 0, 0, 0, 0, 0, 0, 0, 0, 0, 0, 0, 0, 0, 0, 0, 0, 0, 0, 0, 0, 0, 0, 0, 0, 0, 0, 0, 0, 0, 0, 0, 0, 0, 0, 0, 0, 0, 0, 0, 0, 0, 0, 0, 0, 0, 0, 0, 0, 0, 0, 0, 0, 0, 0, 0, 0, 0, 0, 0, 0, 0, 0, 0, 0, 0, 0, 0, 0, 0, 0, 0, 0, 0, 0, 0, 0, 0, 0, 0, 0, 0, 0, 0, 0, 0, 0, 0, 0, 0, 0, 0, 0, 0, 0, 0, 0, 0, 0, 0, 0, 0, 0, 0, 0, 0, 0, 0, 0, 0, 0, 0, 0, 0, 0, 0, 0, 0, 0, 0, 0, 0, 0, 0, 0, 0, 0, 0, 0, 0, 0, 0, 0, 0, 0, 0, 0, 0, 0, 0, 0, 0, 0, 0, 0, 0, 0, 0, 0, 0, 0, 0, 0, 0, 0, 0, 0, 0, 0, 0, 0, 0, 0, 0, 0, 0, 0, 0, 0, 0, 0, 0, 0, 0, 0, 0, 0, 0, 0, 0, 0, 0, 0, 0, 0, 0, 0, 0, 0, 0, 0, 0, 0, 0, 0, 0, 0, 0, 0, 0, 0, 0, 0, 0, 0, 0, 0, 0, 0, 0, 0, 0, 0, 0, 0, 0, 0, 0, 0, 0, 0, 0, 0, 0, 0, 0, 0, 0, 0, 0, 0, 0, 0, 0, 0, 0, 0, 0, 0, 0, 0, 0, 0, 0, 0, 0, 0, 0, 0, 0, 0, 0, 0, 0, 0, 0, 0, 0, 0, 0, 0, 0, 0, 0, 0, 0, 0, 0, 0, 0, 0, 0, 0, 0, 0, 0, 0, 0, 0, 0, 0, 0, 0, 0, 0, 0, 0, 0, 0, 0, 0, 0, 0, 0, 0, 0, 0, 0, 0, 0, 0, 0, 0, 0, 0, 0, 0, 0, 0, 0, 0, 0, 0, 0, 0, 0, 0, 0, 0, 0, 0, 0, 0, 0, 0, 0, 0, 0, 0, 0, 0, 0, 0, 0, 0, 0, 0, 0, 0, 0, 0, 0, 0, 0, 0, 0, 0, 0, 0, 0, 0, 0, 0, 0, 0, 0, 0, 0, 0, 0, 0, 0, 0, 0, 0, 0, 0, 0, 0, 0, 0, 0, 0, 0, 0, 0, 0, 0, 0, 0, 0, 0, 0, 0, 0, 0, 0, 0, 0, 0, 0, 0, 0, 0, 0, 0, 0, 0, 0, 0, 0, 0, 0, 0], \"xaxis\": \"x\", \"y\": [1, 0, 0, 0, 4, 0, 6, 0, 5, 1, 0, 4, 0, 5, 0, 0, 0, 1, 1, 0, 2, 1, 1, 0, 0, 1, 2, 1, 5, 0, 1, 0, 7, 0, 1, 5, 0, 0, 2, 0, 7, 0, 1, 0, 0, 0, 0, 0, 4, 0, 0, 0, 0, 1, 3, 0, 0, 0, 1, 0, 0, 1, 0, 2, 0, 0, 0, 1, 0, 1, 0, 0, 0, 1, 1, 6, 2, 0, 1, 1, 0, 0, 0, 0, 1, 0, 0, 1, 0, 0, 2, 0, 0, 2, 4, 2, 0, 0, 0, 2, 0, 1, 0, 0, 10, 1, 0, 0, 5, 5, 0, 0, 0, 5, 0, 0, 2, 4, 0, 0, 0, 10, 0, 6, 0, 2, 0, 0, 0, 1, 0, 0, 10, 0, 0, 1, 1, 0, 0, 0, 1, 1, 0, 0, 0, 0, 0, 0, 0, 4, 0, 0, 0, 0, 1, 0, 0, 1, 0, 0, 0, 2, 0, 1, 0, 2, 0, 1, 2, 0, 2, 0, 0, 0, 5, 0, 1, 0, 0, 5, 0, 0, 0, 0, 0, 0, 0, 0, 0, 0, 0, 3, 0, 0, 1, 2, 0, 2, 0, 0, 0, 10, 0, 0, 1, 2, 0, 1, 0, 0, 0, 0, 0, 0, 0, 2, 1, 0, 0, 0, 5, 1, 1, 0, 1, 0, 1, 0, 0, 4, 2, 0, 0, 0, 0, 0, 7, 0, 2, 0, 0, 0, 0, 0, 1, 1, 0, 1, 0, 0, 4, 0, 0, 0, 0, 0, 2, 0, 0, 0, 2, 2, 0, 0, 0, 1, 4, 5, 0, 0, 1, 3, 1, 0, 0, 0, 0, 0, 0, 0, 0, 0, 0, 0, 0, 0, 0, 0, 0, 1, 1, 0, 7, 0, 0, 4, 0, 0, 1, 0, 0, 0, 0, 0, 0, 3, 0, 0, 0, 0, 0, 1, 0, 0, 0, 0, 0, 0, 0, 0, 0, 0, 0, 0, 3, 0, 2, 0, 0, 0, 6, 6, 1, 0, 2, 0, 0, 0, 0, 0, 0, 0, 0, 0, 2, 0, 4, 0, 0, 0, 1, 0, 0, 0, 0, 0, 0, 0, 0, 2, 1, 2, 0, 0, 0, 0, 0, 1, 0, 6, 0, 0, 0, 2, 1, 0, 1, 0, 0, 0, 0, 0, 0, 0, 0, 5, 0, 2, 5, 1, 0, 5, 0, 0, 0, 0, 0, 2, 0, 2, 0, 2, 0, 0, 0, 2, 0, 0, 0, 1, 0, 0, 0, 0, 7, 0, 0, 7, 2, 3, 5, 0, 0, 0, 0, 0, 0, 2, 0, 1, 0, 1, 0, 0, 0, 0, 0, 0, 0, 1, 0, 0, 0, 1, 1, 0, 0, 0, 0, 0, 4, 0, 0, 1, 1, 2, 2, 1, 0, 0, 0, 0, 0, 0, 0, 0, 0, 0, 0, 1, 0, 0, 0, 0, 0, 0, 0, 0, 0, 3, 0, 0, 5, 0, 0, 0, 10, 0, 0, 0, 0, 2, 0, 0, 0, 0, 0, 0, 0, 0, 6, 0, 0, 0, 2, 0, 5, 0, 5, 0, 0, 0, 0, 0, 0, 0, 0, 0, 0, 0, 0, 10, 0, 1, 6, 0, 2, 1, 0, 2, 1, 10, 0, 0, 0, 0, 0, 0, 0, 0, 0, 0, 0, 0, 0, 5, 0, 3, 0], \"yaxis\": \"y\"}, {\"alignmentgroup\": \"True\", \"customdata\": [[0, 3, \"male\", 22.0, 1, \"S\", 7.25], [0, 3, \"male\", 35.0, 0, \"S\", 8.05], [0, 3, \"male\", 44.5, 0, \"Q\", 8.4583], [0, 1, \"male\", 54.0, 0, \"S\", 51.8625], [0, 3, \"male\", 2.0, 4, \"S\", 21.075], [0, 3, \"male\", 20.0, 0, \"S\", 8.05], [0, 3, \"male\", 39.0, 6, \"S\", 31.275], [0, 3, \"female\", 14.0, 0, \"S\", 7.8542], [0, 3, \"male\", 2.0, 5, \"Q\", 29.125], [0, 3, \"female\", 31.0, 1, \"S\", 18.0], [0, 2, \"male\", 35.0, 0, \"S\", 26.0], [0, 3, \"female\", 8.0, 4, \"S\", 21.075], [0, 3, \"male\", 28.5, 0, \"C\", 7.225], [0, 1, \"male\", 19.0, 5, \"S\", 263.0], [0, 3, \"male\", 33.0, 0, \"S\", 7.8958], [0, 1, \"male\", 40.0, 0, \"C\", 27.7208], [0, 2, \"male\", 66.0, 0, \"S\", 10.5], [0, 1, \"male\", 28.0, 1, \"C\", 82.1708], [0, 1, \"male\", 42.0, 1, \"S\", 52.0], [0, 3, \"male\", 21.0, 0, \"S\", 8.05], [0, 3, \"female\", 18.0, 2, \"S\", 18.0], [0, 3, \"female\", 40.0, 1, \"S\", 9.475], [0, 2, \"female\", 27.0, 1, \"S\", 21.0], [0, 3, \"male\", 15.0, 0, \"C\", 7.8958], [0, 3, \"male\", 18.8, 0, \"S\", 8.05], [0, 3, \"male\", 18.6, 1, \"Q\", 15.5], [0, 3, \"male\", 18.2, 2, \"C\", 21.6792], [0, 3, \"female\", 18.0, 1, \"S\", 17.8], [0, 3, \"male\", 7.0, 5, \"S\", 39.6875], [0, 3, \"male\", 21.0, 0, \"S\", 7.8], [0, 1, \"male\", 65.0, 1, \"C\", 61.9792], [0, 3, \"male\", 28.5, 0, \"C\", 7.2292], [0, 3, \"male\", 11.0, 7, \"S\", 46.9], [0, 3, \"male\", 22.0, 0, \"C\", 7.2292], [0, 1, \"male\", 45.0, 1, \"S\", 83.475], [0, 3, \"male\", 4.0, 5, \"S\", 27.9], [0, 1, \"male\", 12.333333333333334, 0, \"C\", 27.7208], [0, 3, \"male\", 19.0, 0, \"S\", 8.1583], [0, 3, \"male\", 26.0, 2, \"S\", 8.6625], [0, 2, \"male\", 32.0, 0, \"S\", 10.5], [0, 3, \"female\", 16.0, 7, \"S\", 46.9], [0, 2, \"male\", 21.0, 0, \"S\", 73.5], [0, 3, \"male\", 26.0, 1, \"C\", 14.4542], [0, 3, \"male\", 25.0, 0, \"S\", 7.65], [0, 3, \"male\", 16.943333333333335, 0, \"S\", 7.8958], [0, 3, \"male\", 8.886666666666667, 0, \"S\", 8.05], [0, 3, \"male\", 22.0, 0, \"S\", 9.0], [0, 1, \"male\", 28.0, 0, \"S\", 47.1], [0, 3, \"male\", 16.0, 4, \"S\", 34.375], [0, 3, \"male\", 19.5, 0, \"S\", 8.05], [0, 3, \"male\", 24.0, 0, \"S\", 8.05], [0, 3, \"male\", 29.0, 0, \"S\", 8.05], [0, 3, \"male\", 20.0, 0, \"S\", 7.8542], [0, 1, \"male\", 46.0, 1, \"S\", 61.175], [0, 3, \"male\", 26.0, 3, \"S\", 20.575], [0, 3, \"male\", 59.0, 0, \"S\", 7.25], [0, 3, \"male\", 65.0, 0, \"S\", 8.05], [0, 1, \"male\", 71.0, 0, \"C\", 34.6542], [0, 2, \"male\", 34.0, 1, \"S\", 26.0], [0, 3, \"female\", 28.0, 0, \"S\", 7.8958], [0, 3, \"male\", 24.5, 0, \"S\", 7.8958], [0, 1, \"male\", 21.0, 1, \"S\", 77.2875], [0, 3, \"male\", 33.0, 0, \"S\", 8.6542], [0, 3, \"male\", 37.0, 2, \"S\", 7.925], [0, 3, \"male\", 28.0, 0, \"S\", 7.8958], [0, 3, \"male\", 38.0, 0, \"S\", 7.8958], [0, 1, \"male\", 47.0, 0, \"S\", 52.0], [0, 3, \"female\", 14.5, 1, \"C\", 14.4542], [0, 3, \"male\", 22.0, 0, \"S\", 8.05], [0, 3, \"female\", 20.0, 1, \"S\", 9.825], [0, 3, \"female\", 17.0, 0, \"C\", 14.4583], [0, 3, \"male\", 21.0, 0, \"S\", 7.925], [0, 3, \"male\", 70.5, 0, \"Q\", 7.75], [0, 2, \"male\", 29.0, 1, \"S\", 21.0], [0, 1, \"male\", 24.0, 1, \"C\", 247.5208], [0, 3, \"female\", 2.0, 6, \"S\", 31.275], [0, 2, \"male\", 21.0, 2, \"S\", 73.5], [0, 3, \"male\", 26.75, 0, \"S\", 8.05], [0, 2, \"male\", 32.5, 1, \"C\", 30.0708], [0, 1, \"male\", 54.0, 1, \"S\", 77.2875], [0, 3, \"male\", 18.0, 0, \"Q\", 7.75], [0, 3, \"male\", 45.0, 0, \"S\", 6.975], [0, 3, \"male\", 33.0, 0, \"C\", 7.8958], [0, 3, \"male\", 20.0, 0, \"S\", 7.05], [0, 3, \"female\", 47.0, 1, \"S\", 14.5], [0, 2, \"male\", 25.0, 0, \"S\", 13.0], [0, 2, \"male\", 23.0, 0, \"C\", 15.0458], [0, 1, \"male\", 37.0, 1, \"S\", 53.1], [0, 3, \"male\", 16.0, 0, \"S\", 9.2167], [0, 1, \"male\", 24.0, 0, \"C\", 79.2], [0, 3, \"female\", 23.0, 2, \"C\", 15.2458], [0, 3, \"male\", 19.0, 0, \"Q\", 6.75], [0, 2, \"male\", 18.0, 0, \"S\", 11.5], [0, 2, \"male\", 19.0, 2, \"S\", 36.75], [0, 3, \"female\", 9.0, 4, \"S\", 34.375], [0, 2, \"male\", 36.5, 2, \"S\", 26.0], [0, 2, \"male\", 42.0, 0, \"S\", 13.0], [0, 2, \"male\", 51.0, 0, \"S\", 12.525], [0, 3, \"male\", 55.5, 0, \"S\", 8.05], [0, 3, \"male\", 40.5, 2, \"S\", 14.5], [0, 3, \"male\", 45.75, 0, \"S\", 7.3125], [0, 1, \"male\", 51.0, 1, \"C\", 61.3792], [0, 3, \"male\", 30.0, 0, \"S\", 8.05], [0, 3, \"male\", 34.666666666666664, 0, \"S\", 8.6625], [0, 3, \"male\", 39.333333333333336, 10, \"S\", 69.55], [0, 3, \"male\", 44.0, 1, \"S\", 16.1], [0, 3, \"male\", 26.0, 0, \"S\", 7.775], [0, 3, \"male\", 17.0, 0, \"S\", 8.6625], [0, 3, \"male\", 1.0, 5, \"S\", 39.6875], [0, 3, \"female\", 45.0, 5, \"S\", 27.9], [0, 1, \"male\", 36.5, 0, \"S\", 25.925], [0, 3, \"male\", 28.0, 0, \"S\", 56.4958], [0, 1, \"male\", 61.0, 0, \"S\", 33.5], [0, 3, \"male\", 4.0, 5, \"Q\", 29.125], [0, 3, \"male\", 21.0, 0, \"S\", 7.925], [0, 1, \"male\", 56.0, 0, \"C\", 30.6958], [0, 3, \"male\", 18.0, 2, \"S\", 7.8542], [0, 3, \"male\", 34.0, 4, \"S\", 25.4667], [0, 1, \"female\", 50.0, 0, \"C\", 28.7125], [0, 2, \"male\", 30.0, 0, \"S\", 13.0], [0, 3, \"male\", 36.0, 0, \"S\", 0.0], [0, 3, \"female\", 27.0, 10, \"S\", 69.55], [0, 2, \"male\", 18.0, 0, \"C\", 15.05], [0, 3, \"male\", 9.0, 6, \"S\", 31.3875], [0, 1, \"male\", 17.666666666666664, 0, \"S\", 50.0], [0, 3, \"male\", 40.0, 2, \"Q\", 15.5], [0, 3, \"male\", 36.0, 0, \"S\", 7.8958], [0, 2, \"male\", 19.0, 0, \"S\", 13.0], [0, 3, \"male\", 50.0, 0, \"Q\", 7.75], [0, 3, \"male\", 42.0, 1, \"S\", 8.4042], [0, 2, \"female\", 24.0, 0, \"S\", 13.0], [0, 3, \"male\", 28.0, 0, \"S\", 9.5], [0, 3, \"male\", 31.0, 10, \"S\", 69.55], [0, 3, \"male\", 34.0, 0, \"S\", 6.4958], [0, 3, \"male\", 45.5, 0, \"C\", 7.225], [0, 3, \"female\", 2.0, 1, \"S\", 10.4625], [0, 3, \"male\", 32.0, 1, \"S\", 15.85], [0, 3, \"male\", 24.0, 0, \"S\", 7.05], [0, 3, \"male\", 22.0, 0, \"S\", 7.25], [0, 2, \"male\", 30.0, 0, \"S\", 13.0], [0, 3, \"male\", 30.5, 1, \"Q\", 7.75], [0, 2, \"male\", 42.0, 1, \"S\", 27.0], [0, 2, \"male\", 30.0, 0, \"S\", 10.5], [0, 2, \"male\", 27.0, 0, \"S\", 13.0], [0, 3, \"male\", 51.0, 0, \"S\", 8.05], [0, 3, \"male\", 44.5, 0, \"S\", 7.8958], [0, 3, \"male\", 22.0, 0, \"S\", 9.35], [0, 3, \"male\", 20.5, 0, \"S\", 7.25], [0, 2, \"male\", 18.0, 0, \"S\", 13.0], [0, 3, \"female\", 26.5, 4, \"S\", 25.4667], [0, 3, \"male\", 29.0, 0, \"S\", 7.775], [0, 2, \"male\", 59.0, 0, \"S\", 13.5], [0, 2, \"male\", 24.0, 0, \"S\", 10.5], [0, 3, \"female\", 34.0, 0, \"S\", 7.55], [0, 2, \"male\", 44.0, 1, \"S\", 26.0], [0, 2, \"male\", 19.0, 0, \"S\", 10.5], [0, 2, \"male\", 33.0, 0, \"S\", 12.275], [0, 3, \"female\", 31.666666666666668, 1, \"C\", 14.4542], [0, 2, \"male\", 29.0, 0, \"S\", 10.5], [0, 3, \"male\", 22.0, 0, \"S\", 7.125], [0, 3, \"male\", 30.0, 0, \"C\", 7.225], [0, 1, \"male\", 44.0, 2, \"Q\", 90.0], [0, 3, \"female\", 25.0, 0, \"S\", 7.775], [0, 2, \"male\", 54.0, 1, \"S\", 26.0], [0, 3, \"male\", 41.5, 0, \"S\", 7.25], [0, 3, \"female\", 29.0, 2, \"S\", 10.4625], [0, 1, \"male\", 62.0, 0, \"S\", 26.55], [0, 3, \"male\", 30.0, 1, \"S\", 16.1], [0, 3, \"female\", 41.0, 2, \"S\", 20.2125], [0, 3, \"male\", 26.5, 0, \"Q\", 7.75], [0, 1, \"male\", 52.0, 2, \"S\", 79.65], [0, 1, \"male\", 40.0, 0, \"S\", 0.0], [0, 3, \"female\", 38.0, 0, \"Q\", 7.75], [0, 2, \"male\", 36.0, 0, \"S\", 10.5], [0, 3, \"male\", 16.0, 5, \"S\", 39.6875], [0, 1, \"male\", 30.0, 0, \"S\", 31.0], [0, 1, \"male\", 37.0, 1, \"C\", 29.7], [0, 3, \"female\", 45.0, 0, \"S\", 7.75], [0, 2, \"male\", 26.0, 0, \"S\", 0.0], [0, 3, \"male\", 7.0, 5, \"Q\", 29.125], [0, 3, \"male\", 65.0, 0, \"Q\", 7.75], [0, 3, \"male\", 28.0, 0, \"S\", 7.8542], [0, 3, \"male\", 16.0, 0, \"S\", 9.5], [0, 1, \"male\", 26.0, 0, \"S\", 26.0], [0, 3, \"male\", 33.0, 0, \"C\", 8.6625], [0, 3, \"male\", 22.0, 0, \"S\", 7.8958], [0, 2, \"male\", 36.0, 0, \"C\", 12.875], [0, 3, \"female\", 24.0, 0, \"S\", 8.85], [0, 3, \"male\", 24.0, 0, \"S\", 7.8958], [0, 1, \"male\", 23.75, 0, \"C\", 27.7208], [0, 3, \"male\", 23.5, 0, \"C\", 7.2292], [0, 1, \"female\", 2.0, 3, \"S\", 151.55], [0, 3, \"male\", 19.0, 0, \"S\", 0.0], [0, 3, \"male\", 6.946666666666667, 0, \"S\", 8.05], [0, 2, \"male\", 30.0, 1, \"C\", 24.0], [0, 2, \"female\", 26.0, 2, \"S\", 26.0], [0, 3, \"male\", 28.0, 0, \"S\", 7.8958], [0, 2, \"male\", 43.0, 2, \"S\", 26.25], [0, 2, \"male\", 54.0, 0, \"S\", 14.0], [0, 3, \"male\", 22.0, 0, \"S\", 7.25], [0, 3, \"male\", 27.0, 0, \"S\", 7.8958], [0, 3, \"male\", 29.0, 10, \"S\", 69.55], [0, 3, \"male\", 61.0, 0, \"S\", 6.2375], [0, 1, \"male\", 45.5, 0, \"S\", 28.5], [0, 1, \"male\", 38.0, 1, \"S\", 153.4625], [0, 3, \"male\", 16.0, 2, \"S\", 18.0], [0, 3, \"male\", 24.666666666666664, 0, \"S\", 7.8958], [0, 1, \"male\", 29.0, 1, \"S\", 66.6], [0, 1, \"male\", 45.0, 0, \"S\", 35.5], [0, 2, \"male\", 28.0, 0, \"S\", 13.0], [0, 2, \"male\", 25.0, 0, \"S\", 13.0], [0, 2, \"male\", 36.0, 0, \"S\", 13.0], [0, 3, \"male\", 42.0, 0, \"S\", 8.6625], [0, 3, \"male\", 23.0, 0, \"S\", 9.225], [0, 1, \"male\", 19.0, 0, \"S\", 35.0], [0, 3, \"male\", 15.0, 2, \"C\", 7.2292], [0, 3, \"male\", 25.0, 1, \"S\", 17.8], [0, 3, \"male\", 26.5, 0, \"C\", 7.225], [0, 3, \"male\", 28.0, 0, \"S\", 9.5], [0, 2, \"female\", 38.0, 0, \"S\", 13.0], [0, 3, \"male\", 40.0, 5, \"S\", 27.9], [0, 2, \"male\", 29.0, 1, \"C\", 27.7208], [0, 3, \"female\", 45.0, 1, \"C\", 14.4542], [0, 3, \"male\", 35.0, 0, \"S\", 7.05], [0, 3, \"male\", 32.5, 1, \"Q\", 15.5], [0, 3, \"male\", 30.0, 0, \"S\", 7.25], [0, 3, \"male\", 18.0, 1, \"S\", 6.4958], [0, 3, \"male\", 19.0, 0, \"S\", 8.05], [0, 1, \"male\", 22.0, 0, \"C\", 135.6333], [0, 3, \"female\", 3.0, 4, \"S\", 21.075], [0, 1, \"male\", 27.0, 2, \"C\", 211.5], [0, 3, \"male\", 20.0, 0, \"C\", 4.0125], [0, 3, \"male\", 19.0, 0, \"S\", 7.775], [0, 3, \"male\", 32.0, 0, \"S\", 7.925], [0, 3, \"male\", 26.5, 0, \"S\", 7.8958], [0, 2, \"male\", 18.0, 0, \"S\", 73.5], [0, 3, \"male\", 1.0, 7, \"S\", 46.9], [0, 3, \"male\", 26.5, 0, \"Q\", 7.7292], [0, 3, \"male\", 28.0, 2, \"S\", 7.925], [0, 3, \"male\", 22.0, 0, \"S\", 7.7958], [0, 3, \"female\", 31.0, 0, \"S\", 7.8542], [0, 2, \"male\", 46.0, 0, \"S\", 26.0], [0, 2, \"male\", 23.0, 0, \"S\", 10.5], [0, 3, \"male\", 26.0, 0, \"S\", 8.05], [0, 3, \"female\", 21.0, 1, \"S\", 9.825], [0, 3, \"male\", 28.0, 1, \"S\", 15.85], [0, 3, \"female\", 20.0, 0, \"S\", 8.6625], [0, 2, \"male\", 34.0, 1, \"S\", 21.0], [0, 3, \"male\", 51.0, 0, \"S\", 7.75], [0, 3, \"male\", 21.0, 0, \"S\", 7.775], [0, 3, \"female\", 24.0, 4, \"S\", 25.4667], [0, 3, \"male\", 27.0, 0, \"S\", 7.8958], [0, 3, \"male\", 30.0, 0, \"Q\", 6.8583], [0, 2, \"male\", 38.5, 0, \"S\", 0.0], [0, 3, \"female\", 39.0, 0, \"S\", 8.05], [0, 2, \"male\", 30.0, 0, \"S\", 13.0], [0, 3, \"female\", 10.0, 2, \"S\", 24.15], [0, 3, \"male\", 15.5, 0, \"C\", 7.8958], [0, 3, \"male\", 21.0, 0, \"Q\", 7.7333], [0, 3, \"male\", 29.0, 0, \"S\", 7.875], [0, 3, \"female\", 28.0, 2, \"S\", 14.4], [0, 3, \"male\", 18.0, 2, \"S\", 20.2125], [0, 3, \"male\", 23.0, 0, \"S\", 7.25], [0, 3, \"male\", 25.5, 0, \"Q\", 7.75], [0, 3, \"male\", 17.0, 0, \"S\", 7.125], [0, 1, \"male\", 50.0, 1, \"S\", 55.9], [0, 3, \"female\", 21.0, 4, \"S\", 34.375], [0, 1, \"male\", 64.0, 5, \"S\", 263.0], [0, 2, \"male\", 31.0, 0, \"S\", 10.5], [0, 3, \"male\", 20.0, 0, \"S\", 9.5], [0, 3, \"male\", 25.0, 1, \"S\", 7.775], [0, 2, \"male\", 36.0, 3, \"S\", 27.75], [0, 3, \"male\", 33.0, 1, \"S\", 19.9667], [0, 1, \"male\", 30.0, 0, \"C\", 27.75], [0, 3, \"male\", 39.0, 0, \"S\", 8.05], [0, 1, \"male\", 65.0, 0, \"S\", 26.55], [0, 3, \"male\", 49.0, 0, \"Q\", 7.75], [0, 3, \"male\", 34.0, 0, \"S\", 8.05], [0, 1, \"male\", 47.0, 0, \"S\", 38.5], [0, 2, \"male\", 48.0, 0, \"S\", 13.0], [0, 3, \"male\", 43.0, 0, \"S\", 8.05], [0, 3, \"male\", 38.0, 0, \"S\", 7.05], [0, 2, \"male\", 47.0, 0, \"S\", 0.0], [0, 1, \"male\", 56.0, 0, \"S\", 26.55], [0, 3, \"male\", 28.375, 0, \"Q\", 7.725], [0, 3, \"male\", 19.375, 0, \"S\", 7.25], [0, 3, \"male\", 38.0, 0, \"S\", 8.6625], [0, 3, \"female\", 22.0, 0, \"S\", 9.8375], [0, 1, \"male\", 28.0, 0, \"S\", 52.0], [0, 2, \"male\", 34.0, 1, \"S\", 21.0], [0, 3, \"male\", 29.0, 1, \"S\", 7.0458], [0, 3, \"male\", 22.0, 0, \"S\", 7.5208], [0, 3, \"male\", 9.0, 7, \"S\", 46.9], [0, 2, \"male\", 29.5, 0, \"S\", 0.0], [0, 3, \"male\", 50.0, 0, \"S\", 8.05], [0, 3, \"female\", 30.0, 4, \"S\", 25.4667], [0, 1, \"male\", 58.0, 0, \"C\", 29.7], [0, 3, \"male\", 30.0, 0, \"S\", 8.05], [0, 3, \"male\", 15.0, 1, \"S\", 19.9667], [0, 3, \"male\", 21.0, 0, \"S\", 7.25], [0, 1, \"male\", 55.0, 0, \"S\", 30.5], [0, 1, \"male\", 71.0, 0, \"C\", 49.5042], [0, 3, \"male\", 21.0, 0, \"S\", 8.05], [0, 3, \"male\", 37.5, 0, \"C\", 14.4583], [0, 3, \"male\", 39.5, 0, \"S\", 15.1], [0, 1, \"female\", 25.0, 3, \"S\", 151.55], [0, 3, \"male\", 24.0, 0, \"S\", 7.7958], [0, 3, \"male\", 17.0, 0, \"S\", 8.6625], [0, 3, \"female\", 21.0, 0, \"Q\", 7.75], [0, 3, \"female\", 29.0, 0, \"Q\", 7.6292], [0, 3, \"female\", 37.0, 0, \"S\", 9.5875], [0, 1, \"male\", 18.0, 1, \"C\", 108.9], [0, 3, \"male\", 28.0, 0, \"S\", 22.525], [0, 3, \"male\", 32.5, 0, \"S\", 8.05], [0, 3, \"male\", 24.0, 0, \"S\", 7.4958], [0, 1, \"male\", 47.0, 0, \"S\", 34.0208], [0, 3, \"male\", 35.0, 0, \"Q\", 24.15], [0, 3, \"male\", 32.0, 0, \"S\", 7.8958], [0, 3, \"male\", 22.0, 0, \"S\", 7.8958], [0, 3, \"male\", 33.0, 0, \"C\", 7.225], [0, 3, \"male\", 42.25, 0, \"C\", 7.2292], [0, 3, \"male\", 40.5, 0, \"Q\", 7.75], [0, 1, \"male\", 44.5, 0, \"S\", 221.7792], [0, 3, \"male\", 39.0, 0, \"S\", 7.925], [0, 2, \"male\", 23.0, 3, \"S\", 11.5], [0, 3, \"male\", 9.5, 0, \"C\", 7.2292], [0, 3, \"male\", 17.0, 2, \"C\", 7.2292], [0, 3, \"female\", 30.0, 0, \"S\", 8.6625], [0, 1, \"male\", 45.0, 0, \"S\", 26.55], [0, 3, \"male\", 26.0, 0, \"S\", 14.5], [0, 3, \"female\", 9.0, 6, \"S\", 31.275], [0, 3, \"female\", 11.0, 6, \"S\", 31.275], [0, 1, \"male\", 50.0, 1, \"C\", 106.425], [0, 1, \"male\", 64.0, 0, \"S\", 26.0], [0, 3, \"male\", 33.0, 2, \"S\", 20.525], [0, 2, \"male\", 27.0, 0, \"S\", 26.0], [0, 3, \"male\", 24.5, 0, \"Q\", 7.8292], [0, 1, \"male\", 62.0, 0, \"S\", 26.55], [0, 1, \"male\", 43.5, 0, \"C\", 227.525], [0, 3, \"male\", 38.0, 0, \"Q\", 7.75], [0, 3, \"male\", 40.0, 0, \"S\", 7.8958], [0, 2, \"male\", 28.0, 0, \"S\", 13.5], [0, 3, \"male\", 26.666666666666668, 0, \"S\", 8.05], [0, 3, \"female\", 25.333333333333332, 0, \"S\", 8.05], [0, 3, \"male\", 24.0, 2, \"S\", 24.15], [0, 3, \"male\", 19.0, 0, \"S\", 7.8958], [0, 3, \"female\", 29.0, 4, \"S\", 21.075], [0, 3, \"male\", 30.5, 0, \"C\", 7.2292], [0, 3, \"male\", 16.0, 0, \"S\", 8.05], [0, 3, \"male\", 19.0, 0, \"S\", 14.5], [0, 3, \"female\", 35.5, 1, \"C\", 14.4583], [0, 2, \"male\", 54.0, 0, \"S\", 26.0], [0, 1, \"male\", 36.0, 0, \"C\", 40.125], [0, 3, \"male\", 27.0, 0, \"C\", 8.7125], [0, 2, \"male\", 47.0, 0, \"S\", 15.0], [0, 3, \"male\", 22.0, 0, \"S\", 8.05], [0, 3, \"male\", 28.5, 0, \"S\", 8.05], [0, 3, \"male\", 35.0, 0, \"S\", 7.125], [0, 3, \"male\", 47.0, 0, \"S\", 7.25], [0, 3, \"female\", 42.0, 2, \"Q\", 7.75], [0, 2, \"male\", 37.0, 1, \"S\", 26.0], [0, 3, \"male\", 36.0, 2, \"S\", 24.15], [0, 3, \"male\", 49.0, 0, \"S\", 0.0], [0, 3, \"male\", 49.0, 0, \"C\", 7.225], [0, 3, \"male\", 30.666666666666668, 0, \"S\", 7.8958], [0, 1, \"male\", 37.333333333333336, 0, \"S\", 42.4], [0, 3, \"male\", 44.0, 0, \"S\", 8.05], [0, 3, \"male\", 36.0, 1, \"S\", 15.55], [0, 3, \"male\", 30.0, 0, \"S\", 7.8958], [0, 3, \"female\", 39.0, 6, \"S\", 31.275], [0, 3, \"male\", 38.0, 0, \"S\", 7.05], [0, 3, \"male\", 36.0, 0, \"Q\", 7.75], [0, 3, \"male\", 35.0, 0, \"S\", 8.05], [0, 3, \"male\", 34.0, 2, \"S\", 14.4], [0, 3, \"female\", 26.0, 1, \"S\", 16.1], [0, 2, \"male\", 26.0, 0, \"S\", 10.5], [0, 3, \"male\", 27.0, 1, \"C\", 14.4542], [0, 3, \"male\", 21.0, 0, \"S\", 7.8542], [0, 3, \"male\", 21.0, 0, \"S\", 16.1], [0, 1, \"male\", 61.0, 0, \"S\", 32.3208], [0, 2, \"male\", 57.0, 0, \"Q\", 12.35], [0, 3, \"male\", 26.0, 0, \"S\", 7.8958], [0, 3, \"male\", 53.0, 0, \"Q\", 7.7333], [0, 3, \"male\", 51.0, 0, \"S\", 7.0542], [0, 1, \"male\", 20.5, 0, \"S\", 0.0], [0, 3, \"female\", 9.0, 5, \"S\", 27.9], [0, 3, \"male\", 32.0, 0, \"S\", 7.925], [0, 2, \"male\", 31.0, 2, \"S\", 26.25], [0, 3, \"female\", 41.0, 5, \"S\", 39.6875], [0, 3, \"male\", 30.5, 1, \"S\", 16.1], [0, 3, \"male\", 20.0, 0, \"S\", 7.8542], [0, 3, \"female\", 2.0, 5, \"S\", 27.9], [0, 3, \"male\", 19.0, 0, \"S\", 7.8958], [0, 3, \"male\", 39.5, 0, \"S\", 7.55], [0, 3, \"male\", 20.5, 0, \"S\", 7.8958], [0, 3, \"male\", 21.0, 0, \"S\", 8.4333], [0, 3, \"female\", 18.0, 0, \"Q\", 6.75], [0, 2, \"male\", 24.0, 2, \"S\", 73.5], [0, 3, \"male\", 28.0, 0, \"S\", 7.8958], [0, 3, \"female\", 32.0, 2, \"Q\", 15.5], [0, 2, \"male\", 23.0, 0, \"S\", 13.0], [0, 1, \"male\", 58.0, 2, \"C\", 113.275], [0, 3, \"male\", 40.0, 0, \"C\", 7.225], [0, 1, \"male\", 47.0, 0, \"S\", 25.5875], [0, 3, \"male\", 36.0, 0, \"S\", 7.4958], [0, 2, \"male\", 32.0, 2, \"S\", 73.5], [0, 2, \"male\", 25.0, 0, \"S\", 13.0], [0, 3, \"male\", 34.0, 0, \"S\", 7.775], [0, 3, \"male\", 43.0, 0, \"S\", 8.05], [0, 1, \"male\", 31.0, 1, \"S\", 52.0], [0, 2, \"male\", 70.0, 0, \"S\", 10.5], [0, 2, \"male\", 24.5, 0, \"S\", 0.0], [0, 3, \"male\", 18.0, 0, \"S\", 7.775], [0, 3, \"male\", 24.5, 0, \"S\", 8.05], [0, 3, \"female\", 43.0, 7, \"S\", 46.9], [0, 3, \"female\", 31.5, 0, \"Q\", 8.1375], [0, 3, \"male\", 20.0, 0, \"S\", 9.225], [0, 3, \"male\", 14.0, 7, \"S\", 46.9], [0, 2, \"male\", 60.0, 2, \"S\", 39.0], [0, 2, \"male\", 25.0, 3, \"C\", 41.5792], [0, 3, \"male\", 14.0, 5, \"S\", 39.6875], [0, 3, \"male\", 19.0, 0, \"S\", 10.1708], [0, 3, \"male\", 18.0, 0, \"S\", 7.7958], [0, 3, \"male\", 25.0, 0, \"C\", 7.225], [0, 1, \"male\", 60.0, 0, \"S\", 26.55], [0, 2, \"male\", 52.0, 0, \"S\", 13.5], [0, 3, \"male\", 44.0, 0, \"S\", 8.05], [0, 1, \"male\", 49.0, 2, \"C\", 110.8833], [0, 3, \"male\", 42.0, 0, \"S\", 7.65], [0, 3, \"female\", 18.0, 1, \"C\", 14.4542], [0, 3, \"male\", 25.0, 0, \"Q\", 7.7417], [0, 3, \"male\", 26.0, 1, \"S\", 7.8542], [0, 2, \"male\", 39.0, 0, \"S\", 26.0], [0, 1, \"male\", 36.0, 0, \"S\", 26.55], [0, 3, \"male\", 29.0, 0, \"S\", 9.4833], [0, 2, \"male\", 52.0, 0, \"S\", 13.0], [0, 3, \"male\", 19.0, 0, \"S\", 7.65], [0, 3, \"male\", 30.0, 0, \"Q\", 15.5], [0, 3, \"male\", 33.0, 0, \"S\", 7.775], [0, 3, \"male\", 17.0, 1, \"S\", 7.0542], [0, 2, \"male\", 34.0, 0, \"S\", 13.0], [0, 2, \"male\", 50.0, 0, \"S\", 13.0], [0, 3, \"male\", 20.0, 0, \"S\", 8.6625], [0, 2, \"male\", 25.0, 1, \"S\", 26.0], [0, 3, \"female\", 25.0, 1, \"S\", 7.925], [0, 3, \"male\", 11.0, 0, \"C\", 18.7875], [0, 2, \"male\", 17.0, 0, \"S\", 0.0], [0, 2, \"male\", 23.0, 0, \"S\", 13.0], [0, 2, \"male\", 23.0, 0, \"S\", 13.0], [0, 3, \"male\", 28.5, 0, \"S\", 16.1], [0, 3, \"female\", 48.0, 4, \"S\", 34.375], [0, 3, \"male\", 35.25, 0, \"S\", 7.8958], [0, 3, \"male\", 35.5, 0, \"S\", 7.8958], [0, 1, \"male\", 36.0, 1, \"S\", 78.85], [0, 3, \"male\", 24.0, 1, \"S\", 16.1], [0, 1, \"male\", 70.0, 2, \"S\", 71.0], [0, 3, \"male\", 16.0, 2, \"S\", 20.25], [0, 1, \"male\", 19.0, 1, \"S\", 53.1], [0, 3, \"male\", 31.0, 0, \"Q\", 7.75], [0, 3, \"male\", 33.0, 0, \"S\", 9.5], [0, 3, \"male\", 23.0, 0, \"S\", 7.8958], [0, 3, \"male\", 28.0, 0, \"S\", 7.7958], [0, 2, \"male\", 18.0, 0, \"S\", 11.5], [0, 3, \"male\", 34.0, 0, \"S\", 8.05], [0, 3, \"male\", 37.0, 0, \"S\", 14.5], [0, 3, \"male\", 41.0, 0, \"S\", 7.125], [0, 3, \"male\", 16.0, 0, \"S\", 7.775], [0, 1, \"male\", 40.75, 0, \"C\", 39.6], [0, 3, \"female\", 30.5, 0, \"Q\", 7.75], [0, 3, \"male\", 31.25, 1, \"Q\", 24.15], [0, 3, \"male\", 32.0, 0, \"S\", 8.3625], [0, 3, \"male\", 24.0, 0, \"S\", 9.5], [0, 3, \"male\", 48.0, 0, \"S\", 7.8542], [0, 2, \"female\", 57.0, 0, \"S\", 10.5], [0, 3, \"male\", 55.5, 0, \"C\", 7.225], [0, 3, \"male\", 18.0, 0, \"S\", 7.75], [0, 3, \"male\", 11.5, 0, \"Q\", 7.75], [0, 3, \"male\", 24.0, 0, \"Q\", 7.7375], [0, 1, \"male\", 29.0, 0, \"S\", 30.0], [0, 3, \"male\", 27.0, 3, \"S\", 23.45], [0, 3, \"male\", 25.0, 0, \"S\", 7.05], [0, 3, \"male\", 25.0, 0, \"S\", 7.25], [0, 3, \"male\", 8.0, 5, \"Q\", 29.125], [0, 1, \"male\", 46.0, 0, \"C\", 79.2], [0, 3, \"male\", 31.0, 0, \"Q\", 7.75], [0, 2, \"male\", 16.0, 0, \"S\", 26.0], [0, 3, \"female\", 19.0, 10, \"S\", 69.55], [0, 1, \"male\", 22.0, 0, \"C\", 30.6958], [0, 3, \"male\", 25.0, 0, \"S\", 7.8958], [0, 2, \"male\", 39.0, 0, \"S\", 13.0], [0, 3, \"male\", 30.0, 0, \"C\", 7.2292], [0, 3, \"female\", 30.0, 2, \"S\", 24.15], [0, 2, \"male\", 34.0, 0, \"S\", 13.0], [0, 3, \"male\", 31.0, 0, \"S\", 7.775], [0, 1, \"male\", 39.0, 0, \"S\", 0.0], [0, 3, \"female\", 18.0, 0, \"S\", 7.775], [0, 2, \"male\", 39.0, 0, \"S\", 13.0], [0, 3, \"male\", 26.0, 0, \"S\", 7.8875], [0, 3, \"male\", 39.0, 0, \"S\", 24.15], [0, 2, \"male\", 35.0, 0, \"S\", 10.5], [0, 3, \"female\", 6.0, 6, \"S\", 31.275], [0, 3, \"male\", 30.5, 0, \"S\", 8.05], [0, 1, \"male\", 26.75, 0, \"S\", 0.0], [0, 3, \"female\", 23.0, 0, \"S\", 7.925], [0, 2, \"male\", 31.0, 2, \"C\", 37.0042], [0, 3, \"male\", 43.0, 0, \"S\", 6.45], [0, 3, \"male\", 10.0, 5, \"S\", 27.9], [0, 1, \"male\", 38.0, 0, \"S\", 0.0], [0, 3, \"male\", 2.0, 5, \"S\", 39.6875], [0, 3, \"male\", 1.6666666666666667, 0, \"Q\", 6.95], [0, 3, \"male\", 1.3333333333333335, 0, \"S\", 56.4958], [0, 3, \"male\", 11.915000000000001, 0, \"C\", 7.2292], [0, 3, \"male\", 23.0, 0, \"S\", 7.8542], [0, 3, \"male\", 18.0, 0, \"S\", 8.3], [0, 3, \"male\", 21.0, 0, \"S\", 8.6625], [0, 3, \"male\", 26.5, 0, \"S\", 8.05], [0, 3, \"male\", 20.0, 0, \"S\", 7.925], [0, 2, \"male\", 16.0, 0, \"S\", 10.5], [0, 3, \"male\", 34.5, 0, \"C\", 6.4375], [0, 3, \"male\", 17.0, 0, \"S\", 8.6625], [0, 3, \"male\", 42.0, 0, \"S\", 7.55], [0, 3, \"male\", 38.5, 10, \"S\", 69.55], [0, 3, \"male\", 35.0, 0, \"C\", 7.8958], [0, 2, \"male\", 28.0, 1, \"S\", 33.0], [0, 3, \"male\", 4.0, 6, \"S\", 31.275], [0, 3, \"male\", 74.0, 0, \"S\", 7.775], [0, 3, \"female\", 9.0, 2, \"C\", 15.2458], [0, 2, \"female\", 44.0, 1, \"S\", 26.0], [0, 3, \"male\", 32.5, 0, \"C\", 7.2292], [0, 3, \"male\", 41.0, 2, \"S\", 14.1083], [0, 2, \"male\", 21.0, 1, \"S\", 11.5], [0, 3, \"female\", 36.0, 10, \"S\", 69.55], [0, 2, \"male\", 24.0, 0, \"S\", 13.0], [0, 1, \"male\", 31.0, 0, \"S\", 50.4958], [0, 3, \"male\", 17.5, 0, \"S\", 9.5], [0, 3, \"male\", 26.0, 0, \"S\", 7.8958], [0, 1, \"male\", 33.0, 0, \"S\", 5.0], [0, 3, \"male\", 47.0, 0, \"S\", 9.0], [0, 3, \"male\", 20.0, 0, \"S\", 9.8458], [0, 3, \"male\", 19.0, 0, \"S\", 7.8958], [0, 3, \"male\", 37.5, 0, \"S\", 7.8958], [0, 3, \"male\", 33.0, 0, \"S\", 7.8958], [0, 3, \"female\", 22.0, 0, \"S\", 10.5167], [0, 2, \"male\", 28.0, 0, \"S\", 10.5], [0, 3, \"male\", 25.0, 0, \"S\", 7.05], [0, 3, \"female\", 39.0, 5, \"Q\", 29.125], [0, 2, \"male\", 27.0, 0, \"S\", 13.0], [0, 3, \"female\", 22.5, 3, \"S\", 23.45], [0, 3, \"male\", 32.0, 0, \"Q\", 7.75]], \"hovertemplate\": \"Survived=%{customdata[0]}<br>Family=%{customdata[4]}<br>Pclass=%{customdata[1]}<br>Sex=%{customdata[2]}<br>Age=%{customdata[3]}<br>Embarked=%{customdata[5]}<br>Fare=%{customdata[6]}<extra></extra>\", \"legendgroup\": \"0\", \"marker\": {\"color\": \"#636efa\"}, \"name\": \"0\", \"notched\": true, \"offsetgroup\": \"0\", \"showlegend\": false, \"type\": \"box\", \"xaxis\": \"x2\", \"y\": [1, 0, 0, 0, 4, 0, 6, 0, 5, 1, 0, 4, 0, 5, 0, 0, 0, 1, 1, 0, 2, 1, 1, 0, 0, 1, 2, 1, 5, 0, 1, 0, 7, 0, 1, 5, 0, 0, 2, 0, 7, 0, 1, 0, 0, 0, 0, 0, 4, 0, 0, 0, 0, 1, 3, 0, 0, 0, 1, 0, 0, 1, 0, 2, 0, 0, 0, 1, 0, 1, 0, 0, 0, 1, 1, 6, 2, 0, 1, 1, 0, 0, 0, 0, 1, 0, 0, 1, 0, 0, 2, 0, 0, 2, 4, 2, 0, 0, 0, 2, 0, 1, 0, 0, 10, 1, 0, 0, 5, 5, 0, 0, 0, 5, 0, 0, 2, 4, 0, 0, 0, 10, 0, 6, 0, 2, 0, 0, 0, 1, 0, 0, 10, 0, 0, 1, 1, 0, 0, 0, 1, 1, 0, 0, 0, 0, 0, 0, 0, 4, 0, 0, 0, 0, 1, 0, 0, 1, 0, 0, 0, 2, 0, 1, 0, 2, 0, 1, 2, 0, 2, 0, 0, 0, 5, 0, 1, 0, 0, 5, 0, 0, 0, 0, 0, 0, 0, 0, 0, 0, 0, 3, 0, 0, 1, 2, 0, 2, 0, 0, 0, 10, 0, 0, 1, 2, 0, 1, 0, 0, 0, 0, 0, 0, 0, 2, 1, 0, 0, 0, 5, 1, 1, 0, 1, 0, 1, 0, 0, 4, 2, 0, 0, 0, 0, 0, 7, 0, 2, 0, 0, 0, 0, 0, 1, 1, 0, 1, 0, 0, 4, 0, 0, 0, 0, 0, 2, 0, 0, 0, 2, 2, 0, 0, 0, 1, 4, 5, 0, 0, 1, 3, 1, 0, 0, 0, 0, 0, 0, 0, 0, 0, 0, 0, 0, 0, 0, 0, 0, 1, 1, 0, 7, 0, 0, 4, 0, 0, 1, 0, 0, 0, 0, 0, 0, 3, 0, 0, 0, 0, 0, 1, 0, 0, 0, 0, 0, 0, 0, 0, 0, 0, 0, 0, 3, 0, 2, 0, 0, 0, 6, 6, 1, 0, 2, 0, 0, 0, 0, 0, 0, 0, 0, 0, 2, 0, 4, 0, 0, 0, 1, 0, 0, 0, 0, 0, 0, 0, 0, 2, 1, 2, 0, 0, 0, 0, 0, 1, 0, 6, 0, 0, 0, 2, 1, 0, 1, 0, 0, 0, 0, 0, 0, 0, 0, 5, 0, 2, 5, 1, 0, 5, 0, 0, 0, 0, 0, 2, 0, 2, 0, 2, 0, 0, 0, 2, 0, 0, 0, 1, 0, 0, 0, 0, 7, 0, 0, 7, 2, 3, 5, 0, 0, 0, 0, 0, 0, 2, 0, 1, 0, 1, 0, 0, 0, 0, 0, 0, 0, 1, 0, 0, 0, 1, 1, 0, 0, 0, 0, 0, 4, 0, 0, 1, 1, 2, 2, 1, 0, 0, 0, 0, 0, 0, 0, 0, 0, 0, 0, 1, 0, 0, 0, 0, 0, 0, 0, 0, 0, 3, 0, 0, 5, 0, 0, 0, 10, 0, 0, 0, 0, 2, 0, 0, 0, 0, 0, 0, 0, 0, 6, 0, 0, 0, 2, 0, 5, 0, 5, 0, 0, 0, 0, 0, 0, 0, 0, 0, 0, 0, 0, 10, 0, 1, 6, 0, 2, 1, 0, 2, 1, 10, 0, 0, 0, 0, 0, 0, 0, 0, 0, 0, 0, 0, 0, 5, 0, 3, 0], \"yaxis\": \"y2\"}, {\"alignmentgroup\": \"True\", \"bingroup\": \"y\", \"histfunc\": \"sum\", \"hovertemplate\": \"Survived=1<br>sum of Survived=%{x}<br>Family=%{y}<extra></extra>\", \"legendgroup\": \"1\", \"marker\": {\"color\": \"#EF553B\", \"opacity\": 0.75}, \"name\": \"1\", \"offsetgroup\": \"1\", \"orientation\": \"h\", \"showlegend\": true, \"type\": \"histogram\", \"x\": [1, 1, 1, 1, 1, 1, 1, 1, 1, 1, 1, 1, 1, 1, 1, 1, 1, 1, 1, 1, 1, 1, 1, 1, 1, 1, 1, 1, 1, 1, 1, 1, 1, 1, 1, 1, 1, 1, 1, 1, 1, 1, 1, 1, 1, 1, 1, 1, 1, 1, 1, 1, 1, 1, 1, 1, 1, 1, 1, 1, 1, 1, 1, 1, 1, 1, 1, 1, 1, 1, 1, 1, 1, 1, 1, 1, 1, 1, 1, 1, 1, 1, 1, 1, 1, 1, 1, 1, 1, 1, 1, 1, 1, 1, 1, 1, 1, 1, 1, 1, 1, 1, 1, 1, 1, 1, 1, 1, 1, 1, 1, 1, 1, 1, 1, 1, 1, 1, 1, 1, 1, 1, 1, 1, 1, 1, 1, 1, 1, 1, 1, 1, 1, 1, 1, 1, 1, 1, 1, 1, 1, 1, 1, 1, 1, 1, 1, 1, 1, 1, 1, 1, 1, 1, 1, 1, 1, 1, 1, 1, 1, 1, 1, 1, 1, 1, 1, 1, 1, 1, 1, 1, 1, 1, 1, 1, 1, 1, 1, 1, 1, 1, 1, 1, 1, 1, 1, 1, 1, 1, 1, 1, 1, 1, 1, 1, 1, 1, 1, 1, 1, 1, 1, 1, 1, 1, 1, 1, 1, 1, 1, 1, 1, 1, 1, 1, 1, 1, 1, 1, 1, 1, 1, 1, 1, 1, 1, 1, 1, 1, 1, 1, 1, 1, 1, 1, 1, 1, 1, 1, 1, 1, 1, 1, 1, 1, 1, 1, 1, 1, 1, 1, 1, 1, 1, 1, 1, 1, 1, 1, 1, 1, 1, 1, 1, 1, 1, 1, 1, 1, 1, 1, 1, 1, 1, 1, 1, 1, 1, 1, 1, 1, 1, 1, 1, 1, 1, 1, 1, 1, 1, 1, 1, 1, 1, 1, 1, 1, 1, 1, 1, 1, 1, 1, 1, 1, 1, 1, 1, 1, 1, 1, 1, 1, 1, 1, 1, 1, 1, 1, 1, 1, 1, 1, 1, 1, 1, 1, 1, 1, 1, 1, 1, 1, 1, 1, 1, 1, 1, 1, 1, 1], \"xaxis\": \"x\", \"y\": [1, 0, 1, 2, 1, 2, 0, 0, 0, 0, 0, 0, 0, 6, 0, 1, 0, 0, 1, 3, 0, 0, 1, 1, 0, 0, 3, 0, 2, 0, 6, 0, 2, 0, 0, 0, 0, 3, 5, 1, 1, 0, 0, 1, 0, 1, 0, 2, 1, 2, 0, 1, 0, 1, 0, 0, 2, 1, 2, 3, 2, 1, 0, 0, 1, 2, 0, 0, 0, 0, 0, 0, 0, 0, 1, 0, 0, 0, 1, 0, 1, 6, 2, 1, 2, 2, 2, 0, 0, 0, 1, 6, 1, 1, 0, 0, 1, 0, 1, 2, 0, 0, 0, 0, 0, 1, 0, 1, 0, 2, 0, 3, 0, 1, 0, 0, 4, 0, 1, 2, 2, 0, 2, 0, 0, 2, 1, 2, 1, 0, 0, 2, 5, 0, 0, 1, 2, 1, 0, 0, 1, 0, 0, 0, 1, 1, 0, 0, 2, 1, 0, 0, 3, 0, 1, 2, 0, 0, 2, 1, 0, 2, 2, 1, 0, 0, 0, 1, 1, 3, 5, 2, 0, 0, 2, 1, 0, 3, 0, 1, 0, 1, 0, 0, 3, 3, 0, 1, 0, 1, 1, 2, 1, 0, 2, 0, 0, 0, 0, 1, 0, 1, 0, 1, 0, 2, 2, 2, 0, 2, 2, 1, 1, 0, 2, 2, 0, 0, 1, 2, 1, 0, 0, 2, 0, 0, 0, 1, 0, 2, 2, 2, 2, 1, 0, 1, 3, 0, 0, 3, 0, 1, 3, 3, 1, 2, 0, 0, 0, 0, 0, 0, 3, 1, 0, 0, 1, 0, 2, 1, 1, 2, 0, 0, 1, 0, 1, 1, 1, 0, 0, 1, 0, 0, 0, 0, 2, 0, 1, 0, 0, 1, 1, 3, 0, 0, 0, 0, 4, 0, 0, 2, 1, 3, 2, 0, 0, 3, 1, 4, 0, 1, 0, 1, 0, 3, 0, 0, 2, 3, 1, 0, 1, 2, 0, 1, 2, 0, 0, 1, 2, 2, 0, 0, 0, 1, 1, 1, 2, 0, 3, 0, 0, 1, 2, 2, 1, 0, 1, 1, 0, 0], \"yaxis\": \"y\"}, {\"alignmentgroup\": \"True\", \"customdata\": [[1, 1, \"female\", 38.0, 1, \"C\", 71.2833], [1, 3, \"female\", 26.0, 0, \"S\", 7.925], [1, 1, \"female\", 35.0, 1, \"S\", 53.1], [1, 3, \"female\", 27.0, 2, \"S\", 11.1333], [1, 2, \"female\", 14.0, 1, \"C\", 30.0708], [1, 3, \"female\", 4.0, 2, \"S\", 16.7], [1, 1, \"female\", 58.0, 0, \"S\", 26.55], [1, 2, \"female\", 55.0, 0, \"S\", 16.0], [1, 2, \"male\", 16.5, 0, \"S\", 13.0], [1, 3, \"female\", 33.0, 0, \"C\", 7.225], [1, 2, \"male\", 34.0, 0, \"S\", 13.0], [1, 3, \"female\", 15.0, 0, \"Q\", 8.0292], [1, 1, \"male\", 28.0, 0, \"S\", 35.5], [1, 3, \"female\", 38.0, 6, \"S\", 31.3875], [1, 3, \"female\", 26.0, 0, \"Q\", 7.8792], [1, 1, \"female\", 48.666666666666664, 1, \"C\", 146.5208], [1, 3, \"female\", 57.33333333333333, 0, \"Q\", 7.75], [1, 3, \"male\", 31.5, 0, \"C\", 7.2292], [1, 3, \"female\", 14.0, 1, \"C\", 11.2417], [1, 2, \"female\", 3.0, 3, \"C\", 41.5792], [1, 3, \"female\", 19.0, 0, \"Q\", 7.8792], [1, 3, \"female\", 18.4, 0, \"Q\", 7.75], [1, 1, \"female\", 49.0, 1, \"C\", 76.7292], [1, 2, \"female\", 29.0, 1, \"S\", 26.0], [1, 1, \"male\", 43.0, 0, \"S\", 35.5], [1, 2, \"female\", 21.0, 0, \"S\", 10.5], [1, 2, \"female\", 5.0, 3, \"S\", 27.75], [1, 1, \"female\", 38.0, 0, null, 80.0], [1, 3, \"male\", 20.666666666666668, 2, \"C\", 15.2458], [1, 2, \"female\", 29.0, 0, \"S\", 10.5], [1, 3, \"female\", 17.0, 6, \"S\", 7.925], [1, 3, \"male\", 32.0, 0, \"S\", 56.4958], [1, 2, \"male\", 0.83, 2, \"S\", 29.0], [1, 3, \"female\", 30.0, 0, \"S\", 12.475], [1, 3, \"male\", 29.0, 0, \"S\", 9.5], [1, 3, \"female\", 28.5, 0, \"Q\", 7.7875], [1, 2, \"female\", 17.0, 0, \"S\", 10.5], [1, 3, \"female\", 33.0, 3, \"S\", 15.85], [1, 1, \"female\", 23.0, 5, \"S\", 263.0], [1, 1, \"male\", 23.0, 1, \"C\", 63.3583], [1, 2, \"female\", 34.0, 1, \"S\", 23.0], [1, 3, \"female\", 21.0, 0, \"S\", 7.65], [1, 3, \"male\", 29.5, 0, \"S\", 7.775], [1, 3, \"female\", 42.5, 1, \"Q\", 24.15], [1, 2, \"female\", 32.5, 0, \"S\", 13.0], [1, 3, \"male\", 12.0, 1, \"C\", 11.2417], [1, 3, \"male\", 24.0, 0, \"S\", 7.1417], [1, 3, \"female\", 34.5, 2, \"C\", 22.3583], [1, 2, \"female\", 29.0, 1, \"S\", 26.0], [1, 1, \"female\", 19.0, 2, \"S\", 26.2833], [1, 3, \"female\", 22.0, 0, \"S\", 7.75], [1, 3, \"female\", 24.0, 1, \"S\", 15.85], [1, 3, \"male\", 27.0, 0, \"S\", 7.7958], [1, 1, \"female\", 22.0, 1, \"S\", 66.6], [1, 3, \"female\", 16.0, 0, \"Q\", 7.7333], [1, 2, \"female\", 40.0, 0, \"S\", 15.75], [1, 3, \"male\", 9.0, 2, \"S\", 20.525], [1, 1, \"female\", 27.0, 1, \"S\", 55.0], [1, 3, \"female\", 1.0, 2, \"S\", 11.1333], [1, 2, \"male\", 1.0, 3, \"S\", 39.0], [1, 3, \"female\", 4.0, 2, \"S\", 22.025], [1, 3, \"female\", 31.333333333333332, 1, \"Q\", 15.5], [1, 1, \"male\", 45.0, 0, \"S\", 26.55], [1, 2, \"female\", 32.0, 0, \"S\", 13.0], [1, 3, \"female\", 19.0, 1, \"S\", 7.8542], [1, 2, \"male\", 3.0, 2, \"S\", 26.0], [1, 1, \"female\", 44.0, 0, \"C\", 27.7208], [1, 1, \"female\", 58.0, 0, \"C\", 146.5208], [1, 3, \"female\", 33.0, 0, \"Q\", 7.75], [1, 3, \"male\", 18.0, 0, \"S\", 8.05], [1, 3, \"male\", 26.0, 0, \"C\", 18.7875], [1, 3, \"female\", 16.0, 0, \"Q\", 7.75], [1, 1, \"male\", 40.0, 0, \"C\", 31.0], [1, 2, \"female\", 35.0, 0, \"S\", 21.0], [1, 1, \"female\", 31.0, 1, \"C\", 113.275], [1, 3, \"female\", 27.0, 0, \"S\", 7.925], [1, 1, \"female\", 32.0, 0, \"C\", 76.2917], [1, 3, \"male\", 16.0, 0, \"S\", 8.05], [1, 1, \"male\", 38.0, 1, \"S\", 90.0], [1, 2, \"male\", 19.0, 0, \"S\", 10.5], [1, 1, \"female\", 35.0, 1, \"S\", 83.475], [1, 3, \"female\", 5.0, 6, \"S\", 31.3875], [1, 2, \"female\", 8.0, 2, \"S\", 26.25], [1, 3, \"female\", 30.333333333333332, 1, \"Q\", 15.5], [1, 2, \"female\", 24.0, 2, \"S\", 14.5], [1, 1, \"male\", 37.0, 2, \"S\", 52.5542], [1, 3, \"female\", 29.0, 2, \"C\", 15.2458], [1, 1, \"female\", 29.5, 0, \"C\", 79.2], [1, 1, \"female\", 30.0, 0, \"S\", 86.5], [1, 1, \"female\", 35.0, 0, \"C\", 512.3292], [1, 2, \"female\", 50.0, 1, \"S\", 26.0], [1, 3, \"male\", 3.0, 6, \"S\", 31.3875], [1, 3, \"male\", 25.0, 1, \"S\", 7.775], [1, 1, \"female\", 58.0, 1, \"S\", 153.4625], [1, 1, \"female\", 35.0, 0, \"S\", 135.6333], [1, 3, \"male\", 25.0, 0, \"S\", 0.0], [1, 2, \"female\", 41.0, 1, \"S\", 19.5], [1, 3, \"female\", 50.0, 0, \"Q\", 7.75], [1, 1, \"female\", 63.0, 1, \"S\", 77.9583], [1, 3, \"female\", 35.0, 2, \"S\", 20.25], [1, 3, \"male\", 19.0, 0, \"S\", 8.05], [1, 3, \"male\", 30.0, 0, \"S\", 9.5], [1, 2, \"male\", 42.0, 0, \"S\", 13.0], [1, 3, \"female\", 22.0, 0, \"Q\", 7.75], [1, 1, \"female\", 26.0, 0, \"S\", 78.85], [1, 1, \"female\", 19.0, 1, \"C\", 91.0792], [1, 1, \"male\", 26.0, 0, \"S\", 30.5], [1, 1, \"female\", 50.0, 1, \"C\", 247.5208], [1, 3, \"female\", 39.666666666666664, 0, \"Q\", 7.75], [1, 3, \"male\", 29.333333333333332, 2, \"Q\", 23.25], [1, 2, \"female\", 12.973333333333333, 0, \"Q\", 12.35], [1, 1, \"male\", 0.92, 3, \"S\", 151.55], [1, 1, \"female\", 8.959999999999999, 0, \"C\", 110.8833], [1, 1, \"female\", 17.0, 1, \"C\", 108.9], [1, 1, \"female\", 30.0, 0, \"C\", 56.9292], [1, 1, \"female\", 24.0, 0, \"C\", 83.1583], [1, 1, \"female\", 18.0, 4, \"C\", 262.375], [1, 3, \"female\", 26.0, 0, \"S\", 7.8542], [1, 2, \"female\", 24.0, 1, \"S\", 26.0], [1, 1, \"female\", 31.0, 2, \"S\", 164.8667], [1, 1, \"female\", 40.0, 2, \"C\", 134.5], [1, 2, \"female\", 30.0, 0, \"Q\", 12.35], [1, 2, \"female\", 22.0, 2, \"S\", 29.0], [1, 1, \"female\", 36.0, 0, \"C\", 135.6333], [1, 2, \"female\", 36.0, 0, \"S\", 13.0], [1, 3, \"female\", 31.0, 2, \"S\", 20.525], [1, 1, \"female\", 16.0, 1, \"C\", 57.9792], [1, 3, \"female\", 30.75, 2, \"Q\", 23.25], [1, 1, \"female\", 20.333333333333332, 1, \"S\", 133.65], [1, 1, \"female\", 41.0, 0, \"C\", 134.5], [1, 3, \"male\", 45.0, 0, \"S\", 8.05], [1, 2, \"male\", 2.0, 2, \"S\", 26.0], [1, 1, \"female\", 24.0, 5, \"S\", 263.0], [1, 2, \"female\", 24.0, 0, \"S\", 13.0], [1, 2, \"female\", 40.0, 0, \"S\", 13.0], [1, 3, \"female\", 21.5, 1, \"S\", 16.1], [1, 3, \"male\", 3.0, 2, \"S\", 15.9], [1, 1, \"female\", 22.0, 1, \"S\", 55.0], [1, 3, \"female\", 38.666666666666664, 0, \"Q\", 7.8792], [1, 3, \"female\", 39.333333333333336, 0, \"Q\", 7.8792], [1, 1, \"female\", 60.0, 1, \"C\", 75.25], [1, 3, \"female\", 48.0, 0, \"C\", 7.2292], [1, 3, \"female\", 36.0, 0, \"Q\", 7.75], [1, 1, \"female\", 24.0, 0, \"C\", 69.3], [1, 1, \"male\", 25.0, 1, \"C\", 55.4417], [1, 1, \"female\", 12.5, 1, \"C\", 82.1708], [1, 3, \"female\", 22.0, 0, \"S\", 7.25], [1, 1, \"female\", 42.0, 0, \"C\", 227.525], [1, 3, \"female\", 1.0, 2, \"C\", 15.7417], [1, 1, \"female\", 35.0, 1, \"S\", 52.0], [1, 2, \"female\", 36.0, 0, \"S\", 13.0], [1, 2, \"female\", 17.0, 0, \"C\", 12.0], [1, 1, \"male\", 36.0, 3, \"S\", 120.0], [1, 3, \"male\", 21.0, 0, \"S\", 7.7958], [1, 1, \"female\", 23.0, 1, \"C\", 113.275], [1, 3, \"female\", 24.0, 2, \"S\", 16.7], [1, 2, \"female\", 28.0, 0, \"S\", 12.65], [1, 3, \"male\", 39.0, 0, \"S\", 7.925], [1, 2, \"male\", 3.0, 2, \"S\", 18.75], [1, 1, \"female\", 33.0, 1, \"Q\", 90.0], [1, 3, \"male\", 44.0, 0, \"S\", 7.925], [1, 2, \"female\", 34.0, 2, \"S\", 32.5], [1, 2, \"female\", 18.0, 2, \"S\", 13.0], [1, 2, \"female\", 28.0, 1, \"S\", 26.0], [1, 2, \"female\", 19.0, 0, \"S\", 26.0], [1, 3, \"male\", 32.0, 0, \"S\", 8.05], [1, 1, \"male\", 28.0, 0, \"S\", 26.55], [1, 3, \"female\", 35.0, 1, \"S\", 16.1], [1, 2, \"female\", 42.0, 1, \"S\", 26.0], [1, 1, \"female\", 14.0, 3, \"S\", 120.0], [1, 2, \"female\", 24.0, 5, \"S\", 18.75], [1, 2, \"female\", 45.0, 2, \"S\", 26.25], [1, 2, \"female\", 28.0, 0, \"S\", 13.0], [1, 3, \"male\", 16.0, 0, \"S\", 8.1125], [1, 1, \"male\", 4.0, 2, \"S\", 81.8583], [1, 2, \"female\", 13.0, 1, \"S\", 19.5], [1, 1, \"male\", 34.0, 0, \"S\", 26.55], [1, 3, \"female\", 5.0, 3, \"C\", 19.2583], [1, 1, \"male\", 52.0, 0, \"S\", 30.5], [1, 1, \"male\", 49.0, 1, \"C\", 89.1042], [1, 3, \"male\", 29.0, 0, \"C\", 7.8958], [1, 1, \"female\", 57.5, 1, \"S\", 51.8625], [1, 2, \"female\", 50.0, 0, \"S\", 10.5], [1, 1, \"male\", 48.0, 0, \"S\", 26.55], [1, 3, \"female\", 0.75, 3, \"C\", 19.2583], [1, 2, \"female\", 33.0, 3, \"S\", 27.75], [1, 2, \"female\", 23.0, 0, \"C\", 13.7917], [1, 3, \"female\", 2.0, 1, \"S\", 12.2875], [1, 3, \"female\", 63.0, 0, \"S\", 9.5875], [1, 1, \"male\", 25.0, 1, \"C\", 91.0792], [1, 1, \"female\", 35.0, 1, \"S\", 90.0], [1, 3, \"male\", 9.0, 2, \"S\", 15.9], [1, 1, \"female\", 54.0, 1, \"C\", 78.2667], [1, 1, \"female\", 16.0, 0, \"S\", 86.5], [1, 2, \"female\", 33.0, 2, \"S\", 26.0], [1, 1, \"male\", 30.5, 0, \"S\", 26.55], [1, 3, \"male\", 26.0, 0, \"S\", 56.4958], [1, 3, \"male\", 29.0, 0, \"Q\", 7.75], [1, 1, \"male\", 36.0, 0, \"S\", 26.2875], [1, 1, \"female\", 54.0, 1, \"C\", 59.4], [1, 2, \"female\", 34.0, 0, \"S\", 10.5], [1, 2, \"female\", 36.0, 1, \"S\", 26.0], [1, 1, \"female\", 30.0, 0, \"S\", 93.5], [1, 1, \"female\", 44.0, 1, \"C\", 57.9792], [1, 2, \"female\", 50.0, 0, \"S\", 10.5], [1, 2, \"female\", 2.0, 2, \"S\", 26.0], [1, 3, \"female\", 23.5, 2, \"C\", 22.3583], [1, 2, \"female\", 7.0, 2, \"S\", 26.25], [1, 1, \"female\", 30.0, 0, \"C\", 106.425], [1, 1, \"female\", 22.0, 2, \"C\", 49.5], [1, 1, \"female\", 36.0, 2, \"S\", 71.0], [1, 2, \"male\", 32.0, 1, \"S\", 26.0], [1, 2, \"female\", 19.0, 1, \"S\", 26.0], [1, 2, \"male\", 26.0, 0, \"C\", 13.8625], [1, 2, \"male\", 8.0, 2, \"S\", 36.75], [1, 1, \"male\", 17.0, 2, \"C\", 110.8833], [1, 3, \"male\", 22.0, 0, \"C\", 7.225], [1, 3, \"female\", 22.0, 0, \"S\", 7.775], [1, 1, \"female\", 48.0, 1, \"C\", 39.6], [1, 1, \"female\", 39.0, 2, \"S\", 79.65], [1, 3, \"female\", 36.0, 1, \"S\", 17.4], [1, 3, \"male\", 32.0, 0, \"S\", 7.8542], [1, 2, \"male\", 62.0, 0, \"S\", 10.5], [1, 1, \"female\", 53.0, 2, \"S\", 51.4792], [1, 1, \"male\", 36.0, 0, \"S\", 26.3875], [1, 3, \"female\", 26.0, 0, \"Q\", 7.75], [1, 2, \"female\", 34.0, 0, \"S\", 13.0], [1, 1, \"female\", 39.0, 1, \"S\", 55.9], [1, 3, \"male\", 32.0, 0, \"S\", 7.925], [1, 2, \"female\", 25.0, 2, \"S\", 30.0], [1, 1, \"female\", 39.0, 2, \"C\", 110.8833], [1, 1, \"female\", 18.0, 2, \"S\", 79.65], [1, 1, \"male\", 60.0, 2, \"C\", 79.2], [1, 1, \"female\", 52.0, 1, \"C\", 78.2667], [1, 2, \"female\", 42.5, 0, \"S\", 33.0], [1, 1, \"male\", 49.0, 1, \"C\", 56.9292], [1, 2, \"female\", 24.0, 3, \"S\", 27.0], [1, 1, \"male\", 35.0, 0, \"C\", 26.55], [1, 1, \"male\", 27.0, 0, \"S\", 30.5], [1, 2, \"female\", 22.0, 3, \"C\", 41.5792], [1, 1, \"female\", 40.0, 0, \"S\", 153.4625], [1, 3, \"female\", 37.0, 1, \"Q\", 15.5], [1, 2, \"female\", 24.0, 3, \"S\", 65.0], [1, 2, \"female\", 4.0, 3, \"S\", 39.0], [1, 1, \"male\", 42.0, 1, \"S\", 52.5542], [1, 3, \"male\", 20.0, 2, \"C\", 15.7417], [1, 1, \"female\", 21.0, 0, \"S\", 77.9583], [1, 1, \"male\", 80.0, 0, \"S\", 30.0], [1, 1, \"male\", 32.0, 0, \"C\", 30.5], [1, 2, \"female\", 28.0, 0, \"S\", 13.0], [1, 1, \"female\", 24.0, 0, \"C\", 69.3], [1, 3, \"male\", 1.375, 0, \"S\", 56.4958], [1, 3, \"female\", 0.75, 3, \"C\", 19.2583], [1, 1, \"male\", 48.0, 1, \"C\", 76.7292], [1, 1, \"male\", 56.0, 0, \"C\", 35.5], [1, 3, \"female\", 23.0, 0, \"S\", 7.55], [1, 2, \"female\", 18.0, 1, \"S\", 23.0], [1, 3, \"female\", 19.5, 0, \"Q\", 7.8292], [1, 1, \"male\", 50.0, 2, \"S\", 133.65], [1, 3, \"male\", 20.0, 1, \"S\", 7.925], [1, 1, \"female\", 41.5, 1, \"S\", 52.0], [1, 2, \"female\", 40.0, 2, \"S\", 39.0], [1, 2, \"male\", 31.0, 0, \"S\", 13.0], [1, 3, \"female\", 18.0, 0, \"S\", 9.8417], [1, 1, \"male\", 36.0, 1, \"C\", 512.3292], [1, 1, \"male\", 27.0, 0, \"C\", 76.7292], [1, 1, \"female\", 15.0, 1, \"S\", 211.3375], [1, 1, \"male\", 31.0, 1, \"S\", 57.0], [1, 3, \"female\", 4.0, 1, \"C\", 13.4167], [1, 3, \"male\", 14.5, 0, \"S\", 56.4958], [1, 3, \"female\", 46.5, 0, \"Q\", 7.7333], [1, 1, \"female\", 18.0, 1, \"C\", 227.525], [1, 1, \"male\", 35.0, 0, \"S\", 26.2875], [1, 2, \"female\", 45.0, 0, \"S\", 13.5], [1, 1, \"male\", 42.0, 0, \"S\", 26.2875], [1, 1, \"female\", 22.0, 0, \"S\", 151.55], [1, 3, \"male\", 23.0, 2, \"C\", 15.2458], [1, 1, \"female\", 24.0, 0, \"C\", 49.5042], [1, 1, \"male\", 48.0, 1, \"S\", 52.0], [1, 1, \"female\", 38.0, 0, \"C\", 227.525], [1, 2, \"female\", 27.0, 0, \"S\", 10.5], [1, 2, \"female\", 6.0, 1, \"S\", 33.0], [1, 1, \"male\", 27.0, 1, \"S\", 53.1], [1, 2, \"female\", 30.0, 3, \"S\", 21.0], [1, 3, \"female\", 27.5, 0, \"Q\", 7.7375], [1, 1, \"female\", 29.0, 0, \"S\", 211.3375], [1, 1, \"male\", 35.0, 0, \"C\", 512.3292], [1, 1, \"male\", 35.75, 0, \"S\", 30.0], [1, 1, \"female\", 21.0, 4, \"C\", 262.375], [1, 3, \"male\", 31.0, 0, \"S\", 7.925], [1, 2, \"female\", 30.0, 0, \"S\", 13.0], [1, 2, \"female\", 4.0, 2, \"S\", 23.0], [1, 3, \"male\", 6.0, 1, \"S\", 12.475], [1, 2, \"female\", 48.0, 3, \"S\", 65.0], [1, 2, \"male\", 0.67, 2, \"S\", 14.5], [1, 1, \"female\", 33.0, 0, \"S\", 86.5], [1, 3, \"male\", 20.0, 0, \"C\", 7.2292], [1, 1, \"female\", 36.0, 3, \"S\", 120.0], [1, 1, \"female\", 51.0, 1, \"S\", 77.9583], [1, 2, \"female\", 54.0, 4, \"S\", 23.0], [1, 3, \"female\", 5.0, 0, \"S\", 12.475], [1, 1, \"female\", 43.0, 1, \"S\", 211.3375], [1, 3, \"female\", 13.0, 0, \"C\", 7.2292], [1, 1, \"female\", 17.0, 1, \"S\", 57.0], [1, 3, \"female\", 18.0, 0, \"S\", 7.4958], [1, 3, \"male\", 1.0, 3, \"S\", 20.575], [1, 1, \"female\", 49.0, 0, \"S\", 25.9292], [1, 3, \"female\", 31.0, 0, \"S\", 8.6833], [1, 2, \"female\", 31.0, 2, \"S\", 26.25], [1, 1, \"male\", 11.0, 3, \"S\", 120.0], [1, 3, \"male\", 0.42, 1, \"C\", 8.5167], [1, 3, \"male\", 27.0, 0, \"S\", 6.975], [1, 1, \"female\", 33.0, 1, \"S\", 53.1], [1, 1, \"female\", 52.0, 2, \"S\", 93.5], [1, 3, \"male\", 27.0, 0, \"S\", 8.6625], [1, 3, \"female\", 27.0, 1, \"S\", 12.475], [1, 2, \"male\", 1.0, 2, \"C\", 37.0042], [1, 3, \"male\", 31.5, 0, \"Q\", 7.75], [1, 1, \"female\", 62.0, 0, null, 80.0], [1, 3, \"female\", 15.0, 1, \"C\", 14.4542], [1, 2, \"male\", 0.83, 2, \"S\", 18.75], [1, 1, \"female\", 39.0, 2, \"C\", 83.1583], [1, 3, \"male\", 32.0, 0, \"S\", 56.4958], [1, 1, \"male\", 26.0, 0, \"C\", 29.7], [1, 1, \"female\", 30.0, 0, \"C\", 31.0], [1, 1, \"female\", 16.0, 1, \"C\", 89.1042], [1, 1, \"female\", 16.0, 1, \"S\", 39.4], [1, 3, \"female\", 18.0, 1, \"S\", 9.35], [1, 1, \"female\", 45.0, 2, \"S\", 164.8667], [1, 1, \"male\", 51.0, 0, \"S\", 26.55], [1, 3, \"female\", 24.0, 3, \"C\", 19.2583], [1, 1, \"female\", 48.0, 0, \"S\", 25.9292], [1, 2, \"female\", 42.0, 0, \"S\", 13.0], [1, 2, \"female\", 27.0, 1, \"C\", 13.8583], [1, 3, \"male\", 4.0, 2, \"S\", 11.1333], [1, 1, \"female\", 47.0, 2, \"S\", 52.5542], [1, 2, \"female\", 28.0, 1, \"C\", 24.0], [1, 3, \"female\", 15.0, 0, \"C\", 7.225], [1, 1, \"female\", 56.0, 1, \"C\", 83.1583], [1, 2, \"female\", 25.0, 1, \"S\", 26.0], [1, 1, \"female\", 19.0, 0, \"S\", 30.0], [1, 1, \"male\", 26.0, 0, \"C\", 30.0]], \"hovertemplate\": \"Survived=%{customdata[0]}<br>Family=%{customdata[4]}<br>Pclass=%{customdata[1]}<br>Sex=%{customdata[2]}<br>Age=%{customdata[3]}<br>Embarked=%{customdata[5]}<br>Fare=%{customdata[6]}<extra></extra>\", \"legendgroup\": \"1\", \"marker\": {\"color\": \"#EF553B\"}, \"name\": \"1\", \"notched\": true, \"offsetgroup\": \"1\", \"showlegend\": false, \"type\": \"box\", \"xaxis\": \"x2\", \"y\": [1, 0, 1, 2, 1, 2, 0, 0, 0, 0, 0, 0, 0, 6, 0, 1, 0, 0, 1, 3, 0, 0, 1, 1, 0, 0, 3, 0, 2, 0, 6, 0, 2, 0, 0, 0, 0, 3, 5, 1, 1, 0, 0, 1, 0, 1, 0, 2, 1, 2, 0, 1, 0, 1, 0, 0, 2, 1, 2, 3, 2, 1, 0, 0, 1, 2, 0, 0, 0, 0, 0, 0, 0, 0, 1, 0, 0, 0, 1, 0, 1, 6, 2, 1, 2, 2, 2, 0, 0, 0, 1, 6, 1, 1, 0, 0, 1, 0, 1, 2, 0, 0, 0, 0, 0, 1, 0, 1, 0, 2, 0, 3, 0, 1, 0, 0, 4, 0, 1, 2, 2, 0, 2, 0, 0, 2, 1, 2, 1, 0, 0, 2, 5, 0, 0, 1, 2, 1, 0, 0, 1, 0, 0, 0, 1, 1, 0, 0, 2, 1, 0, 0, 3, 0, 1, 2, 0, 0, 2, 1, 0, 2, 2, 1, 0, 0, 0, 1, 1, 3, 5, 2, 0, 0, 2, 1, 0, 3, 0, 1, 0, 1, 0, 0, 3, 3, 0, 1, 0, 1, 1, 2, 1, 0, 2, 0, 0, 0, 0, 1, 0, 1, 0, 1, 0, 2, 2, 2, 0, 2, 2, 1, 1, 0, 2, 2, 0, 0, 1, 2, 1, 0, 0, 2, 0, 0, 0, 1, 0, 2, 2, 2, 2, 1, 0, 1, 3, 0, 0, 3, 0, 1, 3, 3, 1, 2, 0, 0, 0, 0, 0, 0, 3, 1, 0, 0, 1, 0, 2, 1, 1, 2, 0, 0, 1, 0, 1, 1, 1, 0, 0, 1, 0, 0, 0, 0, 2, 0, 1, 0, 0, 1, 1, 3, 0, 0, 0, 0, 4, 0, 0, 2, 1, 3, 2, 0, 0, 3, 1, 4, 0, 1, 0, 1, 0, 3, 0, 0, 2, 3, 1, 0, 1, 2, 0, 1, 2, 0, 0, 1, 2, 2, 0, 0, 0, 1, 1, 1, 2, 0, 3, 0, 0, 1, 2, 2, 1, 0, 1, 1, 0, 0], \"yaxis\": \"y2\"}],\n",
       "                        {\"barmode\": \"relative\", \"height\": 400, \"legend\": {\"title\": {\"text\": \"Survived\"}, \"tracegroupgap\": 0}, \"template\": {\"data\": {\"bar\": [{\"error_x\": {\"color\": \"#2a3f5f\"}, \"error_y\": {\"color\": \"#2a3f5f\"}, \"marker\": {\"line\": {\"color\": \"#E5ECF6\", \"width\": 0.5}}, \"type\": \"bar\"}], \"barpolar\": [{\"marker\": {\"line\": {\"color\": \"#E5ECF6\", \"width\": 0.5}}, \"type\": \"barpolar\"}], \"carpet\": [{\"aaxis\": {\"endlinecolor\": \"#2a3f5f\", \"gridcolor\": \"white\", \"linecolor\": \"white\", \"minorgridcolor\": \"white\", \"startlinecolor\": \"#2a3f5f\"}, \"baxis\": {\"endlinecolor\": \"#2a3f5f\", \"gridcolor\": \"white\", \"linecolor\": \"white\", \"minorgridcolor\": \"white\", \"startlinecolor\": \"#2a3f5f\"}, \"type\": \"carpet\"}], \"choropleth\": [{\"colorbar\": {\"outlinewidth\": 0, \"ticks\": \"\"}, \"type\": \"choropleth\"}], \"contour\": [{\"colorbar\": {\"outlinewidth\": 0, \"ticks\": \"\"}, \"colorscale\": [[0.0, \"#0d0887\"], [0.1111111111111111, \"#46039f\"], [0.2222222222222222, \"#7201a8\"], [0.3333333333333333, \"#9c179e\"], [0.4444444444444444, \"#bd3786\"], [0.5555555555555556, \"#d8576b\"], [0.6666666666666666, \"#ed7953\"], [0.7777777777777778, \"#fb9f3a\"], [0.8888888888888888, \"#fdca26\"], [1.0, \"#f0f921\"]], \"type\": \"contour\"}], \"contourcarpet\": [{\"colorbar\": {\"outlinewidth\": 0, \"ticks\": \"\"}, \"type\": \"contourcarpet\"}], \"heatmap\": [{\"colorbar\": {\"outlinewidth\": 0, \"ticks\": \"\"}, \"colorscale\": [[0.0, \"#0d0887\"], [0.1111111111111111, \"#46039f\"], [0.2222222222222222, \"#7201a8\"], [0.3333333333333333, \"#9c179e\"], [0.4444444444444444, \"#bd3786\"], [0.5555555555555556, \"#d8576b\"], [0.6666666666666666, \"#ed7953\"], [0.7777777777777778, \"#fb9f3a\"], [0.8888888888888888, \"#fdca26\"], [1.0, \"#f0f921\"]], \"type\": \"heatmap\"}], \"heatmapgl\": [{\"colorbar\": {\"outlinewidth\": 0, \"ticks\": \"\"}, \"colorscale\": [[0.0, \"#0d0887\"], [0.1111111111111111, \"#46039f\"], [0.2222222222222222, \"#7201a8\"], [0.3333333333333333, \"#9c179e\"], [0.4444444444444444, \"#bd3786\"], [0.5555555555555556, \"#d8576b\"], [0.6666666666666666, \"#ed7953\"], [0.7777777777777778, \"#fb9f3a\"], [0.8888888888888888, \"#fdca26\"], [1.0, \"#f0f921\"]], \"type\": \"heatmapgl\"}], \"histogram\": [{\"marker\": {\"colorbar\": {\"outlinewidth\": 0, \"ticks\": \"\"}}, \"type\": \"histogram\"}], \"histogram2d\": [{\"colorbar\": {\"outlinewidth\": 0, \"ticks\": \"\"}, \"colorscale\": [[0.0, \"#0d0887\"], [0.1111111111111111, \"#46039f\"], [0.2222222222222222, \"#7201a8\"], [0.3333333333333333, \"#9c179e\"], [0.4444444444444444, \"#bd3786\"], [0.5555555555555556, \"#d8576b\"], [0.6666666666666666, \"#ed7953\"], [0.7777777777777778, \"#fb9f3a\"], [0.8888888888888888, \"#fdca26\"], [1.0, \"#f0f921\"]], \"type\": \"histogram2d\"}], \"histogram2dcontour\": [{\"colorbar\": {\"outlinewidth\": 0, \"ticks\": \"\"}, \"colorscale\": [[0.0, \"#0d0887\"], [0.1111111111111111, \"#46039f\"], [0.2222222222222222, \"#7201a8\"], [0.3333333333333333, \"#9c179e\"], [0.4444444444444444, \"#bd3786\"], [0.5555555555555556, \"#d8576b\"], [0.6666666666666666, \"#ed7953\"], [0.7777777777777778, \"#fb9f3a\"], [0.8888888888888888, \"#fdca26\"], [1.0, \"#f0f921\"]], \"type\": \"histogram2dcontour\"}], \"mesh3d\": [{\"colorbar\": {\"outlinewidth\": 0, \"ticks\": \"\"}, \"type\": \"mesh3d\"}], \"parcoords\": [{\"line\": {\"colorbar\": {\"outlinewidth\": 0, \"ticks\": \"\"}}, \"type\": \"parcoords\"}], \"pie\": [{\"automargin\": true, \"type\": \"pie\"}], \"scatter\": [{\"marker\": {\"colorbar\": {\"outlinewidth\": 0, \"ticks\": \"\"}}, \"type\": \"scatter\"}], \"scatter3d\": [{\"line\": {\"colorbar\": {\"outlinewidth\": 0, \"ticks\": \"\"}}, \"marker\": {\"colorbar\": {\"outlinewidth\": 0, \"ticks\": \"\"}}, \"type\": \"scatter3d\"}], \"scattercarpet\": [{\"marker\": {\"colorbar\": {\"outlinewidth\": 0, \"ticks\": \"\"}}, \"type\": \"scattercarpet\"}], \"scattergeo\": [{\"marker\": {\"colorbar\": {\"outlinewidth\": 0, \"ticks\": \"\"}}, \"type\": \"scattergeo\"}], \"scattergl\": [{\"marker\": {\"colorbar\": {\"outlinewidth\": 0, \"ticks\": \"\"}}, \"type\": \"scattergl\"}], \"scattermapbox\": [{\"marker\": {\"colorbar\": {\"outlinewidth\": 0, \"ticks\": \"\"}}, \"type\": \"scattermapbox\"}], \"scatterpolar\": [{\"marker\": {\"colorbar\": {\"outlinewidth\": 0, \"ticks\": \"\"}}, \"type\": \"scatterpolar\"}], \"scatterpolargl\": [{\"marker\": {\"colorbar\": {\"outlinewidth\": 0, \"ticks\": \"\"}}, \"type\": \"scatterpolargl\"}], \"scatterternary\": [{\"marker\": {\"colorbar\": {\"outlinewidth\": 0, \"ticks\": \"\"}}, \"type\": \"scatterternary\"}], \"surface\": [{\"colorbar\": {\"outlinewidth\": 0, \"ticks\": \"\"}, \"colorscale\": [[0.0, \"#0d0887\"], [0.1111111111111111, \"#46039f\"], [0.2222222222222222, \"#7201a8\"], [0.3333333333333333, \"#9c179e\"], [0.4444444444444444, \"#bd3786\"], [0.5555555555555556, \"#d8576b\"], [0.6666666666666666, \"#ed7953\"], [0.7777777777777778, \"#fb9f3a\"], [0.8888888888888888, \"#fdca26\"], [1.0, \"#f0f921\"]], \"type\": \"surface\"}], \"table\": [{\"cells\": {\"fill\": {\"color\": \"#EBF0F8\"}, \"line\": {\"color\": \"white\"}}, \"header\": {\"fill\": {\"color\": \"#C8D4E3\"}, \"line\": {\"color\": \"white\"}}, \"type\": \"table\"}]}, \"layout\": {\"annotationdefaults\": {\"arrowcolor\": \"#2a3f5f\", \"arrowhead\": 0, \"arrowwidth\": 1}, \"coloraxis\": {\"colorbar\": {\"outlinewidth\": 0, \"ticks\": \"\"}}, \"colorscale\": {\"diverging\": [[0, \"#8e0152\"], [0.1, \"#c51b7d\"], [0.2, \"#de77ae\"], [0.3, \"#f1b6da\"], [0.4, \"#fde0ef\"], [0.5, \"#f7f7f7\"], [0.6, \"#e6f5d0\"], [0.7, \"#b8e186\"], [0.8, \"#7fbc41\"], [0.9, \"#4d9221\"], [1, \"#276419\"]], \"sequential\": [[0.0, \"#0d0887\"], [0.1111111111111111, \"#46039f\"], [0.2222222222222222, \"#7201a8\"], [0.3333333333333333, \"#9c179e\"], [0.4444444444444444, \"#bd3786\"], [0.5555555555555556, \"#d8576b\"], [0.6666666666666666, \"#ed7953\"], [0.7777777777777778, \"#fb9f3a\"], [0.8888888888888888, \"#fdca26\"], [1.0, \"#f0f921\"]], \"sequentialminus\": [[0.0, \"#0d0887\"], [0.1111111111111111, \"#46039f\"], [0.2222222222222222, \"#7201a8\"], [0.3333333333333333, \"#9c179e\"], [0.4444444444444444, \"#bd3786\"], [0.5555555555555556, \"#d8576b\"], [0.6666666666666666, \"#ed7953\"], [0.7777777777777778, \"#fb9f3a\"], [0.8888888888888888, \"#fdca26\"], [1.0, \"#f0f921\"]]}, \"colorway\": [\"#636efa\", \"#EF553B\", \"#00cc96\", \"#ab63fa\", \"#FFA15A\", \"#19d3f3\", \"#FF6692\", \"#B6E880\", \"#FF97FF\", \"#FECB52\"], \"font\": {\"color\": \"#2a3f5f\"}, \"geo\": {\"bgcolor\": \"white\", \"lakecolor\": \"white\", \"landcolor\": \"#E5ECF6\", \"showlakes\": true, \"showland\": true, \"subunitcolor\": \"white\"}, \"hoverlabel\": {\"align\": \"left\"}, \"hovermode\": \"closest\", \"mapbox\": {\"style\": \"light\"}, \"paper_bgcolor\": \"white\", \"plot_bgcolor\": \"#E5ECF6\", \"polar\": {\"angularaxis\": {\"gridcolor\": \"white\", \"linecolor\": \"white\", \"ticks\": \"\"}, \"bgcolor\": \"#E5ECF6\", \"radialaxis\": {\"gridcolor\": \"white\", \"linecolor\": \"white\", \"ticks\": \"\"}}, \"scene\": {\"xaxis\": {\"backgroundcolor\": \"#E5ECF6\", \"gridcolor\": \"white\", \"gridwidth\": 2, \"linecolor\": \"white\", \"showbackground\": true, \"ticks\": \"\", \"zerolinecolor\": \"white\"}, \"yaxis\": {\"backgroundcolor\": \"#E5ECF6\", \"gridcolor\": \"white\", \"gridwidth\": 2, \"linecolor\": \"white\", \"showbackground\": true, \"ticks\": \"\", \"zerolinecolor\": \"white\"}, \"zaxis\": {\"backgroundcolor\": \"#E5ECF6\", \"gridcolor\": \"white\", \"gridwidth\": 2, \"linecolor\": \"white\", \"showbackground\": true, \"ticks\": \"\", \"zerolinecolor\": \"white\"}}, \"shapedefaults\": {\"line\": {\"color\": \"#2a3f5f\"}}, \"ternary\": {\"aaxis\": {\"gridcolor\": \"white\", \"linecolor\": \"white\", \"ticks\": \"\"}, \"baxis\": {\"gridcolor\": \"white\", \"linecolor\": \"white\", \"ticks\": \"\"}, \"bgcolor\": \"#E5ECF6\", \"caxis\": {\"gridcolor\": \"white\", \"linecolor\": \"white\", \"ticks\": \"\"}}, \"title\": {\"x\": 0.05}, \"xaxis\": {\"automargin\": true, \"gridcolor\": \"white\", \"linecolor\": \"white\", \"ticks\": \"\", \"title\": {\"standoff\": 15}, \"zerolinecolor\": \"white\", \"zerolinewidth\": 2}, \"yaxis\": {\"automargin\": true, \"gridcolor\": \"white\", \"linecolor\": \"white\", \"ticks\": \"\", \"title\": {\"standoff\": 15}, \"zerolinecolor\": \"white\", \"zerolinewidth\": 2}}}, \"title\": {\"text\": \"Number of Family Members Aboard for Survived and Dead Groups\"}, \"width\": 700, \"xaxis\": {\"anchor\": \"y\", \"categoryarray\": [0, 1], \"categoryorder\": \"array\", \"domain\": [0.0, 0.7363], \"title\": {\"text\": \"sum of Survived\"}}, \"xaxis2\": {\"anchor\": \"y2\", \"categoryarray\": [0, 1], \"categoryorder\": \"array\", \"domain\": [0.7413, 1.0], \"matches\": \"x2\", \"showgrid\": false, \"showline\": false, \"showticklabels\": false, \"ticks\": \"\"}, \"yaxis\": {\"anchor\": \"x\", \"domain\": [0.0, 1.0], \"title\": {\"text\": \"Family\"}}, \"yaxis2\": {\"anchor\": \"x2\", \"domain\": [0.0, 1.0], \"matches\": \"y\", \"showgrid\": true, \"showticklabels\": false}},\n",
       "                        {\"responsive\": true}\n",
       "                    ).then(function(){\n",
       "                            \n",
       "var gd = document.getElementById('8f83af2e-0305-4044-83bd-c83b6501f167');\n",
       "var x = new MutationObserver(function (mutations, observer) {{\n",
       "        var display = window.getComputedStyle(gd).display;\n",
       "        if (!display || display === 'none') {{\n",
       "            console.log([gd, 'removed!']);\n",
       "            Plotly.purge(gd);\n",
       "            observer.disconnect();\n",
       "        }}\n",
       "}});\n",
       "\n",
       "// Listen for the removal of the full notebook cells\n",
       "var notebookContainer = gd.closest('#notebook-container');\n",
       "if (notebookContainer) {{\n",
       "    x.observe(notebookContainer, {childList: true});\n",
       "}}\n",
       "\n",
       "// Listen for the clearing of the current output cell\n",
       "var outputEl = gd.closest('.output');\n",
       "if (outputEl) {{\n",
       "    x.observe(outputEl, {childList: true});\n",
       "}}\n",
       "\n",
       "                        })\n",
       "                };\n",
       "                });\n",
       "            </script>\n",
       "        </div>"
      ]
     },
     "metadata": {},
     "output_type": "display_data"
    }
   ],
   "source": [
    "fig = px.histogram(train, x='Survived', y='Family', color='Survived', marginal='box', opacity=0.75, \n",
    "                   hover_data=train.columns, orientation='h', title='Number of Family Members Aboard for Survived and Dead Groups')\n",
    "fig.update_layout(width=700, height=400)\n",
    "fig.show()"
   ]
  },
  {
   "cell_type": "markdown",
   "execution_count": null,
   "metadata": {},
   "source": [
    "We can expect that the one guy who paid way more for this than everybody else did survived."
   ]
  },
  {
   "cell_type": "code",
   "execution_count": 8,
   "metadata": {},
   "outputs": [
    {
     "data": {
      "text/html": [
       "<div>\n",
       "        \n",
       "        \n",
       "            <div id=\"463ee9d3-8c60-4efc-95c6-2915bdcb7dc5\" class=\"plotly-graph-div\" style=\"height:400px; width:700px;\"></div>\n",
       "            <script type=\"text/javascript\">\n",
       "                require([\"plotly\"], function(Plotly) {\n",
       "                    window.PLOTLYENV=window.PLOTLYENV || {};\n",
       "                    \n",
       "                if (document.getElementById(\"463ee9d3-8c60-4efc-95c6-2915bdcb7dc5\")) {\n",
       "                    Plotly.newPlot(\n",
       "                        '463ee9d3-8c60-4efc-95c6-2915bdcb7dc5',\n",
       "                        [{\"alignmentgroup\": \"True\", \"bingroup\": \"x\", \"histfunc\": \"sum\", \"hovertemplate\": \"Survived=0<br>Fare=%{x}<br>sum of Survived=%{y}<extra></extra>\", \"legendgroup\": \"0\", \"marker\": {\"color\": \"#636efa\", \"opacity\": 0.75}, \"name\": \"0\", \"offsetgroup\": \"0\", \"orientation\": \"v\", \"showlegend\": true, \"type\": \"histogram\", \"x\": [7.25, 8.05, 8.4583, 51.8625, 21.075, 8.05, 31.275, 7.8542, 29.125, 18.0, 26.0, 21.075, 7.225, 263.0, 7.8958, 27.7208, 10.5, 82.1708, 52.0, 8.05, 18.0, 9.475, 21.0, 7.8958, 8.05, 15.5, 21.6792, 17.8, 39.6875, 7.8, 61.9792, 7.2292, 46.9, 7.2292, 83.475, 27.9, 27.7208, 8.1583, 8.6625, 10.5, 46.9, 73.5, 14.4542, 7.65, 7.8958, 8.05, 9.0, 47.1, 34.375, 8.05, 8.05, 8.05, 7.8542, 61.175, 20.575, 7.25, 8.05, 34.6542, 26.0, 7.8958, 7.8958, 77.2875, 8.6542, 7.925, 7.8958, 7.8958, 52.0, 14.4542, 8.05, 9.825, 14.4583, 7.925, 7.75, 21.0, 247.5208, 31.275, 73.5, 8.05, 30.0708, 77.2875, 7.75, 6.975, 7.8958, 7.05, 14.5, 13.0, 15.0458, 53.1, 9.2167, 79.2, 15.2458, 6.75, 11.5, 36.75, 34.375, 26.0, 13.0, 12.525, 8.05, 14.5, 7.3125, 61.3792, 8.05, 8.6625, 69.55, 16.1, 7.775, 8.6625, 39.6875, 27.9, 25.925, 56.4958, 33.5, 29.125, 7.925, 30.6958, 7.8542, 25.4667, 28.7125, 13.0, 0.0, 69.55, 15.05, 31.3875, 50.0, 15.5, 7.8958, 13.0, 7.75, 8.4042, 13.0, 9.5, 69.55, 6.4958, 7.225, 10.4625, 15.85, 7.05, 7.25, 13.0, 7.75, 27.0, 10.5, 13.0, 8.05, 7.8958, 9.35, 7.25, 13.0, 25.4667, 7.775, 13.5, 10.5, 7.55, 26.0, 10.5, 12.275, 14.4542, 10.5, 7.125, 7.225, 90.0, 7.775, 26.0, 7.25, 10.4625, 26.55, 16.1, 20.2125, 7.75, 79.65, 0.0, 7.75, 10.5, 39.6875, 31.0, 29.7, 7.75, 0.0, 29.125, 7.75, 7.8542, 9.5, 26.0, 8.6625, 7.8958, 12.875, 8.85, 7.8958, 27.7208, 7.2292, 151.55, 0.0, 8.05, 24.0, 26.0, 7.8958, 26.25, 14.0, 7.25, 7.8958, 69.55, 6.2375, 28.5, 153.4625, 18.0, 7.8958, 66.6, 35.5, 13.0, 13.0, 13.0, 8.6625, 9.225, 35.0, 7.2292, 17.8, 7.225, 9.5, 13.0, 27.9, 27.7208, 14.4542, 7.05, 15.5, 7.25, 6.4958, 8.05, 135.6333, 21.075, 211.5, 4.0125, 7.775, 7.925, 7.8958, 73.5, 46.9, 7.7292, 7.925, 7.7958, 7.8542, 26.0, 10.5, 8.05, 9.825, 15.85, 8.6625, 21.0, 7.75, 7.775, 25.4667, 7.8958, 6.8583, 0.0, 8.05, 13.0, 24.15, 7.8958, 7.7333, 7.875, 14.4, 20.2125, 7.25, 7.75, 7.125, 55.9, 34.375, 263.0, 10.5, 9.5, 7.775, 27.75, 19.9667, 27.75, 8.05, 26.55, 7.75, 8.05, 38.5, 13.0, 8.05, 7.05, 0.0, 26.55, 7.725, 7.25, 8.6625, 9.8375, 52.0, 21.0, 7.0458, 7.5208, 46.9, 0.0, 8.05, 25.4667, 29.7, 8.05, 19.9667, 7.25, 30.5, 49.5042, 8.05, 14.4583, 15.1, 151.55, 7.7958, 8.6625, 7.75, 7.6292, 9.5875, 108.9, 22.525, 8.05, 7.4958, 34.0208, 24.15, 7.8958, 7.8958, 7.225, 7.2292, 7.75, 221.7792, 7.925, 11.5, 7.2292, 7.2292, 8.6625, 26.55, 14.5, 31.275, 31.275, 106.425, 26.0, 20.525, 26.0, 7.8292, 26.55, 227.525, 7.75, 7.8958, 13.5, 8.05, 8.05, 24.15, 7.8958, 21.075, 7.2292, 8.05, 14.5, 14.4583, 26.0, 40.125, 8.7125, 15.0, 8.05, 8.05, 7.125, 7.25, 7.75, 26.0, 24.15, 0.0, 7.225, 7.8958, 42.4, 8.05, 15.55, 7.8958, 31.275, 7.05, 7.75, 8.05, 14.4, 16.1, 10.5, 14.4542, 7.8542, 16.1, 32.3208, 12.35, 7.8958, 7.7333, 7.0542, 0.0, 27.9, 7.925, 26.25, 39.6875, 16.1, 7.8542, 27.9, 7.8958, 7.55, 7.8958, 8.4333, 6.75, 73.5, 7.8958, 15.5, 13.0, 113.275, 7.225, 25.5875, 7.4958, 73.5, 13.0, 7.775, 8.05, 52.0, 10.5, 0.0, 7.775, 8.05, 46.9, 8.1375, 9.225, 46.9, 39.0, 41.5792, 39.6875, 10.1708, 7.7958, 7.225, 26.55, 13.5, 8.05, 110.8833, 7.65, 14.4542, 7.7417, 7.8542, 26.0, 26.55, 9.4833, 13.0, 7.65, 15.5, 7.775, 7.0542, 13.0, 13.0, 8.6625, 26.0, 7.925, 18.7875, 0.0, 13.0, 13.0, 16.1, 34.375, 7.8958, 7.8958, 78.85, 16.1, 71.0, 20.25, 53.1, 7.75, 9.5, 7.8958, 7.7958, 11.5, 8.05, 14.5, 7.125, 7.775, 39.6, 7.75, 24.15, 8.3625, 9.5, 7.8542, 10.5, 7.225, 7.75, 7.75, 7.7375, 30.0, 23.45, 7.05, 7.25, 29.125, 79.2, 7.75, 26.0, 69.55, 30.6958, 7.8958, 13.0, 7.2292, 24.15, 13.0, 7.775, 0.0, 7.775, 13.0, 7.8875, 24.15, 10.5, 31.275, 8.05, 0.0, 7.925, 37.0042, 6.45, 27.9, 0.0, 39.6875, 6.95, 56.4958, 7.2292, 7.8542, 8.3, 8.6625, 8.05, 7.925, 10.5, 6.4375, 8.6625, 7.55, 69.55, 7.8958, 33.0, 31.275, 7.775, 15.2458, 26.0, 7.2292, 14.1083, 11.5, 69.55, 13.0, 50.4958, 9.5, 7.8958, 5.0, 9.0, 9.8458, 7.8958, 7.8958, 7.8958, 10.5167, 10.5, 7.05, 29.125, 13.0, 23.45, 7.75], \"xaxis\": \"x\", \"y\": [0, 0, 0, 0, 0, 0, 0, 0, 0, 0, 0, 0, 0, 0, 0, 0, 0, 0, 0, 0, 0, 0, 0, 0, 0, 0, 0, 0, 0, 0, 0, 0, 0, 0, 0, 0, 0, 0, 0, 0, 0, 0, 0, 0, 0, 0, 0, 0, 0, 0, 0, 0, 0, 0, 0, 0, 0, 0, 0, 0, 0, 0, 0, 0, 0, 0, 0, 0, 0, 0, 0, 0, 0, 0, 0, 0, 0, 0, 0, 0, 0, 0, 0, 0, 0, 0, 0, 0, 0, 0, 0, 0, 0, 0, 0, 0, 0, 0, 0, 0, 0, 0, 0, 0, 0, 0, 0, 0, 0, 0, 0, 0, 0, 0, 0, 0, 0, 0, 0, 0, 0, 0, 0, 0, 0, 0, 0, 0, 0, 0, 0, 0, 0, 0, 0, 0, 0, 0, 0, 0, 0, 0, 0, 0, 0, 0, 0, 0, 0, 0, 0, 0, 0, 0, 0, 0, 0, 0, 0, 0, 0, 0, 0, 0, 0, 0, 0, 0, 0, 0, 0, 0, 0, 0, 0, 0, 0, 0, 0, 0, 0, 0, 0, 0, 0, 0, 0, 0, 0, 0, 0, 0, 0, 0, 0, 0, 0, 0, 0, 0, 0, 0, 0, 0, 0, 0, 0, 0, 0, 0, 0, 0, 0, 0, 0, 0, 0, 0, 0, 0, 0, 0, 0, 0, 0, 0, 0, 0, 0, 0, 0, 0, 0, 0, 0, 0, 0, 0, 0, 0, 0, 0, 0, 0, 0, 0, 0, 0, 0, 0, 0, 0, 0, 0, 0, 0, 0, 0, 0, 0, 0, 0, 0, 0, 0, 0, 0, 0, 0, 0, 0, 0, 0, 0, 0, 0, 0, 0, 0, 0, 0, 0, 0, 0, 0, 0, 0, 0, 0, 0, 0, 0, 0, 0, 0, 0, 0, 0, 0, 0, 0, 0, 0, 0, 0, 0, 0, 0, 0, 0, 0, 0, 0, 0, 0, 0, 0, 0, 0, 0, 0, 0, 0, 0, 0, 0, 0, 0, 0, 0, 0, 0, 0, 0, 0, 0, 0, 0, 0, 0, 0, 0, 0, 0, 0, 0, 0, 0, 0, 0, 0, 0, 0, 0, 0, 0, 0, 0, 0, 0, 0, 0, 0, 0, 0, 0, 0, 0, 0, 0, 0, 0, 0, 0, 0, 0, 0, 0, 0, 0, 0, 0, 0, 0, 0, 0, 0, 0, 0, 0, 0, 0, 0, 0, 0, 0, 0, 0, 0, 0, 0, 0, 0, 0, 0, 0, 0, 0, 0, 0, 0, 0, 0, 0, 0, 0, 0, 0, 0, 0, 0, 0, 0, 0, 0, 0, 0, 0, 0, 0, 0, 0, 0, 0, 0, 0, 0, 0, 0, 0, 0, 0, 0, 0, 0, 0, 0, 0, 0, 0, 0, 0, 0, 0, 0, 0, 0, 0, 0, 0, 0, 0, 0, 0, 0, 0, 0, 0, 0, 0, 0, 0, 0, 0, 0, 0, 0, 0, 0, 0, 0, 0, 0, 0, 0, 0, 0, 0, 0, 0, 0, 0, 0, 0, 0, 0, 0, 0, 0, 0, 0, 0, 0, 0, 0, 0, 0, 0, 0, 0, 0, 0, 0, 0, 0, 0, 0, 0, 0, 0, 0, 0, 0, 0, 0, 0, 0, 0, 0, 0, 0, 0, 0, 0, 0, 0, 0, 0, 0, 0, 0, 0, 0, 0, 0, 0, 0, 0, 0], \"yaxis\": \"y\"}, {\"alignmentgroup\": \"True\", \"customdata\": [[0, 3, \"male\", 22.0, 1, \"S\", 7.25], [0, 3, \"male\", 35.0, 0, \"S\", 8.05], [0, 3, \"male\", 44.5, 0, \"Q\", 8.4583], [0, 1, \"male\", 54.0, 0, \"S\", 51.8625], [0, 3, \"male\", 2.0, 4, \"S\", 21.075], [0, 3, \"male\", 20.0, 0, \"S\", 8.05], [0, 3, \"male\", 39.0, 6, \"S\", 31.275], [0, 3, \"female\", 14.0, 0, \"S\", 7.8542], [0, 3, \"male\", 2.0, 5, \"Q\", 29.125], [0, 3, \"female\", 31.0, 1, \"S\", 18.0], [0, 2, \"male\", 35.0, 0, \"S\", 26.0], [0, 3, \"female\", 8.0, 4, \"S\", 21.075], [0, 3, \"male\", 28.5, 0, \"C\", 7.225], [0, 1, \"male\", 19.0, 5, \"S\", 263.0], [0, 3, \"male\", 33.0, 0, \"S\", 7.8958], [0, 1, \"male\", 40.0, 0, \"C\", 27.7208], [0, 2, \"male\", 66.0, 0, \"S\", 10.5], [0, 1, \"male\", 28.0, 1, \"C\", 82.1708], [0, 1, \"male\", 42.0, 1, \"S\", 52.0], [0, 3, \"male\", 21.0, 0, \"S\", 8.05], [0, 3, \"female\", 18.0, 2, \"S\", 18.0], [0, 3, \"female\", 40.0, 1, \"S\", 9.475], [0, 2, \"female\", 27.0, 1, \"S\", 21.0], [0, 3, \"male\", 15.0, 0, \"C\", 7.8958], [0, 3, \"male\", 18.8, 0, \"S\", 8.05], [0, 3, \"male\", 18.6, 1, \"Q\", 15.5], [0, 3, \"male\", 18.2, 2, \"C\", 21.6792], [0, 3, \"female\", 18.0, 1, \"S\", 17.8], [0, 3, \"male\", 7.0, 5, \"S\", 39.6875], [0, 3, \"male\", 21.0, 0, \"S\", 7.8], [0, 1, \"male\", 65.0, 1, \"C\", 61.9792], [0, 3, \"male\", 28.5, 0, \"C\", 7.2292], [0, 3, \"male\", 11.0, 7, \"S\", 46.9], [0, 3, \"male\", 22.0, 0, \"C\", 7.2292], [0, 1, \"male\", 45.0, 1, \"S\", 83.475], [0, 3, \"male\", 4.0, 5, \"S\", 27.9], [0, 1, \"male\", 12.333333333333334, 0, \"C\", 27.7208], [0, 3, \"male\", 19.0, 0, \"S\", 8.1583], [0, 3, \"male\", 26.0, 2, \"S\", 8.6625], [0, 2, \"male\", 32.0, 0, \"S\", 10.5], [0, 3, \"female\", 16.0, 7, \"S\", 46.9], [0, 2, \"male\", 21.0, 0, \"S\", 73.5], [0, 3, \"male\", 26.0, 1, \"C\", 14.4542], [0, 3, \"male\", 25.0, 0, \"S\", 7.65], [0, 3, \"male\", 16.943333333333335, 0, \"S\", 7.8958], [0, 3, \"male\", 8.886666666666667, 0, \"S\", 8.05], [0, 3, \"male\", 22.0, 0, \"S\", 9.0], [0, 1, \"male\", 28.0, 0, \"S\", 47.1], [0, 3, \"male\", 16.0, 4, \"S\", 34.375], [0, 3, \"male\", 19.5, 0, \"S\", 8.05], [0, 3, \"male\", 24.0, 0, \"S\", 8.05], [0, 3, \"male\", 29.0, 0, \"S\", 8.05], [0, 3, \"male\", 20.0, 0, \"S\", 7.8542], [0, 1, \"male\", 46.0, 1, \"S\", 61.175], [0, 3, \"male\", 26.0, 3, \"S\", 20.575], [0, 3, \"male\", 59.0, 0, \"S\", 7.25], [0, 3, \"male\", 65.0, 0, \"S\", 8.05], [0, 1, \"male\", 71.0, 0, \"C\", 34.6542], [0, 2, \"male\", 34.0, 1, \"S\", 26.0], [0, 3, \"female\", 28.0, 0, \"S\", 7.8958], [0, 3, \"male\", 24.5, 0, \"S\", 7.8958], [0, 1, \"male\", 21.0, 1, \"S\", 77.2875], [0, 3, \"male\", 33.0, 0, \"S\", 8.6542], [0, 3, \"male\", 37.0, 2, \"S\", 7.925], [0, 3, \"male\", 28.0, 0, \"S\", 7.8958], [0, 3, \"male\", 38.0, 0, \"S\", 7.8958], [0, 1, \"male\", 47.0, 0, \"S\", 52.0], [0, 3, \"female\", 14.5, 1, \"C\", 14.4542], [0, 3, \"male\", 22.0, 0, \"S\", 8.05], [0, 3, \"female\", 20.0, 1, \"S\", 9.825], [0, 3, \"female\", 17.0, 0, \"C\", 14.4583], [0, 3, \"male\", 21.0, 0, \"S\", 7.925], [0, 3, \"male\", 70.5, 0, \"Q\", 7.75], [0, 2, \"male\", 29.0, 1, \"S\", 21.0], [0, 1, \"male\", 24.0, 1, \"C\", 247.5208], [0, 3, \"female\", 2.0, 6, \"S\", 31.275], [0, 2, \"male\", 21.0, 2, \"S\", 73.5], [0, 3, \"male\", 26.75, 0, \"S\", 8.05], [0, 2, \"male\", 32.5, 1, \"C\", 30.0708], [0, 1, \"male\", 54.0, 1, \"S\", 77.2875], [0, 3, \"male\", 18.0, 0, \"Q\", 7.75], [0, 3, \"male\", 45.0, 0, \"S\", 6.975], [0, 3, \"male\", 33.0, 0, \"C\", 7.8958], [0, 3, \"male\", 20.0, 0, \"S\", 7.05], [0, 3, \"female\", 47.0, 1, \"S\", 14.5], [0, 2, \"male\", 25.0, 0, \"S\", 13.0], [0, 2, \"male\", 23.0, 0, \"C\", 15.0458], [0, 1, \"male\", 37.0, 1, \"S\", 53.1], [0, 3, \"male\", 16.0, 0, \"S\", 9.2167], [0, 1, \"male\", 24.0, 0, \"C\", 79.2], [0, 3, \"female\", 23.0, 2, \"C\", 15.2458], [0, 3, \"male\", 19.0, 0, \"Q\", 6.75], [0, 2, \"male\", 18.0, 0, \"S\", 11.5], [0, 2, \"male\", 19.0, 2, \"S\", 36.75], [0, 3, \"female\", 9.0, 4, \"S\", 34.375], [0, 2, \"male\", 36.5, 2, \"S\", 26.0], [0, 2, \"male\", 42.0, 0, \"S\", 13.0], [0, 2, \"male\", 51.0, 0, \"S\", 12.525], [0, 3, \"male\", 55.5, 0, \"S\", 8.05], [0, 3, \"male\", 40.5, 2, \"S\", 14.5], [0, 3, \"male\", 45.75, 0, \"S\", 7.3125], [0, 1, \"male\", 51.0, 1, \"C\", 61.3792], [0, 3, \"male\", 30.0, 0, \"S\", 8.05], [0, 3, \"male\", 34.666666666666664, 0, \"S\", 8.6625], [0, 3, \"male\", 39.333333333333336, 10, \"S\", 69.55], [0, 3, \"male\", 44.0, 1, \"S\", 16.1], [0, 3, \"male\", 26.0, 0, \"S\", 7.775], [0, 3, \"male\", 17.0, 0, \"S\", 8.6625], [0, 3, \"male\", 1.0, 5, \"S\", 39.6875], [0, 3, \"female\", 45.0, 5, \"S\", 27.9], [0, 1, \"male\", 36.5, 0, \"S\", 25.925], [0, 3, \"male\", 28.0, 0, \"S\", 56.4958], [0, 1, \"male\", 61.0, 0, \"S\", 33.5], [0, 3, \"male\", 4.0, 5, \"Q\", 29.125], [0, 3, \"male\", 21.0, 0, \"S\", 7.925], [0, 1, \"male\", 56.0, 0, \"C\", 30.6958], [0, 3, \"male\", 18.0, 2, \"S\", 7.8542], [0, 3, \"male\", 34.0, 4, \"S\", 25.4667], [0, 1, \"female\", 50.0, 0, \"C\", 28.7125], [0, 2, \"male\", 30.0, 0, \"S\", 13.0], [0, 3, \"male\", 36.0, 0, \"S\", 0.0], [0, 3, \"female\", 27.0, 10, \"S\", 69.55], [0, 2, \"male\", 18.0, 0, \"C\", 15.05], [0, 3, \"male\", 9.0, 6, \"S\", 31.3875], [0, 1, \"male\", 17.666666666666664, 0, \"S\", 50.0], [0, 3, \"male\", 40.0, 2, \"Q\", 15.5], [0, 3, \"male\", 36.0, 0, \"S\", 7.8958], [0, 2, \"male\", 19.0, 0, \"S\", 13.0], [0, 3, \"male\", 50.0, 0, \"Q\", 7.75], [0, 3, \"male\", 42.0, 1, \"S\", 8.4042], [0, 2, \"female\", 24.0, 0, \"S\", 13.0], [0, 3, \"male\", 28.0, 0, \"S\", 9.5], [0, 3, \"male\", 31.0, 10, \"S\", 69.55], [0, 3, \"male\", 34.0, 0, \"S\", 6.4958], [0, 3, \"male\", 45.5, 0, \"C\", 7.225], [0, 3, \"female\", 2.0, 1, \"S\", 10.4625], [0, 3, \"male\", 32.0, 1, \"S\", 15.85], [0, 3, \"male\", 24.0, 0, \"S\", 7.05], [0, 3, \"male\", 22.0, 0, \"S\", 7.25], [0, 2, \"male\", 30.0, 0, \"S\", 13.0], [0, 3, \"male\", 30.5, 1, \"Q\", 7.75], [0, 2, \"male\", 42.0, 1, \"S\", 27.0], [0, 2, \"male\", 30.0, 0, \"S\", 10.5], [0, 2, \"male\", 27.0, 0, \"S\", 13.0], [0, 3, \"male\", 51.0, 0, \"S\", 8.05], [0, 3, \"male\", 44.5, 0, \"S\", 7.8958], [0, 3, \"male\", 22.0, 0, \"S\", 9.35], [0, 3, \"male\", 20.5, 0, \"S\", 7.25], [0, 2, \"male\", 18.0, 0, \"S\", 13.0], [0, 3, \"female\", 26.5, 4, \"S\", 25.4667], [0, 3, \"male\", 29.0, 0, \"S\", 7.775], [0, 2, \"male\", 59.0, 0, \"S\", 13.5], [0, 2, \"male\", 24.0, 0, \"S\", 10.5], [0, 3, \"female\", 34.0, 0, \"S\", 7.55], [0, 2, \"male\", 44.0, 1, \"S\", 26.0], [0, 2, \"male\", 19.0, 0, \"S\", 10.5], [0, 2, \"male\", 33.0, 0, \"S\", 12.275], [0, 3, \"female\", 31.666666666666668, 1, \"C\", 14.4542], [0, 2, \"male\", 29.0, 0, \"S\", 10.5], [0, 3, \"male\", 22.0, 0, \"S\", 7.125], [0, 3, \"male\", 30.0, 0, \"C\", 7.225], [0, 1, \"male\", 44.0, 2, \"Q\", 90.0], [0, 3, \"female\", 25.0, 0, \"S\", 7.775], [0, 2, \"male\", 54.0, 1, \"S\", 26.0], [0, 3, \"male\", 41.5, 0, \"S\", 7.25], [0, 3, \"female\", 29.0, 2, \"S\", 10.4625], [0, 1, \"male\", 62.0, 0, \"S\", 26.55], [0, 3, \"male\", 30.0, 1, \"S\", 16.1], [0, 3, \"female\", 41.0, 2, \"S\", 20.2125], [0, 3, \"male\", 26.5, 0, \"Q\", 7.75], [0, 1, \"male\", 52.0, 2, \"S\", 79.65], [0, 1, \"male\", 40.0, 0, \"S\", 0.0], [0, 3, \"female\", 38.0, 0, \"Q\", 7.75], [0, 2, \"male\", 36.0, 0, \"S\", 10.5], [0, 3, \"male\", 16.0, 5, \"S\", 39.6875], [0, 1, \"male\", 30.0, 0, \"S\", 31.0], [0, 1, \"male\", 37.0, 1, \"C\", 29.7], [0, 3, \"female\", 45.0, 0, \"S\", 7.75], [0, 2, \"male\", 26.0, 0, \"S\", 0.0], [0, 3, \"male\", 7.0, 5, \"Q\", 29.125], [0, 3, \"male\", 65.0, 0, \"Q\", 7.75], [0, 3, \"male\", 28.0, 0, \"S\", 7.8542], [0, 3, \"male\", 16.0, 0, \"S\", 9.5], [0, 1, \"male\", 26.0, 0, \"S\", 26.0], [0, 3, \"male\", 33.0, 0, \"C\", 8.6625], [0, 3, \"male\", 22.0, 0, \"S\", 7.8958], [0, 2, \"male\", 36.0, 0, \"C\", 12.875], [0, 3, \"female\", 24.0, 0, \"S\", 8.85], [0, 3, \"male\", 24.0, 0, \"S\", 7.8958], [0, 1, \"male\", 23.75, 0, \"C\", 27.7208], [0, 3, \"male\", 23.5, 0, \"C\", 7.2292], [0, 1, \"female\", 2.0, 3, \"S\", 151.55], [0, 3, \"male\", 19.0, 0, \"S\", 0.0], [0, 3, \"male\", 6.946666666666667, 0, \"S\", 8.05], [0, 2, \"male\", 30.0, 1, \"C\", 24.0], [0, 2, \"female\", 26.0, 2, \"S\", 26.0], [0, 3, \"male\", 28.0, 0, \"S\", 7.8958], [0, 2, \"male\", 43.0, 2, \"S\", 26.25], [0, 2, \"male\", 54.0, 0, \"S\", 14.0], [0, 3, \"male\", 22.0, 0, \"S\", 7.25], [0, 3, \"male\", 27.0, 0, \"S\", 7.8958], [0, 3, \"male\", 29.0, 10, \"S\", 69.55], [0, 3, \"male\", 61.0, 0, \"S\", 6.2375], [0, 1, \"male\", 45.5, 0, \"S\", 28.5], [0, 1, \"male\", 38.0, 1, \"S\", 153.4625], [0, 3, \"male\", 16.0, 2, \"S\", 18.0], [0, 3, \"male\", 24.666666666666664, 0, \"S\", 7.8958], [0, 1, \"male\", 29.0, 1, \"S\", 66.6], [0, 1, \"male\", 45.0, 0, \"S\", 35.5], [0, 2, \"male\", 28.0, 0, \"S\", 13.0], [0, 2, \"male\", 25.0, 0, \"S\", 13.0], [0, 2, \"male\", 36.0, 0, \"S\", 13.0], [0, 3, \"male\", 42.0, 0, \"S\", 8.6625], [0, 3, \"male\", 23.0, 0, \"S\", 9.225], [0, 1, \"male\", 19.0, 0, \"S\", 35.0], [0, 3, \"male\", 15.0, 2, \"C\", 7.2292], [0, 3, \"male\", 25.0, 1, \"S\", 17.8], [0, 3, \"male\", 26.5, 0, \"C\", 7.225], [0, 3, \"male\", 28.0, 0, \"S\", 9.5], [0, 2, \"female\", 38.0, 0, \"S\", 13.0], [0, 3, \"male\", 40.0, 5, \"S\", 27.9], [0, 2, \"male\", 29.0, 1, \"C\", 27.7208], [0, 3, \"female\", 45.0, 1, \"C\", 14.4542], [0, 3, \"male\", 35.0, 0, \"S\", 7.05], [0, 3, \"male\", 32.5, 1, \"Q\", 15.5], [0, 3, \"male\", 30.0, 0, \"S\", 7.25], [0, 3, \"male\", 18.0, 1, \"S\", 6.4958], [0, 3, \"male\", 19.0, 0, \"S\", 8.05], [0, 1, \"male\", 22.0, 0, \"C\", 135.6333], [0, 3, \"female\", 3.0, 4, \"S\", 21.075], [0, 1, \"male\", 27.0, 2, \"C\", 211.5], [0, 3, \"male\", 20.0, 0, \"C\", 4.0125], [0, 3, \"male\", 19.0, 0, \"S\", 7.775], [0, 3, \"male\", 32.0, 0, \"S\", 7.925], [0, 3, \"male\", 26.5, 0, \"S\", 7.8958], [0, 2, \"male\", 18.0, 0, \"S\", 73.5], [0, 3, \"male\", 1.0, 7, \"S\", 46.9], [0, 3, \"male\", 26.5, 0, \"Q\", 7.7292], [0, 3, \"male\", 28.0, 2, \"S\", 7.925], [0, 3, \"male\", 22.0, 0, \"S\", 7.7958], [0, 3, \"female\", 31.0, 0, \"S\", 7.8542], [0, 2, \"male\", 46.0, 0, \"S\", 26.0], [0, 2, \"male\", 23.0, 0, \"S\", 10.5], [0, 3, \"male\", 26.0, 0, \"S\", 8.05], [0, 3, \"female\", 21.0, 1, \"S\", 9.825], [0, 3, \"male\", 28.0, 1, \"S\", 15.85], [0, 3, \"female\", 20.0, 0, \"S\", 8.6625], [0, 2, \"male\", 34.0, 1, \"S\", 21.0], [0, 3, \"male\", 51.0, 0, \"S\", 7.75], [0, 3, \"male\", 21.0, 0, \"S\", 7.775], [0, 3, \"female\", 24.0, 4, \"S\", 25.4667], [0, 3, \"male\", 27.0, 0, \"S\", 7.8958], [0, 3, \"male\", 30.0, 0, \"Q\", 6.8583], [0, 2, \"male\", 38.5, 0, \"S\", 0.0], [0, 3, \"female\", 39.0, 0, \"S\", 8.05], [0, 2, \"male\", 30.0, 0, \"S\", 13.0], [0, 3, \"female\", 10.0, 2, \"S\", 24.15], [0, 3, \"male\", 15.5, 0, \"C\", 7.8958], [0, 3, \"male\", 21.0, 0, \"Q\", 7.7333], [0, 3, \"male\", 29.0, 0, \"S\", 7.875], [0, 3, \"female\", 28.0, 2, \"S\", 14.4], [0, 3, \"male\", 18.0, 2, \"S\", 20.2125], [0, 3, \"male\", 23.0, 0, \"S\", 7.25], [0, 3, \"male\", 25.5, 0, \"Q\", 7.75], [0, 3, \"male\", 17.0, 0, \"S\", 7.125], [0, 1, \"male\", 50.0, 1, \"S\", 55.9], [0, 3, \"female\", 21.0, 4, \"S\", 34.375], [0, 1, \"male\", 64.0, 5, \"S\", 263.0], [0, 2, \"male\", 31.0, 0, \"S\", 10.5], [0, 3, \"male\", 20.0, 0, \"S\", 9.5], [0, 3, \"male\", 25.0, 1, \"S\", 7.775], [0, 2, \"male\", 36.0, 3, \"S\", 27.75], [0, 3, \"male\", 33.0, 1, \"S\", 19.9667], [0, 1, \"male\", 30.0, 0, \"C\", 27.75], [0, 3, \"male\", 39.0, 0, \"S\", 8.05], [0, 1, \"male\", 65.0, 0, \"S\", 26.55], [0, 3, \"male\", 49.0, 0, \"Q\", 7.75], [0, 3, \"male\", 34.0, 0, \"S\", 8.05], [0, 1, \"male\", 47.0, 0, \"S\", 38.5], [0, 2, \"male\", 48.0, 0, \"S\", 13.0], [0, 3, \"male\", 43.0, 0, \"S\", 8.05], [0, 3, \"male\", 38.0, 0, \"S\", 7.05], [0, 2, \"male\", 47.0, 0, \"S\", 0.0], [0, 1, \"male\", 56.0, 0, \"S\", 26.55], [0, 3, \"male\", 28.375, 0, \"Q\", 7.725], [0, 3, \"male\", 19.375, 0, \"S\", 7.25], [0, 3, \"male\", 38.0, 0, \"S\", 8.6625], [0, 3, \"female\", 22.0, 0, \"S\", 9.8375], [0, 1, \"male\", 28.0, 0, \"S\", 52.0], [0, 2, \"male\", 34.0, 1, \"S\", 21.0], [0, 3, \"male\", 29.0, 1, \"S\", 7.0458], [0, 3, \"male\", 22.0, 0, \"S\", 7.5208], [0, 3, \"male\", 9.0, 7, \"S\", 46.9], [0, 2, \"male\", 29.5, 0, \"S\", 0.0], [0, 3, \"male\", 50.0, 0, \"S\", 8.05], [0, 3, \"female\", 30.0, 4, \"S\", 25.4667], [0, 1, \"male\", 58.0, 0, \"C\", 29.7], [0, 3, \"male\", 30.0, 0, \"S\", 8.05], [0, 3, \"male\", 15.0, 1, \"S\", 19.9667], [0, 3, \"male\", 21.0, 0, \"S\", 7.25], [0, 1, \"male\", 55.0, 0, \"S\", 30.5], [0, 1, \"male\", 71.0, 0, \"C\", 49.5042], [0, 3, \"male\", 21.0, 0, \"S\", 8.05], [0, 3, \"male\", 37.5, 0, \"C\", 14.4583], [0, 3, \"male\", 39.5, 0, \"S\", 15.1], [0, 1, \"female\", 25.0, 3, \"S\", 151.55], [0, 3, \"male\", 24.0, 0, \"S\", 7.7958], [0, 3, \"male\", 17.0, 0, \"S\", 8.6625], [0, 3, \"female\", 21.0, 0, \"Q\", 7.75], [0, 3, \"female\", 29.0, 0, \"Q\", 7.6292], [0, 3, \"female\", 37.0, 0, \"S\", 9.5875], [0, 1, \"male\", 18.0, 1, \"C\", 108.9], [0, 3, \"male\", 28.0, 0, \"S\", 22.525], [0, 3, \"male\", 32.5, 0, \"S\", 8.05], [0, 3, \"male\", 24.0, 0, \"S\", 7.4958], [0, 1, \"male\", 47.0, 0, \"S\", 34.0208], [0, 3, \"male\", 35.0, 0, \"Q\", 24.15], [0, 3, \"male\", 32.0, 0, \"S\", 7.8958], [0, 3, \"male\", 22.0, 0, \"S\", 7.8958], [0, 3, \"male\", 33.0, 0, \"C\", 7.225], [0, 3, \"male\", 42.25, 0, \"C\", 7.2292], [0, 3, \"male\", 40.5, 0, \"Q\", 7.75], [0, 1, \"male\", 44.5, 0, \"S\", 221.7792], [0, 3, \"male\", 39.0, 0, \"S\", 7.925], [0, 2, \"male\", 23.0, 3, \"S\", 11.5], [0, 3, \"male\", 9.5, 0, \"C\", 7.2292], [0, 3, \"male\", 17.0, 2, \"C\", 7.2292], [0, 3, \"female\", 30.0, 0, \"S\", 8.6625], [0, 1, \"male\", 45.0, 0, \"S\", 26.55], [0, 3, \"male\", 26.0, 0, \"S\", 14.5], [0, 3, \"female\", 9.0, 6, \"S\", 31.275], [0, 3, \"female\", 11.0, 6, \"S\", 31.275], [0, 1, \"male\", 50.0, 1, \"C\", 106.425], [0, 1, \"male\", 64.0, 0, \"S\", 26.0], [0, 3, \"male\", 33.0, 2, \"S\", 20.525], [0, 2, \"male\", 27.0, 0, \"S\", 26.0], [0, 3, \"male\", 24.5, 0, \"Q\", 7.8292], [0, 1, \"male\", 62.0, 0, \"S\", 26.55], [0, 1, \"male\", 43.5, 0, \"C\", 227.525], [0, 3, \"male\", 38.0, 0, \"Q\", 7.75], [0, 3, \"male\", 40.0, 0, \"S\", 7.8958], [0, 2, \"male\", 28.0, 0, \"S\", 13.5], [0, 3, \"male\", 26.666666666666668, 0, \"S\", 8.05], [0, 3, \"female\", 25.333333333333332, 0, \"S\", 8.05], [0, 3, \"male\", 24.0, 2, \"S\", 24.15], [0, 3, \"male\", 19.0, 0, \"S\", 7.8958], [0, 3, \"female\", 29.0, 4, \"S\", 21.075], [0, 3, \"male\", 30.5, 0, \"C\", 7.2292], [0, 3, \"male\", 16.0, 0, \"S\", 8.05], [0, 3, \"male\", 19.0, 0, \"S\", 14.5], [0, 3, \"female\", 35.5, 1, \"C\", 14.4583], [0, 2, \"male\", 54.0, 0, \"S\", 26.0], [0, 1, \"male\", 36.0, 0, \"C\", 40.125], [0, 3, \"male\", 27.0, 0, \"C\", 8.7125], [0, 2, \"male\", 47.0, 0, \"S\", 15.0], [0, 3, \"male\", 22.0, 0, \"S\", 8.05], [0, 3, \"male\", 28.5, 0, \"S\", 8.05], [0, 3, \"male\", 35.0, 0, \"S\", 7.125], [0, 3, \"male\", 47.0, 0, \"S\", 7.25], [0, 3, \"female\", 42.0, 2, \"Q\", 7.75], [0, 2, \"male\", 37.0, 1, \"S\", 26.0], [0, 3, \"male\", 36.0, 2, \"S\", 24.15], [0, 3, \"male\", 49.0, 0, \"S\", 0.0], [0, 3, \"male\", 49.0, 0, \"C\", 7.225], [0, 3, \"male\", 30.666666666666668, 0, \"S\", 7.8958], [0, 1, \"male\", 37.333333333333336, 0, \"S\", 42.4], [0, 3, \"male\", 44.0, 0, \"S\", 8.05], [0, 3, \"male\", 36.0, 1, \"S\", 15.55], [0, 3, \"male\", 30.0, 0, \"S\", 7.8958], [0, 3, \"female\", 39.0, 6, \"S\", 31.275], [0, 3, \"male\", 38.0, 0, \"S\", 7.05], [0, 3, \"male\", 36.0, 0, \"Q\", 7.75], [0, 3, \"male\", 35.0, 0, \"S\", 8.05], [0, 3, \"male\", 34.0, 2, \"S\", 14.4], [0, 3, \"female\", 26.0, 1, \"S\", 16.1], [0, 2, \"male\", 26.0, 0, \"S\", 10.5], [0, 3, \"male\", 27.0, 1, \"C\", 14.4542], [0, 3, \"male\", 21.0, 0, \"S\", 7.8542], [0, 3, \"male\", 21.0, 0, \"S\", 16.1], [0, 1, \"male\", 61.0, 0, \"S\", 32.3208], [0, 2, \"male\", 57.0, 0, \"Q\", 12.35], [0, 3, \"male\", 26.0, 0, \"S\", 7.8958], [0, 3, \"male\", 53.0, 0, \"Q\", 7.7333], [0, 3, \"male\", 51.0, 0, \"S\", 7.0542], [0, 1, \"male\", 20.5, 0, \"S\", 0.0], [0, 3, \"female\", 9.0, 5, \"S\", 27.9], [0, 3, \"male\", 32.0, 0, \"S\", 7.925], [0, 2, \"male\", 31.0, 2, \"S\", 26.25], [0, 3, \"female\", 41.0, 5, \"S\", 39.6875], [0, 3, \"male\", 30.5, 1, \"S\", 16.1], [0, 3, \"male\", 20.0, 0, \"S\", 7.8542], [0, 3, \"female\", 2.0, 5, \"S\", 27.9], [0, 3, \"male\", 19.0, 0, \"S\", 7.8958], [0, 3, \"male\", 39.5, 0, \"S\", 7.55], [0, 3, \"male\", 20.5, 0, \"S\", 7.8958], [0, 3, \"male\", 21.0, 0, \"S\", 8.4333], [0, 3, \"female\", 18.0, 0, \"Q\", 6.75], [0, 2, \"male\", 24.0, 2, \"S\", 73.5], [0, 3, \"male\", 28.0, 0, \"S\", 7.8958], [0, 3, \"female\", 32.0, 2, \"Q\", 15.5], [0, 2, \"male\", 23.0, 0, \"S\", 13.0], [0, 1, \"male\", 58.0, 2, \"C\", 113.275], [0, 3, \"male\", 40.0, 0, \"C\", 7.225], [0, 1, \"male\", 47.0, 0, \"S\", 25.5875], [0, 3, \"male\", 36.0, 0, \"S\", 7.4958], [0, 2, \"male\", 32.0, 2, \"S\", 73.5], [0, 2, \"male\", 25.0, 0, \"S\", 13.0], [0, 3, \"male\", 34.0, 0, \"S\", 7.775], [0, 3, \"male\", 43.0, 0, \"S\", 8.05], [0, 1, \"male\", 31.0, 1, \"S\", 52.0], [0, 2, \"male\", 70.0, 0, \"S\", 10.5], [0, 2, \"male\", 24.5, 0, \"S\", 0.0], [0, 3, \"male\", 18.0, 0, \"S\", 7.775], [0, 3, \"male\", 24.5, 0, \"S\", 8.05], [0, 3, \"female\", 43.0, 7, \"S\", 46.9], [0, 3, \"female\", 31.5, 0, \"Q\", 8.1375], [0, 3, \"male\", 20.0, 0, \"S\", 9.225], [0, 3, \"male\", 14.0, 7, \"S\", 46.9], [0, 2, \"male\", 60.0, 2, \"S\", 39.0], [0, 2, \"male\", 25.0, 3, \"C\", 41.5792], [0, 3, \"male\", 14.0, 5, \"S\", 39.6875], [0, 3, \"male\", 19.0, 0, \"S\", 10.1708], [0, 3, \"male\", 18.0, 0, \"S\", 7.7958], [0, 3, \"male\", 25.0, 0, \"C\", 7.225], [0, 1, \"male\", 60.0, 0, \"S\", 26.55], [0, 2, \"male\", 52.0, 0, \"S\", 13.5], [0, 3, \"male\", 44.0, 0, \"S\", 8.05], [0, 1, \"male\", 49.0, 2, \"C\", 110.8833], [0, 3, \"male\", 42.0, 0, \"S\", 7.65], [0, 3, \"female\", 18.0, 1, \"C\", 14.4542], [0, 3, \"male\", 25.0, 0, \"Q\", 7.7417], [0, 3, \"male\", 26.0, 1, \"S\", 7.8542], [0, 2, \"male\", 39.0, 0, \"S\", 26.0], [0, 1, \"male\", 36.0, 0, \"S\", 26.55], [0, 3, \"male\", 29.0, 0, \"S\", 9.4833], [0, 2, \"male\", 52.0, 0, \"S\", 13.0], [0, 3, \"male\", 19.0, 0, \"S\", 7.65], [0, 3, \"male\", 30.0, 0, \"Q\", 15.5], [0, 3, \"male\", 33.0, 0, \"S\", 7.775], [0, 3, \"male\", 17.0, 1, \"S\", 7.0542], [0, 2, \"male\", 34.0, 0, \"S\", 13.0], [0, 2, \"male\", 50.0, 0, \"S\", 13.0], [0, 3, \"male\", 20.0, 0, \"S\", 8.6625], [0, 2, \"male\", 25.0, 1, \"S\", 26.0], [0, 3, \"female\", 25.0, 1, \"S\", 7.925], [0, 3, \"male\", 11.0, 0, \"C\", 18.7875], [0, 2, \"male\", 17.0, 0, \"S\", 0.0], [0, 2, \"male\", 23.0, 0, \"S\", 13.0], [0, 2, \"male\", 23.0, 0, \"S\", 13.0], [0, 3, \"male\", 28.5, 0, \"S\", 16.1], [0, 3, \"female\", 48.0, 4, \"S\", 34.375], [0, 3, \"male\", 35.25, 0, \"S\", 7.8958], [0, 3, \"male\", 35.5, 0, \"S\", 7.8958], [0, 1, \"male\", 36.0, 1, \"S\", 78.85], [0, 3, \"male\", 24.0, 1, \"S\", 16.1], [0, 1, \"male\", 70.0, 2, \"S\", 71.0], [0, 3, \"male\", 16.0, 2, \"S\", 20.25], [0, 1, \"male\", 19.0, 1, \"S\", 53.1], [0, 3, \"male\", 31.0, 0, \"Q\", 7.75], [0, 3, \"male\", 33.0, 0, \"S\", 9.5], [0, 3, \"male\", 23.0, 0, \"S\", 7.8958], [0, 3, \"male\", 28.0, 0, \"S\", 7.7958], [0, 2, \"male\", 18.0, 0, \"S\", 11.5], [0, 3, \"male\", 34.0, 0, \"S\", 8.05], [0, 3, \"male\", 37.0, 0, \"S\", 14.5], [0, 3, \"male\", 41.0, 0, \"S\", 7.125], [0, 3, \"male\", 16.0, 0, \"S\", 7.775], [0, 1, \"male\", 40.75, 0, \"C\", 39.6], [0, 3, \"female\", 30.5, 0, \"Q\", 7.75], [0, 3, \"male\", 31.25, 1, \"Q\", 24.15], [0, 3, \"male\", 32.0, 0, \"S\", 8.3625], [0, 3, \"male\", 24.0, 0, \"S\", 9.5], [0, 3, \"male\", 48.0, 0, \"S\", 7.8542], [0, 2, \"female\", 57.0, 0, \"S\", 10.5], [0, 3, \"male\", 55.5, 0, \"C\", 7.225], [0, 3, \"male\", 18.0, 0, \"S\", 7.75], [0, 3, \"male\", 11.5, 0, \"Q\", 7.75], [0, 3, \"male\", 24.0, 0, \"Q\", 7.7375], [0, 1, \"male\", 29.0, 0, \"S\", 30.0], [0, 3, \"male\", 27.0, 3, \"S\", 23.45], [0, 3, \"male\", 25.0, 0, \"S\", 7.05], [0, 3, \"male\", 25.0, 0, \"S\", 7.25], [0, 3, \"male\", 8.0, 5, \"Q\", 29.125], [0, 1, \"male\", 46.0, 0, \"C\", 79.2], [0, 3, \"male\", 31.0, 0, \"Q\", 7.75], [0, 2, \"male\", 16.0, 0, \"S\", 26.0], [0, 3, \"female\", 19.0, 10, \"S\", 69.55], [0, 1, \"male\", 22.0, 0, \"C\", 30.6958], [0, 3, \"male\", 25.0, 0, \"S\", 7.8958], [0, 2, \"male\", 39.0, 0, \"S\", 13.0], [0, 3, \"male\", 30.0, 0, \"C\", 7.2292], [0, 3, \"female\", 30.0, 2, \"S\", 24.15], [0, 2, \"male\", 34.0, 0, \"S\", 13.0], [0, 3, \"male\", 31.0, 0, \"S\", 7.775], [0, 1, \"male\", 39.0, 0, \"S\", 0.0], [0, 3, \"female\", 18.0, 0, \"S\", 7.775], [0, 2, \"male\", 39.0, 0, \"S\", 13.0], [0, 3, \"male\", 26.0, 0, \"S\", 7.8875], [0, 3, \"male\", 39.0, 0, \"S\", 24.15], [0, 2, \"male\", 35.0, 0, \"S\", 10.5], [0, 3, \"female\", 6.0, 6, \"S\", 31.275], [0, 3, \"male\", 30.5, 0, \"S\", 8.05], [0, 1, \"male\", 26.75, 0, \"S\", 0.0], [0, 3, \"female\", 23.0, 0, \"S\", 7.925], [0, 2, \"male\", 31.0, 2, \"C\", 37.0042], [0, 3, \"male\", 43.0, 0, \"S\", 6.45], [0, 3, \"male\", 10.0, 5, \"S\", 27.9], [0, 1, \"male\", 38.0, 0, \"S\", 0.0], [0, 3, \"male\", 2.0, 5, \"S\", 39.6875], [0, 3, \"male\", 1.6666666666666667, 0, \"Q\", 6.95], [0, 3, \"male\", 1.3333333333333335, 0, \"S\", 56.4958], [0, 3, \"male\", 11.915000000000001, 0, \"C\", 7.2292], [0, 3, \"male\", 23.0, 0, \"S\", 7.8542], [0, 3, \"male\", 18.0, 0, \"S\", 8.3], [0, 3, \"male\", 21.0, 0, \"S\", 8.6625], [0, 3, \"male\", 26.5, 0, \"S\", 8.05], [0, 3, \"male\", 20.0, 0, \"S\", 7.925], [0, 2, \"male\", 16.0, 0, \"S\", 10.5], [0, 3, \"male\", 34.5, 0, \"C\", 6.4375], [0, 3, \"male\", 17.0, 0, \"S\", 8.6625], [0, 3, \"male\", 42.0, 0, \"S\", 7.55], [0, 3, \"male\", 38.5, 10, \"S\", 69.55], [0, 3, \"male\", 35.0, 0, \"C\", 7.8958], [0, 2, \"male\", 28.0, 1, \"S\", 33.0], [0, 3, \"male\", 4.0, 6, \"S\", 31.275], [0, 3, \"male\", 74.0, 0, \"S\", 7.775], [0, 3, \"female\", 9.0, 2, \"C\", 15.2458], [0, 2, \"female\", 44.0, 1, \"S\", 26.0], [0, 3, \"male\", 32.5, 0, \"C\", 7.2292], [0, 3, \"male\", 41.0, 2, \"S\", 14.1083], [0, 2, \"male\", 21.0, 1, \"S\", 11.5], [0, 3, \"female\", 36.0, 10, \"S\", 69.55], [0, 2, \"male\", 24.0, 0, \"S\", 13.0], [0, 1, \"male\", 31.0, 0, \"S\", 50.4958], [0, 3, \"male\", 17.5, 0, \"S\", 9.5], [0, 3, \"male\", 26.0, 0, \"S\", 7.8958], [0, 1, \"male\", 33.0, 0, \"S\", 5.0], [0, 3, \"male\", 47.0, 0, \"S\", 9.0], [0, 3, \"male\", 20.0, 0, \"S\", 9.8458], [0, 3, \"male\", 19.0, 0, \"S\", 7.8958], [0, 3, \"male\", 37.5, 0, \"S\", 7.8958], [0, 3, \"male\", 33.0, 0, \"S\", 7.8958], [0, 3, \"female\", 22.0, 0, \"S\", 10.5167], [0, 2, \"male\", 28.0, 0, \"S\", 10.5], [0, 3, \"male\", 25.0, 0, \"S\", 7.05], [0, 3, \"female\", 39.0, 5, \"Q\", 29.125], [0, 2, \"male\", 27.0, 0, \"S\", 13.0], [0, 3, \"female\", 22.5, 3, \"S\", 23.45], [0, 3, \"male\", 32.0, 0, \"Q\", 7.75]], \"hovertemplate\": \"Survived=%{customdata[0]}<br>Fare=%{customdata[6]}<br>Pclass=%{customdata[1]}<br>Sex=%{customdata[2]}<br>Age=%{customdata[3]}<br>Family=%{customdata[4]}<br>Embarked=%{customdata[5]}<extra></extra>\", \"legendgroup\": \"0\", \"marker\": {\"color\": \"#636efa\"}, \"name\": \"0\", \"notched\": true, \"offsetgroup\": \"0\", \"showlegend\": false, \"type\": \"box\", \"x\": [7.25, 8.05, 8.4583, 51.8625, 21.075, 8.05, 31.275, 7.8542, 29.125, 18.0, 26.0, 21.075, 7.225, 263.0, 7.8958, 27.7208, 10.5, 82.1708, 52.0, 8.05, 18.0, 9.475, 21.0, 7.8958, 8.05, 15.5, 21.6792, 17.8, 39.6875, 7.8, 61.9792, 7.2292, 46.9, 7.2292, 83.475, 27.9, 27.7208, 8.1583, 8.6625, 10.5, 46.9, 73.5, 14.4542, 7.65, 7.8958, 8.05, 9.0, 47.1, 34.375, 8.05, 8.05, 8.05, 7.8542, 61.175, 20.575, 7.25, 8.05, 34.6542, 26.0, 7.8958, 7.8958, 77.2875, 8.6542, 7.925, 7.8958, 7.8958, 52.0, 14.4542, 8.05, 9.825, 14.4583, 7.925, 7.75, 21.0, 247.5208, 31.275, 73.5, 8.05, 30.0708, 77.2875, 7.75, 6.975, 7.8958, 7.05, 14.5, 13.0, 15.0458, 53.1, 9.2167, 79.2, 15.2458, 6.75, 11.5, 36.75, 34.375, 26.0, 13.0, 12.525, 8.05, 14.5, 7.3125, 61.3792, 8.05, 8.6625, 69.55, 16.1, 7.775, 8.6625, 39.6875, 27.9, 25.925, 56.4958, 33.5, 29.125, 7.925, 30.6958, 7.8542, 25.4667, 28.7125, 13.0, 0.0, 69.55, 15.05, 31.3875, 50.0, 15.5, 7.8958, 13.0, 7.75, 8.4042, 13.0, 9.5, 69.55, 6.4958, 7.225, 10.4625, 15.85, 7.05, 7.25, 13.0, 7.75, 27.0, 10.5, 13.0, 8.05, 7.8958, 9.35, 7.25, 13.0, 25.4667, 7.775, 13.5, 10.5, 7.55, 26.0, 10.5, 12.275, 14.4542, 10.5, 7.125, 7.225, 90.0, 7.775, 26.0, 7.25, 10.4625, 26.55, 16.1, 20.2125, 7.75, 79.65, 0.0, 7.75, 10.5, 39.6875, 31.0, 29.7, 7.75, 0.0, 29.125, 7.75, 7.8542, 9.5, 26.0, 8.6625, 7.8958, 12.875, 8.85, 7.8958, 27.7208, 7.2292, 151.55, 0.0, 8.05, 24.0, 26.0, 7.8958, 26.25, 14.0, 7.25, 7.8958, 69.55, 6.2375, 28.5, 153.4625, 18.0, 7.8958, 66.6, 35.5, 13.0, 13.0, 13.0, 8.6625, 9.225, 35.0, 7.2292, 17.8, 7.225, 9.5, 13.0, 27.9, 27.7208, 14.4542, 7.05, 15.5, 7.25, 6.4958, 8.05, 135.6333, 21.075, 211.5, 4.0125, 7.775, 7.925, 7.8958, 73.5, 46.9, 7.7292, 7.925, 7.7958, 7.8542, 26.0, 10.5, 8.05, 9.825, 15.85, 8.6625, 21.0, 7.75, 7.775, 25.4667, 7.8958, 6.8583, 0.0, 8.05, 13.0, 24.15, 7.8958, 7.7333, 7.875, 14.4, 20.2125, 7.25, 7.75, 7.125, 55.9, 34.375, 263.0, 10.5, 9.5, 7.775, 27.75, 19.9667, 27.75, 8.05, 26.55, 7.75, 8.05, 38.5, 13.0, 8.05, 7.05, 0.0, 26.55, 7.725, 7.25, 8.6625, 9.8375, 52.0, 21.0, 7.0458, 7.5208, 46.9, 0.0, 8.05, 25.4667, 29.7, 8.05, 19.9667, 7.25, 30.5, 49.5042, 8.05, 14.4583, 15.1, 151.55, 7.7958, 8.6625, 7.75, 7.6292, 9.5875, 108.9, 22.525, 8.05, 7.4958, 34.0208, 24.15, 7.8958, 7.8958, 7.225, 7.2292, 7.75, 221.7792, 7.925, 11.5, 7.2292, 7.2292, 8.6625, 26.55, 14.5, 31.275, 31.275, 106.425, 26.0, 20.525, 26.0, 7.8292, 26.55, 227.525, 7.75, 7.8958, 13.5, 8.05, 8.05, 24.15, 7.8958, 21.075, 7.2292, 8.05, 14.5, 14.4583, 26.0, 40.125, 8.7125, 15.0, 8.05, 8.05, 7.125, 7.25, 7.75, 26.0, 24.15, 0.0, 7.225, 7.8958, 42.4, 8.05, 15.55, 7.8958, 31.275, 7.05, 7.75, 8.05, 14.4, 16.1, 10.5, 14.4542, 7.8542, 16.1, 32.3208, 12.35, 7.8958, 7.7333, 7.0542, 0.0, 27.9, 7.925, 26.25, 39.6875, 16.1, 7.8542, 27.9, 7.8958, 7.55, 7.8958, 8.4333, 6.75, 73.5, 7.8958, 15.5, 13.0, 113.275, 7.225, 25.5875, 7.4958, 73.5, 13.0, 7.775, 8.05, 52.0, 10.5, 0.0, 7.775, 8.05, 46.9, 8.1375, 9.225, 46.9, 39.0, 41.5792, 39.6875, 10.1708, 7.7958, 7.225, 26.55, 13.5, 8.05, 110.8833, 7.65, 14.4542, 7.7417, 7.8542, 26.0, 26.55, 9.4833, 13.0, 7.65, 15.5, 7.775, 7.0542, 13.0, 13.0, 8.6625, 26.0, 7.925, 18.7875, 0.0, 13.0, 13.0, 16.1, 34.375, 7.8958, 7.8958, 78.85, 16.1, 71.0, 20.25, 53.1, 7.75, 9.5, 7.8958, 7.7958, 11.5, 8.05, 14.5, 7.125, 7.775, 39.6, 7.75, 24.15, 8.3625, 9.5, 7.8542, 10.5, 7.225, 7.75, 7.75, 7.7375, 30.0, 23.45, 7.05, 7.25, 29.125, 79.2, 7.75, 26.0, 69.55, 30.6958, 7.8958, 13.0, 7.2292, 24.15, 13.0, 7.775, 0.0, 7.775, 13.0, 7.8875, 24.15, 10.5, 31.275, 8.05, 0.0, 7.925, 37.0042, 6.45, 27.9, 0.0, 39.6875, 6.95, 56.4958, 7.2292, 7.8542, 8.3, 8.6625, 8.05, 7.925, 10.5, 6.4375, 8.6625, 7.55, 69.55, 7.8958, 33.0, 31.275, 7.775, 15.2458, 26.0, 7.2292, 14.1083, 11.5, 69.55, 13.0, 50.4958, 9.5, 7.8958, 5.0, 9.0, 9.8458, 7.8958, 7.8958, 7.8958, 10.5167, 10.5, 7.05, 29.125, 13.0, 23.45, 7.75], \"xaxis\": \"x2\", \"yaxis\": \"y2\"}, {\"alignmentgroup\": \"True\", \"bingroup\": \"x\", \"histfunc\": \"sum\", \"hovertemplate\": \"Survived=1<br>Fare=%{x}<br>sum of Survived=%{y}<extra></extra>\", \"legendgroup\": \"1\", \"marker\": {\"color\": \"#EF553B\", \"opacity\": 0.75}, \"name\": \"1\", \"offsetgroup\": \"1\", \"orientation\": \"v\", \"showlegend\": true, \"type\": \"histogram\", \"x\": [71.2833, 7.925, 53.1, 11.1333, 30.0708, 16.7, 26.55, 16.0, 13.0, 7.225, 13.0, 8.0292, 35.5, 31.3875, 7.8792, 146.5208, 7.75, 7.2292, 11.2417, 41.5792, 7.8792, 7.75, 76.7292, 26.0, 35.5, 10.5, 27.75, 80.0, 15.2458, 10.5, 7.925, 56.4958, 29.0, 12.475, 9.5, 7.7875, 10.5, 15.85, 263.0, 63.3583, 23.0, 7.65, 7.775, 24.15, 13.0, 11.2417, 7.1417, 22.3583, 26.0, 26.2833, 7.75, 15.85, 7.7958, 66.6, 7.7333, 15.75, 20.525, 55.0, 11.1333, 39.0, 22.025, 15.5, 26.55, 13.0, 7.8542, 26.0, 27.7208, 146.5208, 7.75, 8.05, 18.7875, 7.75, 31.0, 21.0, 113.275, 7.925, 76.2917, 8.05, 90.0, 10.5, 83.475, 31.3875, 26.25, 15.5, 14.5, 52.5542, 15.2458, 79.2, 86.5, 512.3292, 26.0, 31.3875, 7.775, 153.4625, 135.6333, 0.0, 19.5, 7.75, 77.9583, 20.25, 8.05, 9.5, 13.0, 7.75, 78.85, 91.0792, 30.5, 247.5208, 7.75, 23.25, 12.35, 151.55, 110.8833, 108.9, 56.9292, 83.1583, 262.375, 7.8542, 26.0, 164.8667, 134.5, 12.35, 29.0, 135.6333, 13.0, 20.525, 57.9792, 23.25, 133.65, 134.5, 8.05, 26.0, 263.0, 13.0, 13.0, 16.1, 15.9, 55.0, 7.8792, 7.8792, 75.25, 7.2292, 7.75, 69.3, 55.4417, 82.1708, 7.25, 227.525, 15.7417, 52.0, 13.0, 12.0, 120.0, 7.7958, 113.275, 16.7, 12.65, 7.925, 18.75, 90.0, 7.925, 32.5, 13.0, 26.0, 26.0, 8.05, 26.55, 16.1, 26.0, 120.0, 18.75, 26.25, 13.0, 8.1125, 81.8583, 19.5, 26.55, 19.2583, 30.5, 89.1042, 7.8958, 51.8625, 10.5, 26.55, 19.2583, 27.75, 13.7917, 12.2875, 9.5875, 91.0792, 90.0, 15.9, 78.2667, 86.5, 26.0, 26.55, 56.4958, 7.75, 26.2875, 59.4, 10.5, 26.0, 93.5, 57.9792, 10.5, 26.0, 22.3583, 26.25, 106.425, 49.5, 71.0, 26.0, 26.0, 13.8625, 36.75, 110.8833, 7.225, 7.775, 39.6, 79.65, 17.4, 7.8542, 10.5, 51.4792, 26.3875, 7.75, 13.0, 55.9, 7.925, 30.0, 110.8833, 79.65, 79.2, 78.2667, 33.0, 56.9292, 27.0, 26.55, 30.5, 41.5792, 153.4625, 15.5, 65.0, 39.0, 52.5542, 15.7417, 77.9583, 30.0, 30.5, 13.0, 69.3, 56.4958, 19.2583, 76.7292, 35.5, 7.55, 23.0, 7.8292, 133.65, 7.925, 52.0, 39.0, 13.0, 9.8417, 512.3292, 76.7292, 211.3375, 57.0, 13.4167, 56.4958, 7.7333, 227.525, 26.2875, 13.5, 26.2875, 151.55, 15.2458, 49.5042, 52.0, 227.525, 10.5, 33.0, 53.1, 21.0, 7.7375, 211.3375, 512.3292, 30.0, 262.375, 7.925, 13.0, 23.0, 12.475, 65.0, 14.5, 86.5, 7.2292, 120.0, 77.9583, 23.0, 12.475, 211.3375, 7.2292, 57.0, 7.4958, 20.575, 25.9292, 8.6833, 26.25, 120.0, 8.5167, 6.975, 53.1, 93.5, 8.6625, 12.475, 37.0042, 7.75, 80.0, 14.4542, 18.75, 83.1583, 56.4958, 29.7, 31.0, 89.1042, 39.4, 9.35, 164.8667, 26.55, 19.2583, 25.9292, 13.0, 13.8583, 11.1333, 52.5542, 24.0, 7.225, 83.1583, 26.0, 30.0, 30.0], \"xaxis\": \"x\", \"y\": [1, 1, 1, 1, 1, 1, 1, 1, 1, 1, 1, 1, 1, 1, 1, 1, 1, 1, 1, 1, 1, 1, 1, 1, 1, 1, 1, 1, 1, 1, 1, 1, 1, 1, 1, 1, 1, 1, 1, 1, 1, 1, 1, 1, 1, 1, 1, 1, 1, 1, 1, 1, 1, 1, 1, 1, 1, 1, 1, 1, 1, 1, 1, 1, 1, 1, 1, 1, 1, 1, 1, 1, 1, 1, 1, 1, 1, 1, 1, 1, 1, 1, 1, 1, 1, 1, 1, 1, 1, 1, 1, 1, 1, 1, 1, 1, 1, 1, 1, 1, 1, 1, 1, 1, 1, 1, 1, 1, 1, 1, 1, 1, 1, 1, 1, 1, 1, 1, 1, 1, 1, 1, 1, 1, 1, 1, 1, 1, 1, 1, 1, 1, 1, 1, 1, 1, 1, 1, 1, 1, 1, 1, 1, 1, 1, 1, 1, 1, 1, 1, 1, 1, 1, 1, 1, 1, 1, 1, 1, 1, 1, 1, 1, 1, 1, 1, 1, 1, 1, 1, 1, 1, 1, 1, 1, 1, 1, 1, 1, 1, 1, 1, 1, 1, 1, 1, 1, 1, 1, 1, 1, 1, 1, 1, 1, 1, 1, 1, 1, 1, 1, 1, 1, 1, 1, 1, 1, 1, 1, 1, 1, 1, 1, 1, 1, 1, 1, 1, 1, 1, 1, 1, 1, 1, 1, 1, 1, 1, 1, 1, 1, 1, 1, 1, 1, 1, 1, 1, 1, 1, 1, 1, 1, 1, 1, 1, 1, 1, 1, 1, 1, 1, 1, 1, 1, 1, 1, 1, 1, 1, 1, 1, 1, 1, 1, 1, 1, 1, 1, 1, 1, 1, 1, 1, 1, 1, 1, 1, 1, 1, 1, 1, 1, 1, 1, 1, 1, 1, 1, 1, 1, 1, 1, 1, 1, 1, 1, 1, 1, 1, 1, 1, 1, 1, 1, 1, 1, 1, 1, 1, 1, 1, 1, 1, 1, 1, 1, 1, 1, 1, 1, 1, 1, 1, 1, 1, 1, 1, 1, 1, 1, 1, 1, 1, 1, 1, 1, 1, 1, 1, 1, 1], \"yaxis\": \"y\"}, {\"alignmentgroup\": \"True\", \"customdata\": [[1, 1, \"female\", 38.0, 1, \"C\", 71.2833], [1, 3, \"female\", 26.0, 0, \"S\", 7.925], [1, 1, \"female\", 35.0, 1, \"S\", 53.1], [1, 3, \"female\", 27.0, 2, \"S\", 11.1333], [1, 2, \"female\", 14.0, 1, \"C\", 30.0708], [1, 3, \"female\", 4.0, 2, \"S\", 16.7], [1, 1, \"female\", 58.0, 0, \"S\", 26.55], [1, 2, \"female\", 55.0, 0, \"S\", 16.0], [1, 2, \"male\", 16.5, 0, \"S\", 13.0], [1, 3, \"female\", 33.0, 0, \"C\", 7.225], [1, 2, \"male\", 34.0, 0, \"S\", 13.0], [1, 3, \"female\", 15.0, 0, \"Q\", 8.0292], [1, 1, \"male\", 28.0, 0, \"S\", 35.5], [1, 3, \"female\", 38.0, 6, \"S\", 31.3875], [1, 3, \"female\", 26.0, 0, \"Q\", 7.8792], [1, 1, \"female\", 48.666666666666664, 1, \"C\", 146.5208], [1, 3, \"female\", 57.33333333333333, 0, \"Q\", 7.75], [1, 3, \"male\", 31.5, 0, \"C\", 7.2292], [1, 3, \"female\", 14.0, 1, \"C\", 11.2417], [1, 2, \"female\", 3.0, 3, \"C\", 41.5792], [1, 3, \"female\", 19.0, 0, \"Q\", 7.8792], [1, 3, \"female\", 18.4, 0, \"Q\", 7.75], [1, 1, \"female\", 49.0, 1, \"C\", 76.7292], [1, 2, \"female\", 29.0, 1, \"S\", 26.0], [1, 1, \"male\", 43.0, 0, \"S\", 35.5], [1, 2, \"female\", 21.0, 0, \"S\", 10.5], [1, 2, \"female\", 5.0, 3, \"S\", 27.75], [1, 1, \"female\", 38.0, 0, null, 80.0], [1, 3, \"male\", 20.666666666666668, 2, \"C\", 15.2458], [1, 2, \"female\", 29.0, 0, \"S\", 10.5], [1, 3, \"female\", 17.0, 6, \"S\", 7.925], [1, 3, \"male\", 32.0, 0, \"S\", 56.4958], [1, 2, \"male\", 0.83, 2, \"S\", 29.0], [1, 3, \"female\", 30.0, 0, \"S\", 12.475], [1, 3, \"male\", 29.0, 0, \"S\", 9.5], [1, 3, \"female\", 28.5, 0, \"Q\", 7.7875], [1, 2, \"female\", 17.0, 0, \"S\", 10.5], [1, 3, \"female\", 33.0, 3, \"S\", 15.85], [1, 1, \"female\", 23.0, 5, \"S\", 263.0], [1, 1, \"male\", 23.0, 1, \"C\", 63.3583], [1, 2, \"female\", 34.0, 1, \"S\", 23.0], [1, 3, \"female\", 21.0, 0, \"S\", 7.65], [1, 3, \"male\", 29.5, 0, \"S\", 7.775], [1, 3, \"female\", 42.5, 1, \"Q\", 24.15], [1, 2, \"female\", 32.5, 0, \"S\", 13.0], [1, 3, \"male\", 12.0, 1, \"C\", 11.2417], [1, 3, \"male\", 24.0, 0, \"S\", 7.1417], [1, 3, \"female\", 34.5, 2, \"C\", 22.3583], [1, 2, \"female\", 29.0, 1, \"S\", 26.0], [1, 1, \"female\", 19.0, 2, \"S\", 26.2833], [1, 3, \"female\", 22.0, 0, \"S\", 7.75], [1, 3, \"female\", 24.0, 1, \"S\", 15.85], [1, 3, \"male\", 27.0, 0, \"S\", 7.7958], [1, 1, \"female\", 22.0, 1, \"S\", 66.6], [1, 3, \"female\", 16.0, 0, \"Q\", 7.7333], [1, 2, \"female\", 40.0, 0, \"S\", 15.75], [1, 3, \"male\", 9.0, 2, \"S\", 20.525], [1, 1, \"female\", 27.0, 1, \"S\", 55.0], [1, 3, \"female\", 1.0, 2, \"S\", 11.1333], [1, 2, \"male\", 1.0, 3, \"S\", 39.0], [1, 3, \"female\", 4.0, 2, \"S\", 22.025], [1, 3, \"female\", 31.333333333333332, 1, \"Q\", 15.5], [1, 1, \"male\", 45.0, 0, \"S\", 26.55], [1, 2, \"female\", 32.0, 0, \"S\", 13.0], [1, 3, \"female\", 19.0, 1, \"S\", 7.8542], [1, 2, \"male\", 3.0, 2, \"S\", 26.0], [1, 1, \"female\", 44.0, 0, \"C\", 27.7208], [1, 1, \"female\", 58.0, 0, \"C\", 146.5208], [1, 3, \"female\", 33.0, 0, \"Q\", 7.75], [1, 3, \"male\", 18.0, 0, \"S\", 8.05], [1, 3, \"male\", 26.0, 0, \"C\", 18.7875], [1, 3, \"female\", 16.0, 0, \"Q\", 7.75], [1, 1, \"male\", 40.0, 0, \"C\", 31.0], [1, 2, \"female\", 35.0, 0, \"S\", 21.0], [1, 1, \"female\", 31.0, 1, \"C\", 113.275], [1, 3, \"female\", 27.0, 0, \"S\", 7.925], [1, 1, \"female\", 32.0, 0, \"C\", 76.2917], [1, 3, \"male\", 16.0, 0, \"S\", 8.05], [1, 1, \"male\", 38.0, 1, \"S\", 90.0], [1, 2, \"male\", 19.0, 0, \"S\", 10.5], [1, 1, \"female\", 35.0, 1, \"S\", 83.475], [1, 3, \"female\", 5.0, 6, \"S\", 31.3875], [1, 2, \"female\", 8.0, 2, \"S\", 26.25], [1, 3, \"female\", 30.333333333333332, 1, \"Q\", 15.5], [1, 2, \"female\", 24.0, 2, \"S\", 14.5], [1, 1, \"male\", 37.0, 2, \"S\", 52.5542], [1, 3, \"female\", 29.0, 2, \"C\", 15.2458], [1, 1, \"female\", 29.5, 0, \"C\", 79.2], [1, 1, \"female\", 30.0, 0, \"S\", 86.5], [1, 1, \"female\", 35.0, 0, \"C\", 512.3292], [1, 2, \"female\", 50.0, 1, \"S\", 26.0], [1, 3, \"male\", 3.0, 6, \"S\", 31.3875], [1, 3, \"male\", 25.0, 1, \"S\", 7.775], [1, 1, \"female\", 58.0, 1, \"S\", 153.4625], [1, 1, \"female\", 35.0, 0, \"S\", 135.6333], [1, 3, \"male\", 25.0, 0, \"S\", 0.0], [1, 2, \"female\", 41.0, 1, \"S\", 19.5], [1, 3, \"female\", 50.0, 0, \"Q\", 7.75], [1, 1, \"female\", 63.0, 1, \"S\", 77.9583], [1, 3, \"female\", 35.0, 2, \"S\", 20.25], [1, 3, \"male\", 19.0, 0, \"S\", 8.05], [1, 3, \"male\", 30.0, 0, \"S\", 9.5], [1, 2, \"male\", 42.0, 0, \"S\", 13.0], [1, 3, \"female\", 22.0, 0, \"Q\", 7.75], [1, 1, \"female\", 26.0, 0, \"S\", 78.85], [1, 1, \"female\", 19.0, 1, \"C\", 91.0792], [1, 1, \"male\", 26.0, 0, \"S\", 30.5], [1, 1, \"female\", 50.0, 1, \"C\", 247.5208], [1, 3, \"female\", 39.666666666666664, 0, \"Q\", 7.75], [1, 3, \"male\", 29.333333333333332, 2, \"Q\", 23.25], [1, 2, \"female\", 12.973333333333333, 0, \"Q\", 12.35], [1, 1, \"male\", 0.92, 3, \"S\", 151.55], [1, 1, \"female\", 8.959999999999999, 0, \"C\", 110.8833], [1, 1, \"female\", 17.0, 1, \"C\", 108.9], [1, 1, \"female\", 30.0, 0, \"C\", 56.9292], [1, 1, \"female\", 24.0, 0, \"C\", 83.1583], [1, 1, \"female\", 18.0, 4, \"C\", 262.375], [1, 3, \"female\", 26.0, 0, \"S\", 7.8542], [1, 2, \"female\", 24.0, 1, \"S\", 26.0], [1, 1, \"female\", 31.0, 2, \"S\", 164.8667], [1, 1, \"female\", 40.0, 2, \"C\", 134.5], [1, 2, \"female\", 30.0, 0, \"Q\", 12.35], [1, 2, \"female\", 22.0, 2, \"S\", 29.0], [1, 1, \"female\", 36.0, 0, \"C\", 135.6333], [1, 2, \"female\", 36.0, 0, \"S\", 13.0], [1, 3, \"female\", 31.0, 2, \"S\", 20.525], [1, 1, \"female\", 16.0, 1, \"C\", 57.9792], [1, 3, \"female\", 30.75, 2, \"Q\", 23.25], [1, 1, \"female\", 20.333333333333332, 1, \"S\", 133.65], [1, 1, \"female\", 41.0, 0, \"C\", 134.5], [1, 3, \"male\", 45.0, 0, \"S\", 8.05], [1, 2, \"male\", 2.0, 2, \"S\", 26.0], [1, 1, \"female\", 24.0, 5, \"S\", 263.0], [1, 2, \"female\", 24.0, 0, \"S\", 13.0], [1, 2, \"female\", 40.0, 0, \"S\", 13.0], [1, 3, \"female\", 21.5, 1, \"S\", 16.1], [1, 3, \"male\", 3.0, 2, \"S\", 15.9], [1, 1, \"female\", 22.0, 1, \"S\", 55.0], [1, 3, \"female\", 38.666666666666664, 0, \"Q\", 7.8792], [1, 3, \"female\", 39.333333333333336, 0, \"Q\", 7.8792], [1, 1, \"female\", 60.0, 1, \"C\", 75.25], [1, 3, \"female\", 48.0, 0, \"C\", 7.2292], [1, 3, \"female\", 36.0, 0, \"Q\", 7.75], [1, 1, \"female\", 24.0, 0, \"C\", 69.3], [1, 1, \"male\", 25.0, 1, \"C\", 55.4417], [1, 1, \"female\", 12.5, 1, \"C\", 82.1708], [1, 3, \"female\", 22.0, 0, \"S\", 7.25], [1, 1, \"female\", 42.0, 0, \"C\", 227.525], [1, 3, \"female\", 1.0, 2, \"C\", 15.7417], [1, 1, \"female\", 35.0, 1, \"S\", 52.0], [1, 2, \"female\", 36.0, 0, \"S\", 13.0], [1, 2, \"female\", 17.0, 0, \"C\", 12.0], [1, 1, \"male\", 36.0, 3, \"S\", 120.0], [1, 3, \"male\", 21.0, 0, \"S\", 7.7958], [1, 1, \"female\", 23.0, 1, \"C\", 113.275], [1, 3, \"female\", 24.0, 2, \"S\", 16.7], [1, 2, \"female\", 28.0, 0, \"S\", 12.65], [1, 3, \"male\", 39.0, 0, \"S\", 7.925], [1, 2, \"male\", 3.0, 2, \"S\", 18.75], [1, 1, \"female\", 33.0, 1, \"Q\", 90.0], [1, 3, \"male\", 44.0, 0, \"S\", 7.925], [1, 2, \"female\", 34.0, 2, \"S\", 32.5], [1, 2, \"female\", 18.0, 2, \"S\", 13.0], [1, 2, \"female\", 28.0, 1, \"S\", 26.0], [1, 2, \"female\", 19.0, 0, \"S\", 26.0], [1, 3, \"male\", 32.0, 0, \"S\", 8.05], [1, 1, \"male\", 28.0, 0, \"S\", 26.55], [1, 3, \"female\", 35.0, 1, \"S\", 16.1], [1, 2, \"female\", 42.0, 1, \"S\", 26.0], [1, 1, \"female\", 14.0, 3, \"S\", 120.0], [1, 2, \"female\", 24.0, 5, \"S\", 18.75], [1, 2, \"female\", 45.0, 2, \"S\", 26.25], [1, 2, \"female\", 28.0, 0, \"S\", 13.0], [1, 3, \"male\", 16.0, 0, \"S\", 8.1125], [1, 1, \"male\", 4.0, 2, \"S\", 81.8583], [1, 2, \"female\", 13.0, 1, \"S\", 19.5], [1, 1, \"male\", 34.0, 0, \"S\", 26.55], [1, 3, \"female\", 5.0, 3, \"C\", 19.2583], [1, 1, \"male\", 52.0, 0, \"S\", 30.5], [1, 1, \"male\", 49.0, 1, \"C\", 89.1042], [1, 3, \"male\", 29.0, 0, \"C\", 7.8958], [1, 1, \"female\", 57.5, 1, \"S\", 51.8625], [1, 2, \"female\", 50.0, 0, \"S\", 10.5], [1, 1, \"male\", 48.0, 0, \"S\", 26.55], [1, 3, \"female\", 0.75, 3, \"C\", 19.2583], [1, 2, \"female\", 33.0, 3, \"S\", 27.75], [1, 2, \"female\", 23.0, 0, \"C\", 13.7917], [1, 3, \"female\", 2.0, 1, \"S\", 12.2875], [1, 3, \"female\", 63.0, 0, \"S\", 9.5875], [1, 1, \"male\", 25.0, 1, \"C\", 91.0792], [1, 1, \"female\", 35.0, 1, \"S\", 90.0], [1, 3, \"male\", 9.0, 2, \"S\", 15.9], [1, 1, \"female\", 54.0, 1, \"C\", 78.2667], [1, 1, \"female\", 16.0, 0, \"S\", 86.5], [1, 2, \"female\", 33.0, 2, \"S\", 26.0], [1, 1, \"male\", 30.5, 0, \"S\", 26.55], [1, 3, \"male\", 26.0, 0, \"S\", 56.4958], [1, 3, \"male\", 29.0, 0, \"Q\", 7.75], [1, 1, \"male\", 36.0, 0, \"S\", 26.2875], [1, 1, \"female\", 54.0, 1, \"C\", 59.4], [1, 2, \"female\", 34.0, 0, \"S\", 10.5], [1, 2, \"female\", 36.0, 1, \"S\", 26.0], [1, 1, \"female\", 30.0, 0, \"S\", 93.5], [1, 1, \"female\", 44.0, 1, \"C\", 57.9792], [1, 2, \"female\", 50.0, 0, \"S\", 10.5], [1, 2, \"female\", 2.0, 2, \"S\", 26.0], [1, 3, \"female\", 23.5, 2, \"C\", 22.3583], [1, 2, \"female\", 7.0, 2, \"S\", 26.25], [1, 1, \"female\", 30.0, 0, \"C\", 106.425], [1, 1, \"female\", 22.0, 2, \"C\", 49.5], [1, 1, \"female\", 36.0, 2, \"S\", 71.0], [1, 2, \"male\", 32.0, 1, \"S\", 26.0], [1, 2, \"female\", 19.0, 1, \"S\", 26.0], [1, 2, \"male\", 26.0, 0, \"C\", 13.8625], [1, 2, \"male\", 8.0, 2, \"S\", 36.75], [1, 1, \"male\", 17.0, 2, \"C\", 110.8833], [1, 3, \"male\", 22.0, 0, \"C\", 7.225], [1, 3, \"female\", 22.0, 0, \"S\", 7.775], [1, 1, \"female\", 48.0, 1, \"C\", 39.6], [1, 1, \"female\", 39.0, 2, \"S\", 79.65], [1, 3, \"female\", 36.0, 1, \"S\", 17.4], [1, 3, \"male\", 32.0, 0, \"S\", 7.8542], [1, 2, \"male\", 62.0, 0, \"S\", 10.5], [1, 1, \"female\", 53.0, 2, \"S\", 51.4792], [1, 1, \"male\", 36.0, 0, \"S\", 26.3875], [1, 3, \"female\", 26.0, 0, \"Q\", 7.75], [1, 2, \"female\", 34.0, 0, \"S\", 13.0], [1, 1, \"female\", 39.0, 1, \"S\", 55.9], [1, 3, \"male\", 32.0, 0, \"S\", 7.925], [1, 2, \"female\", 25.0, 2, \"S\", 30.0], [1, 1, \"female\", 39.0, 2, \"C\", 110.8833], [1, 1, \"female\", 18.0, 2, \"S\", 79.65], [1, 1, \"male\", 60.0, 2, \"C\", 79.2], [1, 1, \"female\", 52.0, 1, \"C\", 78.2667], [1, 2, \"female\", 42.5, 0, \"S\", 33.0], [1, 1, \"male\", 49.0, 1, \"C\", 56.9292], [1, 2, \"female\", 24.0, 3, \"S\", 27.0], [1, 1, \"male\", 35.0, 0, \"C\", 26.55], [1, 1, \"male\", 27.0, 0, \"S\", 30.5], [1, 2, \"female\", 22.0, 3, \"C\", 41.5792], [1, 1, \"female\", 40.0, 0, \"S\", 153.4625], [1, 3, \"female\", 37.0, 1, \"Q\", 15.5], [1, 2, \"female\", 24.0, 3, \"S\", 65.0], [1, 2, \"female\", 4.0, 3, \"S\", 39.0], [1, 1, \"male\", 42.0, 1, \"S\", 52.5542], [1, 3, \"male\", 20.0, 2, \"C\", 15.7417], [1, 1, \"female\", 21.0, 0, \"S\", 77.9583], [1, 1, \"male\", 80.0, 0, \"S\", 30.0], [1, 1, \"male\", 32.0, 0, \"C\", 30.5], [1, 2, \"female\", 28.0, 0, \"S\", 13.0], [1, 1, \"female\", 24.0, 0, \"C\", 69.3], [1, 3, \"male\", 1.375, 0, \"S\", 56.4958], [1, 3, \"female\", 0.75, 3, \"C\", 19.2583], [1, 1, \"male\", 48.0, 1, \"C\", 76.7292], [1, 1, \"male\", 56.0, 0, \"C\", 35.5], [1, 3, \"female\", 23.0, 0, \"S\", 7.55], [1, 2, \"female\", 18.0, 1, \"S\", 23.0], [1, 3, \"female\", 19.5, 0, \"Q\", 7.8292], [1, 1, \"male\", 50.0, 2, \"S\", 133.65], [1, 3, \"male\", 20.0, 1, \"S\", 7.925], [1, 1, \"female\", 41.5, 1, \"S\", 52.0], [1, 2, \"female\", 40.0, 2, \"S\", 39.0], [1, 2, \"male\", 31.0, 0, \"S\", 13.0], [1, 3, \"female\", 18.0, 0, \"S\", 9.8417], [1, 1, \"male\", 36.0, 1, \"C\", 512.3292], [1, 1, \"male\", 27.0, 0, \"C\", 76.7292], [1, 1, \"female\", 15.0, 1, \"S\", 211.3375], [1, 1, \"male\", 31.0, 1, \"S\", 57.0], [1, 3, \"female\", 4.0, 1, \"C\", 13.4167], [1, 3, \"male\", 14.5, 0, \"S\", 56.4958], [1, 3, \"female\", 46.5, 0, \"Q\", 7.7333], [1, 1, \"female\", 18.0, 1, \"C\", 227.525], [1, 1, \"male\", 35.0, 0, \"S\", 26.2875], [1, 2, \"female\", 45.0, 0, \"S\", 13.5], [1, 1, \"male\", 42.0, 0, \"S\", 26.2875], [1, 1, \"female\", 22.0, 0, \"S\", 151.55], [1, 3, \"male\", 23.0, 2, \"C\", 15.2458], [1, 1, \"female\", 24.0, 0, \"C\", 49.5042], [1, 1, \"male\", 48.0, 1, \"S\", 52.0], [1, 1, \"female\", 38.0, 0, \"C\", 227.525], [1, 2, \"female\", 27.0, 0, \"S\", 10.5], [1, 2, \"female\", 6.0, 1, \"S\", 33.0], [1, 1, \"male\", 27.0, 1, \"S\", 53.1], [1, 2, \"female\", 30.0, 3, \"S\", 21.0], [1, 3, \"female\", 27.5, 0, \"Q\", 7.7375], [1, 1, \"female\", 29.0, 0, \"S\", 211.3375], [1, 1, \"male\", 35.0, 0, \"C\", 512.3292], [1, 1, \"male\", 35.75, 0, \"S\", 30.0], [1, 1, \"female\", 21.0, 4, \"C\", 262.375], [1, 3, \"male\", 31.0, 0, \"S\", 7.925], [1, 2, \"female\", 30.0, 0, \"S\", 13.0], [1, 2, \"female\", 4.0, 2, \"S\", 23.0], [1, 3, \"male\", 6.0, 1, \"S\", 12.475], [1, 2, \"female\", 48.0, 3, \"S\", 65.0], [1, 2, \"male\", 0.67, 2, \"S\", 14.5], [1, 1, \"female\", 33.0, 0, \"S\", 86.5], [1, 3, \"male\", 20.0, 0, \"C\", 7.2292], [1, 1, \"female\", 36.0, 3, \"S\", 120.0], [1, 1, \"female\", 51.0, 1, \"S\", 77.9583], [1, 2, \"female\", 54.0, 4, \"S\", 23.0], [1, 3, \"female\", 5.0, 0, \"S\", 12.475], [1, 1, \"female\", 43.0, 1, \"S\", 211.3375], [1, 3, \"female\", 13.0, 0, \"C\", 7.2292], [1, 1, \"female\", 17.0, 1, \"S\", 57.0], [1, 3, \"female\", 18.0, 0, \"S\", 7.4958], [1, 3, \"male\", 1.0, 3, \"S\", 20.575], [1, 1, \"female\", 49.0, 0, \"S\", 25.9292], [1, 3, \"female\", 31.0, 0, \"S\", 8.6833], [1, 2, \"female\", 31.0, 2, \"S\", 26.25], [1, 1, \"male\", 11.0, 3, \"S\", 120.0], [1, 3, \"male\", 0.42, 1, \"C\", 8.5167], [1, 3, \"male\", 27.0, 0, \"S\", 6.975], [1, 1, \"female\", 33.0, 1, \"S\", 53.1], [1, 1, \"female\", 52.0, 2, \"S\", 93.5], [1, 3, \"male\", 27.0, 0, \"S\", 8.6625], [1, 3, \"female\", 27.0, 1, \"S\", 12.475], [1, 2, \"male\", 1.0, 2, \"C\", 37.0042], [1, 3, \"male\", 31.5, 0, \"Q\", 7.75], [1, 1, \"female\", 62.0, 0, null, 80.0], [1, 3, \"female\", 15.0, 1, \"C\", 14.4542], [1, 2, \"male\", 0.83, 2, \"S\", 18.75], [1, 1, \"female\", 39.0, 2, \"C\", 83.1583], [1, 3, \"male\", 32.0, 0, \"S\", 56.4958], [1, 1, \"male\", 26.0, 0, \"C\", 29.7], [1, 1, \"female\", 30.0, 0, \"C\", 31.0], [1, 1, \"female\", 16.0, 1, \"C\", 89.1042], [1, 1, \"female\", 16.0, 1, \"S\", 39.4], [1, 3, \"female\", 18.0, 1, \"S\", 9.35], [1, 1, \"female\", 45.0, 2, \"S\", 164.8667], [1, 1, \"male\", 51.0, 0, \"S\", 26.55], [1, 3, \"female\", 24.0, 3, \"C\", 19.2583], [1, 1, \"female\", 48.0, 0, \"S\", 25.9292], [1, 2, \"female\", 42.0, 0, \"S\", 13.0], [1, 2, \"female\", 27.0, 1, \"C\", 13.8583], [1, 3, \"male\", 4.0, 2, \"S\", 11.1333], [1, 1, \"female\", 47.0, 2, \"S\", 52.5542], [1, 2, \"female\", 28.0, 1, \"C\", 24.0], [1, 3, \"female\", 15.0, 0, \"C\", 7.225], [1, 1, \"female\", 56.0, 1, \"C\", 83.1583], [1, 2, \"female\", 25.0, 1, \"S\", 26.0], [1, 1, \"female\", 19.0, 0, \"S\", 30.0], [1, 1, \"male\", 26.0, 0, \"C\", 30.0]], \"hovertemplate\": \"Survived=%{customdata[0]}<br>Fare=%{customdata[6]}<br>Pclass=%{customdata[1]}<br>Sex=%{customdata[2]}<br>Age=%{customdata[3]}<br>Family=%{customdata[4]}<br>Embarked=%{customdata[5]}<extra></extra>\", \"legendgroup\": \"1\", \"marker\": {\"color\": \"#EF553B\"}, \"name\": \"1\", \"notched\": true, \"offsetgroup\": \"1\", \"showlegend\": false, \"type\": \"box\", \"x\": [71.2833, 7.925, 53.1, 11.1333, 30.0708, 16.7, 26.55, 16.0, 13.0, 7.225, 13.0, 8.0292, 35.5, 31.3875, 7.8792, 146.5208, 7.75, 7.2292, 11.2417, 41.5792, 7.8792, 7.75, 76.7292, 26.0, 35.5, 10.5, 27.75, 80.0, 15.2458, 10.5, 7.925, 56.4958, 29.0, 12.475, 9.5, 7.7875, 10.5, 15.85, 263.0, 63.3583, 23.0, 7.65, 7.775, 24.15, 13.0, 11.2417, 7.1417, 22.3583, 26.0, 26.2833, 7.75, 15.85, 7.7958, 66.6, 7.7333, 15.75, 20.525, 55.0, 11.1333, 39.0, 22.025, 15.5, 26.55, 13.0, 7.8542, 26.0, 27.7208, 146.5208, 7.75, 8.05, 18.7875, 7.75, 31.0, 21.0, 113.275, 7.925, 76.2917, 8.05, 90.0, 10.5, 83.475, 31.3875, 26.25, 15.5, 14.5, 52.5542, 15.2458, 79.2, 86.5, 512.3292, 26.0, 31.3875, 7.775, 153.4625, 135.6333, 0.0, 19.5, 7.75, 77.9583, 20.25, 8.05, 9.5, 13.0, 7.75, 78.85, 91.0792, 30.5, 247.5208, 7.75, 23.25, 12.35, 151.55, 110.8833, 108.9, 56.9292, 83.1583, 262.375, 7.8542, 26.0, 164.8667, 134.5, 12.35, 29.0, 135.6333, 13.0, 20.525, 57.9792, 23.25, 133.65, 134.5, 8.05, 26.0, 263.0, 13.0, 13.0, 16.1, 15.9, 55.0, 7.8792, 7.8792, 75.25, 7.2292, 7.75, 69.3, 55.4417, 82.1708, 7.25, 227.525, 15.7417, 52.0, 13.0, 12.0, 120.0, 7.7958, 113.275, 16.7, 12.65, 7.925, 18.75, 90.0, 7.925, 32.5, 13.0, 26.0, 26.0, 8.05, 26.55, 16.1, 26.0, 120.0, 18.75, 26.25, 13.0, 8.1125, 81.8583, 19.5, 26.55, 19.2583, 30.5, 89.1042, 7.8958, 51.8625, 10.5, 26.55, 19.2583, 27.75, 13.7917, 12.2875, 9.5875, 91.0792, 90.0, 15.9, 78.2667, 86.5, 26.0, 26.55, 56.4958, 7.75, 26.2875, 59.4, 10.5, 26.0, 93.5, 57.9792, 10.5, 26.0, 22.3583, 26.25, 106.425, 49.5, 71.0, 26.0, 26.0, 13.8625, 36.75, 110.8833, 7.225, 7.775, 39.6, 79.65, 17.4, 7.8542, 10.5, 51.4792, 26.3875, 7.75, 13.0, 55.9, 7.925, 30.0, 110.8833, 79.65, 79.2, 78.2667, 33.0, 56.9292, 27.0, 26.55, 30.5, 41.5792, 153.4625, 15.5, 65.0, 39.0, 52.5542, 15.7417, 77.9583, 30.0, 30.5, 13.0, 69.3, 56.4958, 19.2583, 76.7292, 35.5, 7.55, 23.0, 7.8292, 133.65, 7.925, 52.0, 39.0, 13.0, 9.8417, 512.3292, 76.7292, 211.3375, 57.0, 13.4167, 56.4958, 7.7333, 227.525, 26.2875, 13.5, 26.2875, 151.55, 15.2458, 49.5042, 52.0, 227.525, 10.5, 33.0, 53.1, 21.0, 7.7375, 211.3375, 512.3292, 30.0, 262.375, 7.925, 13.0, 23.0, 12.475, 65.0, 14.5, 86.5, 7.2292, 120.0, 77.9583, 23.0, 12.475, 211.3375, 7.2292, 57.0, 7.4958, 20.575, 25.9292, 8.6833, 26.25, 120.0, 8.5167, 6.975, 53.1, 93.5, 8.6625, 12.475, 37.0042, 7.75, 80.0, 14.4542, 18.75, 83.1583, 56.4958, 29.7, 31.0, 89.1042, 39.4, 9.35, 164.8667, 26.55, 19.2583, 25.9292, 13.0, 13.8583, 11.1333, 52.5542, 24.0, 7.225, 83.1583, 26.0, 30.0, 30.0], \"xaxis\": \"x2\", \"yaxis\": \"y2\"}],\n",
       "                        {\"barmode\": \"relative\", \"height\": 400, \"legend\": {\"title\": {\"text\": \"Survived\"}, \"tracegroupgap\": 0}, \"template\": {\"data\": {\"bar\": [{\"error_x\": {\"color\": \"#2a3f5f\"}, \"error_y\": {\"color\": \"#2a3f5f\"}, \"marker\": {\"line\": {\"color\": \"#E5ECF6\", \"width\": 0.5}}, \"type\": \"bar\"}], \"barpolar\": [{\"marker\": {\"line\": {\"color\": \"#E5ECF6\", \"width\": 0.5}}, \"type\": \"barpolar\"}], \"carpet\": [{\"aaxis\": {\"endlinecolor\": \"#2a3f5f\", \"gridcolor\": \"white\", \"linecolor\": \"white\", \"minorgridcolor\": \"white\", \"startlinecolor\": \"#2a3f5f\"}, \"baxis\": {\"endlinecolor\": \"#2a3f5f\", \"gridcolor\": \"white\", \"linecolor\": \"white\", \"minorgridcolor\": \"white\", \"startlinecolor\": \"#2a3f5f\"}, \"type\": \"carpet\"}], \"choropleth\": [{\"colorbar\": {\"outlinewidth\": 0, \"ticks\": \"\"}, \"type\": \"choropleth\"}], \"contour\": [{\"colorbar\": {\"outlinewidth\": 0, \"ticks\": \"\"}, \"colorscale\": [[0.0, \"#0d0887\"], [0.1111111111111111, \"#46039f\"], [0.2222222222222222, \"#7201a8\"], [0.3333333333333333, \"#9c179e\"], [0.4444444444444444, \"#bd3786\"], [0.5555555555555556, \"#d8576b\"], [0.6666666666666666, \"#ed7953\"], [0.7777777777777778, \"#fb9f3a\"], [0.8888888888888888, \"#fdca26\"], [1.0, \"#f0f921\"]], \"type\": \"contour\"}], \"contourcarpet\": [{\"colorbar\": {\"outlinewidth\": 0, \"ticks\": \"\"}, \"type\": \"contourcarpet\"}], \"heatmap\": [{\"colorbar\": {\"outlinewidth\": 0, \"ticks\": \"\"}, \"colorscale\": [[0.0, \"#0d0887\"], [0.1111111111111111, \"#46039f\"], [0.2222222222222222, \"#7201a8\"], [0.3333333333333333, \"#9c179e\"], [0.4444444444444444, \"#bd3786\"], [0.5555555555555556, \"#d8576b\"], [0.6666666666666666, \"#ed7953\"], [0.7777777777777778, \"#fb9f3a\"], [0.8888888888888888, \"#fdca26\"], [1.0, \"#f0f921\"]], \"type\": \"heatmap\"}], \"heatmapgl\": [{\"colorbar\": {\"outlinewidth\": 0, \"ticks\": \"\"}, \"colorscale\": [[0.0, \"#0d0887\"], [0.1111111111111111, \"#46039f\"], [0.2222222222222222, \"#7201a8\"], [0.3333333333333333, \"#9c179e\"], [0.4444444444444444, \"#bd3786\"], [0.5555555555555556, \"#d8576b\"], [0.6666666666666666, \"#ed7953\"], [0.7777777777777778, \"#fb9f3a\"], [0.8888888888888888, \"#fdca26\"], [1.0, \"#f0f921\"]], \"type\": \"heatmapgl\"}], \"histogram\": [{\"marker\": {\"colorbar\": {\"outlinewidth\": 0, \"ticks\": \"\"}}, \"type\": \"histogram\"}], \"histogram2d\": [{\"colorbar\": {\"outlinewidth\": 0, \"ticks\": \"\"}, \"colorscale\": [[0.0, \"#0d0887\"], [0.1111111111111111, \"#46039f\"], [0.2222222222222222, \"#7201a8\"], [0.3333333333333333, \"#9c179e\"], [0.4444444444444444, \"#bd3786\"], [0.5555555555555556, \"#d8576b\"], [0.6666666666666666, \"#ed7953\"], [0.7777777777777778, \"#fb9f3a\"], [0.8888888888888888, \"#fdca26\"], [1.0, \"#f0f921\"]], \"type\": \"histogram2d\"}], \"histogram2dcontour\": [{\"colorbar\": {\"outlinewidth\": 0, \"ticks\": \"\"}, \"colorscale\": [[0.0, \"#0d0887\"], [0.1111111111111111, \"#46039f\"], [0.2222222222222222, \"#7201a8\"], [0.3333333333333333, \"#9c179e\"], [0.4444444444444444, \"#bd3786\"], [0.5555555555555556, \"#d8576b\"], [0.6666666666666666, \"#ed7953\"], [0.7777777777777778, \"#fb9f3a\"], [0.8888888888888888, \"#fdca26\"], [1.0, \"#f0f921\"]], \"type\": \"histogram2dcontour\"}], \"mesh3d\": [{\"colorbar\": {\"outlinewidth\": 0, \"ticks\": \"\"}, \"type\": \"mesh3d\"}], \"parcoords\": [{\"line\": {\"colorbar\": {\"outlinewidth\": 0, \"ticks\": \"\"}}, \"type\": \"parcoords\"}], \"pie\": [{\"automargin\": true, \"type\": \"pie\"}], \"scatter\": [{\"marker\": {\"colorbar\": {\"outlinewidth\": 0, \"ticks\": \"\"}}, \"type\": \"scatter\"}], \"scatter3d\": [{\"line\": {\"colorbar\": {\"outlinewidth\": 0, \"ticks\": \"\"}}, \"marker\": {\"colorbar\": {\"outlinewidth\": 0, \"ticks\": \"\"}}, \"type\": \"scatter3d\"}], \"scattercarpet\": [{\"marker\": {\"colorbar\": {\"outlinewidth\": 0, \"ticks\": \"\"}}, \"type\": \"scattercarpet\"}], \"scattergeo\": [{\"marker\": {\"colorbar\": {\"outlinewidth\": 0, \"ticks\": \"\"}}, \"type\": \"scattergeo\"}], \"scattergl\": [{\"marker\": {\"colorbar\": {\"outlinewidth\": 0, \"ticks\": \"\"}}, \"type\": \"scattergl\"}], \"scattermapbox\": [{\"marker\": {\"colorbar\": {\"outlinewidth\": 0, \"ticks\": \"\"}}, \"type\": \"scattermapbox\"}], \"scatterpolar\": [{\"marker\": {\"colorbar\": {\"outlinewidth\": 0, \"ticks\": \"\"}}, \"type\": \"scatterpolar\"}], \"scatterpolargl\": [{\"marker\": {\"colorbar\": {\"outlinewidth\": 0, \"ticks\": \"\"}}, \"type\": \"scatterpolargl\"}], \"scatterternary\": [{\"marker\": {\"colorbar\": {\"outlinewidth\": 0, \"ticks\": \"\"}}, \"type\": \"scatterternary\"}], \"surface\": [{\"colorbar\": {\"outlinewidth\": 0, \"ticks\": \"\"}, \"colorscale\": [[0.0, \"#0d0887\"], [0.1111111111111111, \"#46039f\"], [0.2222222222222222, \"#7201a8\"], [0.3333333333333333, \"#9c179e\"], [0.4444444444444444, \"#bd3786\"], [0.5555555555555556, \"#d8576b\"], [0.6666666666666666, \"#ed7953\"], [0.7777777777777778, \"#fb9f3a\"], [0.8888888888888888, \"#fdca26\"], [1.0, \"#f0f921\"]], \"type\": \"surface\"}], \"table\": [{\"cells\": {\"fill\": {\"color\": \"#EBF0F8\"}, \"line\": {\"color\": \"white\"}}, \"header\": {\"fill\": {\"color\": \"#C8D4E3\"}, \"line\": {\"color\": \"white\"}}, \"type\": \"table\"}]}, \"layout\": {\"annotationdefaults\": {\"arrowcolor\": \"#2a3f5f\", \"arrowhead\": 0, \"arrowwidth\": 1}, \"coloraxis\": {\"colorbar\": {\"outlinewidth\": 0, \"ticks\": \"\"}}, \"colorscale\": {\"diverging\": [[0, \"#8e0152\"], [0.1, \"#c51b7d\"], [0.2, \"#de77ae\"], [0.3, \"#f1b6da\"], [0.4, \"#fde0ef\"], [0.5, \"#f7f7f7\"], [0.6, \"#e6f5d0\"], [0.7, \"#b8e186\"], [0.8, \"#7fbc41\"], [0.9, \"#4d9221\"], [1, \"#276419\"]], \"sequential\": [[0.0, \"#0d0887\"], [0.1111111111111111, \"#46039f\"], [0.2222222222222222, \"#7201a8\"], [0.3333333333333333, \"#9c179e\"], [0.4444444444444444, \"#bd3786\"], [0.5555555555555556, \"#d8576b\"], [0.6666666666666666, \"#ed7953\"], [0.7777777777777778, \"#fb9f3a\"], [0.8888888888888888, \"#fdca26\"], [1.0, \"#f0f921\"]], \"sequentialminus\": [[0.0, \"#0d0887\"], [0.1111111111111111, \"#46039f\"], [0.2222222222222222, \"#7201a8\"], [0.3333333333333333, \"#9c179e\"], [0.4444444444444444, \"#bd3786\"], [0.5555555555555556, \"#d8576b\"], [0.6666666666666666, \"#ed7953\"], [0.7777777777777778, \"#fb9f3a\"], [0.8888888888888888, \"#fdca26\"], [1.0, \"#f0f921\"]]}, \"colorway\": [\"#636efa\", \"#EF553B\", \"#00cc96\", \"#ab63fa\", \"#FFA15A\", \"#19d3f3\", \"#FF6692\", \"#B6E880\", \"#FF97FF\", \"#FECB52\"], \"font\": {\"color\": \"#2a3f5f\"}, \"geo\": {\"bgcolor\": \"white\", \"lakecolor\": \"white\", \"landcolor\": \"#E5ECF6\", \"showlakes\": true, \"showland\": true, \"subunitcolor\": \"white\"}, \"hoverlabel\": {\"align\": \"left\"}, \"hovermode\": \"closest\", \"mapbox\": {\"style\": \"light\"}, \"paper_bgcolor\": \"white\", \"plot_bgcolor\": \"#E5ECF6\", \"polar\": {\"angularaxis\": {\"gridcolor\": \"white\", \"linecolor\": \"white\", \"ticks\": \"\"}, \"bgcolor\": \"#E5ECF6\", \"radialaxis\": {\"gridcolor\": \"white\", \"linecolor\": \"white\", \"ticks\": \"\"}}, \"scene\": {\"xaxis\": {\"backgroundcolor\": \"#E5ECF6\", \"gridcolor\": \"white\", \"gridwidth\": 2, \"linecolor\": \"white\", \"showbackground\": true, \"ticks\": \"\", \"zerolinecolor\": \"white\"}, \"yaxis\": {\"backgroundcolor\": \"#E5ECF6\", \"gridcolor\": \"white\", \"gridwidth\": 2, \"linecolor\": \"white\", \"showbackground\": true, \"ticks\": \"\", \"zerolinecolor\": \"white\"}, \"zaxis\": {\"backgroundcolor\": \"#E5ECF6\", \"gridcolor\": \"white\", \"gridwidth\": 2, \"linecolor\": \"white\", \"showbackground\": true, \"ticks\": \"\", \"zerolinecolor\": \"white\"}}, \"shapedefaults\": {\"line\": {\"color\": \"#2a3f5f\"}}, \"ternary\": {\"aaxis\": {\"gridcolor\": \"white\", \"linecolor\": \"white\", \"ticks\": \"\"}, \"baxis\": {\"gridcolor\": \"white\", \"linecolor\": \"white\", \"ticks\": \"\"}, \"bgcolor\": \"#E5ECF6\", \"caxis\": {\"gridcolor\": \"white\", \"linecolor\": \"white\", \"ticks\": \"\"}}, \"title\": {\"x\": 0.05}, \"xaxis\": {\"automargin\": true, \"gridcolor\": \"white\", \"linecolor\": \"white\", \"ticks\": \"\", \"title\": {\"standoff\": 15}, \"zerolinecolor\": \"white\", \"zerolinewidth\": 2}, \"yaxis\": {\"automargin\": true, \"gridcolor\": \"white\", \"linecolor\": \"white\", \"ticks\": \"\", \"title\": {\"standoff\": 15}, \"zerolinecolor\": \"white\", \"zerolinewidth\": 2}}}, \"title\": {\"text\": \"Fare Distribution Among Survivors and Non-Survivors\"}, \"width\": 700, \"xaxis\": {\"anchor\": \"y\", \"domain\": [0.0, 1.0], \"title\": {\"text\": \"Fare\"}}, \"xaxis2\": {\"anchor\": \"y2\", \"domain\": [0.0, 1.0], \"matches\": \"x\", \"showgrid\": true, \"showticklabels\": false}, \"yaxis\": {\"anchor\": \"x\", \"categoryarray\": [1, 0], \"categoryorder\": \"array\", \"domain\": [0.0, 0.7326], \"title\": {\"text\": \"sum of Survived\"}}, \"yaxis2\": {\"anchor\": \"x2\", \"categoryarray\": [1, 0], \"categoryorder\": \"array\", \"domain\": [0.7426, 1.0], \"matches\": \"y2\", \"showgrid\": false, \"showline\": false, \"showticklabels\": false, \"ticks\": \"\"}},\n",
       "                        {\"responsive\": true}\n",
       "                    ).then(function(){\n",
       "                            \n",
       "var gd = document.getElementById('463ee9d3-8c60-4efc-95c6-2915bdcb7dc5');\n",
       "var x = new MutationObserver(function (mutations, observer) {{\n",
       "        var display = window.getComputedStyle(gd).display;\n",
       "        if (!display || display === 'none') {{\n",
       "            console.log([gd, 'removed!']);\n",
       "            Plotly.purge(gd);\n",
       "            observer.disconnect();\n",
       "        }}\n",
       "}});\n",
       "\n",
       "// Listen for the removal of the full notebook cells\n",
       "var notebookContainer = gd.closest('#notebook-container');\n",
       "if (notebookContainer) {{\n",
       "    x.observe(notebookContainer, {childList: true});\n",
       "}}\n",
       "\n",
       "// Listen for the clearing of the current output cell\n",
       "var outputEl = gd.closest('.output');\n",
       "if (outputEl) {{\n",
       "    x.observe(outputEl, {childList: true});\n",
       "}}\n",
       "\n",
       "                        })\n",
       "                };\n",
       "                });\n",
       "            </script>\n",
       "        </div>"
      ]
     },
     "metadata": {},
     "output_type": "display_data"
    }
   ],
   "source": [
    "fig = px.histogram(train, x='Fare', y='Survived', color='Survived', marginal='box', opacity=0.75,\n",
    "                  hover_data=train.columns, title='Fare Distribution Among Survivors and Non-Survivors')\n",
    "fig.update_layout(width=700, height=400)\n",
    "fig.show()"
   ]
  },
  {
   "cell_type": "markdown",
   "execution_count": null,
   "metadata": {},
   "source": [
    "# Preparing the Data for a Machine Learning Model and Feature Selection\n",
    "## Dummy Data\n",
    "Now, we want to get our data in a proper format before we feed it into a model. Clearly this will be cumbersome to tackle with all the categorical features we have. One approach to address this is generating **dummy data**. The pandas `get_dummies()` function will use one-hot encoding to convert the categorical data, so new columns will be generated. We will add prefixes to make our columns more readable."
   ]
  },
  {
   "cell_type": "code",
   "execution_count": 9,
   "metadata": {},
   "outputs": [
    {
     "data": {
      "text/html": [
       "<div>\n",
       "<style scoped>\n",
       "    .dataframe tbody tr th:only-of-type {\n",
       "        vertical-align: middle;\n",
       "    }\n",
       "\n",
       "    .dataframe tbody tr th {\n",
       "        vertical-align: top;\n",
       "    }\n",
       "\n",
       "    .dataframe thead th {\n",
       "        text-align: right;\n",
       "    }\n",
       "</style>\n",
       "<table border=\"1\" class=\"dataframe\">\n",
       "  <thead>\n",
       "    <tr style=\"text-align: right;\">\n",
       "      <th></th>\n",
       "      <th>Survived</th>\n",
       "      <th>Age</th>\n",
       "      <th>Family</th>\n",
       "      <th>Fare</th>\n",
       "      <th>Class_1</th>\n",
       "      <th>Class_2</th>\n",
       "      <th>Class_3</th>\n",
       "      <th>Sex_female</th>\n",
       "      <th>Sex_male</th>\n",
       "      <th>Port_C</th>\n",
       "      <th>Port_Q</th>\n",
       "      <th>Port_S</th>\n",
       "    </tr>\n",
       "  </thead>\n",
       "  <tbody>\n",
       "    <tr>\n",
       "      <th>0</th>\n",
       "      <td>0</td>\n",
       "      <td>22.0</td>\n",
       "      <td>1</td>\n",
       "      <td>7.2500</td>\n",
       "      <td>0</td>\n",
       "      <td>0</td>\n",
       "      <td>1</td>\n",
       "      <td>0</td>\n",
       "      <td>1</td>\n",
       "      <td>0</td>\n",
       "      <td>0</td>\n",
       "      <td>1</td>\n",
       "    </tr>\n",
       "    <tr>\n",
       "      <th>1</th>\n",
       "      <td>1</td>\n",
       "      <td>38.0</td>\n",
       "      <td>1</td>\n",
       "      <td>71.2833</td>\n",
       "      <td>1</td>\n",
       "      <td>0</td>\n",
       "      <td>0</td>\n",
       "      <td>1</td>\n",
       "      <td>0</td>\n",
       "      <td>1</td>\n",
       "      <td>0</td>\n",
       "      <td>0</td>\n",
       "    </tr>\n",
       "    <tr>\n",
       "      <th>2</th>\n",
       "      <td>1</td>\n",
       "      <td>26.0</td>\n",
       "      <td>0</td>\n",
       "      <td>7.9250</td>\n",
       "      <td>0</td>\n",
       "      <td>0</td>\n",
       "      <td>1</td>\n",
       "      <td>1</td>\n",
       "      <td>0</td>\n",
       "      <td>0</td>\n",
       "      <td>0</td>\n",
       "      <td>1</td>\n",
       "    </tr>\n",
       "    <tr>\n",
       "      <th>3</th>\n",
       "      <td>1</td>\n",
       "      <td>35.0</td>\n",
       "      <td>1</td>\n",
       "      <td>53.1000</td>\n",
       "      <td>1</td>\n",
       "      <td>0</td>\n",
       "      <td>0</td>\n",
       "      <td>1</td>\n",
       "      <td>0</td>\n",
       "      <td>0</td>\n",
       "      <td>0</td>\n",
       "      <td>1</td>\n",
       "    </tr>\n",
       "    <tr>\n",
       "      <th>4</th>\n",
       "      <td>0</td>\n",
       "      <td>35.0</td>\n",
       "      <td>0</td>\n",
       "      <td>8.0500</td>\n",
       "      <td>0</td>\n",
       "      <td>0</td>\n",
       "      <td>1</td>\n",
       "      <td>0</td>\n",
       "      <td>1</td>\n",
       "      <td>0</td>\n",
       "      <td>0</td>\n",
       "      <td>1</td>\n",
       "    </tr>\n",
       "  </tbody>\n",
       "</table>\n",
       "</div>"
      ],
      "text/plain": [
       "   Survived   Age  Family     Fare  Class_1  Class_2  Class_3  Sex_female  \\\n",
       "0         0  22.0       1   7.2500        0        0        1           0   \n",
       "1         1  38.0       1  71.2833        1        0        0           1   \n",
       "2         1  26.0       0   7.9250        0        0        1           1   \n",
       "3         1  35.0       1  53.1000        1        0        0           1   \n",
       "4         0  35.0       0   8.0500        0        0        1           0   \n",
       "\n",
       "   Sex_male  Port_C  Port_Q  Port_S  \n",
       "0         1       0       0       1  \n",
       "1         0       1       0       0  \n",
       "2         0       0       0       1  \n",
       "3         0       0       0       1  \n",
       "4         1       0       0       1  "
      ]
     },
     "execution_count": 9,
     "metadata": {},
     "output_type": "execute_result"
    }
   ],
   "source": [
    "titanic_dummies = pd.get_dummies(train, columns=['Pclass', 'Sex', 'Embarked'], prefix=['Class', 'Sex', 'Port'])\n",
    "titanic_dummies.head(5)"
   ]
  },
  {
   "cell_type": "markdown",
   "execution_count": null,
   "metadata": {},
   "source": [
    "## Feature Selection\n",
    "We will use this feature selector to remove all low-variance features, i.e. features whose variance doesn't meet a given threshold. This is good because we don't want unwanted noise prior to our prediction. By default, VarianceThreshold removes all features that have 0 variance, or have the same values in all samples. Since we have all boolean features, we can remove all features that are either one or zero in 80% or more in all of the samples. The variance of boolean features is given by: *Var(x) = p(1 - p)*, and this is the threshold we will use for our selector. \n",
    "`get_support(indices=True)` will maintain the column names in our new generated data."
   ]
  },
  {
   "cell_type": "code",
   "execution_count": 10,
   "metadata": {},
   "outputs": [
    {
     "data": {
      "text/html": [
       "<div>\n",
       "<style scoped>\n",
       "    .dataframe tbody tr th:only-of-type {\n",
       "        vertical-align: middle;\n",
       "    }\n",
       "\n",
       "    .dataframe tbody tr th {\n",
       "        vertical-align: top;\n",
       "    }\n",
       "\n",
       "    .dataframe thead th {\n",
       "        text-align: right;\n",
       "    }\n",
       "</style>\n",
       "<table border=\"1\" class=\"dataframe\">\n",
       "  <thead>\n",
       "    <tr style=\"text-align: right;\">\n",
       "      <th></th>\n",
       "      <th>Survived</th>\n",
       "      <th>Age</th>\n",
       "      <th>Family</th>\n",
       "      <th>Fare</th>\n",
       "      <th>Class_1</th>\n",
       "      <th>Class_2</th>\n",
       "      <th>Class_3</th>\n",
       "      <th>Sex_female</th>\n",
       "      <th>Sex_male</th>\n",
       "      <th>Port_S</th>\n",
       "    </tr>\n",
       "  </thead>\n",
       "  <tbody>\n",
       "    <tr>\n",
       "      <th>0</th>\n",
       "      <td>0</td>\n",
       "      <td>22.0</td>\n",
       "      <td>1</td>\n",
       "      <td>7.2500</td>\n",
       "      <td>0</td>\n",
       "      <td>0</td>\n",
       "      <td>1</td>\n",
       "      <td>0</td>\n",
       "      <td>1</td>\n",
       "      <td>1</td>\n",
       "    </tr>\n",
       "    <tr>\n",
       "      <th>1</th>\n",
       "      <td>1</td>\n",
       "      <td>38.0</td>\n",
       "      <td>1</td>\n",
       "      <td>71.2833</td>\n",
       "      <td>1</td>\n",
       "      <td>0</td>\n",
       "      <td>0</td>\n",
       "      <td>1</td>\n",
       "      <td>0</td>\n",
       "      <td>0</td>\n",
       "    </tr>\n",
       "    <tr>\n",
       "      <th>2</th>\n",
       "      <td>1</td>\n",
       "      <td>26.0</td>\n",
       "      <td>0</td>\n",
       "      <td>7.9250</td>\n",
       "      <td>0</td>\n",
       "      <td>0</td>\n",
       "      <td>1</td>\n",
       "      <td>1</td>\n",
       "      <td>0</td>\n",
       "      <td>1</td>\n",
       "    </tr>\n",
       "    <tr>\n",
       "      <th>3</th>\n",
       "      <td>1</td>\n",
       "      <td>35.0</td>\n",
       "      <td>1</td>\n",
       "      <td>53.1000</td>\n",
       "      <td>1</td>\n",
       "      <td>0</td>\n",
       "      <td>0</td>\n",
       "      <td>1</td>\n",
       "      <td>0</td>\n",
       "      <td>1</td>\n",
       "    </tr>\n",
       "    <tr>\n",
       "      <th>4</th>\n",
       "      <td>0</td>\n",
       "      <td>35.0</td>\n",
       "      <td>0</td>\n",
       "      <td>8.0500</td>\n",
       "      <td>0</td>\n",
       "      <td>0</td>\n",
       "      <td>1</td>\n",
       "      <td>0</td>\n",
       "      <td>1</td>\n",
       "      <td>1</td>\n",
       "    </tr>\n",
       "  </tbody>\n",
       "</table>\n",
       "</div>"
      ],
      "text/plain": [
       "   Survived   Age  Family     Fare  Class_1  Class_2  Class_3  Sex_female  \\\n",
       "0         0  22.0       1   7.2500        0        0        1           0   \n",
       "1         1  38.0       1  71.2833        1        0        0           1   \n",
       "2         1  26.0       0   7.9250        0        0        1           1   \n",
       "3         1  35.0       1  53.1000        1        0        0           1   \n",
       "4         0  35.0       0   8.0500        0        0        1           0   \n",
       "\n",
       "   Sex_male  Port_S  \n",
       "0         1       1  \n",
       "1         0       0  \n",
       "2         0       1  \n",
       "3         0       1  \n",
       "4         1       1  "
      ]
     },
     "execution_count": 10,
     "metadata": {},
     "output_type": "execute_result"
    }
   ],
   "source": [
    "sel = VarianceThreshold(threshold=0.8 * (1 - 0.8))\n",
    "sel.fit_transform(titanic_dummies)\n",
    "fitted = titanic_dummies[titanic_dummies.columns[sel.get_support(indices=True)]]\n",
    "fitted.head(5)"
   ]
  },
  {
   "cell_type": "markdown",
   "execution_count": null,
   "metadata": {},
   "source": [
    "Below, we can see that our feature selector removed two columns, namely `Port_Q` and `Port_C`."
   ]
  },
  {
   "cell_type": "code",
   "execution_count": 11,
   "metadata": {},
   "outputs": [
    {
     "name": "stdout",
     "output_type": "stream",
     "text": [
      "Original DF shape vs feature-selected DF shape: (891, 12), (891, 10)\n"
     ]
    }
   ],
   "source": [
    "print('Original DF shape vs feature-selected DF shape: ' + str(titanic_dummies.shape) + ', ' + str(fitted.shape))"
   ]
  },
  {
   "cell_type": "markdown",
   "execution_count": null,
   "metadata": {},
   "source": [
    "# Model 1\n",
    "## Linear Support Vector Classifier\n",
    "Now we're ready to pass our data into classification models. The first one we will employ is the linear SVC, since we know that it is effective for high-dimensional data. It's also memory-efficient! We will be going with a simple binary linear classifier.\n",
    "\n",
    "The underlying idea of the SVM is to find the hyperplane that best differentiates two classes. Support vectors are the coordinates of each observation in the *n*-dimensional space. We also want the distance between the hyperplane and the nearest data point (called the margin) to be maximized (note that the SVM selects the hyperplane that **best segregates the two classes** prior to maximizing the margin). \n",
    "### Example SVC Visual\n",
    "![scikit-learn.org/stable/_images/sphx_glr_plot_iris_svc_0011.png](https://scikit-learn.org/stable/_images/sphx_glr_plot_iris_svc_0011.png)"
   ]
  },
  {
   "cell_type": "markdown",
   "execution_count": null,
   "metadata": {},
   "source": [
    "Finally, we can split our training and testing data and fit our model."
   ]
  },
  {
   "cell_type": "code",
   "execution_count": 12,
   "metadata": {},
   "outputs": [
    {
     "data": {
      "text/plain": [
       "SVC(kernel='linear')"
      ]
     },
     "execution_count": 12,
     "metadata": {},
     "output_type": "execute_result"
    }
   ],
   "source": [
    "SVC_classifier = SVC(kernel='linear')\n",
    "features = fitted[fitted.columns[1:]]\n",
    "label = fitted[fitted.columns[0]]\n",
    "\n",
    "X_train, X_test, Y_train, Y_test = train_test_split(features, label, test_size=0.2)\n",
    "SVC_classifier.fit(X_train, Y_train)"
   ]
  },
  {
   "cell_type": "markdown",
   "execution_count": null,
   "metadata": {},
   "source": [
    "Predict the label for the testing features. This `predict` function will return an array."
   ]
  },
  {
   "cell_type": "code",
   "execution_count": 13,
   "metadata": {},
   "outputs": [
    {
     "data": {
      "text/plain": [
       "array([0, 0, 0, 0, 0, 1, 0, 0, 0, 1, 1, 1, 1, 1, 1, 0, 1, 0, 0, 1, 0, 0,\n",
       "       1, 1, 1, 0, 0, 0, 1, 1, 0, 1, 0, 0, 0, 0, 1, 1, 0, 1, 1, 0, 1, 1,\n",
       "       1, 0, 1, 1, 1, 0, 0, 0, 0, 1, 0, 0, 0, 0, 1, 0, 1, 0, 1, 0, 1, 0,\n",
       "       1, 0, 1, 0, 0, 0, 0, 0, 1, 0, 0, 1, 0, 0, 1, 0, 0, 1, 0, 0, 0, 0,\n",
       "       0, 1, 1, 0, 0, 0, 0, 0, 0, 0, 1, 1, 0, 0, 0, 0, 1, 0, 1, 0, 0, 0,\n",
       "       1, 0, 1, 0, 0, 1, 1, 0, 0, 0, 0, 1, 1, 1, 0, 1, 0, 0, 1, 0, 0, 0,\n",
       "       0, 0, 0, 0, 0, 0, 1, 0, 0, 0, 0, 0, 0, 0, 0, 0, 0, 0, 0, 1, 0, 0,\n",
       "       0, 1, 0, 1, 0, 0, 0, 1, 1, 0, 1, 0, 0, 0, 0, 0, 0, 1, 1, 0, 0, 0,\n",
       "       1, 1, 0])"
      ]
     },
     "execution_count": 13,
     "metadata": {},
     "output_type": "execute_result"
    }
   ],
   "source": [
    "y_pred = SVC_classifier.predict(X_test)\n",
    "y_pred"
   ]
  },
  {
   "cell_type": "markdown",
   "execution_count": null,
   "metadata": {},
   "source": [
    "### Evaluating the Model\n",
    "We will be utilizing model evaluation metrics to quantify the performance of our linear SVC on the testing dataset we created.\n",
    "#### K-Fold Cross Validation to Get Accuracy\n",
    "Systemically create *k* train/test splits and average the results. This is similar to bootstrapping. "
   ]
  },
  {
   "cell_type": "code",
   "execution_count": 14,
   "metadata": {},
   "outputs": [
    {
     "name": "stdout",
     "output_type": "stream",
     "text": [
      "10-Fold Cross Validation Scores: [0.6666666666666666, 0.7222222222222222, 0.7777777777777778, 0.7777777777777778, 0.7777777777777778, 1.0, 0.7222222222222222, 0.8333333333333334, 0.8333333333333334, 0.8235294117647058]\n",
      "Accuracy: 0.79 (+/- 0.17)\n"
     ]
    }
   ],
   "source": [
    "def cross_val(model, X_test, Y_test, cv):\n",
    "    cross_val_scores = cross_val_score(model, X_test, Y_test, cv=cv)\n",
    "    print(\"10-Fold Cross Validation Scores: \" + str(list(cross_val_scores)))\n",
    "    print(\"Accuracy: %0.2f (+/- %0.2f)\" % (cross_val_scores.mean(), cross_val_scores.std() * 2))\n",
    "    \n",
    "cross_val(SVC_classifier, X_test, Y_test, 10)"
   ]
  },
  {
   "cell_type": "markdown",
   "execution_count": null,
   "metadata": {},
   "source": [
    "#### Plot Confusion Matrix\n",
    "Finally, let's plot the confusion matrix for our model. \n",
    "* Every observation in our dataset is presented in exactly one box.\n",
    "* It is a 2x2 matrix because there are two response classes. **"
   ]
  },
  {
   "cell_type": "code",
   "execution_count": 15,
   "metadata": {},
   "outputs": [
    {
     "name": "stdout",
     "output_type": "stream",
     "text": [
      "(96, 15, 21, 47)\n"
     ]
    },
    {
     "data": {
      "text/html": [
       "<div>\n",
       "        \n",
       "        \n",
       "            <div id=\"3c7c332e-9ec4-4738-af72-db487160c032\" class=\"plotly-graph-div\" style=\"height:400px; width:400px;\"></div>\n",
       "            <script type=\"text/javascript\">\n",
       "                require([\"plotly\"], function(Plotly) {\n",
       "                    window.PLOTLYENV=window.PLOTLYENV || {};\n",
       "                    \n",
       "                if (document.getElementById(\"3c7c332e-9ec4-4738-af72-db487160c032\")) {\n",
       "                    Plotly.newPlot(\n",
       "                        '3c7c332e-9ec4-4738-af72-db487160c032',\n",
       "                        [{\"colorscale\": [[0.0, \"rgb(36, 86, 104)\"], [0.16666666666666666, \"rgb(15, 114, 121)\"], [0.3333333333333333, \"rgb(13, 143, 129)\"], [0.5, \"rgb(57, 171, 126)\"], [0.6666666666666666, \"rgb(110, 197, 116)\"], [0.8333333333333334, \"rgb(169, 220, 103)\"], [1.0, \"rgb(237, 239, 93)\"]], \"reversescale\": false, \"showscale\": false, \"type\": \"heatmap\", \"x\": [\"Pred. Not Survived\", \"Pred. Survived\"], \"y\": [\"Not Survived\", \"Survived\"], \"z\": [[96, 15], [21, 47]]}],\n",
       "                        {\"annotations\": [{\"font\": {\"color\": \"#000000\"}, \"showarrow\": false, \"text\": \"TN\", \"x\": \"Pred. Not Survived\", \"xref\": \"x\", \"y\": \"Not Survived\", \"yref\": \"y\"}, {\"font\": {\"color\": \"#FFFFFF\"}, \"showarrow\": false, \"text\": \"FP\", \"x\": \"Pred. Survived\", \"xref\": \"x\", \"y\": \"Not Survived\", \"yref\": \"y\"}, {\"font\": {\"color\": \"#FFFFFF\"}, \"showarrow\": false, \"text\": \"FN\", \"x\": \"Pred. Not Survived\", \"xref\": \"x\", \"y\": \"Survived\", \"yref\": \"y\"}, {\"font\": {\"color\": \"#FFFFFF\"}, \"showarrow\": false, \"text\": \"TP\", \"x\": \"Pred. Survived\", \"xref\": \"x\", \"y\": \"Survived\", \"yref\": \"y\"}], \"height\": 400, \"template\": {\"data\": {\"bar\": [{\"error_x\": {\"color\": \"#2a3f5f\"}, \"error_y\": {\"color\": \"#2a3f5f\"}, \"marker\": {\"line\": {\"color\": \"#E5ECF6\", \"width\": 0.5}}, \"type\": \"bar\"}], \"barpolar\": [{\"marker\": {\"line\": {\"color\": \"#E5ECF6\", \"width\": 0.5}}, \"type\": \"barpolar\"}], \"carpet\": [{\"aaxis\": {\"endlinecolor\": \"#2a3f5f\", \"gridcolor\": \"white\", \"linecolor\": \"white\", \"minorgridcolor\": \"white\", \"startlinecolor\": \"#2a3f5f\"}, \"baxis\": {\"endlinecolor\": \"#2a3f5f\", \"gridcolor\": \"white\", \"linecolor\": \"white\", \"minorgridcolor\": \"white\", \"startlinecolor\": \"#2a3f5f\"}, \"type\": \"carpet\"}], \"choropleth\": [{\"colorbar\": {\"outlinewidth\": 0, \"ticks\": \"\"}, \"type\": \"choropleth\"}], \"contour\": [{\"colorbar\": {\"outlinewidth\": 0, \"ticks\": \"\"}, \"colorscale\": [[0.0, \"#0d0887\"], [0.1111111111111111, \"#46039f\"], [0.2222222222222222, \"#7201a8\"], [0.3333333333333333, \"#9c179e\"], [0.4444444444444444, \"#bd3786\"], [0.5555555555555556, \"#d8576b\"], [0.6666666666666666, \"#ed7953\"], [0.7777777777777778, \"#fb9f3a\"], [0.8888888888888888, \"#fdca26\"], [1.0, \"#f0f921\"]], \"type\": \"contour\"}], \"contourcarpet\": [{\"colorbar\": {\"outlinewidth\": 0, \"ticks\": \"\"}, \"type\": \"contourcarpet\"}], \"heatmap\": [{\"colorbar\": {\"outlinewidth\": 0, \"ticks\": \"\"}, \"colorscale\": [[0.0, \"#0d0887\"], [0.1111111111111111, \"#46039f\"], [0.2222222222222222, \"#7201a8\"], [0.3333333333333333, \"#9c179e\"], [0.4444444444444444, \"#bd3786\"], [0.5555555555555556, \"#d8576b\"], [0.6666666666666666, \"#ed7953\"], [0.7777777777777778, \"#fb9f3a\"], [0.8888888888888888, \"#fdca26\"], [1.0, \"#f0f921\"]], \"type\": \"heatmap\"}], \"heatmapgl\": [{\"colorbar\": {\"outlinewidth\": 0, \"ticks\": \"\"}, \"colorscale\": [[0.0, \"#0d0887\"], [0.1111111111111111, \"#46039f\"], [0.2222222222222222, \"#7201a8\"], [0.3333333333333333, \"#9c179e\"], [0.4444444444444444, \"#bd3786\"], [0.5555555555555556, \"#d8576b\"], [0.6666666666666666, \"#ed7953\"], [0.7777777777777778, \"#fb9f3a\"], [0.8888888888888888, \"#fdca26\"], [1.0, \"#f0f921\"]], \"type\": \"heatmapgl\"}], \"histogram\": [{\"marker\": {\"colorbar\": {\"outlinewidth\": 0, \"ticks\": \"\"}}, \"type\": \"histogram\"}], \"histogram2d\": [{\"colorbar\": {\"outlinewidth\": 0, \"ticks\": \"\"}, \"colorscale\": [[0.0, \"#0d0887\"], [0.1111111111111111, \"#46039f\"], [0.2222222222222222, \"#7201a8\"], [0.3333333333333333, \"#9c179e\"], [0.4444444444444444, \"#bd3786\"], [0.5555555555555556, \"#d8576b\"], [0.6666666666666666, \"#ed7953\"], [0.7777777777777778, \"#fb9f3a\"], [0.8888888888888888, \"#fdca26\"], [1.0, \"#f0f921\"]], \"type\": \"histogram2d\"}], \"histogram2dcontour\": [{\"colorbar\": {\"outlinewidth\": 0, \"ticks\": \"\"}, \"colorscale\": [[0.0, \"#0d0887\"], [0.1111111111111111, \"#46039f\"], [0.2222222222222222, \"#7201a8\"], [0.3333333333333333, \"#9c179e\"], [0.4444444444444444, \"#bd3786\"], [0.5555555555555556, \"#d8576b\"], [0.6666666666666666, \"#ed7953\"], [0.7777777777777778, \"#fb9f3a\"], [0.8888888888888888, \"#fdca26\"], [1.0, \"#f0f921\"]], \"type\": \"histogram2dcontour\"}], \"mesh3d\": [{\"colorbar\": {\"outlinewidth\": 0, \"ticks\": \"\"}, \"type\": \"mesh3d\"}], \"parcoords\": [{\"line\": {\"colorbar\": {\"outlinewidth\": 0, \"ticks\": \"\"}}, \"type\": \"parcoords\"}], \"pie\": [{\"automargin\": true, \"type\": \"pie\"}], \"scatter\": [{\"marker\": {\"colorbar\": {\"outlinewidth\": 0, \"ticks\": \"\"}}, \"type\": \"scatter\"}], \"scatter3d\": [{\"line\": {\"colorbar\": {\"outlinewidth\": 0, \"ticks\": \"\"}}, \"marker\": {\"colorbar\": {\"outlinewidth\": 0, \"ticks\": \"\"}}, \"type\": \"scatter3d\"}], \"scattercarpet\": [{\"marker\": {\"colorbar\": {\"outlinewidth\": 0, \"ticks\": \"\"}}, \"type\": \"scattercarpet\"}], \"scattergeo\": [{\"marker\": {\"colorbar\": {\"outlinewidth\": 0, \"ticks\": \"\"}}, \"type\": \"scattergeo\"}], \"scattergl\": [{\"marker\": {\"colorbar\": {\"outlinewidth\": 0, \"ticks\": \"\"}}, \"type\": \"scattergl\"}], \"scattermapbox\": [{\"marker\": {\"colorbar\": {\"outlinewidth\": 0, \"ticks\": \"\"}}, \"type\": \"scattermapbox\"}], \"scatterpolar\": [{\"marker\": {\"colorbar\": {\"outlinewidth\": 0, \"ticks\": \"\"}}, \"type\": \"scatterpolar\"}], \"scatterpolargl\": [{\"marker\": {\"colorbar\": {\"outlinewidth\": 0, \"ticks\": \"\"}}, \"type\": \"scatterpolargl\"}], \"scatterternary\": [{\"marker\": {\"colorbar\": {\"outlinewidth\": 0, \"ticks\": \"\"}}, \"type\": \"scatterternary\"}], \"surface\": [{\"colorbar\": {\"outlinewidth\": 0, \"ticks\": \"\"}, \"colorscale\": [[0.0, \"#0d0887\"], [0.1111111111111111, \"#46039f\"], [0.2222222222222222, \"#7201a8\"], [0.3333333333333333, \"#9c179e\"], [0.4444444444444444, \"#bd3786\"], [0.5555555555555556, \"#d8576b\"], [0.6666666666666666, \"#ed7953\"], [0.7777777777777778, \"#fb9f3a\"], [0.8888888888888888, \"#fdca26\"], [1.0, \"#f0f921\"]], \"type\": \"surface\"}], \"table\": [{\"cells\": {\"fill\": {\"color\": \"#EBF0F8\"}, \"line\": {\"color\": \"white\"}}, \"header\": {\"fill\": {\"color\": \"#C8D4E3\"}, \"line\": {\"color\": \"white\"}}, \"type\": \"table\"}]}, \"layout\": {\"annotationdefaults\": {\"arrowcolor\": \"#2a3f5f\", \"arrowhead\": 0, \"arrowwidth\": 1}, \"coloraxis\": {\"colorbar\": {\"outlinewidth\": 0, \"ticks\": \"\"}}, \"colorscale\": {\"diverging\": [[0, \"#8e0152\"], [0.1, \"#c51b7d\"], [0.2, \"#de77ae\"], [0.3, \"#f1b6da\"], [0.4, \"#fde0ef\"], [0.5, \"#f7f7f7\"], [0.6, \"#e6f5d0\"], [0.7, \"#b8e186\"], [0.8, \"#7fbc41\"], [0.9, \"#4d9221\"], [1, \"#276419\"]], \"sequential\": [[0.0, \"#0d0887\"], [0.1111111111111111, \"#46039f\"], [0.2222222222222222, \"#7201a8\"], [0.3333333333333333, \"#9c179e\"], [0.4444444444444444, \"#bd3786\"], [0.5555555555555556, \"#d8576b\"], [0.6666666666666666, \"#ed7953\"], [0.7777777777777778, \"#fb9f3a\"], [0.8888888888888888, \"#fdca26\"], [1.0, \"#f0f921\"]], \"sequentialminus\": [[0.0, \"#0d0887\"], [0.1111111111111111, \"#46039f\"], [0.2222222222222222, \"#7201a8\"], [0.3333333333333333, \"#9c179e\"], [0.4444444444444444, \"#bd3786\"], [0.5555555555555556, \"#d8576b\"], [0.6666666666666666, \"#ed7953\"], [0.7777777777777778, \"#fb9f3a\"], [0.8888888888888888, \"#fdca26\"], [1.0, \"#f0f921\"]]}, \"colorway\": [\"#636efa\", \"#EF553B\", \"#00cc96\", \"#ab63fa\", \"#FFA15A\", \"#19d3f3\", \"#FF6692\", \"#B6E880\", \"#FF97FF\", \"#FECB52\"], \"font\": {\"color\": \"#2a3f5f\"}, \"geo\": {\"bgcolor\": \"white\", \"lakecolor\": \"white\", \"landcolor\": \"#E5ECF6\", \"showlakes\": true, \"showland\": true, \"subunitcolor\": \"white\"}, \"hoverlabel\": {\"align\": \"left\"}, \"hovermode\": \"closest\", \"mapbox\": {\"style\": \"light\"}, \"paper_bgcolor\": \"white\", \"plot_bgcolor\": \"#E5ECF6\", \"polar\": {\"angularaxis\": {\"gridcolor\": \"white\", \"linecolor\": \"white\", \"ticks\": \"\"}, \"bgcolor\": \"#E5ECF6\", \"radialaxis\": {\"gridcolor\": \"white\", \"linecolor\": \"white\", \"ticks\": \"\"}}, \"scene\": {\"xaxis\": {\"backgroundcolor\": \"#E5ECF6\", \"gridcolor\": \"white\", \"gridwidth\": 2, \"linecolor\": \"white\", \"showbackground\": true, \"ticks\": \"\", \"zerolinecolor\": \"white\"}, \"yaxis\": {\"backgroundcolor\": \"#E5ECF6\", \"gridcolor\": \"white\", \"gridwidth\": 2, \"linecolor\": \"white\", \"showbackground\": true, \"ticks\": \"\", \"zerolinecolor\": \"white\"}, \"zaxis\": {\"backgroundcolor\": \"#E5ECF6\", \"gridcolor\": \"white\", \"gridwidth\": 2, \"linecolor\": \"white\", \"showbackground\": true, \"ticks\": \"\", \"zerolinecolor\": \"white\"}}, \"shapedefaults\": {\"line\": {\"color\": \"#2a3f5f\"}}, \"ternary\": {\"aaxis\": {\"gridcolor\": \"white\", \"linecolor\": \"white\", \"ticks\": \"\"}, \"baxis\": {\"gridcolor\": \"white\", \"linecolor\": \"white\", \"ticks\": \"\"}, \"bgcolor\": \"#E5ECF6\", \"caxis\": {\"gridcolor\": \"white\", \"linecolor\": \"white\", \"ticks\": \"\"}}, \"title\": {\"x\": 0.05}, \"xaxis\": {\"automargin\": true, \"gridcolor\": \"white\", \"linecolor\": \"white\", \"ticks\": \"\", \"title\": {\"standoff\": 15}, \"zerolinecolor\": \"white\", \"zerolinewidth\": 2}, \"yaxis\": {\"automargin\": true, \"gridcolor\": \"white\", \"linecolor\": \"white\", \"ticks\": \"\", \"title\": {\"standoff\": 15}, \"zerolinecolor\": \"white\", \"zerolinewidth\": 2}}}, \"title\": {\"text\": \"Confusion Matrix\"}, \"width\": 400, \"xaxis\": {\"dtick\": 1, \"gridcolor\": \"rgb(0, 0, 0)\", \"side\": \"top\", \"ticks\": \"\"}, \"yaxis\": {\"dtick\": 1, \"ticks\": \"\", \"ticksuffix\": \"  \"}},\n",
       "                        {\"responsive\": true}\n",
       "                    ).then(function(){\n",
       "                            \n",
       "var gd = document.getElementById('3c7c332e-9ec4-4738-af72-db487160c032');\n",
       "var x = new MutationObserver(function (mutations, observer) {{\n",
       "        var display = window.getComputedStyle(gd).display;\n",
       "        if (!display || display === 'none') {{\n",
       "            console.log([gd, 'removed!']);\n",
       "            Plotly.purge(gd);\n",
       "            observer.disconnect();\n",
       "        }}\n",
       "}});\n",
       "\n",
       "// Listen for the removal of the full notebook cells\n",
       "var notebookContainer = gd.closest('#notebook-container');\n",
       "if (notebookContainer) {{\n",
       "    x.observe(notebookContainer, {childList: true});\n",
       "}}\n",
       "\n",
       "// Listen for the clearing of the current output cell\n",
       "var outputEl = gd.closest('.output');\n",
       "if (outputEl) {{\n",
       "    x.observe(outputEl, {childList: true});\n",
       "}}\n",
       "\n",
       "                        })\n",
       "                };\n",
       "                });\n",
       "            </script>\n",
       "        </div>"
      ]
     },
     "metadata": {},
     "output_type": "display_data"
    }
   ],
   "source": [
    "tn, fp, fn, tp = confusion_matrix(Y_test, y_pred).ravel()\n",
    "print((tn, fp, fn, tp))\n",
    "\n",
    "def plot_confusion_matrix(Y_true, Y_pred):\n",
    "    cm = list(confusion_matrix(Y_true, y_pred))\n",
    "    x = ['Pred. Not Survived', 'Pred. Survived']\n",
    "    y = ['Not Survived', 'Survived']\n",
    "    cm_text = [['TN', 'FP'], ['FN', 'TP']]\n",
    "    fig = ff.create_annotated_heatmap(cm, x=x, y=y, annotation_text=cm_text, colorscale=\"aggrnyl\")\n",
    "    fig.update_layout(title=\"Confusion Matrix\", width=400, height=400)\n",
    "    fig.show()\n",
    "\n",
    "plot_confusion_matrix(Y_test, y_pred)"
   ]
  },
  {
   "cell_type": "markdown",
   "execution_count": null,
   "metadata": {},
   "source": [
    "#### Compute Metrics from this Confusion Matrix"
   ]
  },
  {
   "cell_type": "code",
   "execution_count": 16,
   "metadata": {},
   "outputs": [
    {
     "name": "stdout",
     "output_type": "stream",
     "text": [
      "Model accuracy score from Conf. Matrix: 0.7988826815642458\n",
      "True accuracy score: 0.7988826815642458\n"
     ]
    }
   ],
   "source": [
    "print(\"Model accuracy score from Conf. Matrix: \" + str((tp + tn) / float(tp + tn + fp + fn)))\n",
    "print(\"True accuracy score: \" + str(accuracy_score(Y_test, y_pred)))"
   ]
  },
  {
   "cell_type": "markdown",
   "execution_count": null,
   "metadata": {},
   "source": [
    "##### True Positive Rate\n",
    "\n",
    "This is a straightfoward metric. Now, we'll look at something a little more interesting: **sensitivity**, which we want to maximize. When the true value is positive, how often is the prediction correct? This is also known as the \"true positive rate\" or \"recall\". It is calculated as follows:"
   ]
  },
  {
   "cell_type": "code",
   "execution_count": 17,
   "metadata": {},
   "outputs": [
    {
     "name": "stdout",
     "output_type": "stream",
     "text": [
      "Recall score: 0.6911764705882353\n"
     ]
    }
   ],
   "source": [
    "sensitivity = tp / float(fn + tp) # These are all positive.\n",
    "\n",
    "print(\"Recall score: \" + str(sensitivity))"
   ]
  },
  {
   "cell_type": "markdown",
   "execution_count": null,
   "metadata": {},
   "source": [
    "##### True Negative Rate\n",
    "Next, calculate the **specificity score**. This is the opposite of the sensitivity score. When the true value is negative, how often is the prediction correct? How \"specific\" is the classifier in predicting for positive true values?"
   ]
  },
  {
   "cell_type": "code",
   "execution_count": 18,
   "metadata": {},
   "outputs": [
    {
     "name": "stdout",
     "output_type": "stream",
     "text": [
      "Specificty score: 0.8648648648648649\n"
     ]
    }
   ],
   "source": [
    "specificity = tn / float(tn + fp) # These are all negative.\n",
    "\n",
    "print(\"Specificty score: \" + str(specificity))"
   ]
  },
  {
   "cell_type": "markdown",
   "execution_count": null,
   "metadata": {},
   "source": [
    "Our classifier is moderately sensitive and highly specific. "
   ]
  },
  {
   "cell_type": "markdown",
   "execution_count": null,
   "metadata": {},
   "source": [
    "# Model 2\n",
    "## K-Nearest-Neighbors Classifier\n",
    "Like the SVC, K-Nearest-Neighbors is more commonly used in classification, and it's quite simple to understand. It makes its estimation for a the class a data point belongs to based on the classes of the data points that surround it. When all the closest data points to an observation belong to a certain class, we can say with a good confidence level that observation also belongs to that class.\n",
    "\n",
    "However, a drawback of this model is that its calculation time increases significantly with a greater number of dimensions. Linear SVC, on the other hand, has the benefit of working well with high-dimensional data.\n",
    "\n",
    "![KNN](https://www.analyticsvidhya.com/wp-content/uploads/2014/10/K-judgement.png)\n",
    "\n",
    "As far as choosing *k* goes, a common practice is to either choose an odd number or *sqrt(n)*, where *n* is the total number of observations.\n"
   ]
  },
  {
   "cell_type": "code",
   "execution_count": 19,
   "metadata": {},
   "outputs": [
    {
     "data": {
      "text/plain": [
       "array([0, 1, 0, 1, 0, 0, 0, 0, 0, 0, 0, 0, 1, 0, 0, 0, 0, 0, 0, 1, 0, 0,\n",
       "       0, 0, 0, 0, 0, 0, 0, 0, 0, 0, 0, 0, 0, 0, 1, 0, 1, 0, 0, 0, 1, 0,\n",
       "       1, 0, 0, 0, 1, 0, 1, 0, 0, 0, 0, 0, 0, 0, 1, 1, 0, 1, 1, 0, 0, 0,\n",
       "       0, 0, 0, 0, 0, 0, 0, 1, 0, 1, 0, 1, 1, 0, 1, 0, 0, 0, 0, 0, 0, 1,\n",
       "       1, 0, 1, 0, 0, 0, 0, 0, 0, 0, 1, 0, 0, 1, 1, 1, 1, 0, 0, 1, 0, 0,\n",
       "       0, 0, 0, 0, 0, 1, 0, 0, 0, 1, 0, 0, 0, 0, 0, 0, 0, 0, 0, 0, 0, 0,\n",
       "       0, 0, 0, 0, 1, 0, 0, 0, 0, 1, 0, 1, 0, 0, 1, 0, 0, 1, 0, 0, 1, 0,\n",
       "       1, 0, 0, 1, 0, 0, 0, 0, 0, 0, 1, 0, 0, 0, 0, 0, 0, 0, 1, 0, 0, 0,\n",
       "       0, 0, 0])"
      ]
     },
     "execution_count": 19,
     "metadata": {},
     "output_type": "execute_result"
    }
   ],
   "source": [
    "optimal_k = int(round(np.sqrt(len(X_train))))\n",
    "\n",
    "neigh = KNeighborsClassifier(n_neighbors=optimal_k)\n",
    "neigh.fit(X_train, Y_train)\n",
    "\n",
    "y_pred_knn = neigh.predict(X_test)\n",
    "y_pred_knn"
   ]
  },
  {
   "cell_type": "markdown",
   "execution_count": null,
   "metadata": {},
   "source": [
    "### It was that easy. Now let's do our evaluations."
   ]
  },
  {
   "cell_type": "code",
   "execution_count": 20,
   "metadata": {},
   "outputs": [
    {
     "name": "stdout",
     "output_type": "stream",
     "text": [
      "10-Fold Cross Validation Scores: [0.5555555555555556, 0.6111111111111112, 0.5555555555555556, 0.7222222222222222, 0.6111111111111112, 0.6111111111111112, 0.6666666666666666, 0.7222222222222222, 0.7777777777777778, 0.7058823529411765]\n",
      "Accuracy: 0.65 (+/- 0.14)\n"
     ]
    }
   ],
   "source": [
    "cross_val(neigh, X_test, Y_test, 10)"
   ]
  },
  {
   "cell_type": "code",
   "execution_count": 21,
   "metadata": {},
   "outputs": [
    {
     "data": {
      "text/html": [
       "<div>\n",
       "        \n",
       "        \n",
       "            <div id=\"783d99e4-ac4a-4fca-9902-3fed71c17643\" class=\"plotly-graph-div\" style=\"height:400px; width:400px;\"></div>\n",
       "            <script type=\"text/javascript\">\n",
       "                require([\"plotly\"], function(Plotly) {\n",
       "                    window.PLOTLYENV=window.PLOTLYENV || {};\n",
       "                    \n",
       "                if (document.getElementById(\"783d99e4-ac4a-4fca-9902-3fed71c17643\")) {\n",
       "                    Plotly.newPlot(\n",
       "                        '783d99e4-ac4a-4fca-9902-3fed71c17643',\n",
       "                        [{\"colorscale\": [[0.0, \"rgb(36, 86, 104)\"], [0.16666666666666666, \"rgb(15, 114, 121)\"], [0.3333333333333333, \"rgb(13, 143, 129)\"], [0.5, \"rgb(57, 171, 126)\"], [0.6666666666666666, \"rgb(110, 197, 116)\"], [0.8333333333333334, \"rgb(169, 220, 103)\"], [1.0, \"rgb(237, 239, 93)\"]], \"reversescale\": false, \"showscale\": false, \"type\": \"heatmap\", \"x\": [\"Pred. Not Survived\", \"Pred. Survived\"], \"y\": [\"Not Survived\", \"Survived\"], \"z\": [[96, 15], [21, 47]]}],\n",
       "                        {\"annotations\": [{\"font\": {\"color\": \"#000000\"}, \"showarrow\": false, \"text\": \"TN\", \"x\": \"Pred. Not Survived\", \"xref\": \"x\", \"y\": \"Not Survived\", \"yref\": \"y\"}, {\"font\": {\"color\": \"#FFFFFF\"}, \"showarrow\": false, \"text\": \"FP\", \"x\": \"Pred. Survived\", \"xref\": \"x\", \"y\": \"Not Survived\", \"yref\": \"y\"}, {\"font\": {\"color\": \"#FFFFFF\"}, \"showarrow\": false, \"text\": \"FN\", \"x\": \"Pred. Not Survived\", \"xref\": \"x\", \"y\": \"Survived\", \"yref\": \"y\"}, {\"font\": {\"color\": \"#FFFFFF\"}, \"showarrow\": false, \"text\": \"TP\", \"x\": \"Pred. Survived\", \"xref\": \"x\", \"y\": \"Survived\", \"yref\": \"y\"}], \"height\": 400, \"template\": {\"data\": {\"bar\": [{\"error_x\": {\"color\": \"#2a3f5f\"}, \"error_y\": {\"color\": \"#2a3f5f\"}, \"marker\": {\"line\": {\"color\": \"#E5ECF6\", \"width\": 0.5}}, \"type\": \"bar\"}], \"barpolar\": [{\"marker\": {\"line\": {\"color\": \"#E5ECF6\", \"width\": 0.5}}, \"type\": \"barpolar\"}], \"carpet\": [{\"aaxis\": {\"endlinecolor\": \"#2a3f5f\", \"gridcolor\": \"white\", \"linecolor\": \"white\", \"minorgridcolor\": \"white\", \"startlinecolor\": \"#2a3f5f\"}, \"baxis\": {\"endlinecolor\": \"#2a3f5f\", \"gridcolor\": \"white\", \"linecolor\": \"white\", \"minorgridcolor\": \"white\", \"startlinecolor\": \"#2a3f5f\"}, \"type\": \"carpet\"}], \"choropleth\": [{\"colorbar\": {\"outlinewidth\": 0, \"ticks\": \"\"}, \"type\": \"choropleth\"}], \"contour\": [{\"colorbar\": {\"outlinewidth\": 0, \"ticks\": \"\"}, \"colorscale\": [[0.0, \"#0d0887\"], [0.1111111111111111, \"#46039f\"], [0.2222222222222222, \"#7201a8\"], [0.3333333333333333, \"#9c179e\"], [0.4444444444444444, \"#bd3786\"], [0.5555555555555556, \"#d8576b\"], [0.6666666666666666, \"#ed7953\"], [0.7777777777777778, \"#fb9f3a\"], [0.8888888888888888, \"#fdca26\"], [1.0, \"#f0f921\"]], \"type\": \"contour\"}], \"contourcarpet\": [{\"colorbar\": {\"outlinewidth\": 0, \"ticks\": \"\"}, \"type\": \"contourcarpet\"}], \"heatmap\": [{\"colorbar\": {\"outlinewidth\": 0, \"ticks\": \"\"}, \"colorscale\": [[0.0, \"#0d0887\"], [0.1111111111111111, \"#46039f\"], [0.2222222222222222, \"#7201a8\"], [0.3333333333333333, \"#9c179e\"], [0.4444444444444444, \"#bd3786\"], [0.5555555555555556, \"#d8576b\"], [0.6666666666666666, \"#ed7953\"], [0.7777777777777778, \"#fb9f3a\"], [0.8888888888888888, \"#fdca26\"], [1.0, \"#f0f921\"]], \"type\": \"heatmap\"}], \"heatmapgl\": [{\"colorbar\": {\"outlinewidth\": 0, \"ticks\": \"\"}, \"colorscale\": [[0.0, \"#0d0887\"], [0.1111111111111111, \"#46039f\"], [0.2222222222222222, \"#7201a8\"], [0.3333333333333333, \"#9c179e\"], [0.4444444444444444, \"#bd3786\"], [0.5555555555555556, \"#d8576b\"], [0.6666666666666666, \"#ed7953\"], [0.7777777777777778, \"#fb9f3a\"], [0.8888888888888888, \"#fdca26\"], [1.0, \"#f0f921\"]], \"type\": \"heatmapgl\"}], \"histogram\": [{\"marker\": {\"colorbar\": {\"outlinewidth\": 0, \"ticks\": \"\"}}, \"type\": \"histogram\"}], \"histogram2d\": [{\"colorbar\": {\"outlinewidth\": 0, \"ticks\": \"\"}, \"colorscale\": [[0.0, \"#0d0887\"], [0.1111111111111111, \"#46039f\"], [0.2222222222222222, \"#7201a8\"], [0.3333333333333333, \"#9c179e\"], [0.4444444444444444, \"#bd3786\"], [0.5555555555555556, \"#d8576b\"], [0.6666666666666666, \"#ed7953\"], [0.7777777777777778, \"#fb9f3a\"], [0.8888888888888888, \"#fdca26\"], [1.0, \"#f0f921\"]], \"type\": \"histogram2d\"}], \"histogram2dcontour\": [{\"colorbar\": {\"outlinewidth\": 0, \"ticks\": \"\"}, \"colorscale\": [[0.0, \"#0d0887\"], [0.1111111111111111, \"#46039f\"], [0.2222222222222222, \"#7201a8\"], [0.3333333333333333, \"#9c179e\"], [0.4444444444444444, \"#bd3786\"], [0.5555555555555556, \"#d8576b\"], [0.6666666666666666, \"#ed7953\"], [0.7777777777777778, \"#fb9f3a\"], [0.8888888888888888, \"#fdca26\"], [1.0, \"#f0f921\"]], \"type\": \"histogram2dcontour\"}], \"mesh3d\": [{\"colorbar\": {\"outlinewidth\": 0, \"ticks\": \"\"}, \"type\": \"mesh3d\"}], \"parcoords\": [{\"line\": {\"colorbar\": {\"outlinewidth\": 0, \"ticks\": \"\"}}, \"type\": \"parcoords\"}], \"pie\": [{\"automargin\": true, \"type\": \"pie\"}], \"scatter\": [{\"marker\": {\"colorbar\": {\"outlinewidth\": 0, \"ticks\": \"\"}}, \"type\": \"scatter\"}], \"scatter3d\": [{\"line\": {\"colorbar\": {\"outlinewidth\": 0, \"ticks\": \"\"}}, \"marker\": {\"colorbar\": {\"outlinewidth\": 0, \"ticks\": \"\"}}, \"type\": \"scatter3d\"}], \"scattercarpet\": [{\"marker\": {\"colorbar\": {\"outlinewidth\": 0, \"ticks\": \"\"}}, \"type\": \"scattercarpet\"}], \"scattergeo\": [{\"marker\": {\"colorbar\": {\"outlinewidth\": 0, \"ticks\": \"\"}}, \"type\": \"scattergeo\"}], \"scattergl\": [{\"marker\": {\"colorbar\": {\"outlinewidth\": 0, \"ticks\": \"\"}}, \"type\": \"scattergl\"}], \"scattermapbox\": [{\"marker\": {\"colorbar\": {\"outlinewidth\": 0, \"ticks\": \"\"}}, \"type\": \"scattermapbox\"}], \"scatterpolar\": [{\"marker\": {\"colorbar\": {\"outlinewidth\": 0, \"ticks\": \"\"}}, \"type\": \"scatterpolar\"}], \"scatterpolargl\": [{\"marker\": {\"colorbar\": {\"outlinewidth\": 0, \"ticks\": \"\"}}, \"type\": \"scatterpolargl\"}], \"scatterternary\": [{\"marker\": {\"colorbar\": {\"outlinewidth\": 0, \"ticks\": \"\"}}, \"type\": \"scatterternary\"}], \"surface\": [{\"colorbar\": {\"outlinewidth\": 0, \"ticks\": \"\"}, \"colorscale\": [[0.0, \"#0d0887\"], [0.1111111111111111, \"#46039f\"], [0.2222222222222222, \"#7201a8\"], [0.3333333333333333, \"#9c179e\"], [0.4444444444444444, \"#bd3786\"], [0.5555555555555556, \"#d8576b\"], [0.6666666666666666, \"#ed7953\"], [0.7777777777777778, \"#fb9f3a\"], [0.8888888888888888, \"#fdca26\"], [1.0, \"#f0f921\"]], \"type\": \"surface\"}], \"table\": [{\"cells\": {\"fill\": {\"color\": \"#EBF0F8\"}, \"line\": {\"color\": \"white\"}}, \"header\": {\"fill\": {\"color\": \"#C8D4E3\"}, \"line\": {\"color\": \"white\"}}, \"type\": \"table\"}]}, \"layout\": {\"annotationdefaults\": {\"arrowcolor\": \"#2a3f5f\", \"arrowhead\": 0, \"arrowwidth\": 1}, \"coloraxis\": {\"colorbar\": {\"outlinewidth\": 0, \"ticks\": \"\"}}, \"colorscale\": {\"diverging\": [[0, \"#8e0152\"], [0.1, \"#c51b7d\"], [0.2, \"#de77ae\"], [0.3, \"#f1b6da\"], [0.4, \"#fde0ef\"], [0.5, \"#f7f7f7\"], [0.6, \"#e6f5d0\"], [0.7, \"#b8e186\"], [0.8, \"#7fbc41\"], [0.9, \"#4d9221\"], [1, \"#276419\"]], \"sequential\": [[0.0, \"#0d0887\"], [0.1111111111111111, \"#46039f\"], [0.2222222222222222, \"#7201a8\"], [0.3333333333333333, \"#9c179e\"], [0.4444444444444444, \"#bd3786\"], [0.5555555555555556, \"#d8576b\"], [0.6666666666666666, \"#ed7953\"], [0.7777777777777778, \"#fb9f3a\"], [0.8888888888888888, \"#fdca26\"], [1.0, \"#f0f921\"]], \"sequentialminus\": [[0.0, \"#0d0887\"], [0.1111111111111111, \"#46039f\"], [0.2222222222222222, \"#7201a8\"], [0.3333333333333333, \"#9c179e\"], [0.4444444444444444, \"#bd3786\"], [0.5555555555555556, \"#d8576b\"], [0.6666666666666666, \"#ed7953\"], [0.7777777777777778, \"#fb9f3a\"], [0.8888888888888888, \"#fdca26\"], [1.0, \"#f0f921\"]]}, \"colorway\": [\"#636efa\", \"#EF553B\", \"#00cc96\", \"#ab63fa\", \"#FFA15A\", \"#19d3f3\", \"#FF6692\", \"#B6E880\", \"#FF97FF\", \"#FECB52\"], \"font\": {\"color\": \"#2a3f5f\"}, \"geo\": {\"bgcolor\": \"white\", \"lakecolor\": \"white\", \"landcolor\": \"#E5ECF6\", \"showlakes\": true, \"showland\": true, \"subunitcolor\": \"white\"}, \"hoverlabel\": {\"align\": \"left\"}, \"hovermode\": \"closest\", \"mapbox\": {\"style\": \"light\"}, \"paper_bgcolor\": \"white\", \"plot_bgcolor\": \"#E5ECF6\", \"polar\": {\"angularaxis\": {\"gridcolor\": \"white\", \"linecolor\": \"white\", \"ticks\": \"\"}, \"bgcolor\": \"#E5ECF6\", \"radialaxis\": {\"gridcolor\": \"white\", \"linecolor\": \"white\", \"ticks\": \"\"}}, \"scene\": {\"xaxis\": {\"backgroundcolor\": \"#E5ECF6\", \"gridcolor\": \"white\", \"gridwidth\": 2, \"linecolor\": \"white\", \"showbackground\": true, \"ticks\": \"\", \"zerolinecolor\": \"white\"}, \"yaxis\": {\"backgroundcolor\": \"#E5ECF6\", \"gridcolor\": \"white\", \"gridwidth\": 2, \"linecolor\": \"white\", \"showbackground\": true, \"ticks\": \"\", \"zerolinecolor\": \"white\"}, \"zaxis\": {\"backgroundcolor\": \"#E5ECF6\", \"gridcolor\": \"white\", \"gridwidth\": 2, \"linecolor\": \"white\", \"showbackground\": true, \"ticks\": \"\", \"zerolinecolor\": \"white\"}}, \"shapedefaults\": {\"line\": {\"color\": \"#2a3f5f\"}}, \"ternary\": {\"aaxis\": {\"gridcolor\": \"white\", \"linecolor\": \"white\", \"ticks\": \"\"}, \"baxis\": {\"gridcolor\": \"white\", \"linecolor\": \"white\", \"ticks\": \"\"}, \"bgcolor\": \"#E5ECF6\", \"caxis\": {\"gridcolor\": \"white\", \"linecolor\": \"white\", \"ticks\": \"\"}}, \"title\": {\"x\": 0.05}, \"xaxis\": {\"automargin\": true, \"gridcolor\": \"white\", \"linecolor\": \"white\", \"ticks\": \"\", \"title\": {\"standoff\": 15}, \"zerolinecolor\": \"white\", \"zerolinewidth\": 2}, \"yaxis\": {\"automargin\": true, \"gridcolor\": \"white\", \"linecolor\": \"white\", \"ticks\": \"\", \"title\": {\"standoff\": 15}, \"zerolinecolor\": \"white\", \"zerolinewidth\": 2}}}, \"title\": {\"text\": \"Confusion Matrix\"}, \"width\": 400, \"xaxis\": {\"dtick\": 1, \"gridcolor\": \"rgb(0, 0, 0)\", \"side\": \"top\", \"ticks\": \"\"}, \"yaxis\": {\"dtick\": 1, \"ticks\": \"\", \"ticksuffix\": \"  \"}},\n",
       "                        {\"responsive\": true}\n",
       "                    ).then(function(){\n",
       "                            \n",
       "var gd = document.getElementById('783d99e4-ac4a-4fca-9902-3fed71c17643');\n",
       "var x = new MutationObserver(function (mutations, observer) {{\n",
       "        var display = window.getComputedStyle(gd).display;\n",
       "        if (!display || display === 'none') {{\n",
       "            console.log([gd, 'removed!']);\n",
       "            Plotly.purge(gd);\n",
       "            observer.disconnect();\n",
       "        }}\n",
       "}});\n",
       "\n",
       "// Listen for the removal of the full notebook cells\n",
       "var notebookContainer = gd.closest('#notebook-container');\n",
       "if (notebookContainer) {{\n",
       "    x.observe(notebookContainer, {childList: true});\n",
       "}}\n",
       "\n",
       "// Listen for the clearing of the current output cell\n",
       "var outputEl = gd.closest('.output');\n",
       "if (outputEl) {{\n",
       "    x.observe(outputEl, {childList: true});\n",
       "}}\n",
       "\n",
       "                        })\n",
       "                };\n",
       "                });\n",
       "            </script>\n",
       "        </div>"
      ]
     },
     "metadata": {},
     "output_type": "display_data"
    }
   ],
   "source": [
    "plot_confusion_matrix(Y_test, y_pred_knn)"
   ]
  },
  {
   "cell_type": "code",
   "execution_count": 22,
   "metadata": {},
   "outputs": [
    {
     "name": "stdout",
     "output_type": "stream",
     "text": [
      "Model accuracy score from Conf. Matrix: 0.7988826815642458\n",
      "True accuracy score: 0.7988826815642458\n",
      "Recall score: 0.6911764705882353\n",
      "Specificty score: 0.8648648648648649\n"
     ]
    }
   ],
   "source": [
    "def get_confusion_metrics(Y_true, Y_pred):\n",
    "    tn, fp, fn, tp = confusion_matrix(Y_test, y_pred).ravel()\n",
    "    print(\"Model accuracy score from Conf. Matrix: \" + str((tp + tn) / float(tp + tn + fp + fn)))\n",
    "    print(\"True accuracy score: \" + str(accuracy_score(Y_test, y_pred)))\n",
    "    \n",
    "    sensitivity = tp / float(fn + tp)\n",
    "    print(\"Recall score: \" + str(sensitivity))\n",
    "    \n",
    "    specificity = tn / float(tn + fp)\n",
    "    print(\"Specificty score: \" + str(specificity))\n",
    "    \n",
    "get_confusion_metrics(Y_test, y_pred_knn)"
   ]
  },
  {
   "cell_type": "markdown",
   "execution_count": null,
   "metadata": {},
   "source": [
    "Our KNN model is moderately sensitive and highly specific. Let's try decreasing our number of neighbors. We'll use 5."
   ]
  },
  {
   "cell_type": "code",
   "execution_count": 23,
   "metadata": {},
   "outputs": [
    {
     "data": {
      "text/plain": [
       "array([0, 1, 0, 1, 0, 0, 0, 0, 0, 0, 0, 0, 1, 0, 0, 0, 0, 0, 0, 1, 0, 0,\n",
       "       0, 0, 0, 0, 0, 0, 0, 0, 0, 0, 0, 0, 0, 0, 1, 0, 1, 0, 0, 0, 1, 0,\n",
       "       1, 0, 0, 0, 1, 0, 1, 0, 0, 0, 0, 0, 0, 0, 1, 1, 0, 1, 1, 0, 0, 0,\n",
       "       0, 0, 0, 0, 0, 0, 0, 1, 0, 1, 0, 1, 1, 0, 1, 0, 0, 0, 0, 0, 0, 1,\n",
       "       1, 0, 1, 0, 0, 0, 0, 0, 0, 0, 1, 0, 0, 1, 1, 1, 1, 0, 0, 1, 0, 0,\n",
       "       0, 0, 0, 0, 0, 1, 0, 0, 0, 1, 0, 0, 0, 0, 0, 0, 0, 0, 0, 0, 0, 0,\n",
       "       0, 0, 0, 0, 1, 0, 0, 0, 0, 1, 0, 1, 0, 0, 1, 0, 0, 1, 0, 0, 1, 0,\n",
       "       1, 0, 0, 1, 0, 0, 0, 0, 0, 0, 1, 0, 0, 0, 0, 0, 0, 0, 1, 0, 0, 0,\n",
       "       0, 0, 0])"
      ]
     },
     "execution_count": 23,
     "metadata": {},
     "output_type": "execute_result"
    }
   ],
   "source": [
    "neigh5 = KNeighborsClassifier(n_neighbors=5)\n",
    "neigh.fit(X_train, Y_train)\n",
    "\n",
    "y_pred_knn5 = neigh.predict(X_test)\n",
    "y_pred_knn5"
   ]
  },
  {
   "cell_type": "code",
   "execution_count": 24,
   "metadata": {},
   "outputs": [
    {
     "name": "stdout",
     "output_type": "stream",
     "text": [
      "10-Fold Cross Validation Scores: [0.6666666666666666, 0.4444444444444444, 0.7777777777777778, 0.7777777777777778, 0.6666666666666666, 0.5555555555555556, 0.6111111111111112, 0.6666666666666666, 0.6666666666666666, 0.7058823529411765]\n",
      "Accuracy: 0.65 (+/- 0.19)\n"
     ]
    }
   ],
   "source": [
    "cross_val(neigh5, X_test, Y_test, 10)"
   ]
  },
  {
   "cell_type": "markdown",
   "execution_count": null,
   "metadata": {},
   "source": [
    "We seem to lose accuracy when we go with a value for *k* that is not the optimal value. Since we know now that KNN doesn't work with high-dimensional data, let's try reducing the dimensions of our training dataset. We will accomplish this through PCA. Standardization will be accomplished within that step, so we don't have to worry about that.\n",
    "\n",
    "### Dimensionality Reduction\n",
    "#### Standardization\n",
    "We must begin by **standardizing** the data, since standardization will project our original data onto directions which maximize the variance. "
   ]
  },
  {
   "cell_type": "code",
   "execution_count": 25,
   "metadata": {},
   "outputs": [
    {
     "data": {
      "text/plain": [
       "array([[-0.55604973,  0.05915988, -0.50244517, ..., -0.73769513,\n",
       "         0.73769513,  0.61930636],\n",
       "       [ 0.59548094,  0.05915988,  0.78684529, ...,  1.35557354,\n",
       "        -1.35557354, -1.61470971],\n",
       "       [-0.26816707, -0.56097483, -0.48885426, ...,  1.35557354,\n",
       "        -1.35557354,  0.61930636],\n",
       "       ...,\n",
       "       [-0.5200644 ,  1.29942929, -0.17626324, ...,  1.35557354,\n",
       "        -1.35557354,  0.61930636],\n",
       "       [-0.26816707, -0.56097483, -0.04438104, ..., -0.73769513,\n",
       "         0.73769513, -1.61470971],\n",
       "       [ 0.16365693, -0.56097483, -0.49237783, ..., -0.73769513,\n",
       "         0.73769513, -1.61470971]])"
      ]
     },
     "execution_count": 25,
     "metadata": {},
     "output_type": "execute_result"
    }
   ],
   "source": [
    "features_list = list(fitted.columns[1:])\n",
    "vals = fitted.loc[:, features_list].values\n",
    "vals = StandardScaler().fit_transform(vals)\n",
    "\n",
    "# Now each value in the feature dataset is standardized!\n",
    "vals"
   ]
  },
  {
   "cell_type": "code",
   "execution_count": 26,
   "metadata": {},
   "outputs": [
    {
     "data": {
      "text/html": [
       "<div>\n",
       "<style scoped>\n",
       "    .dataframe tbody tr th:only-of-type {\n",
       "        vertical-align: middle;\n",
       "    }\n",
       "\n",
       "    .dataframe tbody tr th {\n",
       "        vertical-align: top;\n",
       "    }\n",
       "\n",
       "    .dataframe thead th {\n",
       "        text-align: right;\n",
       "    }\n",
       "</style>\n",
       "<table border=\"1\" class=\"dataframe\">\n",
       "  <thead>\n",
       "    <tr style=\"text-align: right;\">\n",
       "      <th></th>\n",
       "      <th>Age</th>\n",
       "      <th>Family</th>\n",
       "      <th>Fare</th>\n",
       "      <th>Class_1</th>\n",
       "      <th>Class_2</th>\n",
       "      <th>Class_3</th>\n",
       "      <th>Sex_female</th>\n",
       "      <th>Sex_male</th>\n",
       "      <th>Port_S</th>\n",
       "    </tr>\n",
       "  </thead>\n",
       "  <tbody>\n",
       "    <tr>\n",
       "      <th>0</th>\n",
       "      <td>-0.556050</td>\n",
       "      <td>0.059160</td>\n",
       "      <td>-0.502445</td>\n",
       "      <td>-0.565685</td>\n",
       "      <td>-0.510152</td>\n",
       "      <td>0.902587</td>\n",
       "      <td>-0.737695</td>\n",
       "      <td>0.737695</td>\n",
       "      <td>0.619306</td>\n",
       "    </tr>\n",
       "    <tr>\n",
       "      <th>1</th>\n",
       "      <td>0.595481</td>\n",
       "      <td>0.059160</td>\n",
       "      <td>0.786845</td>\n",
       "      <td>1.767767</td>\n",
       "      <td>-0.510152</td>\n",
       "      <td>-1.107926</td>\n",
       "      <td>1.355574</td>\n",
       "      <td>-1.355574</td>\n",
       "      <td>-1.614710</td>\n",
       "    </tr>\n",
       "    <tr>\n",
       "      <th>2</th>\n",
       "      <td>-0.268167</td>\n",
       "      <td>-0.560975</td>\n",
       "      <td>-0.488854</td>\n",
       "      <td>-0.565685</td>\n",
       "      <td>-0.510152</td>\n",
       "      <td>0.902587</td>\n",
       "      <td>1.355574</td>\n",
       "      <td>-1.355574</td>\n",
       "      <td>0.619306</td>\n",
       "    </tr>\n",
       "    <tr>\n",
       "      <th>3</th>\n",
       "      <td>0.379569</td>\n",
       "      <td>0.059160</td>\n",
       "      <td>0.420730</td>\n",
       "      <td>1.767767</td>\n",
       "      <td>-0.510152</td>\n",
       "      <td>-1.107926</td>\n",
       "      <td>1.355574</td>\n",
       "      <td>-1.355574</td>\n",
       "      <td>0.619306</td>\n",
       "    </tr>\n",
       "    <tr>\n",
       "      <th>4</th>\n",
       "      <td>0.379569</td>\n",
       "      <td>-0.560975</td>\n",
       "      <td>-0.486337</td>\n",
       "      <td>-0.565685</td>\n",
       "      <td>-0.510152</td>\n",
       "      <td>0.902587</td>\n",
       "      <td>-0.737695</td>\n",
       "      <td>0.737695</td>\n",
       "      <td>0.619306</td>\n",
       "    </tr>\n",
       "  </tbody>\n",
       "</table>\n",
       "</div>"
      ],
      "text/plain": [
       "        Age    Family      Fare   Class_1   Class_2   Class_3  Sex_female  \\\n",
       "0 -0.556050  0.059160 -0.502445 -0.565685 -0.510152  0.902587   -0.737695   \n",
       "1  0.595481  0.059160  0.786845  1.767767 -0.510152 -1.107926    1.355574   \n",
       "2 -0.268167 -0.560975 -0.488854 -0.565685 -0.510152  0.902587    1.355574   \n",
       "3  0.379569  0.059160  0.420730  1.767767 -0.510152 -1.107926    1.355574   \n",
       "4  0.379569 -0.560975 -0.486337 -0.565685 -0.510152  0.902587   -0.737695   \n",
       "\n",
       "   Sex_male    Port_S  \n",
       "0  0.737695  0.619306  \n",
       "1 -1.355574 -1.614710  \n",
       "2 -1.355574  0.619306  \n",
       "3 -1.355574  0.619306  \n",
       "4  0.737695  0.619306  "
      ]
     },
     "execution_count": 26,
     "metadata": {},
     "output_type": "execute_result"
    }
   ],
   "source": [
    "standardized_fitted = pd.DataFrame(vals, columns=features_list)\n",
    "standardized_fitted.head(5)"
   ]
  },
  {
   "cell_type": "markdown",
   "execution_count": null,
   "metadata": {},
   "source": [
    "Now, we have our standardized features in a tabular format. We now need to project our 9-dimensional data to *n*-dimensional **principal components**. Before we do that, however, we need to pick *n*, which should be the value at which the inflection point occurs between the principal components accounting for a large amount of the variance and 100% of the variance. We will use `explained_variance_ratio_` to do this, and we'll plot it."
   ]
  },
  {
   "cell_type": "code",
   "execution_count": 27,
   "metadata": {},
   "outputs": [
    {
     "data": {
      "text/html": [
       "<div>\n",
       "        \n",
       "        \n",
       "            <div id=\"ca32073f-c6f3-418e-a5de-530685d302b4\" class=\"plotly-graph-div\" style=\"height:400px; width:600px;\"></div>\n",
       "            <script type=\"text/javascript\">\n",
       "                require([\"plotly\"], function(Plotly) {\n",
       "                    window.PLOTLYENV=window.PLOTLYENV || {};\n",
       "                    \n",
       "                if (document.getElementById(\"ca32073f-c6f3-418e-a5de-530685d302b4\")) {\n",
       "                    Plotly.newPlot(\n",
       "                        'ca32073f-c6f3-418e-a5de-530685d302b4',\n",
       "                        [{\"hovertemplate\": \"x=%{x}<br>y=%{y}<extra></extra>\", \"legendgroup\": \"\", \"line\": {\"color\": \"#636efa\", \"dash\": \"solid\"}, \"mode\": \"lines\", \"name\": \"\", \"orientation\": \"v\", \"showlegend\": false, \"type\": \"scatter\", \"x\": [1, 2, 3, 4, 5, 6, 7, 8, 9], \"xaxis\": \"x\", \"y\": [0.277327086010246, 0.49070152221756647, 0.6620195622998845, 0.7888470100084536, 0.883462368006282, 0.9565056495589692, 1.0, 1.0, 1.0], \"yaxis\": \"y\"}, {\"marker\": {\"color\": \"red\", \"opacity\": 0.5, \"size\": 10}, \"mode\": \"markers\", \"showlegend\": false, \"type\": \"scatter\", \"x\": [6], \"y\": [0.9565056]}],\n",
       "                        {\"height\": 400, \"legend\": {\"tracegroupgap\": 0}, \"margin\": {\"t\": 60}, \"template\": {\"data\": {\"bar\": [{\"error_x\": {\"color\": \"#2a3f5f\"}, \"error_y\": {\"color\": \"#2a3f5f\"}, \"marker\": {\"line\": {\"color\": \"#E5ECF6\", \"width\": 0.5}}, \"type\": \"bar\"}], \"barpolar\": [{\"marker\": {\"line\": {\"color\": \"#E5ECF6\", \"width\": 0.5}}, \"type\": \"barpolar\"}], \"carpet\": [{\"aaxis\": {\"endlinecolor\": \"#2a3f5f\", \"gridcolor\": \"white\", \"linecolor\": \"white\", \"minorgridcolor\": \"white\", \"startlinecolor\": \"#2a3f5f\"}, \"baxis\": {\"endlinecolor\": \"#2a3f5f\", \"gridcolor\": \"white\", \"linecolor\": \"white\", \"minorgridcolor\": \"white\", \"startlinecolor\": \"#2a3f5f\"}, \"type\": \"carpet\"}], \"choropleth\": [{\"colorbar\": {\"outlinewidth\": 0, \"ticks\": \"\"}, \"type\": \"choropleth\"}], \"contour\": [{\"colorbar\": {\"outlinewidth\": 0, \"ticks\": \"\"}, \"colorscale\": [[0.0, \"#0d0887\"], [0.1111111111111111, \"#46039f\"], [0.2222222222222222, \"#7201a8\"], [0.3333333333333333, \"#9c179e\"], [0.4444444444444444, \"#bd3786\"], [0.5555555555555556, \"#d8576b\"], [0.6666666666666666, \"#ed7953\"], [0.7777777777777778, \"#fb9f3a\"], [0.8888888888888888, \"#fdca26\"], [1.0, \"#f0f921\"]], \"type\": \"contour\"}], \"contourcarpet\": [{\"colorbar\": {\"outlinewidth\": 0, \"ticks\": \"\"}, \"type\": \"contourcarpet\"}], \"heatmap\": [{\"colorbar\": {\"outlinewidth\": 0, \"ticks\": \"\"}, \"colorscale\": [[0.0, \"#0d0887\"], [0.1111111111111111, \"#46039f\"], [0.2222222222222222, \"#7201a8\"], [0.3333333333333333, \"#9c179e\"], [0.4444444444444444, \"#bd3786\"], [0.5555555555555556, \"#d8576b\"], [0.6666666666666666, \"#ed7953\"], [0.7777777777777778, \"#fb9f3a\"], [0.8888888888888888, \"#fdca26\"], [1.0, \"#f0f921\"]], \"type\": \"heatmap\"}], \"heatmapgl\": [{\"colorbar\": {\"outlinewidth\": 0, \"ticks\": \"\"}, \"colorscale\": [[0.0, \"#0d0887\"], [0.1111111111111111, \"#46039f\"], [0.2222222222222222, \"#7201a8\"], [0.3333333333333333, \"#9c179e\"], [0.4444444444444444, \"#bd3786\"], [0.5555555555555556, \"#d8576b\"], [0.6666666666666666, \"#ed7953\"], [0.7777777777777778, \"#fb9f3a\"], [0.8888888888888888, \"#fdca26\"], [1.0, \"#f0f921\"]], \"type\": \"heatmapgl\"}], \"histogram\": [{\"marker\": {\"colorbar\": {\"outlinewidth\": 0, \"ticks\": \"\"}}, \"type\": \"histogram\"}], \"histogram2d\": [{\"colorbar\": {\"outlinewidth\": 0, \"ticks\": \"\"}, \"colorscale\": [[0.0, \"#0d0887\"], [0.1111111111111111, \"#46039f\"], [0.2222222222222222, \"#7201a8\"], [0.3333333333333333, \"#9c179e\"], [0.4444444444444444, \"#bd3786\"], [0.5555555555555556, \"#d8576b\"], [0.6666666666666666, \"#ed7953\"], [0.7777777777777778, \"#fb9f3a\"], [0.8888888888888888, \"#fdca26\"], [1.0, \"#f0f921\"]], \"type\": \"histogram2d\"}], \"histogram2dcontour\": [{\"colorbar\": {\"outlinewidth\": 0, \"ticks\": \"\"}, \"colorscale\": [[0.0, \"#0d0887\"], [0.1111111111111111, \"#46039f\"], [0.2222222222222222, \"#7201a8\"], [0.3333333333333333, \"#9c179e\"], [0.4444444444444444, \"#bd3786\"], [0.5555555555555556, \"#d8576b\"], [0.6666666666666666, \"#ed7953\"], [0.7777777777777778, \"#fb9f3a\"], [0.8888888888888888, \"#fdca26\"], [1.0, \"#f0f921\"]], \"type\": \"histogram2dcontour\"}], \"mesh3d\": [{\"colorbar\": {\"outlinewidth\": 0, \"ticks\": \"\"}, \"type\": \"mesh3d\"}], \"parcoords\": [{\"line\": {\"colorbar\": {\"outlinewidth\": 0, \"ticks\": \"\"}}, \"type\": \"parcoords\"}], \"pie\": [{\"automargin\": true, \"type\": \"pie\"}], \"scatter\": [{\"marker\": {\"colorbar\": {\"outlinewidth\": 0, \"ticks\": \"\"}}, \"type\": \"scatter\"}], \"scatter3d\": [{\"line\": {\"colorbar\": {\"outlinewidth\": 0, \"ticks\": \"\"}}, \"marker\": {\"colorbar\": {\"outlinewidth\": 0, \"ticks\": \"\"}}, \"type\": \"scatter3d\"}], \"scattercarpet\": [{\"marker\": {\"colorbar\": {\"outlinewidth\": 0, \"ticks\": \"\"}}, \"type\": \"scattercarpet\"}], \"scattergeo\": [{\"marker\": {\"colorbar\": {\"outlinewidth\": 0, \"ticks\": \"\"}}, \"type\": \"scattergeo\"}], \"scattergl\": [{\"marker\": {\"colorbar\": {\"outlinewidth\": 0, \"ticks\": \"\"}}, \"type\": \"scattergl\"}], \"scattermapbox\": [{\"marker\": {\"colorbar\": {\"outlinewidth\": 0, \"ticks\": \"\"}}, \"type\": \"scattermapbox\"}], \"scatterpolar\": [{\"marker\": {\"colorbar\": {\"outlinewidth\": 0, \"ticks\": \"\"}}, \"type\": \"scatterpolar\"}], \"scatterpolargl\": [{\"marker\": {\"colorbar\": {\"outlinewidth\": 0, \"ticks\": \"\"}}, \"type\": \"scatterpolargl\"}], \"scatterternary\": [{\"marker\": {\"colorbar\": {\"outlinewidth\": 0, \"ticks\": \"\"}}, \"type\": \"scatterternary\"}], \"surface\": [{\"colorbar\": {\"outlinewidth\": 0, \"ticks\": \"\"}, \"colorscale\": [[0.0, \"#0d0887\"], [0.1111111111111111, \"#46039f\"], [0.2222222222222222, \"#7201a8\"], [0.3333333333333333, \"#9c179e\"], [0.4444444444444444, \"#bd3786\"], [0.5555555555555556, \"#d8576b\"], [0.6666666666666666, \"#ed7953\"], [0.7777777777777778, \"#fb9f3a\"], [0.8888888888888888, \"#fdca26\"], [1.0, \"#f0f921\"]], \"type\": \"surface\"}], \"table\": [{\"cells\": {\"fill\": {\"color\": \"#EBF0F8\"}, \"line\": {\"color\": \"white\"}}, \"header\": {\"fill\": {\"color\": \"#C8D4E3\"}, \"line\": {\"color\": \"white\"}}, \"type\": \"table\"}]}, \"layout\": {\"annotationdefaults\": {\"arrowcolor\": \"#2a3f5f\", \"arrowhead\": 0, \"arrowwidth\": 1}, \"coloraxis\": {\"colorbar\": {\"outlinewidth\": 0, \"ticks\": \"\"}}, \"colorscale\": {\"diverging\": [[0, \"#8e0152\"], [0.1, \"#c51b7d\"], [0.2, \"#de77ae\"], [0.3, \"#f1b6da\"], [0.4, \"#fde0ef\"], [0.5, \"#f7f7f7\"], [0.6, \"#e6f5d0\"], [0.7, \"#b8e186\"], [0.8, \"#7fbc41\"], [0.9, \"#4d9221\"], [1, \"#276419\"]], \"sequential\": [[0.0, \"#0d0887\"], [0.1111111111111111, \"#46039f\"], [0.2222222222222222, \"#7201a8\"], [0.3333333333333333, \"#9c179e\"], [0.4444444444444444, \"#bd3786\"], [0.5555555555555556, \"#d8576b\"], [0.6666666666666666, \"#ed7953\"], [0.7777777777777778, \"#fb9f3a\"], [0.8888888888888888, \"#fdca26\"], [1.0, \"#f0f921\"]], \"sequentialminus\": [[0.0, \"#0d0887\"], [0.1111111111111111, \"#46039f\"], [0.2222222222222222, \"#7201a8\"], [0.3333333333333333, \"#9c179e\"], [0.4444444444444444, \"#bd3786\"], [0.5555555555555556, \"#d8576b\"], [0.6666666666666666, \"#ed7953\"], [0.7777777777777778, \"#fb9f3a\"], [0.8888888888888888, \"#fdca26\"], [1.0, \"#f0f921\"]]}, \"colorway\": [\"#636efa\", \"#EF553B\", \"#00cc96\", \"#ab63fa\", \"#FFA15A\", \"#19d3f3\", \"#FF6692\", \"#B6E880\", \"#FF97FF\", \"#FECB52\"], \"font\": {\"color\": \"#2a3f5f\"}, \"geo\": {\"bgcolor\": \"white\", \"lakecolor\": \"white\", \"landcolor\": \"#E5ECF6\", \"showlakes\": true, \"showland\": true, \"subunitcolor\": \"white\"}, \"hoverlabel\": {\"align\": \"left\"}, \"hovermode\": \"closest\", \"mapbox\": {\"style\": \"light\"}, \"paper_bgcolor\": \"white\", \"plot_bgcolor\": \"#E5ECF6\", \"polar\": {\"angularaxis\": {\"gridcolor\": \"white\", \"linecolor\": \"white\", \"ticks\": \"\"}, \"bgcolor\": \"#E5ECF6\", \"radialaxis\": {\"gridcolor\": \"white\", \"linecolor\": \"white\", \"ticks\": \"\"}}, \"scene\": {\"xaxis\": {\"backgroundcolor\": \"#E5ECF6\", \"gridcolor\": \"white\", \"gridwidth\": 2, \"linecolor\": \"white\", \"showbackground\": true, \"ticks\": \"\", \"zerolinecolor\": \"white\"}, \"yaxis\": {\"backgroundcolor\": \"#E5ECF6\", \"gridcolor\": \"white\", \"gridwidth\": 2, \"linecolor\": \"white\", \"showbackground\": true, \"ticks\": \"\", \"zerolinecolor\": \"white\"}, \"zaxis\": {\"backgroundcolor\": \"#E5ECF6\", \"gridcolor\": \"white\", \"gridwidth\": 2, \"linecolor\": \"white\", \"showbackground\": true, \"ticks\": \"\", \"zerolinecolor\": \"white\"}}, \"shapedefaults\": {\"line\": {\"color\": \"#2a3f5f\"}}, \"ternary\": {\"aaxis\": {\"gridcolor\": \"white\", \"linecolor\": \"white\", \"ticks\": \"\"}, \"baxis\": {\"gridcolor\": \"white\", \"linecolor\": \"white\", \"ticks\": \"\"}, \"bgcolor\": \"#E5ECF6\", \"caxis\": {\"gridcolor\": \"white\", \"linecolor\": \"white\", \"ticks\": \"\"}}, \"title\": {\"x\": 0.05}, \"xaxis\": {\"automargin\": true, \"gridcolor\": \"white\", \"linecolor\": \"white\", \"ticks\": \"\", \"title\": {\"standoff\": 15}, \"zerolinecolor\": \"white\", \"zerolinewidth\": 2}, \"yaxis\": {\"automargin\": true, \"gridcolor\": \"white\", \"linecolor\": \"white\", \"ticks\": \"\", \"title\": {\"standoff\": 15}, \"zerolinecolor\": \"white\", \"zerolinewidth\": 2}}}, \"title\": {\"text\": \"PCA Explained Variance Ratio for Fitted Data\"}, \"width\": 600, \"xaxis\": {\"anchor\": \"y\", \"domain\": [0.0, 1.0], \"title\": {\"text\": \"# Components\"}}, \"yaxis\": {\"anchor\": \"x\", \"domain\": [0.0, 1.0], \"title\": {\"text\": \"PC Variance for Whole Dataset\"}}},\n",
       "                        {\"responsive\": true}\n",
       "                    ).then(function(){\n",
       "                            \n",
       "var gd = document.getElementById('ca32073f-c6f3-418e-a5de-530685d302b4');\n",
       "var x = new MutationObserver(function (mutations, observer) {{\n",
       "        var display = window.getComputedStyle(gd).display;\n",
       "        if (!display || display === 'none') {{\n",
       "            console.log([gd, 'removed!']);\n",
       "            Plotly.purge(gd);\n",
       "            observer.disconnect();\n",
       "        }}\n",
       "}});\n",
       "\n",
       "// Listen for the removal of the full notebook cells\n",
       "var notebookContainer = gd.closest('#notebook-container');\n",
       "if (notebookContainer) {{\n",
       "    x.observe(notebookContainer, {childList: true});\n",
       "}}\n",
       "\n",
       "// Listen for the clearing of the current output cell\n",
       "var outputEl = gd.closest('.output');\n",
       "if (outputEl) {{\n",
       "    x.observe(outputEl, {childList: true});\n",
       "}}\n",
       "\n",
       "                        })\n",
       "                };\n",
       "                });\n",
       "            </script>\n",
       "        </div>"
      ]
     },
     "metadata": {},
     "output_type": "display_data"
    }
   ],
   "source": [
    "pca = PCA().fit(standardized_fitted)\n",
    "\n",
    "xi = np.arange(1, 10, step=1)\n",
    "y = np.cumsum(pca.explained_variance_ratio_)\n",
    "\n",
    "fig = px.line(x=xi, y=y,)\n",
    "fig.add_trace(\n",
    "    go.Scatter(\n",
    "        mode='markers',\n",
    "        x=[6],\n",
    "        y=[0.9565056],\n",
    "        marker=dict(\n",
    "            color='red',\n",
    "            size=10,\n",
    "            opacity=0.5\n",
    "        ),\n",
    "        showlegend=False\n",
    "    )\n",
    ")\n",
    "fig.update_layout(width=600, height=400, xaxis_title='# Components', yaxis_title='PC Variance for Whole Dataset', title='PCA Explained Variance Ratio for Fitted Data')\n",
    "fig.show()"
   ]
  },
  {
   "cell_type": "markdown",
   "execution_count": null,
   "metadata": {},
   "source": [
    "There we have it. Our ideal number of components for PCA will be 6."
   ]
  },
  {
   "cell_type": "code",
   "execution_count": 28,
   "metadata": {},
   "outputs": [
    {
     "data": {
      "text/html": [
       "<div>\n",
       "<style scoped>\n",
       "    .dataframe tbody tr th:only-of-type {\n",
       "        vertical-align: middle;\n",
       "    }\n",
       "\n",
       "    .dataframe tbody tr th {\n",
       "        vertical-align: top;\n",
       "    }\n",
       "\n",
       "    .dataframe thead th {\n",
       "        text-align: right;\n",
       "    }\n",
       "</style>\n",
       "<table border=\"1\" class=\"dataframe\">\n",
       "  <thead>\n",
       "    <tr style=\"text-align: right;\">\n",
       "      <th></th>\n",
       "      <th>Survived</th>\n",
       "      <th>PC1</th>\n",
       "      <th>PC2</th>\n",
       "      <th>PC3</th>\n",
       "      <th>PC4</th>\n",
       "      <th>PC5</th>\n",
       "      <th>PC6</th>\n",
       "    </tr>\n",
       "  </thead>\n",
       "  <tbody>\n",
       "    <tr>\n",
       "      <th>0</th>\n",
       "      <td>0</td>\n",
       "      <td>-1.684986</td>\n",
       "      <td>-0.176241</td>\n",
       "      <td>0.388269</td>\n",
       "      <td>0.502101</td>\n",
       "      <td>-0.251362</td>\n",
       "      <td>-0.309237</td>\n",
       "    </tr>\n",
       "    <tr>\n",
       "      <th>1</th>\n",
       "      <td>1</td>\n",
       "      <td>3.082300</td>\n",
       "      <td>0.173417</td>\n",
       "      <td>0.957498</td>\n",
       "      <td>-0.901569</td>\n",
       "      <td>0.409824</td>\n",
       "      <td>0.157361</td>\n",
       "    </tr>\n",
       "    <tr>\n",
       "      <th>2</th>\n",
       "      <td>1</td>\n",
       "      <td>0.128093</td>\n",
       "      <td>-1.854545</td>\n",
       "      <td>0.091560</td>\n",
       "      <td>-0.990977</td>\n",
       "      <td>-0.953629</td>\n",
       "      <td>-0.804506</td>\n",
       "    </tr>\n",
       "    <tr>\n",
       "      <th>3</th>\n",
       "      <td>1</td>\n",
       "      <td>2.540324</td>\n",
       "      <td>-0.006222</td>\n",
       "      <td>0.047839</td>\n",
       "      <td>-0.096122</td>\n",
       "      <td>-1.139241</td>\n",
       "      <td>-0.822386</td>\n",
       "    </tr>\n",
       "    <tr>\n",
       "      <th>4</th>\n",
       "      <td>0</td>\n",
       "      <td>-1.626427</td>\n",
       "      <td>0.374577</td>\n",
       "      <td>0.302398</td>\n",
       "      <td>-0.268082</td>\n",
       "      <td>-0.708341</td>\n",
       "      <td>-0.092730</td>\n",
       "    </tr>\n",
       "    <tr>\n",
       "      <th>...</th>\n",
       "      <td>...</td>\n",
       "      <td>...</td>\n",
       "      <td>...</td>\n",
       "      <td>...</td>\n",
       "      <td>...</td>\n",
       "      <td>...</td>\n",
       "      <td>...</td>\n",
       "    </tr>\n",
       "    <tr>\n",
       "      <th>886</th>\n",
       "      <td>0</td>\n",
       "      <td>-0.680532</td>\n",
       "      <td>0.893417</td>\n",
       "      <td>-2.350930</td>\n",
       "      <td>0.246004</td>\n",
       "      <td>0.697930</td>\n",
       "      <td>-0.117974</td>\n",
       "    </tr>\n",
       "    <tr>\n",
       "      <th>887</th>\n",
       "      <td>1</td>\n",
       "      <td>2.112929</td>\n",
       "      <td>-0.343750</td>\n",
       "      <td>-0.072645</td>\n",
       "      <td>-0.232006</td>\n",
       "      <td>-0.528676</td>\n",
       "      <td>-1.886115</td>\n",
       "    </tr>\n",
       "    <tr>\n",
       "      <th>888</th>\n",
       "      <td>0</td>\n",
       "      <td>0.448402</td>\n",
       "      <td>-2.462327</td>\n",
       "      <td>0.341742</td>\n",
       "      <td>0.459740</td>\n",
       "      <td>-0.911467</td>\n",
       "      <td>0.120457</td>\n",
       "    </tr>\n",
       "    <tr>\n",
       "      <th>889</th>\n",
       "      <td>1</td>\n",
       "      <td>0.692788</td>\n",
       "      <td>1.858278</td>\n",
       "      <td>0.979534</td>\n",
       "      <td>-0.309567</td>\n",
       "      <td>1.422249</td>\n",
       "      <td>-0.406185</td>\n",
       "    </tr>\n",
       "    <tr>\n",
       "      <th>890</th>\n",
       "      <td>0</td>\n",
       "      <td>-1.303139</td>\n",
       "      <td>0.319302</td>\n",
       "      <td>1.145398</td>\n",
       "      <td>-1.041890</td>\n",
       "      <td>1.035365</td>\n",
       "      <td>0.630861</td>\n",
       "    </tr>\n",
       "  </tbody>\n",
       "</table>\n",
       "<p>891 rows × 7 columns</p>\n",
       "</div>"
      ],
      "text/plain": [
       "     Survived       PC1       PC2       PC3       PC4       PC5       PC6\n",
       "0           0 -1.684986 -0.176241  0.388269  0.502101 -0.251362 -0.309237\n",
       "1           1  3.082300  0.173417  0.957498 -0.901569  0.409824  0.157361\n",
       "2           1  0.128093 -1.854545  0.091560 -0.990977 -0.953629 -0.804506\n",
       "3           1  2.540324 -0.006222  0.047839 -0.096122 -1.139241 -0.822386\n",
       "4           0 -1.626427  0.374577  0.302398 -0.268082 -0.708341 -0.092730\n",
       "..        ...       ...       ...       ...       ...       ...       ...\n",
       "886         0 -0.680532  0.893417 -2.350930  0.246004  0.697930 -0.117974\n",
       "887         1  2.112929 -0.343750 -0.072645 -0.232006 -0.528676 -1.886115\n",
       "888         0  0.448402 -2.462327  0.341742  0.459740 -0.911467  0.120457\n",
       "889         1  0.692788  1.858278  0.979534 -0.309567  1.422249 -0.406185\n",
       "890         0 -1.303139  0.319302  1.145398 -1.041890  1.035365  0.630861\n",
       "\n",
       "[891 rows x 7 columns]"
      ]
     },
     "execution_count": 28,
     "metadata": {},
     "output_type": "execute_result"
    }
   ],
   "source": [
    "pca_titanic = PCA(n_components=6)\n",
    "principal_components_titanic = pca_titanic.fit_transform(standardized_fitted)\n",
    "\n",
    "pc_columns = ['PC' + str(i + 1) for i in range(6)]\n",
    "\n",
    "principal_components_df = pd.DataFrame(data=principal_components_titanic,\n",
    "                                      columns=pc_columns)\n",
    "principal_components_df.insert(0, 'Survived', label)\n",
    "principal_components_df"
   ]
  },
  {
   "cell_type": "markdown",
   "execution_count": null,
   "metadata": {},
   "source": [
    "Now, we have a 6-dimensional DataFrame, and our KNN classifier should perform better. For the sake of curiosity, I'm going to get the explained variance per principal component."
   ]
  },
  {
   "cell_type": "code",
   "execution_count": 29,
   "metadata": {},
   "outputs": [
    {
     "name": "stdout",
     "output_type": "stream",
     "text": [
      "Explained variation per principal component: [0.27732709 0.21337444 0.17131804 0.12682745 0.09461536 0.07304328]\n"
     ]
    }
   ],
   "source": [
    "print('Explained variation per principal component: {}'.format(pca_titanic.explained_variance_ratio_))"
   ]
  },
  {
   "cell_type": "markdown",
   "execution_count": null,
   "metadata": {},
   "source": [
    "Since this number of dimensions is still pretty high for KNN, I'm going to predict that we won't see a marked increase in the accuracy, but let's test it out! We'll have to go through the process of train-test splitting again."
   ]
  },
  {
   "cell_type": "code",
   "execution_count": 30,
   "metadata": {},
   "outputs": [
    {
     "data": {
      "text/plain": [
       "array([0, 0, 0, 0, 0, 0, 0, 0, 0, 1, 1, 0, 1, 0, 0, 1, 0, 1, 1, 0, 0, 0,\n",
       "       1, 1, 0, 0, 0, 0, 1, 0, 1, 0, 0, 0, 0, 0, 0, 0, 0, 1, 1, 0, 0, 0,\n",
       "       0, 0, 0, 0, 0, 1, 0, 0, 1, 1, 0, 0, 0, 0, 0, 0, 0, 0, 0, 1, 0, 0,\n",
       "       0, 0, 0, 0, 1, 0, 1, 0, 0, 0, 0, 0, 0, 0, 1, 0, 0, 0, 0, 0, 0, 0,\n",
       "       0, 0, 0, 0, 0, 1, 0, 0, 0, 1, 0, 1, 0, 1, 0, 0, 0, 0, 0, 0, 1, 0,\n",
       "       0, 0, 0, 0, 0, 0, 0, 0, 0, 1, 0, 0, 0, 1, 0, 0, 1, 0, 1, 0, 0, 0,\n",
       "       0, 1, 1, 0, 0, 1, 1, 0, 0, 1, 1, 0, 0, 0, 0, 0, 0, 0, 0, 0, 0, 0,\n",
       "       0, 0, 0, 1, 0, 0, 0, 1, 0, 1, 0, 0, 1, 0, 0, 0, 0, 0, 1, 0, 0, 1,\n",
       "       0, 0, 1])"
      ]
     },
     "execution_count": 30,
     "metadata": {},
     "output_type": "execute_result"
    }
   ],
   "source": [
    "features_reduced_dim = principal_components_df[principal_components_df.columns[1:]]\n",
    "label_reduced_dim = principal_components_df[principal_components_df.columns[0]]\n",
    "\n",
    "X_train, X_test, Y_train, Y_test = train_test_split(features_reduced_dim, label_reduced_dim, test_size=0.2)\n",
    "\n",
    "neigh = KNeighborsClassifier(n_neighbors=optimal_k)\n",
    "neigh.fit(X_train, Y_train)\n",
    "\n",
    "y_pred_knn = neigh.predict(X_test)\n",
    "y_pred_knn"
   ]
  },
  {
   "cell_type": "markdown",
   "execution_count": null,
   "metadata": {},
   "source": [
    "### Evaluate Again"
   ]
  },
  {
   "cell_type": "code",
   "execution_count": 31,
   "metadata": {},
   "outputs": [
    {
     "name": "stdout",
     "output_type": "stream",
     "text": [
      "10-Fold Cross Validation Scores: [0.8333333333333334, 0.9444444444444444, 0.7777777777777778, 0.8888888888888888, 0.7777777777777778, 0.6666666666666666, 0.7222222222222222, 0.7777777777777778, 0.8888888888888888, 0.8235294117647058]\n",
      "Accuracy: 0.81 (+/- 0.16)\n"
     ]
    }
   ],
   "source": [
    "cross_val(neigh, X_test, Y_test, 10)"
   ]
  },
  {
   "cell_type": "code",
   "execution_count": 32,
   "metadata": {},
   "outputs": [
    {
     "name": "stdout",
     "output_type": "stream",
     "text": [
      "Model accuracy score from Conf. Matrix: 0.6145251396648045\n",
      "True accuracy score: 0.6145251396648045\n",
      "Recall score: 0.4426229508196721\n",
      "Specificty score: 0.7033898305084746\n"
     ]
    }
   ],
   "source": [
    "get_confusion_metrics(Y_test, y_pred_knn)"
   ]
  },
  {
   "cell_type": "markdown",
   "execution_count": null,
   "metadata": {},
   "source": [
    "That's a little bit of an improvement, even though it didn't do as well as our linear SVC. It wasn't a **necessity** since we already applied feature selection before, but since our accuracy, and more notably, our recall score, increased, we shall proceed with our 6-dimensional data. We've already cut the number of dimensions in half since we started."
   ]
  }
 ],
 "metadata": {
  "kernelspec": {
   "display_name": "Python 3",
   "language": "python",
   "name": "python3"
  },
  "language_info": {
   "codemirror_mode": {
    "name": "ipython",
    "version": 3
   },
   "file_extension": ".py",
   "mimetype": "text/x-python",
   "name": "python",
   "nbconvert_exporter": "python",
   "pygments_lexer": "ipython3",
   "version": "3.7.6"
  }
 },
 "nbformat": 4,
 "nbformat_minor": 4
}
